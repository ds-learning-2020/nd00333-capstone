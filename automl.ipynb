{
  "cells": [
    {
      "cell_type": "markdown",
      "source": [
        "# Automated ML\n",
        "\n",
        "TODO: Import Dependencies. In the cell below, import all the dependencies that you will need to complete the project."
      ],
      "metadata": {}
    },
    {
      "cell_type": "code",
      "source": [
        "from azureml.core import Workspace, Experiment, Datastore, Dataset\n",
        "from azureml.core.compute import ComputeTarget, AmlCompute\n",
        "from azureml.widgets import RunDetails\n",
        "from azureml.train.sklearn import SKLearn\n",
        "from azureml.train.hyperdrive.run import PrimaryMetricGoal\n",
        "from azureml.train.hyperdrive.policy import BanditPolicy, MedianStoppingPolicy\n",
        "from azureml.train.hyperdrive.sampling import RandomParameterSampling\n",
        "from azureml.train.hyperdrive.runconfig import HyperDriveConfig\n",
        "from azureml.train.hyperdrive.parameter_expressions import uniform, normal, choice\n",
        "from azureml.train.automl import AutoMLConfig\n",
        "from azureml.data.dataset_factory import TabularDatasetFactory\n",
        "from azureml.core.webservice import AciWebservice\n",
        "from azureml.core.model import InferenceConfig\n",
        "from azureml.core.environment import Environment\n",
        "\n",
        "import os\n",
        "import joblib\n",
        "import pandas as pd\n",
        "import sys\n",
        "import numpy as np\n",
        "import json\n",
        "\n",
        "from sklearn.model_selection import train_test_split\n",
        "\n",
        "\n"
      ],
      "outputs": [],
      "execution_count": 1,
      "metadata": {
        "gather": {
          "logged": 1604429106898
        },
        "jupyter": {
          "outputs_hidden": false,
          "source_hidden": false
        },
        "nteract": {
          "transient": {
            "deleting": false
          }
        }
      }
    },
    {
      "cell_type": "markdown",
      "source": [
        "## Dataset\n",
        "\n",
        "### Overview\n",
        "TODO: In this markdown cell, give an overview of the dataset you are using. Also mention the task you will be performing.\n",
        "\n",
        "\n",
        "TODO: Get data. In the cell below, write code to access the data you will be using in this project. Remember that the dataset needs to be external."
      ],
      "metadata": {}
    },
    {
      "cell_type": "code",
      "source": [
        "ws = Workspace.from_config()\n",
        "\n",
        "# choose a name for experiment\n",
        "experiment_name = 'capstone-automl'\n",
        "\n",
        "experiment=Experiment(ws, experiment_name)\n",
        "\n"
      ],
      "outputs": [],
      "execution_count": 2,
      "metadata": {
        "gather": {
          "logged": 1604429108162
        },
        "jupyter": {
          "outputs_hidden": false,
          "source_hidden": false
        },
        "nteract": {
          "transient": {
            "deleting": false
          }
        }
      }
    },
    {
      "cell_type": "markdown",
      "source": [
        "### Data Preprocessing"
      ],
      "metadata": {
        "nteract": {
          "transient": {
            "deleting": false
          }
        }
      }
    },
    {
      "cell_type": "code",
      "source": [
        "df = pd.read_csv(\"Corona_NLP_train.csv\")"
      ],
      "outputs": [],
      "execution_count": 3,
      "metadata": {
        "collapsed": true,
        "gather": {
          "logged": 1604429108565
        },
        "jupyter": {
          "outputs_hidden": false,
          "source_hidden": false
        },
        "nteract": {
          "transient": {
            "deleting": false
          }
        }
      }
    },
    {
      "cell_type": "code",
      "source": [
        "df.head()"
      ],
      "outputs": [
        {
          "output_type": "execute_result",
          "execution_count": 4,
          "data": {
            "text/plain": "  Unnamed: 0 UserName  ScreenName   Location     TweetAt  \\\n0          0     3799     48751.0     London  16-03-2020   \n1          1     3800     48752.0         UK  16-03-2020   \n2          2     3801     48753.0  Vagabonds  16-03-2020   \n3          3     3802     48754.0        NaN  16-03-2020   \n4          4     3803     48755.0        NaN  16-03-2020   \n\n                                       OriginalTweet           Sentiment  \n0  @MeNyrbie @Phil_Gahan @Chrisitv https://t.co/i...             Neutral  \n1  advice Talk to your neighbours family to excha...            Positive  \n2  Coronavirus Australia: Woolworths to give elde...            Positive  \n3  My food stock is not the only one which is emp...            Positive  \n4  Me, ready to go at supermarket during the #COV...  Extremely Negative  ",
            "text/html": "<div>\n<style scoped>\n    .dataframe tbody tr th:only-of-type {\n        vertical-align: middle;\n    }\n\n    .dataframe tbody tr th {\n        vertical-align: top;\n    }\n\n    .dataframe thead th {\n        text-align: right;\n    }\n</style>\n<table border=\"1\" class=\"dataframe\">\n  <thead>\n    <tr style=\"text-align: right;\">\n      <th></th>\n      <th>Unnamed: 0</th>\n      <th>UserName</th>\n      <th>ScreenName</th>\n      <th>Location</th>\n      <th>TweetAt</th>\n      <th>OriginalTweet</th>\n      <th>Sentiment</th>\n    </tr>\n  </thead>\n  <tbody>\n    <tr>\n      <th>0</th>\n      <td>0</td>\n      <td>3799</td>\n      <td>48751.0</td>\n      <td>London</td>\n      <td>16-03-2020</td>\n      <td>@MeNyrbie @Phil_Gahan @Chrisitv https://t.co/i...</td>\n      <td>Neutral</td>\n    </tr>\n    <tr>\n      <th>1</th>\n      <td>1</td>\n      <td>3800</td>\n      <td>48752.0</td>\n      <td>UK</td>\n      <td>16-03-2020</td>\n      <td>advice Talk to your neighbours family to excha...</td>\n      <td>Positive</td>\n    </tr>\n    <tr>\n      <th>2</th>\n      <td>2</td>\n      <td>3801</td>\n      <td>48753.0</td>\n      <td>Vagabonds</td>\n      <td>16-03-2020</td>\n      <td>Coronavirus Australia: Woolworths to give elde...</td>\n      <td>Positive</td>\n    </tr>\n    <tr>\n      <th>3</th>\n      <td>3</td>\n      <td>3802</td>\n      <td>48754.0</td>\n      <td>NaN</td>\n      <td>16-03-2020</td>\n      <td>My food stock is not the only one which is emp...</td>\n      <td>Positive</td>\n    </tr>\n    <tr>\n      <th>4</th>\n      <td>4</td>\n      <td>3803</td>\n      <td>48755.0</td>\n      <td>NaN</td>\n      <td>16-03-2020</td>\n      <td>Me, ready to go at supermarket during the #COV...</td>\n      <td>Extremely Negative</td>\n    </tr>\n  </tbody>\n</table>\n</div>"
          },
          "metadata": {}
        }
      ],
      "execution_count": 4,
      "metadata": {
        "gather": {
          "logged": 1604429108767
        }
      }
    },
    {
      "cell_type": "code",
      "source": [
        "df.Sentiment.unique()"
      ],
      "outputs": [
        {
          "output_type": "execute_result",
          "execution_count": 5,
          "data": {
            "text/plain": "array(['Neutral', 'Positive', 'Extremely Negative', 'Negative',\n       'Extremely Positive', nan], dtype=object)"
          },
          "metadata": {}
        }
      ],
      "execution_count": 5,
      "metadata": {
        "gather": {
          "logged": 1604429108968
        }
      }
    },
    {
      "cell_type": "code",
      "source": [
        "df.info()"
      ],
      "outputs": [
        {
          "output_type": "stream",
          "name": "stdout",
          "text": [
            "<class 'pandas.core.frame.DataFrame'>\n",
            "RangeIndex: 41159 entries, 0 to 41158\n",
            "Data columns (total 7 columns):\n",
            "Unnamed: 0       41158 non-null object\n",
            "UserName         41158 non-null object\n",
            "ScreenName       41157 non-null float64\n",
            "Location         32567 non-null object\n",
            "TweetAt          41157 non-null object\n",
            "OriginalTweet    41157 non-null object\n",
            "Sentiment        41155 non-null object\n",
            "dtypes: float64(1), object(6)\n",
            "memory usage: 2.2+ MB\n"
          ]
        }
      ],
      "execution_count": 6,
      "metadata": {
        "collapsed": true,
        "gather": {
          "logged": 1604429109041
        },
        "jupyter": {
          "outputs_hidden": false,
          "source_hidden": false
        },
        "nteract": {
          "transient": {
            "deleting": false
          }
        }
      }
    },
    {
      "cell_type": "code",
      "source": [
        "df_modified = df[[\"OriginalTweet\", \"Sentiment\"]].copy()\n",
        "df_modified[\"OriginalTweet\"] = df_modified[\"OriginalTweet\"].astype(\"str\")\n",
        "df_modified[\"Sentiment\"] = df_modified[\"Sentiment\"].astype(\"str\")\n",
        "df_modified = df_modified[df_modified[\"Sentiment\"] != \"nan\"]\n",
        "\n",
        "       \n",
        "positive = df_modified[\"Sentiment\"].isin([\"Neutral\", \"Positive\", 'Extremely Positive'])\n",
        "negative = df_modified[\"Sentiment\"].isin(['Extremely Negative', 'Negative'])\n",
        "\n",
        "df_modified.loc[positive, \"Sentiment\"] = 1\n",
        "df_modified.loc[negative, \"Sentiment\"] = 0\n",
        "\n",
        "df_modified[\"Sentiment\"] = df_modified[\"Sentiment\"].astype(\"int\")"
      ],
      "outputs": [],
      "execution_count": 7,
      "metadata": {
        "collapsed": true,
        "gather": {
          "logged": 1604429109233
        },
        "jupyter": {
          "outputs_hidden": false,
          "source_hidden": false
        },
        "nteract": {
          "transient": {
            "deleting": false
          }
        }
      }
    },
    {
      "cell_type": "code",
      "source": [
        "df_modified[\"Sentiment\"].unique()"
      ],
      "outputs": [
        {
          "output_type": "execute_result",
          "execution_count": 8,
          "data": {
            "text/plain": "array([1, 0])"
          },
          "metadata": {}
        }
      ],
      "execution_count": 8,
      "metadata": {
        "collapsed": true,
        "gather": {
          "logged": 1604429109435
        },
        "jupyter": {
          "outputs_hidden": false,
          "source_hidden": false
        },
        "nteract": {
          "transient": {
            "deleting": false
          }
        }
      }
    },
    {
      "cell_type": "code",
      "source": [
        "df_modified.head()"
      ],
      "outputs": [
        {
          "output_type": "execute_result",
          "execution_count": 9,
          "data": {
            "text/plain": "                                       OriginalTweet  Sentiment\n0  @MeNyrbie @Phil_Gahan @Chrisitv https://t.co/i...          1\n1  advice Talk to your neighbours family to excha...          1\n2  Coronavirus Australia: Woolworths to give elde...          1\n3  My food stock is not the only one which is emp...          1\n4  Me, ready to go at supermarket during the #COV...          0",
            "text/html": "<div>\n<style scoped>\n    .dataframe tbody tr th:only-of-type {\n        vertical-align: middle;\n    }\n\n    .dataframe tbody tr th {\n        vertical-align: top;\n    }\n\n    .dataframe thead th {\n        text-align: right;\n    }\n</style>\n<table border=\"1\" class=\"dataframe\">\n  <thead>\n    <tr style=\"text-align: right;\">\n      <th></th>\n      <th>OriginalTweet</th>\n      <th>Sentiment</th>\n    </tr>\n  </thead>\n  <tbody>\n    <tr>\n      <th>0</th>\n      <td>@MeNyrbie @Phil_Gahan @Chrisitv https://t.co/i...</td>\n      <td>1</td>\n    </tr>\n    <tr>\n      <th>1</th>\n      <td>advice Talk to your neighbours family to excha...</td>\n      <td>1</td>\n    </tr>\n    <tr>\n      <th>2</th>\n      <td>Coronavirus Australia: Woolworths to give elde...</td>\n      <td>1</td>\n    </tr>\n    <tr>\n      <th>3</th>\n      <td>My food stock is not the only one which is emp...</td>\n      <td>1</td>\n    </tr>\n    <tr>\n      <th>4</th>\n      <td>Me, ready to go at supermarket during the #COV...</td>\n      <td>0</td>\n    </tr>\n  </tbody>\n</table>\n</div>"
          },
          "metadata": {}
        }
      ],
      "execution_count": 9,
      "metadata": {
        "collapsed": true,
        "gather": {
          "logged": 1604429109670
        },
        "jupyter": {
          "outputs_hidden": false,
          "source_hidden": false
        },
        "nteract": {
          "transient": {
            "deleting": false
          }
        }
      }
    },
    {
      "cell_type": "code",
      "source": [
        "df_modified.info()"
      ],
      "outputs": [
        {
          "output_type": "stream",
          "name": "stdout",
          "text": [
            "<class 'pandas.core.frame.DataFrame'>\n",
            "Int64Index: 41155 entries, 0 to 41158\n",
            "Data columns (total 2 columns):\n",
            "OriginalTweet    41155 non-null object\n",
            "Sentiment        41155 non-null int64\n",
            "dtypes: int64(1), object(1)\n",
            "memory usage: 964.6+ KB\n"
          ]
        }
      ],
      "execution_count": 10,
      "metadata": {
        "collapsed": true,
        "gather": {
          "logged": 1604429109745
        },
        "jupyter": {
          "outputs_hidden": false,
          "source_hidden": false
        },
        "nteract": {
          "transient": {
            "deleting": false
          }
        }
      }
    },
    {
      "cell_type": "markdown",
      "source": [
        "## AutoML Configuration\n",
        "\n",
        "TODO: Explain why you chose the automl settings and cofiguration you used below."
      ],
      "metadata": {}
    },
    {
      "cell_type": "code",
      "source": [
        "# TODO: Put your automl settings here\n",
        "automl_settings = {\"experiment_timeout_minutes\":30,\n",
        "    \"task\":\"classification\",\n",
        "    \"primary_metric\":\"accuracy\",\n",
        "    \"training_data\":df_modified,\n",
        "    \"label_column_name\":\"Sentiment\",\n",
        "    \"n_cross_validations\":3}\n",
        "\n",
        "# TODO: Put your automl config here\n",
        "automl_config = AutoMLConfig(**automl_settings)"
      ],
      "outputs": [],
      "execution_count": 11,
      "metadata": {
        "gather": {
          "logged": 1604429109942
        },
        "jupyter": {
          "outputs_hidden": false,
          "source_hidden": false
        },
        "nteract": {
          "transient": {
            "deleting": false
          }
        }
      }
    },
    {
      "cell_type": "markdown",
      "source": [
        "## Submit Experiment & Run Details\n",
        "\n",
        "OPTIONAL: Write about the different models trained and their performance. Why do you think some models did better than others?\n",
        "\n",
        "TODO: In the cell below, use the `RunDetails` widget to show the different experiments."
      ],
      "metadata": {
        "nteract": {
          "transient": {
            "deleting": false
          }
        }
      }
    },
    {
      "cell_type": "code",
      "source": [
        "# TODO: Submit your experiment\n",
        "automl_run = experiment.submit(automl_config, show_output=True)\n",
        "RunDetails(automl_run).show()\n",
        "automl_run.wait_for_completion(show_output=False)"
      ],
      "outputs": [
        {
          "output_type": "stream",
          "name": "stdout",
          "text": [
            "Running on local machine\n",
            "Parent Run ID: AutoML_70d006a2-e8a2-4082-a955-49ef363f6e5f\n",
            "\n",
            "Current status: DatasetEvaluation. Gathering dataset statistics.\n",
            "Current status: FeaturesGeneration. Generating features for the dataset.\n",
            "Current status: DatasetFeaturization. Beginning to fit featurizers and featurize the dataset.\n",
            "Current status: DatasetFeaturizationCompleted. Completed fit featurizers and featurizing the dataset.\n",
            "Current status: DatasetCrossValidationSplit. Generating individually featurized CV splits.\n",
            "\n",
            "********************************************************************************************************************\n",
            "DATA GUARDRAILS: \n",
            "\n",
            "TYPE:         Class balancing detection\n",
            "STATUS:       PASSED\n",
            "DESCRIPTION:  Your inputs were analyzed, and all classes are balanced in your training data.\n",
            "              Learn more about imbalanced data: https://aka.ms/AutomatedMLImbalancedData\n",
            "\n",
            "********************************************************************************************************************\n",
            "\n",
            "TYPE:         Missing feature values imputation\n",
            "STATUS:       PASSED\n",
            "DESCRIPTION:  No feature missing values were detected in the training data.\n",
            "              Learn more about missing value imputation: https://aka.ms/AutomatedMLFeaturization\n",
            "\n",
            "********************************************************************************************************************\n",
            "\n",
            "TYPE:         High cardinality feature detection\n",
            "STATUS:       DONE\n",
            "DESCRIPTION:  High cardinality features were detected in your inputs and handled.\n",
            "              Learn more about high cardinality feature handling: https://aka.ms/AutomatedMLFeaturization\n",
            "DETAILS:      High cardinality features refer to columns that contain a large percentage of unique values.\n",
            "+--------------------------------------+--------------------------------------+\n",
            "|Column name                           |Column Content Type                   |\n",
            "+======================================+======================================+\n",
            "|OriginalTweet                         |text                                  |\n",
            "+--------------------------------------+--------------------------------------+\n",
            "\n",
            "********************************************************************************************************************\n",
            "Current status: ModelSelection. Beginning model selection.\n",
            "\n",
            "********************************************************************************************************************\n",
            "ITERATION: The iteration being evaluated.\n",
            "PIPELINE: A summary description of the pipeline being evaluated.\n",
            "SAMPLING %: Percent of the training data to sample.\n",
            "DURATION: Time taken for the current iteration.\n",
            "METRIC: The result of computing score on the fitted pipeline.\n",
            "BEST: The best observed score thus far.\n",
            "********************************************************************************************************************\n",
            "\n",
            " ITERATION   PIPELINE                                       SAMPLING %  DURATION      METRIC      BEST\n",
            "         0   MaxAbsScaler LightGBM                          5.0000      0:05:01       0.7087    0.7087\n",
            "         1   MaxAbsScaler XGBoostClassifier                 5.0000      0:11:22       0.7044    0.7087\n",
            "         2   MaxAbsScaler RandomForest                      5.0000      0:02:05       0.6317    0.7087\n",
            "         3   MaxAbsScaler RandomForest                      5.0000      0:02:05       0.6259    0.7087\n",
            "         4   MaxAbsScaler SGD                               5.0000      0:02:05       0.7075    0.7087\n",
            "         5   MaxAbsScaler SGD                               5.0000      0:02:07       0.7047    0.7087\n",
            "         6   MaxAbsScaler ExtremeRandomTrees                5.0000      0:02:52       0.7002    0.7087\n",
            "         7   VotingEnsemble                                 100.0000    0:01:46       0.7249    0.7249\n",
            "         8   StackEnsemble                                  100.0000    0:02:01       0.7255    0.7255\n",
            "Stopping criteria reached at iteration 9. Ending experiment.\n",
            "********************************************************************************************************************\n",
            "Current status: BestRunExplainModel. Best run model explanations started\n",
            "Current status: ModelExplanationDataSetSetup. Model explanations data setup completed\n",
            "Current status: PickSurrogateModel. Choosing LinearModel as the surrogate model for explanations\n",
            "Current status: EngineeredFeatureExplanations. Computation of engineered features started\n",
            "Current status: EngineeredFeatureExplanations. Computation of engineered features completed\n",
            "Current status: BestRunExplainModel. Best run model explanations completed\n",
            "********************************************************************************************************************\n"
          ]
        },
        {
          "output_type": "stream",
          "name": "stderr",
          "text": [
            "WARNING - Connection pool is full, discarding connection: mlstrg124394.blob.core.windows.net\n",
            "WARNING - Connection pool is full, discarding connection: mlstrg124394.blob.core.windows.net\n",
            "WARNING - Connection pool is full, discarding connection: mlstrg124394.blob.core.windows.net\n",
            "WARNING - Connection pool is full, discarding connection: mlstrg124394.blob.core.windows.net\n",
            "WARNING - Connection pool is full, discarding connection: mlstrg124394.blob.core.windows.net\n",
            "WARNING - Connection pool is full, discarding connection: mlstrg124394.blob.core.windows.net\n",
            "WARNING - Connection pool is full, discarding connection: mlstrg124394.blob.core.windows.net\n",
            "WARNING - Connection pool is full, discarding connection: mlstrg124394.blob.core.windows.net\n",
            "WARNING - Connection pool is full, discarding connection: mlstrg124394.blob.core.windows.net\n",
            "WARNING - Connection pool is full, discarding connection: mlstrg124394.blob.core.windows.net\n",
            "WARNING - Connection pool is full, discarding connection: mlstrg124394.blob.core.windows.net\n",
            "WARNING - Connection pool is full, discarding connection: mlstrg124394.blob.core.windows.net\n"
          ]
        },
        {
          "output_type": "display_data",
          "data": {
            "text/plain": "_AutoMLWidget(widget_settings={'childWidgetDisplay': 'popup', 'send_telemetry': False, 'log_level': 'INFO', 's…",
            "application/vnd.jupyter.widget-view+json": {
              "version_major": 2,
              "version_minor": 0,
              "model_id": "b4cb185cabbe4945aa51b9cae60ba13a"
            }
          },
          "metadata": {}
        },
        {
          "output_type": "display_data",
          "data": {
            "application/aml.mini.widget.v1": "{\"status\": \"Completed\", \"workbench_run_details_uri\": \"https://ml.azure.com/experiments/capstone-automl/runs/AutoML_70d006a2-e8a2-4082-a955-49ef363f6e5f?wsid=/subscriptions/5e9e5b82-0802-460e-849e-48901a64399b/resourcegroups/aml-quickstarts-124394/workspaces/quick-starts-ws-124394\", \"run_id\": \"AutoML_70d006a2-e8a2-4082-a955-49ef363f6e5f\", \"run_properties\": {\"run_id\": \"AutoML_70d006a2-e8a2-4082-a955-49ef363f6e5f\", \"created_utc\": \"2020-11-03T18:45:14.469812Z\", \"properties\": {\"num_iterations\": \"1000\", \"training_type\": \"TrainFull\", \"acquisition_function\": \"EI\", \"primary_metric\": \"accuracy\", \"train_split\": \"0\", \"acquisition_parameter\": \"0\", \"num_cross_validation\": \"3\", \"target\": \"local\", \"AMLSettingsJsonString\": \"{\\\"path\\\":null,\\\"name\\\":\\\"capstone-automl\\\",\\\"subscription_id\\\":\\\"5e9e5b82-0802-460e-849e-48901a64399b\\\",\\\"resource_group\\\":\\\"aml-quickstarts-124394\\\",\\\"workspace_name\\\":\\\"quick-starts-ws-124394\\\",\\\"region\\\":\\\"southcentralus\\\",\\\"compute_target\\\":\\\"local\\\",\\\"spark_service\\\":null,\\\"azure_service\\\":\\\"Microsoft.AzureNotebookVM\\\",\\\"_local_managed_run_id\\\":null,\\\"many_models\\\":false,\\\"pipeline_fetch_max_batch_size\\\":1,\\\"iterations\\\":1000,\\\"primary_metric\\\":\\\"accuracy\\\",\\\"task_type\\\":\\\"classification\\\",\\\"data_script\\\":null,\\\"validation_size\\\":0.0,\\\"n_cross_validations\\\":3,\\\"y_min\\\":null,\\\"y_max\\\":null,\\\"num_classes\\\":2,\\\"featurization\\\":\\\"auto\\\",\\\"_ignore_package_version_incompatibilities\\\":false,\\\"is_timeseries\\\":false,\\\"max_cores_per_iteration\\\":1,\\\"max_concurrent_iterations\\\":1,\\\"iteration_timeout_minutes\\\":null,\\\"mem_in_mb\\\":null,\\\"enforce_time_on_windows\\\":false,\\\"experiment_timeout_minutes\\\":30,\\\"experiment_exit_score\\\":null,\\\"whitelist_models\\\":null,\\\"blacklist_algos\\\":[\\\"TensorFlowLinearClassifier\\\",\\\"TensorFlowDNN\\\"],\\\"supported_models\\\":[\\\"RandomForest\\\",\\\"MultinomialNaiveBayes\\\",\\\"LogisticRegression\\\",\\\"XGBoostClassifier\\\",\\\"BernoulliNaiveBayes\\\",\\\"TensorFlowDNN\\\",\\\"LightGBM\\\",\\\"LinearSVM\\\",\\\"GradientBoosting\\\",\\\"SGD\\\",\\\"DecisionTree\\\",\\\"AveragedPerceptronClassifier\\\",\\\"KNN\\\",\\\"TensorFlowLinearClassifier\\\",\\\"SVM\\\",\\\"ExtremeRandomTrees\\\"],\\\"auto_blacklist\\\":true,\\\"blacklist_samples_reached\\\":false,\\\"exclude_nan_labels\\\":true,\\\"verbosity\\\":20,\\\"_debug_log\\\":\\\"automl.log\\\",\\\"show_warnings\\\":false,\\\"model_explainability\\\":true,\\\"service_url\\\":null,\\\"sdk_url\\\":null,\\\"sdk_packages\\\":null,\\\"enable_onnx_compatible_models\\\":false,\\\"enable_split_onnx_featurizer_estimator_models\\\":false,\\\"vm_type\\\":null,\\\"telemetry_verbosity\\\":20,\\\"send_telemetry\\\":true,\\\"enable_dnn\\\":false,\\\"force_text_dnn\\\":false,\\\"enable_feature_sweeping\\\":true,\\\"enable_early_stopping\\\":false,\\\"early_stopping_n_iters\\\":10,\\\"metrics\\\":null,\\\"enable_ensembling\\\":true,\\\"enable_stack_ensembling\\\":true,\\\"ensemble_iterations\\\":15,\\\"enable_tf\\\":false,\\\"enable_subsampling\\\":null,\\\"subsample_seed\\\":null,\\\"enable_nimbusml\\\":false,\\\"enable_streaming\\\":false,\\\"force_streaming\\\":false,\\\"track_child_runs\\\":true,\\\"label_column_name\\\":\\\"Sentiment\\\",\\\"weight_column_name\\\":null,\\\"cv_split_column_names\\\":null,\\\"enable_local_managed\\\":false,\\\"cost_mode\\\":1,\\\"lag_length\\\":0,\\\"metric_operation\\\":\\\"maximize\\\",\\\"preprocess\\\":true,\\\"scenario\\\":\\\"SDK-1.13.0\\\"}\", \"DataPrepJsonString\": null, \"EnableSubsampling\": null, \"runTemplate\": \"AutoML\", \"azureml.runsource\": \"automl\", \"display_task_type\": \"classification\", \"dependencies_versions\": \"{\\\"azureml-widgets\\\": \\\"1.16.0\\\", \\\"azureml-train\\\": \\\"1.16.0\\\", \\\"azureml-train-restclients-hyperdrive\\\": \\\"1.16.0\\\", \\\"azureml-train-core\\\": \\\"1.16.0\\\", \\\"azureml-train-automl\\\": \\\"1.16.0\\\", \\\"azureml-train-automl-runtime\\\": \\\"1.16.0\\\", \\\"azureml-train-automl-client\\\": \\\"1.16.0\\\", \\\"azureml-tensorboard\\\": \\\"1.16.0\\\", \\\"azureml-telemetry\\\": \\\"1.16.0\\\", \\\"azureml-sdk\\\": \\\"1.16.0\\\", \\\"azureml-samples\\\": \\\"0+unknown\\\", \\\"azureml-pipeline\\\": \\\"1.16.0\\\", \\\"azureml-pipeline-steps\\\": \\\"1.16.0\\\", \\\"azureml-pipeline-core\\\": \\\"1.16.0\\\", \\\"azureml-opendatasets\\\": \\\"1.16.0\\\", \\\"azureml-model-management-sdk\\\": \\\"1.0.1b6.post1\\\", \\\"azureml-mlflow\\\": \\\"1.16.0\\\", \\\"azureml-interpret\\\": \\\"1.16.0\\\", \\\"azureml-explain-model\\\": \\\"1.16.0\\\", \\\"azureml-defaults\\\": \\\"1.16.0\\\", \\\"azureml-dataset-runtime\\\": \\\"1.16.0\\\", \\\"azureml-dataprep\\\": \\\"2.3.2\\\", \\\"azureml-dataprep-rslex\\\": \\\"1.1.1\\\", \\\"azureml-dataprep-native\\\": \\\"23.0.0\\\", \\\"azureml-datadrift\\\": \\\"1.16.0\\\", \\\"azureml-core\\\": \\\"1.16.0\\\", \\\"azureml-contrib-services\\\": \\\"1.16.0\\\", \\\"azureml-contrib-server\\\": \\\"1.16.0\\\", \\\"azureml-contrib-reinforcementlearning\\\": \\\"1.16.0\\\", \\\"azureml-contrib-pipeline-steps\\\": \\\"1.16.0\\\", \\\"azureml-contrib-notebook\\\": \\\"1.16.0\\\", \\\"azureml-contrib-interpret\\\": \\\"1.16.0\\\", \\\"azureml-contrib-gbdt\\\": \\\"1.16.0\\\", \\\"azureml-contrib-fairness\\\": \\\"1.16.0\\\", \\\"azureml-contrib-dataset\\\": \\\"1.16.0\\\", \\\"azureml-cli-common\\\": \\\"1.16.0\\\", \\\"azureml-automl-runtime\\\": \\\"1.16.0\\\", \\\"azureml-automl-core\\\": \\\"1.16.0\\\", \\\"azureml-accel-models\\\": \\\"1.16.0\\\"}\", \"_aml_system_scenario_identification\": \"Local.Parent\", \"ClientSdkVersion\": \"1.16.0\", \"ClientType\": \"SDK\", \"environment_cpu_name\": \"AzureML-AutoML\", \"environment_cpu_version\": \"43\", \"environment_gpu_name\": \"AzureML-AutoML-GPU\", \"environment_gpu_version\": \"31\", \"root_attribution\": \"automl\", \"attribution\": \"AutoML\", \"Orchestrator\": \"AutoML\", \"_azureml.ComputeTargetType\": \"local\", \"ProblemInfoJsonString\": \"{\\\"dataset_num_categorical\\\": 0, \\\"is_sparse\\\": true, \\\"subsampling\\\": true, \\\"dataset_classes\\\": 2, \\\"dataset_features\\\": 623416, \\\"dataset_samples\\\": 41155, \\\"single_frequency_class_detected\\\": false}\", \"feature_skus\": \"automatedml_sdk_guardrails\"}, \"tags\": {\"model_explain_run\": \"best_run\", \"best_score\": \"0.7254770963469627\", \"best_pipeline\": \"StackEnsemble\", \"automl_best_child_run_id\": \"AutoML_70d006a2-e8a2-4082-a955-49ef363f6e5f_8\", \"model_explain_best_run_child_id\": \"AutoML_70d006a2-e8a2-4082-a955-49ef363f6e5f_8\"}, \"end_time_utc\": \"2020-11-03T19:19:43.884371Z\", \"status\": \"Completed\", \"log_files\": {}, \"log_groups\": [], \"run_duration\": \"0:34:29\"}, \"child_runs\": [{\"run_id\": \"AutoML_70d006a2-e8a2-4082-a955-49ef363f6e5f_0\", \"run_number\": 23, \"metric\": null, \"status\": \"Completed\", \"run_type\": null, \"training_percent\": \"5\", \"start_time\": \"2020-11-03T18:48:05.998212Z\", \"end_time\": \"2020-11-03T18:53:07.779152Z\", \"created_time\": \"2020-11-03T18:48:05.619836Z\", \"created_time_dt\": \"2020-11-03T18:48:05.619836Z\", \"duration\": \"0:05:02\", \"iteration\": \"0\", \"goal\": \"accuracy_max\", \"run_name\": \"MaxAbsScaler, LightGBM\", \"run_properties\": \"copy=True\", \"primary_metric\": 0.70866253, \"best_metric\": 0.70866253}, {\"run_id\": \"AutoML_70d006a2-e8a2-4082-a955-49ef363f6e5f_1\", \"run_number\": 24, \"metric\": null, \"status\": \"Completed\", \"run_type\": null, \"training_percent\": \"5\", \"start_time\": \"2020-11-03T18:53:08.262306Z\", \"end_time\": \"2020-11-03T19:04:30.532914Z\", \"created_time\": \"2020-11-03T18:53:08.130294Z\", \"created_time_dt\": \"2020-11-03T18:53:08.130294Z\", \"duration\": \"0:11:22\", \"iteration\": \"1\", \"goal\": \"accuracy_max\", \"run_name\": \"MaxAbsScaler, XGBoostClassifier\", \"run_properties\": \"copy=True\", \"primary_metric\": 0.70438618, \"best_metric\": 0.70866253}, {\"run_id\": \"AutoML_70d006a2-e8a2-4082-a955-49ef363f6e5f_2\", \"run_number\": 25, \"metric\": null, \"status\": \"Completed\", \"run_type\": null, \"training_percent\": \"5\", \"start_time\": \"2020-11-03T19:04:31.595794Z\", \"end_time\": \"2020-11-03T19:06:37.41825Z\", \"created_time\": \"2020-11-03T19:04:31.477325Z\", \"created_time_dt\": \"2020-11-03T19:04:31.477325Z\", \"duration\": \"0:02:05\", \"iteration\": \"2\", \"goal\": \"accuracy_max\", \"run_name\": \"MaxAbsScaler, RandomForest\", \"run_properties\": \"copy=True\", \"primary_metric\": 0.63166104, \"best_metric\": 0.70866253}, {\"run_id\": \"AutoML_70d006a2-e8a2-4082-a955-49ef363f6e5f_3\", \"run_number\": 26, \"metric\": null, \"status\": \"Completed\", \"run_type\": null, \"training_percent\": \"5\", \"start_time\": \"2020-11-03T19:06:38.716493Z\", \"end_time\": \"2020-11-03T19:08:44.294492Z\", \"created_time\": \"2020-11-03T19:06:38.582609Z\", \"created_time_dt\": \"2020-11-03T19:06:38.582609Z\", \"duration\": \"0:02:05\", \"iteration\": \"3\", \"goal\": \"accuracy_max\", \"run_name\": \"MaxAbsScaler, RandomForest\", \"run_properties\": \"copy=True\", \"primary_metric\": 0.62585365, \"best_metric\": 0.70866253}, {\"run_id\": \"AutoML_70d006a2-e8a2-4082-a955-49ef363f6e5f_4\", \"run_number\": 27, \"metric\": null, \"status\": \"Completed\", \"run_type\": null, \"training_percent\": \"5\", \"start_time\": \"2020-11-03T19:08:46.277171Z\", \"end_time\": \"2020-11-03T19:10:51.421515Z\", \"created_time\": \"2020-11-03T19:08:45.923031Z\", \"created_time_dt\": \"2020-11-03T19:08:45.923031Z\", \"duration\": \"0:02:05\", \"iteration\": \"4\", \"goal\": \"accuracy_max\", \"run_name\": \"MaxAbsScaler, SGD\", \"run_properties\": \"copy=True\", \"primary_metric\": 0.70754481, \"best_metric\": 0.70866253}, {\"run_id\": \"AutoML_70d006a2-e8a2-4082-a955-49ef363f6e5f_5\", \"run_number\": 28, \"metric\": null, \"status\": \"Completed\", \"run_type\": null, \"training_percent\": \"5\", \"start_time\": \"2020-11-03T19:10:53.542538Z\", \"end_time\": \"2020-11-03T19:13:00.625387Z\", \"created_time\": \"2020-11-03T19:10:53.418673Z\", \"created_time_dt\": \"2020-11-03T19:10:53.418673Z\", \"duration\": \"0:02:07\", \"iteration\": \"5\", \"goal\": \"accuracy_max\", \"run_name\": \"MaxAbsScaler, SGD\", \"run_properties\": \"copy=True\", \"primary_metric\": 0.70465334, \"best_metric\": 0.70866253}, {\"run_id\": \"AutoML_70d006a2-e8a2-4082-a955-49ef363f6e5f_6\", \"run_number\": 29, \"metric\": null, \"status\": \"Completed\", \"run_type\": null, \"training_percent\": \"5\", \"start_time\": \"2020-11-03T19:13:02.665865Z\", \"end_time\": \"2020-11-03T19:15:54.883101Z\", \"created_time\": \"2020-11-03T19:13:02.31401Z\", \"created_time_dt\": \"2020-11-03T19:13:02.31401Z\", \"duration\": \"0:02:52\", \"iteration\": \"6\", \"goal\": \"accuracy_max\", \"run_name\": \"MaxAbsScaler, ExtremeRandomTrees\", \"run_properties\": \"copy=True\", \"primary_metric\": 0.70015826, \"best_metric\": 0.70866253}, {\"run_id\": \"AutoML_70d006a2-e8a2-4082-a955-49ef363f6e5f_7\", \"run_number\": 30, \"metric\": null, \"status\": \"Completed\", \"run_type\": null, \"training_percent\": \"100\", \"start_time\": \"2020-11-03T19:15:55.391389Z\", \"end_time\": \"2020-11-03T19:17:41.664162Z\", \"created_time\": \"2020-11-03T19:15:55.249819Z\", \"created_time_dt\": \"2020-11-03T19:15:55.249819Z\", \"duration\": \"0:01:46\", \"iteration\": \"7\", \"goal\": \"accuracy_max\", \"run_name\": \"VotingEnsemble\", \"run_properties\": \"classification_labels=None,\\n                              estimators=[('0',\\n                                           Pipeline(memory=None,\\n                                                    steps=[('maxabsscaler',\\n                                                            MaxAbsScaler(copy=True\", \"primary_metric\": 0.724894, \"best_metric\": 0.724894}, {\"run_id\": \"AutoML_70d006a2-e8a2-4082-a955-49ef363f6e5f_8\", \"run_number\": 31, \"metric\": null, \"status\": \"Completed\", \"run_type\": null, \"training_percent\": \"100\", \"start_time\": \"2020-11-03T19:17:42.059721Z\", \"end_time\": \"2020-11-03T19:19:43.176595Z\", \"created_time\": \"2020-11-03T19:17:41.949202Z\", \"created_time_dt\": \"2020-11-03T19:17:41.949202Z\", \"duration\": \"0:02:01\", \"iteration\": \"8\", \"goal\": \"accuracy_max\", \"run_name\": \"StackEnsemble\", \"run_properties\": \"base_learners=[('0',\\n                                        Pipeline(memory=None,\\n                                                 steps=[('maxabsscaler',\\n                                                         MaxAbsScaler(copy=True\", \"primary_metric\": 0.7254771, \"best_metric\": 0.7254771}], \"children_metrics\": {\"categories\": [0], \"series\": {\"recall_score_weighted\": [{\"categories\": [\"0\", \"1\", \"2\", \"3\", \"4\", \"5\", \"6\", \"7\", \"8\"], \"mode\": \"markers\", \"name\": \"recall_score_weighted\", \"stepped\": false, \"type\": \"scatter\", \"data\": [0.7086625282921699, 0.7043861779866041, 0.63166103854664, 0.6258536526977019, 0.7075448055715928, 0.7046533356388577, 0.7001582555958321, 0.7248940042029592, 0.7254770963469627]}, {\"categories\": [\"0\", \"1\", \"2\", \"3\", \"4\", \"5\", \"6\", \"7\", \"8\"], \"mode\": \"lines\", \"name\": \"recall_score_weighted_max\", \"stepped\": true, \"type\": \"scatter\", \"data\": [0.7086625282921699, 0.7086625282921699, 0.7086625282921699, 0.7086625282921699, 0.7086625282921699, 0.7086625282921699, 0.7086625282921699, 0.7248940042029592, 0.7254770963469627]}], \"average_precision_score_micro\": [{\"categories\": [\"0\", \"1\", \"2\", \"3\", \"4\", \"5\", \"6\", \"7\", \"8\"], \"mode\": \"markers\", \"name\": \"average_precision_score_micro\", \"stepped\": false, \"type\": \"scatter\", \"data\": [0.765843237011902, 0.7530412791541213, 0.6768020473086352, 0.6319537871283099, 0.7740243948881895, 0.7698112583001467, 0.735300780166249, 0.7861544127108534, 0.790926850195366]}, {\"categories\": [\"0\", \"1\", \"2\", \"3\", \"4\", \"5\", \"6\", \"7\", \"8\"], \"mode\": \"lines\", \"name\": \"average_precision_score_micro_max\", \"stepped\": true, \"type\": \"scatter\", \"data\": [0.765843237011902, 0.765843237011902, 0.765843237011902, 0.765843237011902, 0.7740243948881895, 0.7740243948881895, 0.7740243948881895, 0.7861544127108534, 0.790926850195366]}], \"log_loss\": [{\"categories\": [\"0\", \"1\", \"2\", \"3\", \"4\", \"5\", \"6\", \"7\", \"8\"], \"mode\": \"markers\", \"name\": \"log_loss\", \"stepped\": false, \"type\": \"scatter\", \"data\": [0.6489426155649136, 0.5798151118147867, 0.6411841433469733, 0.6582839482900492, 0.5715567236021429, 0.567283605238426, 0.5911760362754661, 0.5508006253472395, 0.546822339066419]}, {\"categories\": [\"0\", \"1\", \"2\", \"3\", \"4\", \"5\", \"6\", \"7\", \"8\"], \"mode\": \"lines\", \"name\": \"log_loss_min\", \"stepped\": true, \"type\": \"scatter\", \"data\": [0.6489426155649136, 0.5798151118147867, 0.5798151118147867, 0.5798151118147867, 0.5715567236021429, 0.567283605238426, 0.567283605238426, 0.5508006253472395, 0.546822339066419]}], \"precision_score_weighted\": [{\"categories\": [\"0\", \"1\", \"2\", \"3\", \"4\", \"5\", \"6\", \"7\", \"8\"], \"mode\": \"markers\", \"name\": \"precision_score_weighted\", \"stepped\": false, \"type\": \"scatter\", \"data\": [0.7020087419821502, 0.7046724715272594, 0.7005857104561187, 0.39172975240389424, 0.6997007200941104, 0.6990076479869058, 0.7028593112325853, 0.7275223451105948, 0.7225450663889905]}, {\"categories\": [\"0\", \"1\", \"2\", \"3\", \"4\", \"5\", \"6\", \"7\", \"8\"], \"mode\": \"lines\", \"name\": \"precision_score_weighted_max\", \"stepped\": true, \"type\": \"scatter\", \"data\": [0.7020087419821502, 0.7046724715272594, 0.7046724715272594, 0.7046724715272594, 0.7046724715272594, 0.7046724715272594, 0.7046724715272594, 0.7275223451105948, 0.7275223451105948]}], \"AUC_weighted\": [{\"categories\": [\"0\", \"1\", \"2\", \"3\", \"4\", \"5\", \"6\", \"7\", \"8\"], \"mode\": \"markers\", \"name\": \"AUC_weighted\", \"stepped\": false, \"type\": \"scatter\", \"data\": [0.7417540739451353, 0.7299122285734495, 0.6402625062889451, 0.5640871644604899, 0.7500596856472551, 0.7473666419602276, 0.7135148034445028, 0.7711161081515453, 0.7722903058060749]}, {\"categories\": [\"0\", \"1\", \"2\", \"3\", \"4\", \"5\", \"6\", \"7\", \"8\"], \"mode\": \"lines\", \"name\": \"AUC_weighted_max\", \"stepped\": true, \"type\": \"scatter\", \"data\": [0.7417540739451353, 0.7417540739451353, 0.7417540739451353, 0.7417540739451353, 0.7500596856472551, 0.7500596856472551, 0.7500596856472551, 0.7711161081515453, 0.7722903058060749]}], \"matthews_correlation\": [{\"categories\": [\"0\", \"1\", \"2\", \"3\", \"4\", \"5\", \"6\", \"7\", \"8\"], \"mode\": \"markers\", \"name\": \"matthews_correlation\", \"stepped\": false, \"type\": \"scatter\", \"data\": [0.35009785670083454, 0.33347402909603224, 0.08650806458991193, 0.0, 0.3514238441553683, 0.34332145939897757, 0.32316236656016084, 0.386073004635284, 0.3937295858827949]}, {\"categories\": [\"0\", \"1\", \"2\", \"3\", \"4\", \"5\", \"6\", \"7\", \"8\"], \"mode\": \"lines\", \"name\": \"matthews_correlation_max\", \"stepped\": true, \"type\": \"scatter\", \"data\": [0.35009785670083454, 0.35009785670083454, 0.35009785670083454, 0.35009785670083454, 0.3514238441553683, 0.3514238441553683, 0.3514238441553683, 0.386073004635284, 0.3937295858827949]}], \"accuracy\": [{\"categories\": [\"0\", \"1\", \"2\", \"3\", \"4\", \"5\", \"6\", \"7\", \"8\"], \"mode\": \"markers\", \"name\": \"accuracy\", \"stepped\": false, \"type\": \"scatter\", \"data\": [0.7086625282921699, 0.704386177986604, 0.63166103854664, 0.6258536526977019, 0.7075448055715928, 0.7046533356388577, 0.7001582555958321, 0.7248940042029592, 0.7254770963469627]}, {\"categories\": [\"0\", \"1\", \"2\", \"3\", \"4\", \"5\", \"6\", \"7\", \"8\"], \"mode\": \"lines\", \"name\": \"accuracy_max\", \"stepped\": true, \"type\": \"scatter\", \"data\": [0.7086625282921699, 0.7086625282921699, 0.7086625282921699, 0.7086625282921699, 0.7086625282921699, 0.7086625282921699, 0.7086625282921699, 0.7248940042029592, 0.7254770963469627]}], \"average_precision_score_macro\": [{\"categories\": [\"0\", \"1\", \"2\", \"3\", \"4\", \"5\", \"6\", \"7\", \"8\"], \"mode\": \"markers\", \"name\": \"average_precision_score_macro\", \"stepped\": false, \"type\": \"scatter\", \"data\": [0.7312971591302627, 0.7173676397102412, 0.626498974253015, 0.5546936066882963, 0.737571044950565, 0.7347486925066354, 0.6994830903156659, 0.7605021370872121, 0.7617704251651567]}, {\"categories\": [\"0\", \"1\", \"2\", \"3\", \"4\", \"5\", \"6\", \"7\", \"8\"], \"mode\": \"lines\", \"name\": \"average_precision_score_macro_max\", \"stepped\": true, \"type\": \"scatter\", \"data\": [0.7312971591302627, 0.7312971591302627, 0.7312971591302627, 0.7312971591302627, 0.737571044950565, 0.737571044950565, 0.737571044950565, 0.7605021370872121, 0.7617704251651567]}], \"recall_score_micro\": [{\"categories\": [\"0\", \"1\", \"2\", \"3\", \"4\", \"5\", \"6\", \"7\", \"8\"], \"mode\": \"markers\", \"name\": \"recall_score_micro\", \"stepped\": false, \"type\": \"scatter\", \"data\": [0.7086625282921699, 0.704386177986604, 0.63166103854664, 0.6258536526977019, 0.7075448055715928, 0.7046533356388577, 0.7001582555958321, 0.7248940042029592, 0.7254770963469627]}, {\"categories\": [\"0\", \"1\", \"2\", \"3\", \"4\", \"5\", \"6\", \"7\", \"8\"], \"mode\": \"lines\", \"name\": \"recall_score_micro_max\", \"stepped\": true, \"type\": \"scatter\", \"data\": [0.7086625282921699, 0.7086625282921699, 0.7086625282921699, 0.7086625282921699, 0.7086625282921699, 0.7086625282921699, 0.7086625282921699, 0.7248940042029592, 0.7254770963469627]}], \"weighted_accuracy\": [{\"categories\": [\"0\", \"1\", \"2\", \"3\", \"4\", \"5\", \"6\", \"7\", \"8\"], \"mode\": \"markers\", \"name\": \"weighted_accuracy\", \"stepped\": false, \"type\": \"scatter\", \"data\": [0.7529679925933747, 0.7643255075539667, 0.7398563851023129, 0.7366191588730094, 0.7459081249820464, 0.7475884047015792, 0.7628701455637992, 0.7793293374132185, 0.7648664560085594]}, {\"categories\": [\"0\", \"1\", \"2\", \"3\", \"4\", \"5\", \"6\", \"7\", \"8\"], \"mode\": \"lines\", \"name\": \"weighted_accuracy_max\", \"stepped\": true, \"type\": \"scatter\", \"data\": [0.7529679925933747, 0.7643255075539667, 0.7643255075539667, 0.7643255075539667, 0.7643255075539667, 0.7643255075539667, 0.7643255075539667, 0.7793293374132185, 0.7793293374132185]}], \"f1_score_micro\": [{\"categories\": [\"0\", \"1\", \"2\", \"3\", \"4\", \"5\", \"6\", \"7\", \"8\"], \"mode\": \"markers\", \"name\": \"f1_score_micro\", \"stepped\": false, \"type\": \"scatter\", \"data\": [0.7086625282921699, 0.7043861779866041, 0.63166103854664, 0.6258536526977019, 0.7075448055715928, 0.7046533356388577, 0.7001582555958321, 0.7248940042029592, 0.7254770963469627]}, {\"categories\": [\"0\", \"1\", \"2\", \"3\", \"4\", \"5\", \"6\", \"7\", \"8\"], \"mode\": \"lines\", \"name\": \"f1_score_micro_max\", \"stepped\": true, \"type\": \"scatter\", \"data\": [0.7086625282921699, 0.7086625282921699, 0.7086625282921699, 0.7086625282921699, 0.7086625282921699, 0.7086625282921699, 0.7086625282921699, 0.7248940042029592, 0.7254770963469627]}], \"recall_score_macro\": [{\"categories\": [\"0\", \"1\", \"2\", \"3\", \"4\", \"5\", \"6\", \"7\", \"8\"], \"mode\": \"markers\", \"name\": \"recall_score_macro\", \"stepped\": false, \"type\": \"scatter\", \"data\": [0.658394049661937, 0.6363476492028118, 0.5087369273277804, 0.5, 0.6639781400435472, 0.6560163132658371, 0.6289832938910351, 0.6631084105795398, 0.6808707997462334]}, {\"categories\": [\"0\", \"1\", \"2\", \"3\", \"4\", \"5\", \"6\", \"7\", \"8\"], \"mode\": \"lines\", \"name\": \"recall_score_macro_max\", \"stepped\": true, \"type\": \"scatter\", \"data\": [0.658394049661937, 0.658394049661937, 0.658394049661937, 0.658394049661937, 0.6639781400435472, 0.6639781400435472, 0.6639781400435472, 0.6639781400435472, 0.6808707997462334]}], \"precision_score_micro\": [{\"categories\": [\"0\", \"1\", \"2\", \"3\", \"4\", \"5\", \"6\", \"7\", \"8\"], \"mode\": \"markers\", \"name\": \"precision_score_micro\", \"stepped\": false, \"type\": \"scatter\", \"data\": [0.7086625282921699, 0.704386177986604, 0.63166103854664, 0.6258536526977019, 0.7075448055715928, 0.7046533356388577, 0.7001582555958321, 0.7248940042029592, 0.7254770963469627]}, {\"categories\": [\"0\", \"1\", \"2\", \"3\", \"4\", \"5\", \"6\", \"7\", \"8\"], \"mode\": \"lines\", \"name\": \"precision_score_micro_max\", \"stepped\": true, \"type\": \"scatter\", \"data\": [0.7086625282921699, 0.7086625282921699, 0.7086625282921699, 0.7086625282921699, 0.7086625282921699, 0.7086625282921699, 0.7086625282921699, 0.7248940042029592, 0.7254770963469627]}], \"average_precision_score_weighted\": [{\"categories\": [\"0\", \"1\", \"2\", \"3\", \"4\", \"5\", \"6\", \"7\", \"8\"], \"mode\": \"markers\", \"name\": \"average_precision_score_weighted\", \"stepped\": false, \"type\": \"scatter\", \"data\": [0.7514669549549847, 0.7382656934145891, 0.6532459851764352, 0.5848544656682667, 0.7590515350137846, 0.7562879926160394, 0.7202375190029916, 0.7786909698151493, 0.7802022067798026]}, {\"categories\": [\"0\", \"1\", \"2\", \"3\", \"4\", \"5\", \"6\", \"7\", \"8\"], \"mode\": \"lines\", \"name\": \"average_precision_score_weighted_max\", \"stepped\": true, \"type\": \"scatter\", \"data\": [0.7514669549549847, 0.7514669549549847, 0.7514669549549847, 0.7514669549549847, 0.7590515350137846, 0.7590515350137846, 0.7590515350137846, 0.7786909698151493, 0.7802022067798026]}], \"AUC_micro\": [{\"categories\": [\"0\", \"1\", \"2\", \"3\", \"4\", \"5\", \"6\", \"7\", \"8\"], \"mode\": \"markers\", \"name\": \"AUC_micro\", \"stepped\": false, \"type\": \"scatter\", \"data\": [0.7757930055921928, 0.7653614285072593, 0.6917773974542829, 0.6558714436162428, 0.7801482901017479, 0.7764617880329867, 0.7535084537580788, 0.7955769178624887, 0.7986787803993858]}, {\"categories\": [\"0\", \"1\", \"2\", \"3\", \"4\", \"5\", \"6\", \"7\", \"8\"], \"mode\": \"lines\", \"name\": \"AUC_micro_max\", \"stepped\": true, \"type\": \"scatter\", \"data\": [0.7757930055921928, 0.7757930055921928, 0.7757930055921928, 0.7757930055921928, 0.7801482901017479, 0.7801482901017479, 0.7801482901017479, 0.7955769178624887, 0.7986787803993858]}], \"balanced_accuracy\": [{\"categories\": [\"0\", \"1\", \"2\", \"3\", \"4\", \"5\", \"6\", \"7\", \"8\"], \"mode\": \"markers\", \"name\": \"balanced_accuracy\", \"stepped\": false, \"type\": \"scatter\", \"data\": [0.658394049661937, 0.6363476492028118, 0.5087369273277804, 0.5, 0.6639781400435472, 0.6560163132658371, 0.6289832938910351, 0.6631084105795398, 0.6808707997462334]}, {\"categories\": [\"0\", \"1\", \"2\", \"3\", \"4\", \"5\", \"6\", \"7\", \"8\"], \"mode\": \"lines\", \"name\": \"balanced_accuracy_max\", \"stepped\": true, \"type\": \"scatter\", \"data\": [0.658394049661937, 0.658394049661937, 0.658394049661937, 0.658394049661937, 0.6639781400435472, 0.6639781400435472, 0.6639781400435472, 0.6639781400435472, 0.6808707997462334]}], \"AUC_macro\": [{\"categories\": [\"0\", \"1\", \"2\", \"3\", \"4\", \"5\", \"6\", \"7\", \"8\"], \"mode\": \"markers\", \"name\": \"AUC_macro\", \"stepped\": false, \"type\": \"scatter\", \"data\": [0.7417540739451353, 0.7299122286373395, 0.6402625062889451, 0.5640871644604899, 0.7500596856472552, 0.7473666419602276, 0.7135148034445028, 0.7711161081515453, 0.7722903058060749]}, {\"categories\": [\"0\", \"1\", \"2\", \"3\", \"4\", \"5\", \"6\", \"7\", \"8\"], \"mode\": \"lines\", \"name\": \"AUC_macro_max\", \"stepped\": true, \"type\": \"scatter\", \"data\": [0.7417540739451353, 0.7417540739451353, 0.7417540739451353, 0.7417540739451353, 0.7500596856472552, 0.7500596856472552, 0.7500596856472552, 0.7711161081515453, 0.7722903058060749]}], \"precision_score_macro\": [{\"categories\": [\"0\", \"1\", \"2\", \"3\", \"4\", \"5\", \"6\", \"7\", \"8\"], \"mode\": \"markers\", \"name\": \"precision_score_macro\", \"stepped\": false, \"type\": \"scatter\", \"data\": [0.693658722946242, 0.7042833779278631, 0.7243066158662145, 0.31292682634885094, 0.6883036992952191, 0.6895267189260776, 0.7034616435995606, 0.7288104989538526, 0.7150230225076996]}, {\"categories\": [\"0\", \"1\", \"2\", \"3\", \"4\", \"5\", \"6\", \"7\", \"8\"], \"mode\": \"lines\", \"name\": \"precision_score_macro_max\", \"stepped\": true, \"type\": \"scatter\", \"data\": [0.693658722946242, 0.7042833779278631, 0.7243066158662145, 0.7243066158662145, 0.7243066158662145, 0.7243066158662145, 0.7243066158662145, 0.7288104989538526, 0.7288104989538526]}], \"norm_macro_recall\": [{\"categories\": [\"0\", \"1\", \"2\", \"3\", \"4\", \"5\", \"6\", \"7\", \"8\"], \"mode\": \"markers\", \"name\": \"norm_macro_recall\", \"stepped\": false, \"type\": \"scatter\", \"data\": [0.3167880993238741, 0.27269529840562373, 0.01747385465556084, 0.0, 0.32795628008709415, 0.31203262653167424, 0.2579665877820703, 0.32621682115907974, 0.3617415994924669]}, {\"categories\": [\"0\", \"1\", \"2\", \"3\", \"4\", \"5\", \"6\", \"7\", \"8\"], \"mode\": \"lines\", \"name\": \"norm_macro_recall_max\", \"stepped\": true, \"type\": \"scatter\", \"data\": [0.3167880993238741, 0.3167880993238741, 0.3167880993238741, 0.3167880993238741, 0.32795628008709415, 0.32795628008709415, 0.32795628008709415, 0.32795628008709415, 0.3617415994924669]}], \"f1_score_weighted\": [{\"categories\": [\"0\", \"1\", \"2\", \"3\", \"4\", \"5\", \"6\", \"7\", \"8\"], \"mode\": \"markers\", \"name\": \"f1_score_weighted\", \"stepped\": false, \"type\": \"scatter\", \"data\": [0.694167030068055, 0.6757580330167818, 0.49792659771278264, 0.48184751017687494, 0.697493434509144, 0.6902106650631804, 0.6677882600754098, 0.7023174736346277, 0.7134323614513458]}, {\"categories\": [\"0\", \"1\", \"2\", \"3\", \"4\", \"5\", \"6\", \"7\", \"8\"], \"mode\": \"lines\", \"name\": \"f1_score_weighted_max\", \"stepped\": true, \"type\": \"scatter\", \"data\": [0.694167030068055, 0.694167030068055, 0.694167030068055, 0.694167030068055, 0.697493434509144, 0.697493434509144, 0.697493434509144, 0.7023174736346277, 0.7134323614513458]}], \"f1_score_macro\": [{\"categories\": [\"0\", \"1\", \"2\", \"3\", \"4\", \"5\", \"6\", \"7\", \"8\"], \"mode\": \"markers\", \"name\": \"f1_score_macro\", \"stepped\": false, \"type\": \"scatter\", \"data\": [0.6631342367899973, 0.6363124761853659, 0.4057336006113068, 0.3849298976092643, 0.6691434470974343, 0.6593245441292774, 0.6261731394729383, 0.667788593187575, 0.6856761469694774]}, {\"categories\": [\"0\", \"1\", \"2\", \"3\", \"4\", \"5\", \"6\", \"7\", \"8\"], \"mode\": \"lines\", \"name\": \"f1_score_macro_max\", \"stepped\": true, \"type\": \"scatter\", \"data\": [0.6631342367899973, 0.6631342367899973, 0.6631342367899973, 0.6631342367899973, 0.6691434470974343, 0.6691434470974343, 0.6691434470974343, 0.6691434470974343, 0.6856761469694774]}]}, \"metricName\": null, \"primaryMetricName\": \"accuracy\", \"showLegend\": false}, \"run_metrics\": [{\"name\": \"experiment_status\", \"run_id\": \"AutoML_70d006a2-e8a2-4082-a955-49ef363f6e5f\", \"categories\": [0, 1, 2, 3, 4, 5, 6, 7, 8, 9, 10, 11], \"series\": [{\"data\": [\"DatasetEvaluation\", \"FeaturesGeneration\", \"DatasetFeaturization\", \"DatasetFeaturizationCompleted\", \"DatasetCrossValidationSplit\", \"ModelSelection\", \"BestRunExplainModel\", \"ModelExplanationDataSetSetup\", \"PickSurrogateModel\", \"EngineeredFeatureExplanations\", \"EngineeredFeatureExplanations\", \"BestRunExplainModel\"]}]}, {\"name\": \"experiment_status_description\", \"run_id\": \"AutoML_70d006a2-e8a2-4082-a955-49ef363f6e5f\", \"categories\": [0, 1, 2, 3, 4, 5, 6, 7, 8, 9, 10, 11], \"series\": [{\"data\": [\"Gathering dataset statistics.\", \"Generating features for the dataset.\", \"Beginning to fit featurizers and featurize the dataset.\", \"Completed fit featurizers and featurizing the dataset.\", \"Generating individually featurized CV splits.\", \"Beginning model selection.\", \"Best run model explanations started\", \"Model explanations data setup completed\", \"Choosing LinearModel as the surrogate model for explanations\", \"Computation of engineered features started\", \"Computation of engineered features completed\", \"Best run model explanations completed\"]}]}, {\"name\": \"recall_score_weighted\", \"run_id\": \"AutoML_70d006a2-e8a2-4082-a955-49ef363f6e5f\", \"categories\": [0], \"series\": [{\"data\": [0.7254770963469627]}]}, {\"name\": \"average_precision_score_micro\", \"run_id\": \"AutoML_70d006a2-e8a2-4082-a955-49ef363f6e5f\", \"categories\": [0], \"series\": [{\"data\": [0.790926850195366]}]}, {\"name\": \"log_loss\", \"run_id\": \"AutoML_70d006a2-e8a2-4082-a955-49ef363f6e5f\", \"categories\": [0], \"series\": [{\"data\": [0.546822339066419]}]}, {\"name\": \"precision_score_weighted\", \"run_id\": \"AutoML_70d006a2-e8a2-4082-a955-49ef363f6e5f\", \"categories\": [0], \"series\": [{\"data\": [0.7225450663889905]}]}, {\"name\": \"AUC_weighted\", \"run_id\": \"AutoML_70d006a2-e8a2-4082-a955-49ef363f6e5f\", \"categories\": [0], \"series\": [{\"data\": [0.7722903058060749]}]}, {\"name\": \"matthews_correlation\", \"run_id\": \"AutoML_70d006a2-e8a2-4082-a955-49ef363f6e5f\", \"categories\": [0], \"series\": [{\"data\": [0.3937295858827949]}]}, {\"name\": \"accuracy\", \"run_id\": \"AutoML_70d006a2-e8a2-4082-a955-49ef363f6e5f\", \"categories\": [0], \"series\": [{\"data\": [0.7254770963469627]}]}, {\"name\": \"average_precision_score_macro\", \"run_id\": \"AutoML_70d006a2-e8a2-4082-a955-49ef363f6e5f\", \"categories\": [0], \"series\": [{\"data\": [0.7617704251651567]}]}, {\"name\": \"recall_score_micro\", \"run_id\": \"AutoML_70d006a2-e8a2-4082-a955-49ef363f6e5f\", \"categories\": [0], \"series\": [{\"data\": [0.7254770963469627]}]}, {\"name\": \"weighted_accuracy\", \"run_id\": \"AutoML_70d006a2-e8a2-4082-a955-49ef363f6e5f\", \"categories\": [0], \"series\": [{\"data\": [0.7648664560085594]}]}, {\"name\": \"f1_score_micro\", \"run_id\": \"AutoML_70d006a2-e8a2-4082-a955-49ef363f6e5f\", \"categories\": [0], \"series\": [{\"data\": [0.7254770963469627]}]}, {\"name\": \"recall_score_macro\", \"run_id\": \"AutoML_70d006a2-e8a2-4082-a955-49ef363f6e5f\", \"categories\": [0], \"series\": [{\"data\": [0.6808707997462334]}]}, {\"name\": \"precision_score_micro\", \"run_id\": \"AutoML_70d006a2-e8a2-4082-a955-49ef363f6e5f\", \"categories\": [0], \"series\": [{\"data\": [0.7254770963469627]}]}, {\"name\": \"average_precision_score_weighted\", \"run_id\": \"AutoML_70d006a2-e8a2-4082-a955-49ef363f6e5f\", \"categories\": [0], \"series\": [{\"data\": [0.7802022067798026]}]}, {\"name\": \"AUC_micro\", \"run_id\": \"AutoML_70d006a2-e8a2-4082-a955-49ef363f6e5f\", \"categories\": [0], \"series\": [{\"data\": [0.7986787803993858]}]}, {\"name\": \"balanced_accuracy\", \"run_id\": \"AutoML_70d006a2-e8a2-4082-a955-49ef363f6e5f\", \"categories\": [0], \"series\": [{\"data\": [0.6808707997462334]}]}, {\"name\": \"AUC_macro\", \"run_id\": \"AutoML_70d006a2-e8a2-4082-a955-49ef363f6e5f\", \"categories\": [0], \"series\": [{\"data\": [0.7722903058060749]}]}, {\"name\": \"precision_score_macro\", \"run_id\": \"AutoML_70d006a2-e8a2-4082-a955-49ef363f6e5f\", \"categories\": [0], \"series\": [{\"data\": [0.7150230225076996]}]}, {\"name\": \"norm_macro_recall\", \"run_id\": \"AutoML_70d006a2-e8a2-4082-a955-49ef363f6e5f\", \"categories\": [0], \"series\": [{\"data\": [0.3617415994924669]}]}, {\"name\": \"f1_score_weighted\", \"run_id\": \"AutoML_70d006a2-e8a2-4082-a955-49ef363f6e5f\", \"categories\": [0], \"series\": [{\"data\": [0.7134323614513458]}]}, {\"name\": \"f1_score_macro\", \"run_id\": \"AutoML_70d006a2-e8a2-4082-a955-49ef363f6e5f\", \"categories\": [0], \"series\": [{\"data\": [0.6856761469694774]}]}], \"run_logs\": \"\\nRun is completed.\", \"graph\": {}, \"widget_settings\": {\"childWidgetDisplay\": \"popup\", \"send_telemetry\": false, \"log_level\": \"INFO\", \"sdk_version\": \"1.16.0\"}, \"loading\": false}"
          },
          "metadata": {}
        },
        {
          "output_type": "execute_result",
          "execution_count": 12,
          "data": {
            "text/plain": "{'runId': 'AutoML_70d006a2-e8a2-4082-a955-49ef363f6e5f',\n 'target': 'local',\n 'status': 'Completed',\n 'startTimeUtc': '2020-11-03T18:45:15.716538Z',\n 'endTimeUtc': '2020-11-03T19:19:43.884371Z',\n 'properties': {'num_iterations': '1000',\n  'training_type': 'TrainFull',\n  'acquisition_function': 'EI',\n  'primary_metric': 'accuracy',\n  'train_split': '0',\n  'acquisition_parameter': '0',\n  'num_cross_validation': '3',\n  'target': 'local',\n  'AMLSettingsJsonString': '{\"path\":null,\"name\":\"capstone-automl\",\"subscription_id\":\"5e9e5b82-0802-460e-849e-48901a64399b\",\"resource_group\":\"aml-quickstarts-124394\",\"workspace_name\":\"quick-starts-ws-124394\",\"region\":\"southcentralus\",\"compute_target\":\"local\",\"spark_service\":null,\"azure_service\":\"Microsoft.AzureNotebookVM\",\"_local_managed_run_id\":null,\"many_models\":false,\"pipeline_fetch_max_batch_size\":1,\"iterations\":1000,\"primary_metric\":\"accuracy\",\"task_type\":\"classification\",\"data_script\":null,\"validation_size\":0.0,\"n_cross_validations\":3,\"y_min\":null,\"y_max\":null,\"num_classes\":2,\"featurization\":\"auto\",\"_ignore_package_version_incompatibilities\":false,\"is_timeseries\":false,\"max_cores_per_iteration\":1,\"max_concurrent_iterations\":1,\"iteration_timeout_minutes\":null,\"mem_in_mb\":null,\"enforce_time_on_windows\":false,\"experiment_timeout_minutes\":30,\"experiment_exit_score\":null,\"whitelist_models\":null,\"blacklist_algos\":[\"TensorFlowLinearClassifier\",\"TensorFlowDNN\"],\"supported_models\":[\"RandomForest\",\"MultinomialNaiveBayes\",\"LogisticRegression\",\"XGBoostClassifier\",\"BernoulliNaiveBayes\",\"TensorFlowDNN\",\"LightGBM\",\"LinearSVM\",\"GradientBoosting\",\"SGD\",\"DecisionTree\",\"AveragedPerceptronClassifier\",\"KNN\",\"TensorFlowLinearClassifier\",\"SVM\",\"ExtremeRandomTrees\"],\"auto_blacklist\":true,\"blacklist_samples_reached\":false,\"exclude_nan_labels\":true,\"verbosity\":20,\"_debug_log\":\"automl.log\",\"show_warnings\":false,\"model_explainability\":true,\"service_url\":null,\"sdk_url\":null,\"sdk_packages\":null,\"enable_onnx_compatible_models\":false,\"enable_split_onnx_featurizer_estimator_models\":false,\"vm_type\":null,\"telemetry_verbosity\":20,\"send_telemetry\":true,\"enable_dnn\":false,\"force_text_dnn\":false,\"enable_feature_sweeping\":true,\"enable_early_stopping\":false,\"early_stopping_n_iters\":10,\"metrics\":null,\"enable_ensembling\":true,\"enable_stack_ensembling\":true,\"ensemble_iterations\":15,\"enable_tf\":false,\"enable_subsampling\":null,\"subsample_seed\":null,\"enable_nimbusml\":false,\"enable_streaming\":false,\"force_streaming\":false,\"track_child_runs\":true,\"label_column_name\":\"Sentiment\",\"weight_column_name\":null,\"cv_split_column_names\":null,\"enable_local_managed\":false,\"cost_mode\":1,\"lag_length\":0,\"metric_operation\":\"maximize\",\"preprocess\":true,\"scenario\":\"SDK-1.13.0\"}',\n  'DataPrepJsonString': None,\n  'EnableSubsampling': None,\n  'runTemplate': 'AutoML',\n  'azureml.runsource': 'automl',\n  'display_task_type': 'classification',\n  'dependencies_versions': '{\"azureml-widgets\": \"1.16.0\", \"azureml-train\": \"1.16.0\", \"azureml-train-restclients-hyperdrive\": \"1.16.0\", \"azureml-train-core\": \"1.16.0\", \"azureml-train-automl\": \"1.16.0\", \"azureml-train-automl-runtime\": \"1.16.0\", \"azureml-train-automl-client\": \"1.16.0\", \"azureml-tensorboard\": \"1.16.0\", \"azureml-telemetry\": \"1.16.0\", \"azureml-sdk\": \"1.16.0\", \"azureml-samples\": \"0+unknown\", \"azureml-pipeline\": \"1.16.0\", \"azureml-pipeline-steps\": \"1.16.0\", \"azureml-pipeline-core\": \"1.16.0\", \"azureml-opendatasets\": \"1.16.0\", \"azureml-model-management-sdk\": \"1.0.1b6.post1\", \"azureml-mlflow\": \"1.16.0\", \"azureml-interpret\": \"1.16.0\", \"azureml-explain-model\": \"1.16.0\", \"azureml-defaults\": \"1.16.0\", \"azureml-dataset-runtime\": \"1.16.0\", \"azureml-dataprep\": \"2.3.2\", \"azureml-dataprep-rslex\": \"1.1.1\", \"azureml-dataprep-native\": \"23.0.0\", \"azureml-datadrift\": \"1.16.0\", \"azureml-core\": \"1.16.0\", \"azureml-contrib-services\": \"1.16.0\", \"azureml-contrib-server\": \"1.16.0\", \"azureml-contrib-reinforcementlearning\": \"1.16.0\", \"azureml-contrib-pipeline-steps\": \"1.16.0\", \"azureml-contrib-notebook\": \"1.16.0\", \"azureml-contrib-interpret\": \"1.16.0\", \"azureml-contrib-gbdt\": \"1.16.0\", \"azureml-contrib-fairness\": \"1.16.0\", \"azureml-contrib-dataset\": \"1.16.0\", \"azureml-cli-common\": \"1.16.0\", \"azureml-automl-runtime\": \"1.16.0\", \"azureml-automl-core\": \"1.16.0\", \"azureml-accel-models\": \"1.16.0\"}',\n  '_aml_system_scenario_identification': 'Local.Parent',\n  'ClientSdkVersion': '1.16.0',\n  'ClientType': 'SDK',\n  'environment_cpu_name': 'AzureML-AutoML',\n  'environment_cpu_version': '43',\n  'environment_gpu_name': 'AzureML-AutoML-GPU',\n  'environment_gpu_version': '31',\n  'root_attribution': 'automl',\n  'attribution': 'AutoML',\n  'Orchestrator': 'AutoML',\n  '_azureml.ComputeTargetType': 'local',\n  'ProblemInfoJsonString': '{\"dataset_num_categorical\": 0, \"is_sparse\": true, \"subsampling\": true, \"dataset_classes\": 2, \"dataset_features\": 623416, \"dataset_samples\": 41155, \"single_frequency_class_detected\": false}',\n  'feature_skus': 'automatedml_sdk_guardrails'},\n 'inputDatasets': [],\n 'outputDatasets': [],\n 'logFiles': {}}"
          },
          "metadata": {}
        }
      ],
      "execution_count": 12,
      "metadata": {
        "gather": {
          "logged": 1604431321945
        },
        "jupyter": {
          "outputs_hidden": false,
          "source_hidden": false
        },
        "nteract": {
          "transient": {
            "deleting": false
          }
        }
      }
    },
    {
      "cell_type": "markdown",
      "source": [
        "## Best Model\n",
        "\n",
        "TODO: In the cell below, get the best model from the automl experiments and display all the properties of the model.\n",
        "\n"
      ],
      "metadata": {}
    },
    {
      "cell_type": "code",
      "source": [
        "best_run_automl, best_model_automl = automl_run.get_output()\n",
        "best_run_metrics = best_run_automl.get_metrics()\n",
        "parameter_values = best_run_automl.get_details()\n",
        "\n",
        "print(\"Best Run Id: \", best_run_automl.id)\n",
        "print(\"\\n\")\n",
        "print(\"\\n\")\n",
        "print(\"Accuracy: \", best_run_metrics[\"accuracy\"])\n",
        "print(\"\\n\")\n",
        "print(\"\\n\")\n",
        "print(\"Parameters: \", parameter_values)\n",
        "print(\"\\n\")\n",
        "print(\"\\n\")\n",
        "print(\"Metrics for best run: \", best_run_automl.get_metrics())"
      ],
      "outputs": [
        {
          "output_type": "stream",
          "name": "stdout",
          "text": [
            "Best Run Id:  AutoML_70d006a2-e8a2-4082-a955-49ef363f6e5f_8\n",
            "\n",
            "\n",
            "\n",
            "\n",
            "Accuracy:  0.7254770963469627\n",
            "\n",
            "\n",
            "\n",
            "\n",
            "Parameters:  {'runId': 'AutoML_70d006a2-e8a2-4082-a955-49ef363f6e5f_8', 'status': 'Completed', 'startTimeUtc': '2020-11-03T19:17:42.059721Z', 'endTimeUtc': '2020-11-03T19:19:43.176595Z', 'properties': {'runTemplate': 'automl_child', 'pipeline_id': '__AutoML_Stack_Ensemble__', 'pipeline_spec': '{\"pipeline_id\":\"__AutoML_Stack_Ensemble__\",\"objects\":[{\"module\":\"azureml.train.automl.stack_ensemble\",\"class_name\":\"StackEnsemble\",\"spec_class\":\"sklearn\",\"param_args\":[],\"param_kwargs\":{\"automl_settings\":\"{\\'task_type\\':\\'classification\\',\\'primary_metric\\':\\'accuracy\\',\\'verbosity\\':20,\\'ensemble_iterations\\':15,\\'is_timeseries\\':False,\\'name\\':\\'capstone-automl\\',\\'compute_target\\':\\'local\\',\\'subscription_id\\':\\'5e9e5b82-0802-460e-849e-48901a64399b\\',\\'region\\':\\'southcentralus\\',\\'spark_service\\':None}\",\"ensemble_run_id\":\"AutoML_70d006a2-e8a2-4082-a955-49ef363f6e5f_8\",\"experiment_name\":\"capstone-automl\",\"workspace_name\":\"quick-starts-ws-124394\",\"subscription_id\":\"5e9e5b82-0802-460e-849e-48901a64399b\",\"resource_group_name\":\"aml-quickstarts-124394\"}}]}', 'training_percent': '100', 'predicted_cost': None, 'iteration': '8', '_azureml.ComputeTargetType': 'local', '_aml_system_scenario_identification': 'Local.Child', 'run_template': 'automl_child', 'run_preprocessor': '', 'run_algorithm': 'StackEnsemble', 'conda_env_data_location': 'aml://artifact/ExperimentRun/dcid.AutoML_70d006a2-e8a2-4082-a955-49ef363f6e5f_8/outputs/conda_env_v_1_0_0.yml', 'model_data_location': 'aml://artifact/ExperimentRun/dcid.AutoML_70d006a2-e8a2-4082-a955-49ef363f6e5f_8/outputs/model.pkl', 'model_size_on_disk': '139058513', 'scoring_data_location': 'aml://artifact/ExperimentRun/dcid.AutoML_70d006a2-e8a2-4082-a955-49ef363f6e5f_8/outputs/scoring_file_v_1_0_0.py', 'model_exp_support': 'True', 'pipeline_graph_version': '1.0.0', 'model_name': 'AutoML70d006a2e8', 'staticProperties': '{}', 'score': '0.7254770963469627', 'run_properties': \"base_learners=[('0',\\n                                        Pipeline(memory=None,\\n                                                 steps=[('maxabsscaler',\\n                                                         MaxAbsScaler(copy=True\", 'pipeline_script': '{\"pipeline_id\":\"__AutoML_Stack_Ensemble__\",\"objects\":[{\"module\":\"azureml.train.automl.stack_ensemble\",\"class_name\":\"StackEnsemble\",\"spec_class\":\"sklearn\",\"param_args\":[],\"param_kwargs\":{\"automl_settings\":\"{\\'task_type\\':\\'classification\\',\\'primary_metric\\':\\'accuracy\\',\\'verbosity\\':20,\\'ensemble_iterations\\':15,\\'is_timeseries\\':False,\\'name\\':\\'capstone-automl\\',\\'compute_target\\':\\'local\\',\\'subscription_id\\':\\'5e9e5b82-0802-460e-849e-48901a64399b\\',\\'region\\':\\'southcentralus\\',\\'spark_service\\':None}\",\"ensemble_run_id\":\"AutoML_70d006a2-e8a2-4082-a955-49ef363f6e5f_8\",\"experiment_name\":\"capstone-automl\",\"workspace_name\":\"quick-starts-ws-124394\",\"subscription_id\":\"5e9e5b82-0802-460e-849e-48901a64399b\",\"resource_group_name\":\"aml-quickstarts-124394\"}}]}', 'training_type': 'MeanCrossValidation', 'num_classes': '2', 'framework': 'sklearn', 'fit_time': '91', 'goal': 'accuracy_max', 'class_labels': '', 'primary_metric': 'accuracy', 'errors': '{}', 'fitted_pipeline': \"Pipeline(memory=None,\\n         steps=[('datatransformer',\\n                 DataTransformer(enable_dnn=None, enable_feature_sweeping=None,\\n                                 feature_sweeping_config=None,\\n                                 feature_sweeping_timeout=None,\\n                                 featurization_config=None, force_text_dnn=None,\\n                                 is_cross_validation=None,\\n                                 is_onnx_compatible=None, logger=None,\\n                                 observer=None, task=None, working_dir=None)),\\n                ('stackensembleclassifier',\\n                 StackE...\\n                                         meta_learner=LogisticRegressionCV(Cs=10,\\n                                                                           class_weight=None,\\n                                                                           cv=None,\\n                                                                           dual=False,\\n                                                                           fit_intercept=True,\\n                                                                           intercept_scaling=1.0,\\n                                                                           l1_ratios=None,\\n                                                                           max_iter=100,\\n                                                                           multi_class='auto',\\n                                                                           n_jobs=None,\\n                                                                           penalty='l2',\\n                                                                           random_state=None,\\n                                                                           refit=True,\\n                                                                           scoring=<azureml.automl.runtime.stack_ensemble_base.Scorer object at 0x7f1063ca3898>,\\n                                                                           solver='lbfgs',\\n                                                                           tol=0.0001,\\n                                                                           verbose=0),\\n                                         training_cv_folds=5))],\\n         verbose=False)\", 'friendly_errors': '{}', 'onnx_model_resource': '{}', 'error_code': '', 'failure_reason': '', 'feature_skus': 'automatedml_sdk_guardrails', 'dependencies_versions': '{\"azureml-widgets\": \"1.16.0\", \"azureml-train\": \"1.16.0\", \"azureml-train-restclients-hyperdrive\": \"1.16.0\", \"azureml-train-core\": \"1.16.0\", \"azureml-train-automl\": \"1.16.0\", \"azureml-train-automl-runtime\": \"1.16.0\", \"azureml-train-automl-client\": \"1.16.0\", \"azureml-tensorboard\": \"1.16.0\", \"azureml-telemetry\": \"1.16.0\", \"azureml-sdk\": \"1.16.0\", \"azureml-samples\": \"0+unknown\", \"azureml-pipeline\": \"1.16.0\", \"azureml-pipeline-steps\": \"1.16.0\", \"azureml-pipeline-core\": \"1.16.0\", \"azureml-opendatasets\": \"1.16.0\", \"azureml-model-management-sdk\": \"1.0.1b6.post1\", \"azureml-mlflow\": \"1.16.0\", \"azureml-interpret\": \"1.16.0\", \"azureml-explain-model\": \"1.16.0\", \"azureml-defaults\": \"1.16.0\", \"azureml-dataset-runtime\": \"1.16.0\", \"azureml-dataprep\": \"2.3.2\", \"azureml-dataprep-rslex\": \"1.1.1\", \"azureml-dataprep-native\": \"23.0.0\", \"azureml-datadrift\": \"1.16.0\", \"azureml-core\": \"1.16.0\", \"azureml-contrib-services\": \"1.16.0\", \"azureml-contrib-server\": \"1.16.0\", \"azureml-contrib-reinforcementlearning\": \"1.16.0\", \"azureml-contrib-pipeline-steps\": \"1.16.0\", \"azureml-contrib-notebook\": \"1.16.0\", \"azureml-contrib-interpret\": \"1.16.0\", \"azureml-contrib-gbdt\": \"1.16.0\", \"azureml-contrib-fairness\": \"1.16.0\", \"azureml-contrib-dataset\": \"1.16.0\", \"azureml-cli-common\": \"1.16.0\", \"azureml-automl-runtime\": \"1.16.0\", \"azureml-automl-core\": \"1.16.0\", \"azureml-accel-models\": \"1.16.0\"}', 'num_cores': '4', 'num_logical_cores': '4', 'peak_memory_usage': '9376476', 'vm_configuration': 'Intel(R) Xeon(R) Platinum 8171M CPU @ 2.60GHz', 'core_hours': '0.048488806111111116'}, 'inputDatasets': [], 'outputDatasets': [], 'logFiles': {}}\n",
            "\n",
            "\n",
            "\n",
            "\n",
            "Metrics for best run:  {'recall_score_weighted': 0.7254770963469627, 'average_precision_score_micro': 0.790926850195366, 'log_loss': 0.546822339066419, 'precision_score_weighted': 0.7225450663889905, 'AUC_weighted': 0.7722903058060749, 'matthews_correlation': 0.3937295858827949, 'accuracy': 0.7254770963469627, 'average_precision_score_macro': 0.7617704251651567, 'recall_score_micro': 0.7254770963469627, 'weighted_accuracy': 0.7648664560085594, 'f1_score_micro': 0.7254770963469627, 'recall_score_macro': 0.6808707997462334, 'precision_score_micro': 0.7254770963469627, 'average_precision_score_weighted': 0.7802022067798026, 'AUC_micro': 0.7986787803993858, 'balanced_accuracy': 0.6808707997462334, 'AUC_macro': 0.7722903058060749, 'precision_score_macro': 0.7150230225076996, 'norm_macro_recall': 0.3617415994924669, 'f1_score_weighted': 0.7134323614513458, 'f1_score_macro': 0.6856761469694774, 'confusion_matrix': 'aml://artifactId/ExperimentRun/dcid.AutoML_70d006a2-e8a2-4082-a955-49ef363f6e5f_8/confusion_matrix', 'accuracy_table': 'aml://artifactId/ExperimentRun/dcid.AutoML_70d006a2-e8a2-4082-a955-49ef363f6e5f_8/accuracy_table'}\n"
          ]
        }
      ],
      "execution_count": 13,
      "metadata": {
        "gather": {
          "logged": 1604431338097
        },
        "jupyter": {
          "outputs_hidden": false,
          "source_hidden": false
        },
        "nteract": {
          "transient": {
            "deleting": false
          }
        }
      }
    },
    {
      "cell_type": "code",
      "source": [
        "# referencce - https://docs.microsoft.com/en-us/python/api/azureml-train-automl-client/azureml.train.automl.run.automlrun?view=azure-ml-py\n",
        "print(best_model_automl.steps[-1])"
      ],
      "outputs": [
        {
          "output_type": "stream",
          "name": "stdout",
          "text": [
            "('stackensembleclassifier', StackEnsembleClassifier(base_learners=[('0',\n",
            "                                        Pipeline(memory=None,\n",
            "                                                 steps=[('maxabsscaler',\n",
            "                                                         MaxAbsScaler(copy=True)),\n",
            "                                                        ('lightgbmclassifier',\n",
            "                                                         LightGBMClassifier(boosting_type='gbdt',\n",
            "                                                                            class_weight=None,\n",
            "                                                                            colsample_bytree=1.0,\n",
            "                                                                            importance_type='split',\n",
            "                                                                            learning_rate=0.1,\n",
            "                                                                            max_depth=-1,\n",
            "                                                                            min_child_samples=20,\n",
            "                                                                            min_child_weight=0.001,\n",
            "                                                                            min_split_gain=0.0,\n",
            "                                                                            n_estimators=100,\n",
            "                                                                            n...\n",
            "                        meta_learner=LogisticRegressionCV(Cs=10,\n",
            "                                                          class_weight=None,\n",
            "                                                          cv=None, dual=False,\n",
            "                                                          fit_intercept=True,\n",
            "                                                          intercept_scaling=1.0,\n",
            "                                                          l1_ratios=None,\n",
            "                                                          max_iter=100,\n",
            "                                                          multi_class='auto',\n",
            "                                                          n_jobs=None,\n",
            "                                                          penalty='l2',\n",
            "                                                          random_state=None,\n",
            "                                                          refit=True,\n",
            "                                                          scoring=<azureml.automl.runtime.stack_ensemble_base.Scorer object at 0x7f111ecf6ba8>,\n",
            "                                                          solver='lbfgs',\n",
            "                                                          tol=0.0001,\n",
            "                                                          verbose=0),\n",
            "                        training_cv_folds=5))\n"
          ]
        }
      ],
      "execution_count": 14,
      "metadata": {
        "gather": {
          "logged": 1604431338305
        }
      }
    },
    {
      "cell_type": "markdown",
      "source": [
        "## Model Deployment\n",
        "\n",
        "Remember you have to deploy only one of the two models you trained.. Perform the steps in the rest of this notebook only if you wish to deploy this model.\n",
        "\n",
        "TODO: In the cell below, register the model, create an inference config and deploy the model as a web service."
      ],
      "metadata": {}
    },
    {
      "cell_type": "code",
      "source": [
        "# Personal ToDo - Check why can't register model from get_output() directly\n",
        "best_model_automl = best_run_automl.register_model(model_name=\"model.pkl\", model_path=\"./\")"
      ],
      "outputs": [],
      "execution_count": 15,
      "metadata": {
        "gather": {
          "logged": 1604431339199
        },
        "jupyter": {
          "outputs_hidden": false,
          "source_hidden": false
        },
        "nteract": {
          "transient": {
            "deleting": false
          }
        }
      }
    },
    {
      "cell_type": "code",
      "source": [
        "best_model_automl.download(exist_ok=True)"
      ],
      "outputs": [
        {
          "output_type": "execute_result",
          "execution_count": 16,
          "data": {
            "text/plain": "''"
          },
          "metadata": {}
        }
      ],
      "execution_count": 16,
      "metadata": {
        "collapsed": true,
        "gather": {
          "logged": 1604431345022
        },
        "jupyter": {
          "outputs_hidden": false,
          "source_hidden": false
        },
        "nteract": {
          "transient": {
            "deleting": false
          }
        }
      }
    },
    {
      "cell_type": "code",
      "source": [
        "# Reference - https://docs.microsoft.com/en-us/azure/machine-learning/how-to-deploy-and-where?tabs=python#define-an-inference-configuration\n",
        "\n",
        "# Selecting curated environment as per - https://docs.microsoft.com/en-us/azure/machine-learning/resource-curated-environments\n",
        "env = Environment.get(ws, \"AzureML-AutoML\").clone(\"automl-env\")\n",
        "\n",
        "inference_config = InferenceConfig(entry_script='score.py', environment=env)\n",
        "\n",
        "# Reference - https://docs.microsoft.com/en-us/python/api/azureml-core/azureml.core.webservice.aci.aciwebservice?view=azure-ml-py\n",
        "aci_config = AciWebservice.deploy_configuration(cpu_cores=1, memory_gb=1)\n",
        "\n",
        "service = best_model_automl.deploy(\n",
        "    workspace=ws,\n",
        "    name=\"automl-deployment\",\n",
        "    models=[best_model_automl],\n",
        "    inference_config=inference_config,\n",
        "    deployment_config=aci_config,\n",
        "    overwrite=True\n",
        ")\n",
        "service.wait_for_deployment(show_output=True)"
      ],
      "outputs": [
        {
          "output_type": "stream",
          "name": "stdout",
          "text": [
            "Tips: You can try get_logs(): https://aka.ms/debugimage#dockerlog or local deployment: https://aka.ms/debugimage#debug-locally to debug if deployment takes longer than 10 minutes.\n",
            "Running.............................................................\n",
            "Failed\n"
          ]
        },
        {
          "output_type": "stream",
          "name": "stderr",
          "text": [
            "ERROR - Service deployment polling reached non-successful terminal state, current service state: Failed\n",
            "Operation ID: 1d77950b-76ab-4dbd-be6f-42f9b55f64d2\n",
            "More information can be found using '.get_logs()'\n",
            "Error:\n",
            "{\n",
            "  \"code\": \"AciDeploymentFailed\",\n",
            "  \"message\": \"Aci Deployment failed with exception: Your container application crashed. This may be caused by errors in your scoring file's init() function.\\nPlease check the logs for your container instance: automl-deployment. From the AML SDK, you can run print(service.get_logs()) if you have service object to fetch the logs. \\nYou can also try to run image viennaglobal.azurecr.io/azureml/azureml_3948892c3f204a4877f0b9993b8e7795 locally. Please refer to https://aka.ms/debugimage#service-launch-fails for more information.\",\n",
            "  \"details\": [\n",
            "    {\n",
            "      \"code\": \"CrashLoopBackOff\",\n",
            "      \"message\": \"Your container application crashed. This may be caused by errors in your scoring file's init() function.\\nPlease check the logs for your container instance: automl-deployment. From the AML SDK, you can run print(service.get_logs()) if you have service object to fetch the logs. \\nYou can also try to run image viennaglobal.azurecr.io/azureml/azureml_3948892c3f204a4877f0b9993b8e7795 locally. Please refer to https://aka.ms/debugimage#service-launch-fails for more information.\"\n",
            "    },\n",
            "    {\n",
            "      \"code\": \"AciDeploymentFailed\",\n",
            "      \"message\": \"Your container application crashed. Please follow the steps to debug:\\n1. From the AML SDK, you can run print(service.get_logs()) if you have service object to fetch the logs. Please refer to https://aka.ms/debugimage#dockerlog for more information.\\n2. If your container application crashed. This may be caused by errors in your scoring file's init() function. You can try debugging locally first. Please refer to https://aka.ms/debugimage#debug-locally for more information.\\n3. View the diagnostic events to check status of container, it may help you to debug the issue. {\\\"restartCount\\\":5,\\\"currentState\\\":{\\\"state\\\":\\\"Waiting\\\",\\\"startTime\\\":null,\\\"exitCode\\\":null,\\\"finishTime\\\":null,\\\"detailStatus\\\":\\\"CrashLoopBackOff: Back-off 2m40s restarting failed\\\"},\\\"previousState\\\":{\\\"state\\\":\\\"Terminated\\\",\\\"startTime\\\":\\\"2020-11-03T19:25:39Z\\\",\\\"exitCode\\\":111,\\\"finishTime\\\":\\\"2020-11-03T19:25:40Z\\\",\\\"detailStatus\\\":\\\"Error\\\"},\\\"events\\\":[{\\\"count\\\":3,\\\"firstTimestamp\\\":\\\"2020-11-03T19:22:36Z\\\",\\\"lastTimestamp\\\":\\\"2020-11-03T19:22:54Z\\\",\\\"name\\\":\\\"Pulling\\\",\\\"message\\\":\\\"pulling image \\\\\\\"viennaglobal.azurecr.io/azureml/azureml_3948892c3f204a4877f0b9993b8e7795\\\\\\\"\\\",\\\"type\\\":\\\"Normal\\\"},{\\\"count\\\":3,\\\"firstTimestamp\\\":\\\"2020-11-03T19:22:36Z\\\",\\\"lastTimestamp\\\":\\\"2020-11-03T19:22:54Z\\\",\\\"name\\\":\\\"Pulled\\\",\\\"message\\\":\\\"Successfully pulled image \\\\\\\"viennaglobal.azurecr.io/azureml/azureml_3948892c3f204a4877f0b9993b8e7795\\\\\\\"\\\",\\\"type\\\":\\\"Normal\\\"},{\\\"count\\\":3,\\\"firstTimestamp\\\":\\\"2020-11-03T19:22:36Z\\\",\\\"lastTimestamp\\\":\\\"2020-11-03T19:22:55Z\\\",\\\"name\\\":\\\"Created\\\",\\\"message\\\":\\\"Created container\\\",\\\"type\\\":\\\"Normal\\\"},{\\\"count\\\":2,\\\"firstTimestamp\\\":\\\"2020-11-03T19:22:36Z\\\",\\\"lastTimestamp\\\":\\\"2020-11-03T19:22:39Z\\\",\\\"name\\\":\\\"Started\\\",\\\"message\\\":\\\"Started container\\\",\\\"type\\\":\\\"Normal\\\"},{\\\"count\\\":2,\\\"firstTimestamp\\\":\\\"2020-11-03T19:22:40Z\\\",\\\"lastTimestamp\\\":\\\"2020-11-03T19:22:41Z\\\",\\\"name\\\":\\\"BackOff\\\",\\\"message\\\":\\\"Back-off restarting failed container\\\",\\\"type\\\":\\\"Warning\\\"}]}\"\n",
            "    }\n",
            "  ]\n",
            "}\n",
            "\n"
          ]
        },
        {
          "output_type": "error",
          "ename": "WebserviceException",
          "evalue": "WebserviceException:\n\tMessage: Service deployment polling reached non-successful terminal state, current service state: Failed\nOperation ID: 1d77950b-76ab-4dbd-be6f-42f9b55f64d2\nMore information can be found using '.get_logs()'\nError:\n{\n  \"code\": \"AciDeploymentFailed\",\n  \"message\": \"Aci Deployment failed with exception: Your container application crashed. This may be caused by errors in your scoring file's init() function.\\nPlease check the logs for your container instance: automl-deployment. From the AML SDK, you can run print(service.get_logs()) if you have service object to fetch the logs. \\nYou can also try to run image viennaglobal.azurecr.io/azureml/azureml_3948892c3f204a4877f0b9993b8e7795 locally. Please refer to https://aka.ms/debugimage#service-launch-fails for more information.\",\n  \"details\": [\n    {\n      \"code\": \"CrashLoopBackOff\",\n      \"message\": \"Your container application crashed. This may be caused by errors in your scoring file's init() function.\\nPlease check the logs for your container instance: automl-deployment. From the AML SDK, you can run print(service.get_logs()) if you have service object to fetch the logs. \\nYou can also try to run image viennaglobal.azurecr.io/azureml/azureml_3948892c3f204a4877f0b9993b8e7795 locally. Please refer to https://aka.ms/debugimage#service-launch-fails for more information.\"\n    },\n    {\n      \"code\": \"AciDeploymentFailed\",\n      \"message\": \"Your container application crashed. Please follow the steps to debug:\\n1. From the AML SDK, you can run print(service.get_logs()) if you have service object to fetch the logs. Please refer to https://aka.ms/debugimage#dockerlog for more information.\\n2. If your container application crashed. This may be caused by errors in your scoring file's init() function. You can try debugging locally first. Please refer to https://aka.ms/debugimage#debug-locally for more information.\\n3. View the diagnostic events to check status of container, it may help you to debug the issue. {\\\"restartCount\\\":5,\\\"currentState\\\":{\\\"state\\\":\\\"Waiting\\\",\\\"startTime\\\":null,\\\"exitCode\\\":null,\\\"finishTime\\\":null,\\\"detailStatus\\\":\\\"CrashLoopBackOff: Back-off 2m40s restarting failed\\\"},\\\"previousState\\\":{\\\"state\\\":\\\"Terminated\\\",\\\"startTime\\\":\\\"2020-11-03T19:25:39Z\\\",\\\"exitCode\\\":111,\\\"finishTime\\\":\\\"2020-11-03T19:25:40Z\\\",\\\"detailStatus\\\":\\\"Error\\\"},\\\"events\\\":[{\\\"count\\\":3,\\\"firstTimestamp\\\":\\\"2020-11-03T19:22:36Z\\\",\\\"lastTimestamp\\\":\\\"2020-11-03T19:22:54Z\\\",\\\"name\\\":\\\"Pulling\\\",\\\"message\\\":\\\"pulling image \\\\\\\"viennaglobal.azurecr.io/azureml/azureml_3948892c3f204a4877f0b9993b8e7795\\\\\\\"\\\",\\\"type\\\":\\\"Normal\\\"},{\\\"count\\\":3,\\\"firstTimestamp\\\":\\\"2020-11-03T19:22:36Z\\\",\\\"lastTimestamp\\\":\\\"2020-11-03T19:22:54Z\\\",\\\"name\\\":\\\"Pulled\\\",\\\"message\\\":\\\"Successfully pulled image \\\\\\\"viennaglobal.azurecr.io/azureml/azureml_3948892c3f204a4877f0b9993b8e7795\\\\\\\"\\\",\\\"type\\\":\\\"Normal\\\"},{\\\"count\\\":3,\\\"firstTimestamp\\\":\\\"2020-11-03T19:22:36Z\\\",\\\"lastTimestamp\\\":\\\"2020-11-03T19:22:55Z\\\",\\\"name\\\":\\\"Created\\\",\\\"message\\\":\\\"Created container\\\",\\\"type\\\":\\\"Normal\\\"},{\\\"count\\\":2,\\\"firstTimestamp\\\":\\\"2020-11-03T19:22:36Z\\\",\\\"lastTimestamp\\\":\\\"2020-11-03T19:22:39Z\\\",\\\"name\\\":\\\"Started\\\",\\\"message\\\":\\\"Started container\\\",\\\"type\\\":\\\"Normal\\\"},{\\\"count\\\":2,\\\"firstTimestamp\\\":\\\"2020-11-03T19:22:40Z\\\",\\\"lastTimestamp\\\":\\\"2020-11-03T19:22:41Z\\\",\\\"name\\\":\\\"BackOff\\\",\\\"message\\\":\\\"Back-off restarting failed container\\\",\\\"type\\\":\\\"Warning\\\"}]}\"\n    }\n  ]\n}\n\tInnerException None\n\tErrorResponse \n{\n    \"error\": {\n        \"message\": \"Service deployment polling reached non-successful terminal state, current service state: Failed\\nOperation ID: 1d77950b-76ab-4dbd-be6f-42f9b55f64d2\\nMore information can be found using '.get_logs()'\\nError:\\n{\\n  \\\"code\\\": \\\"AciDeploymentFailed\\\",\\n  \\\"message\\\": \\\"Aci Deployment failed with exception: Your container application crashed. This may be caused by errors in your scoring file's init() function.\\\\nPlease check the logs for your container instance: automl-deployment. From the AML SDK, you can run print(service.get_logs()) if you have service object to fetch the logs. \\\\nYou can also try to run image viennaglobal.azurecr.io/azureml/azureml_3948892c3f204a4877f0b9993b8e7795 locally. Please refer to https://aka.ms/debugimage#service-launch-fails for more information.\\\",\\n  \\\"details\\\": [\\n    {\\n      \\\"code\\\": \\\"CrashLoopBackOff\\\",\\n      \\\"message\\\": \\\"Your container application crashed. This may be caused by errors in your scoring file's init() function.\\\\nPlease check the logs for your container instance: automl-deployment. From the AML SDK, you can run print(service.get_logs()) if you have service object to fetch the logs. \\\\nYou can also try to run image viennaglobal.azurecr.io/azureml/azureml_3948892c3f204a4877f0b9993b8e7795 locally. Please refer to https://aka.ms/debugimage#service-launch-fails for more information.\\\"\\n    },\\n    {\\n      \\\"code\\\": \\\"AciDeploymentFailed\\\",\\n      \\\"message\\\": \\\"Your container application crashed. Please follow the steps to debug:\\\\n1. From the AML SDK, you can run print(service.get_logs()) if you have service object to fetch the logs. Please refer to https://aka.ms/debugimage#dockerlog for more information.\\\\n2. If your container application crashed. This may be caused by errors in your scoring file's init() function. You can try debugging locally first. Please refer to https://aka.ms/debugimage#debug-locally for more information.\\\\n3. View the diagnostic events to check status of container, it may help you to debug the issue. {\\\\\\\"restartCount\\\\\\\":5,\\\\\\\"currentState\\\\\\\":{\\\\\\\"state\\\\\\\":\\\\\\\"Waiting\\\\\\\",\\\\\\\"startTime\\\\\\\":null,\\\\\\\"exitCode\\\\\\\":null,\\\\\\\"finishTime\\\\\\\":null,\\\\\\\"detailStatus\\\\\\\":\\\\\\\"CrashLoopBackOff: Back-off 2m40s restarting failed\\\\\\\"},\\\\\\\"previousState\\\\\\\":{\\\\\\\"state\\\\\\\":\\\\\\\"Terminated\\\\\\\",\\\\\\\"startTime\\\\\\\":\\\\\\\"2020-11-03T19:25:39Z\\\\\\\",\\\\\\\"exitCode\\\\\\\":111,\\\\\\\"finishTime\\\\\\\":\\\\\\\"2020-11-03T19:25:40Z\\\\\\\",\\\\\\\"detailStatus\\\\\\\":\\\\\\\"Error\\\\\\\"},\\\\\\\"events\\\\\\\":[{\\\\\\\"count\\\\\\\":3,\\\\\\\"firstTimestamp\\\\\\\":\\\\\\\"2020-11-03T19:22:36Z\\\\\\\",\\\\\\\"lastTimestamp\\\\\\\":\\\\\\\"2020-11-03T19:22:54Z\\\\\\\",\\\\\\\"name\\\\\\\":\\\\\\\"Pulling\\\\\\\",\\\\\\\"message\\\\\\\":\\\\\\\"pulling image \\\\\\\\\\\\\\\"viennaglobal.azurecr.io/azureml/azureml_3948892c3f204a4877f0b9993b8e7795\\\\\\\\\\\\\\\"\\\\\\\",\\\\\\\"type\\\\\\\":\\\\\\\"Normal\\\\\\\"},{\\\\\\\"count\\\\\\\":3,\\\\\\\"firstTimestamp\\\\\\\":\\\\\\\"2020-11-03T19:22:36Z\\\\\\\",\\\\\\\"lastTimestamp\\\\\\\":\\\\\\\"2020-11-03T19:22:54Z\\\\\\\",\\\\\\\"name\\\\\\\":\\\\\\\"Pulled\\\\\\\",\\\\\\\"message\\\\\\\":\\\\\\\"Successfully pulled image \\\\\\\\\\\\\\\"viennaglobal.azurecr.io/azureml/azureml_3948892c3f204a4877f0b9993b8e7795\\\\\\\\\\\\\\\"\\\\\\\",\\\\\\\"type\\\\\\\":\\\\\\\"Normal\\\\\\\"},{\\\\\\\"count\\\\\\\":3,\\\\\\\"firstTimestamp\\\\\\\":\\\\\\\"2020-11-03T19:22:36Z\\\\\\\",\\\\\\\"lastTimestamp\\\\\\\":\\\\\\\"2020-11-03T19:22:55Z\\\\\\\",\\\\\\\"name\\\\\\\":\\\\\\\"Created\\\\\\\",\\\\\\\"message\\\\\\\":\\\\\\\"Created container\\\\\\\",\\\\\\\"type\\\\\\\":\\\\\\\"Normal\\\\\\\"},{\\\\\\\"count\\\\\\\":2,\\\\\\\"firstTimestamp\\\\\\\":\\\\\\\"2020-11-03T19:22:36Z\\\\\\\",\\\\\\\"lastTimestamp\\\\\\\":\\\\\\\"2020-11-03T19:22:39Z\\\\\\\",\\\\\\\"name\\\\\\\":\\\\\\\"Started\\\\\\\",\\\\\\\"message\\\\\\\":\\\\\\\"Started container\\\\\\\",\\\\\\\"type\\\\\\\":\\\\\\\"Normal\\\\\\\"},{\\\\\\\"count\\\\\\\":2,\\\\\\\"firstTimestamp\\\\\\\":\\\\\\\"2020-11-03T19:22:40Z\\\\\\\",\\\\\\\"lastTimestamp\\\\\\\":\\\\\\\"2020-11-03T19:22:41Z\\\\\\\",\\\\\\\"name\\\\\\\":\\\\\\\"BackOff\\\\\\\",\\\\\\\"message\\\\\\\":\\\\\\\"Back-off restarting failed container\\\\\\\",\\\\\\\"type\\\\\\\":\\\\\\\"Warning\\\\\\\"}]}\\\"\\n    }\\n  ]\\n}\"\n    }\n}",
          "traceback": [
            "\u001b[0;31m---------------------------------------------------------------------------\u001b[0m",
            "\u001b[0;31mWebserviceException\u001b[0m                       Traceback (most recent call last)",
            "\u001b[0;32m<ipython-input-17-eee091789747>\u001b[0m in \u001b[0;36m<module>\u001b[0;34m\u001b[0m\n\u001b[1;32m     17\u001b[0m     \u001b[0moverwrite\u001b[0m\u001b[0;34m=\u001b[0m\u001b[0;32mTrue\u001b[0m\u001b[0;34m\u001b[0m\u001b[0;34m\u001b[0m\u001b[0m\n\u001b[1;32m     18\u001b[0m )\n\u001b[0;32m---> 19\u001b[0;31m \u001b[0mservice\u001b[0m\u001b[0;34m.\u001b[0m\u001b[0mwait_for_deployment\u001b[0m\u001b[0;34m(\u001b[0m\u001b[0mshow_output\u001b[0m\u001b[0;34m=\u001b[0m\u001b[0;32mTrue\u001b[0m\u001b[0;34m)\u001b[0m\u001b[0;34m\u001b[0m\u001b[0;34m\u001b[0m\u001b[0m\n\u001b[0m",
            "\u001b[0;32m/anaconda/envs/azureml_py36/lib/python3.6/site-packages/azureml/core/webservice/webservice.py\u001b[0m in \u001b[0;36mwait_for_deployment\u001b[0;34m(self, show_output, timeout_sec)\u001b[0m\n\u001b[1;32m    756\u001b[0m                                           \u001b[0;34m'Error:\\n'\u001b[0m\u001b[0;34m\u001b[0m\u001b[0;34m\u001b[0m\u001b[0m\n\u001b[1;32m    757\u001b[0m                                           '{}'.format(self.state, self._operation_endpoint.split('/')[-1],\n\u001b[0;32m--> 758\u001b[0;31m                                                       logs_response, error_response), logger=module_logger)\n\u001b[0m\u001b[1;32m    759\u001b[0m             print('{} service creation operation finished, operation \"{}\"'.format(self._webservice_type,\n\u001b[1;32m    760\u001b[0m                                                                                   operation_state))\n",
            "\u001b[0;31mWebserviceException\u001b[0m: WebserviceException:\n\tMessage: Service deployment polling reached non-successful terminal state, current service state: Failed\nOperation ID: 1d77950b-76ab-4dbd-be6f-42f9b55f64d2\nMore information can be found using '.get_logs()'\nError:\n{\n  \"code\": \"AciDeploymentFailed\",\n  \"message\": \"Aci Deployment failed with exception: Your container application crashed. This may be caused by errors in your scoring file's init() function.\\nPlease check the logs for your container instance: automl-deployment. From the AML SDK, you can run print(service.get_logs()) if you have service object to fetch the logs. \\nYou can also try to run image viennaglobal.azurecr.io/azureml/azureml_3948892c3f204a4877f0b9993b8e7795 locally. Please refer to https://aka.ms/debugimage#service-launch-fails for more information.\",\n  \"details\": [\n    {\n      \"code\": \"CrashLoopBackOff\",\n      \"message\": \"Your container application crashed. This may be caused by errors in your scoring file's init() function.\\nPlease check the logs for your container instance: automl-deployment. From the AML SDK, you can run print(service.get_logs()) if you have service object to fetch the logs. \\nYou can also try to run image viennaglobal.azurecr.io/azureml/azureml_3948892c3f204a4877f0b9993b8e7795 locally. Please refer to https://aka.ms/debugimage#service-launch-fails for more information.\"\n    },\n    {\n      \"code\": \"AciDeploymentFailed\",\n      \"message\": \"Your container application crashed. Please follow the steps to debug:\\n1. From the AML SDK, you can run print(service.get_logs()) if you have service object to fetch the logs. Please refer to https://aka.ms/debugimage#dockerlog for more information.\\n2. If your container application crashed. This may be caused by errors in your scoring file's init() function. You can try debugging locally first. Please refer to https://aka.ms/debugimage#debug-locally for more information.\\n3. View the diagnostic events to check status of container, it may help you to debug the issue. {\\\"restartCount\\\":5,\\\"currentState\\\":{\\\"state\\\":\\\"Waiting\\\",\\\"startTime\\\":null,\\\"exitCode\\\":null,\\\"finishTime\\\":null,\\\"detailStatus\\\":\\\"CrashLoopBackOff: Back-off 2m40s restarting failed\\\"},\\\"previousState\\\":{\\\"state\\\":\\\"Terminated\\\",\\\"startTime\\\":\\\"2020-11-03T19:25:39Z\\\",\\\"exitCode\\\":111,\\\"finishTime\\\":\\\"2020-11-03T19:25:40Z\\\",\\\"detailStatus\\\":\\\"Error\\\"},\\\"events\\\":[{\\\"count\\\":3,\\\"firstTimestamp\\\":\\\"2020-11-03T19:22:36Z\\\",\\\"lastTimestamp\\\":\\\"2020-11-03T19:22:54Z\\\",\\\"name\\\":\\\"Pulling\\\",\\\"message\\\":\\\"pulling image \\\\\\\"viennaglobal.azurecr.io/azureml/azureml_3948892c3f204a4877f0b9993b8e7795\\\\\\\"\\\",\\\"type\\\":\\\"Normal\\\"},{\\\"count\\\":3,\\\"firstTimestamp\\\":\\\"2020-11-03T19:22:36Z\\\",\\\"lastTimestamp\\\":\\\"2020-11-03T19:22:54Z\\\",\\\"name\\\":\\\"Pulled\\\",\\\"message\\\":\\\"Successfully pulled image \\\\\\\"viennaglobal.azurecr.io/azureml/azureml_3948892c3f204a4877f0b9993b8e7795\\\\\\\"\\\",\\\"type\\\":\\\"Normal\\\"},{\\\"count\\\":3,\\\"firstTimestamp\\\":\\\"2020-11-03T19:22:36Z\\\",\\\"lastTimestamp\\\":\\\"2020-11-03T19:22:55Z\\\",\\\"name\\\":\\\"Created\\\",\\\"message\\\":\\\"Created container\\\",\\\"type\\\":\\\"Normal\\\"},{\\\"count\\\":2,\\\"firstTimestamp\\\":\\\"2020-11-03T19:22:36Z\\\",\\\"lastTimestamp\\\":\\\"2020-11-03T19:22:39Z\\\",\\\"name\\\":\\\"Started\\\",\\\"message\\\":\\\"Started container\\\",\\\"type\\\":\\\"Normal\\\"},{\\\"count\\\":2,\\\"firstTimestamp\\\":\\\"2020-11-03T19:22:40Z\\\",\\\"lastTimestamp\\\":\\\"2020-11-03T19:22:41Z\\\",\\\"name\\\":\\\"BackOff\\\",\\\"message\\\":\\\"Back-off restarting failed container\\\",\\\"type\\\":\\\"Warning\\\"}]}\"\n    }\n  ]\n}\n\tInnerException None\n\tErrorResponse \n{\n    \"error\": {\n        \"message\": \"Service deployment polling reached non-successful terminal state, current service state: Failed\\nOperation ID: 1d77950b-76ab-4dbd-be6f-42f9b55f64d2\\nMore information can be found using '.get_logs()'\\nError:\\n{\\n  \\\"code\\\": \\\"AciDeploymentFailed\\\",\\n  \\\"message\\\": \\\"Aci Deployment failed with exception: Your container application crashed. This may be caused by errors in your scoring file's init() function.\\\\nPlease check the logs for your container instance: automl-deployment. From the AML SDK, you can run print(service.get_logs()) if you have service object to fetch the logs. \\\\nYou can also try to run image viennaglobal.azurecr.io/azureml/azureml_3948892c3f204a4877f0b9993b8e7795 locally. Please refer to https://aka.ms/debugimage#service-launch-fails for more information.\\\",\\n  \\\"details\\\": [\\n    {\\n      \\\"code\\\": \\\"CrashLoopBackOff\\\",\\n      \\\"message\\\": \\\"Your container application crashed. This may be caused by errors in your scoring file's init() function.\\\\nPlease check the logs for your container instance: automl-deployment. From the AML SDK, you can run print(service.get_logs()) if you have service object to fetch the logs. \\\\nYou can also try to run image viennaglobal.azurecr.io/azureml/azureml_3948892c3f204a4877f0b9993b8e7795 locally. Please refer to https://aka.ms/debugimage#service-launch-fails for more information.\\\"\\n    },\\n    {\\n      \\\"code\\\": \\\"AciDeploymentFailed\\\",\\n      \\\"message\\\": \\\"Your container application crashed. Please follow the steps to debug:\\\\n1. From the AML SDK, you can run print(service.get_logs()) if you have service object to fetch the logs. Please refer to https://aka.ms/debugimage#dockerlog for more information.\\\\n2. If your container application crashed. This may be caused by errors in your scoring file's init() function. You can try debugging locally first. Please refer to https://aka.ms/debugimage#debug-locally for more information.\\\\n3. View the diagnostic events to check status of container, it may help you to debug the issue. {\\\\\\\"restartCount\\\\\\\":5,\\\\\\\"currentState\\\\\\\":{\\\\\\\"state\\\\\\\":\\\\\\\"Waiting\\\\\\\",\\\\\\\"startTime\\\\\\\":null,\\\\\\\"exitCode\\\\\\\":null,\\\\\\\"finishTime\\\\\\\":null,\\\\\\\"detailStatus\\\\\\\":\\\\\\\"CrashLoopBackOff: Back-off 2m40s restarting failed\\\\\\\"},\\\\\\\"previousState\\\\\\\":{\\\\\\\"state\\\\\\\":\\\\\\\"Terminated\\\\\\\",\\\\\\\"startTime\\\\\\\":\\\\\\\"2020-11-03T19:25:39Z\\\\\\\",\\\\\\\"exitCode\\\\\\\":111,\\\\\\\"finishTime\\\\\\\":\\\\\\\"2020-11-03T19:25:40Z\\\\\\\",\\\\\\\"detailStatus\\\\\\\":\\\\\\\"Error\\\\\\\"},\\\\\\\"events\\\\\\\":[{\\\\\\\"count\\\\\\\":3,\\\\\\\"firstTimestamp\\\\\\\":\\\\\\\"2020-11-03T19:22:36Z\\\\\\\",\\\\\\\"lastTimestamp\\\\\\\":\\\\\\\"2020-11-03T19:22:54Z\\\\\\\",\\\\\\\"name\\\\\\\":\\\\\\\"Pulling\\\\\\\",\\\\\\\"message\\\\\\\":\\\\\\\"pulling image \\\\\\\\\\\\\\\"viennaglobal.azurecr.io/azureml/azureml_3948892c3f204a4877f0b9993b8e7795\\\\\\\\\\\\\\\"\\\\\\\",\\\\\\\"type\\\\\\\":\\\\\\\"Normal\\\\\\\"},{\\\\\\\"count\\\\\\\":3,\\\\\\\"firstTimestamp\\\\\\\":\\\\\\\"2020-11-03T19:22:36Z\\\\\\\",\\\\\\\"lastTimestamp\\\\\\\":\\\\\\\"2020-11-03T19:22:54Z\\\\\\\",\\\\\\\"name\\\\\\\":\\\\\\\"Pulled\\\\\\\",\\\\\\\"message\\\\\\\":\\\\\\\"Successfully pulled image \\\\\\\\\\\\\\\"viennaglobal.azurecr.io/azureml/azureml_3948892c3f204a4877f0b9993b8e7795\\\\\\\\\\\\\\\"\\\\\\\",\\\\\\\"type\\\\\\\":\\\\\\\"Normal\\\\\\\"},{\\\\\\\"count\\\\\\\":3,\\\\\\\"firstTimestamp\\\\\\\":\\\\\\\"2020-11-03T19:22:36Z\\\\\\\",\\\\\\\"lastTimestamp\\\\\\\":\\\\\\\"2020-11-03T19:22:55Z\\\\\\\",\\\\\\\"name\\\\\\\":\\\\\\\"Created\\\\\\\",\\\\\\\"message\\\\\\\":\\\\\\\"Created container\\\\\\\",\\\\\\\"type\\\\\\\":\\\\\\\"Normal\\\\\\\"},{\\\\\\\"count\\\\\\\":2,\\\\\\\"firstTimestamp\\\\\\\":\\\\\\\"2020-11-03T19:22:36Z\\\\\\\",\\\\\\\"lastTimestamp\\\\\\\":\\\\\\\"2020-11-03T19:22:39Z\\\\\\\",\\\\\\\"name\\\\\\\":\\\\\\\"Started\\\\\\\",\\\\\\\"message\\\\\\\":\\\\\\\"Started container\\\\\\\",\\\\\\\"type\\\\\\\":\\\\\\\"Normal\\\\\\\"},{\\\\\\\"count\\\\\\\":2,\\\\\\\"firstTimestamp\\\\\\\":\\\\\\\"2020-11-03T19:22:40Z\\\\\\\",\\\\\\\"lastTimestamp\\\\\\\":\\\\\\\"2020-11-03T19:22:41Z\\\\\\\",\\\\\\\"name\\\\\\\":\\\\\\\"BackOff\\\\\\\",\\\\\\\"message\\\\\\\":\\\\\\\"Back-off restarting failed container\\\\\\\",\\\\\\\"type\\\\\\\":\\\\\\\"Warning\\\\\\\"}]}\\\"\\n    }\\n  ]\\n}\"\n    }\n}"
          ]
        }
      ],
      "execution_count": 17,
      "metadata": {
        "collapsed": true,
        "jupyter": {
          "outputs_hidden": false,
          "source_hidden": false
        },
        "nteract": {
          "transient": {
            "deleting": false
          }
        },
        "gather": {
          "logged": 1604422933495
        }
      }
    },
    {
      "cell_type": "markdown",
      "source": [
        "TODO: In the cell below, send a request to the web service you deployed to test it."
      ],
      "metadata": {
        "collapsed": true,
        "gather": {
          "logged": 1598431657736
        },
        "jupyter": {
          "outputs_hidden": false,
          "source_hidden": false
        },
        "nteract": {
          "transient": {
            "deleting": false
          }
        }
      }
    },
    {
      "cell_type": "code",
      "source": [
        "service.update(enable_app_insights=True)"
      ],
      "outputs": [],
      "execution_count": null,
      "metadata": {
        "gather": {
          "logged": 1604422952317
        },
        "jupyter": {
          "outputs_hidden": false,
          "source_hidden": false
        },
        "nteract": {
          "transient": {
            "deleting": false
          }
        }
      }
    },
    {
      "cell_type": "code",
      "source": [
        "input_tweet_json = json.dumps({'data':df_modified[\"OriginalTweet\"][0]})\n",
        "# Reference - https://docs.microsoft.com/en-us/python/api/azureml-core/azureml.core.webservice.webservice.webservice?view=azure-ml-py&preserve-view=true#run-input-\n",
        "output = service.run(input_tweet_json)\n",
        "print(\"Predicted Sentiment: \", output)\n",
        "print(\"Actual Sentiment: \", df_modified[\"Sentiment\"][0])"
      ],
      "outputs": [],
      "execution_count": null,
      "metadata": {
        "collapsed": true,
        "jupyter": {
          "outputs_hidden": false,
          "source_hidden": false
        },
        "nteract": {
          "transient": {
            "deleting": false
          }
        },
        "gather": {
          "logged": 1604423090133
        }
      }
    },
    {
      "cell_type": "markdown",
      "source": [
        "TODO: In the cell below, print the logs of the web service and delete the service"
      ],
      "metadata": {
        "collapsed": true,
        "gather": {
          "logged": 1598432765711
        },
        "jupyter": {
          "outputs_hidden": false,
          "source_hidden": false
        },
        "nteract": {
          "transient": {
            "deleting": false
          }
        }
      }
    },
    {
      "cell_type": "code",
      "source": [
        "print(service.get_logs())"
      ],
      "outputs": [
        {
          "output_type": "stream",
          "name": "stdout",
          "text": [
            "2020-11-03T19:29:31,377639090+00:00 - rsyslog/run \n",
            "2020-11-03T19:29:31,379939499+00:00 - iot-server/run \n",
            "2020-11-03T19:29:31,384263615+00:00 - gunicorn/run \n",
            "2020-11-03T19:29:31,397824766+00:00 - nginx/run \n",
            "/usr/sbin/nginx: /azureml-envs/azureml_0e3a8a6dba181476a2523c12c58dfc97/lib/libcrypto.so.1.0.0: no version information available (required by /usr/sbin/nginx)\n",
            "/usr/sbin/nginx: /azureml-envs/azureml_0e3a8a6dba181476a2523c12c58dfc97/lib/libcrypto.so.1.0.0: no version information available (required by /usr/sbin/nginx)\n",
            "/usr/sbin/nginx: /azureml-envs/azureml_0e3a8a6dba181476a2523c12c58dfc97/lib/libssl.so.1.0.0: no version information available (required by /usr/sbin/nginx)\n",
            "/usr/sbin/nginx: /azureml-envs/azureml_0e3a8a6dba181476a2523c12c58dfc97/lib/libssl.so.1.0.0: no version information available (required by /usr/sbin/nginx)\n",
            "/usr/sbin/nginx: /azureml-envs/azureml_0e3a8a6dba181476a2523c12c58dfc97/lib/libssl.so.1.0.0: no version information available (required by /usr/sbin/nginx)\n",
            "rsyslogd: /azureml-envs/azureml_0e3a8a6dba181476a2523c12c58dfc97/lib/libuuid.so.1: no version information available (required by rsyslogd)\n",
            "EdgeHubConnectionString and IOTEDGE_IOTHUBHOSTNAME are not set. Exiting...\n",
            "2020-11-03T19:29:31,522883737+00:00 - iot-server/finish 1 0\n",
            "2020-11-03T19:29:31,524714344+00:00 - Exit code 1 is normal. Not restarting iot-server.\n",
            "Starting gunicorn 19.9.0\n",
            "Listening at: http://127.0.0.1:31311 (15)\n",
            "Using worker: sync\n",
            "worker timeout is set to 300\n",
            "Booting worker with pid: 39\n",
            "SPARK_HOME not set. Skipping PySpark Initialization.\n",
            "Initializing logger\n",
            "2020-11-03 19:29:32,091 | root | INFO | Starting up app insights client\n",
            "Starting up app insights client\n",
            "2020-11-03 19:29:32,092 | root | INFO | Starting up request id generator\n",
            "Starting up request id generator\n",
            "2020-11-03 19:29:32,092 | root | INFO | Starting up app insight hooks\n",
            "Starting up app insight hooks\n",
            "2020-11-03 19:29:32,092 | root | INFO | Invoking user's init function\n",
            "Invoking user's init function\n",
            "2020-11-03 19:29:32,092 | root | ERROR | User's init function failed\n",
            "User's init function failed\n",
            "2020-11-03 19:29:32,093 | root | ERROR | Encountered Exception Traceback (most recent call last):\n",
            "  File \"/var/azureml-server/aml_blueprint.py\", line 177, in register\n",
            "    main.init()\n",
            "  File \"/var/azureml-app/score.py\", line 13, in init\n",
            "    model = joblib.load(model_path)\n",
            "  File \"/azureml-envs/azureml_0e3a8a6dba181476a2523c12c58dfc97/lib/python3.6/site-packages/joblib/numpy_pickle.py\", line 597, in load\n",
            "    with open(filename, 'rb') as f:\n",
            "FileNotFoundError: [Errno 2] No such file or directory: './model.pkl'\n",
            "\n",
            "Encountered Exception Traceback (most recent call last):\n",
            "  File \"/var/azureml-server/aml_blueprint.py\", line 177, in register\n",
            "    main.init()\n",
            "  File \"/var/azureml-app/score.py\", line 13, in init\n",
            "    model = joblib.load(model_path)\n",
            "  File \"/azureml-envs/azureml_0e3a8a6dba181476a2523c12c58dfc97/lib/python3.6/site-packages/joblib/numpy_pickle.py\", line 597, in load\n",
            "    with open(filename, 'rb') as f:\n",
            "FileNotFoundError: [Errno 2] No such file or directory: './model.pkl'\n",
            "\n",
            "Worker exiting (pid: 39)\n",
            "Shutting down: Master\n",
            "Reason: Worker failed to boot.\n",
            "2020-11-03T19:29:32,178389807+00:00 - gunicorn/finish 3 0\n",
            "2020-11-03T19:29:32,179758312+00:00 - Exit code 3 is not normal. Killing image.\n",
            "\n"
          ]
        }
      ],
      "execution_count": 22,
      "metadata": {
        "gather": {
          "logged": 1604431780491
        },
        "jupyter": {
          "outputs_hidden": false,
          "source_hidden": false
        },
        "nteract": {
          "transient": {
            "deleting": false
          }
        }
      }
    },
    {
      "cell_type": "code",
      "source": [
        "# service.delete()"
      ],
      "outputs": [],
      "execution_count": null,
      "metadata": {
        "collapsed": true,
        "jupyter": {
          "outputs_hidden": false,
          "source_hidden": false
        },
        "nteract": {
          "transient": {
            "deleting": false
          }
        },
        "gather": {
          "logged": 1604423110905
        }
      }
    }
  ],
  "metadata": {
    "kernel_info": {
      "name": "python3"
    },
    "kernelspec": {
      "name": "python3",
      "language": "python",
      "display_name": "Python 3"
    },
    "language_info": {
      "name": "python",
      "version": "3.6.9",
      "mimetype": "text/x-python",
      "codemirror_mode": {
        "name": "ipython",
        "version": 3
      },
      "pygments_lexer": "ipython3",
      "nbconvert_exporter": "python",
      "file_extension": ".py"
    },
    "nteract": {
      "version": "nteract-front-end@1.0.0"
    },
    "widgets": {
      "state": {},
      "version": "1.1.2"
    }
  },
  "nbformat": 4,
  "nbformat_minor": 2
}