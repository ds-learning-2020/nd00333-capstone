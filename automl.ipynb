{
  "cells": [
    {
      "cell_type": "markdown",
      "source": [
        "# Automated ML\n",
        "\n",
        "TODO: Import Dependencies. In the cell below, import all the dependencies that you will need to complete the project."
      ],
      "metadata": {}
    },
    {
      "cell_type": "code",
      "source": [
        "from azureml.core import Workspace, Experiment, Datastore, Dataset\n",
        "from azureml.core.compute import ComputeTarget, AmlCompute\n",
        "from azureml.widgets import RunDetails\n",
        "from azureml.train.sklearn import SKLearn\n",
        "from azureml.train.hyperdrive.run import PrimaryMetricGoal\n",
        "from azureml.train.hyperdrive.policy import BanditPolicy, MedianStoppingPolicy\n",
        "from azureml.train.hyperdrive.sampling import RandomParameterSampling\n",
        "from azureml.train.hyperdrive.runconfig import HyperDriveConfig\n",
        "from azureml.train.hyperdrive.parameter_expressions import uniform, normal, choice\n",
        "from azureml.train.automl import AutoMLConfig\n",
        "from azureml.data.dataset_factory import TabularDatasetFactory\n",
        "from azureml.core.webservice import AciWebservice\n",
        "from azureml.core.model import InferenceConfig\n",
        "from azureml.core.environment import Environment\n",
        "\n",
        "import os\n",
        "import joblib\n",
        "import pandas as pd\n",
        "import sys\n",
        "import numpy as np\n",
        "import json\n",
        "\n",
        "from sklearn.model_selection import train_test_split\n",
        "\n",
        "\n"
      ],
      "outputs": [],
      "execution_count": 1,
      "metadata": {
        "gather": {
          "logged": 1605305447497
        },
        "jupyter": {
          "outputs_hidden": false,
          "source_hidden": false
        },
        "nteract": {
          "transient": {
            "deleting": false
          }
        }
      }
    },
    {
      "cell_type": "markdown",
      "source": [
        "## Dataset\n",
        "\n",
        "### Overview\n",
        "TODO: In this markdown cell, give an overview of the dataset you are using. Also mention the task you will be performing.\n",
        "\n",
        "\n",
        "TODO: Get data. In the cell below, write code to access the data you will be using in this project. Remember that the dataset needs to be external."
      ],
      "metadata": {}
    },
    {
      "cell_type": "code",
      "source": [
        "ws = Workspace.from_config()\n",
        "\n",
        "# choose a name for experiment\n",
        "experiment_name = 'capstone-automl'\n",
        "\n",
        "experiment=Experiment(ws, experiment_name)\n",
        "\n"
      ],
      "outputs": [
        {
          "output_type": "stream",
          "name": "stdout",
          "text": [
            "Performing interactive authentication. Please follow the instructions on the terminal.\n",
            "To sign in, use a web browser to open the page https://microsoft.com/devicelogin and enter the code RUZJ986NT to authenticate.\n",
            "You have logged in. Now let us find all the subscriptions to which you have access...\n",
            "Interactive authentication successfully completed.\n"
          ]
        }
      ],
      "execution_count": 2,
      "metadata": {
        "gather": {
          "logged": 1605305467234
        },
        "jupyter": {
          "outputs_hidden": false,
          "source_hidden": false
        },
        "nteract": {
          "transient": {
            "deleting": false
          }
        }
      }
    },
    {
      "cell_type": "markdown",
      "source": [
        "### Data Preprocessing"
      ],
      "metadata": {
        "nteract": {
          "transient": {
            "deleting": false
          }
        }
      }
    },
    {
      "cell_type": "code",
      "source": [
        "df = pd.read_csv(\"Corona_NLP_train.csv\")"
      ],
      "outputs": [],
      "execution_count": 3,
      "metadata": {
        "collapsed": true,
        "gather": {
          "logged": 1605305467702
        },
        "jupyter": {
          "outputs_hidden": false,
          "source_hidden": false
        },
        "nteract": {
          "transient": {
            "deleting": false
          }
        }
      }
    },
    {
      "cell_type": "code",
      "source": [
        "df.head()"
      ],
      "outputs": [
        {
          "output_type": "execute_result",
          "execution_count": 4,
          "data": {
            "text/plain": "  Unnamed: 0 UserName  ScreenName   Location     TweetAt  \\\n0          0     3799     48751.0     London  16-03-2020   \n1          1     3800     48752.0         UK  16-03-2020   \n2          2     3801     48753.0  Vagabonds  16-03-2020   \n3          3     3802     48754.0        NaN  16-03-2020   \n4          4     3803     48755.0        NaN  16-03-2020   \n\n                                       OriginalTweet           Sentiment  \n0  @MeNyrbie @Phil_Gahan @Chrisitv https://t.co/i...             Neutral  \n1  advice Talk to your neighbours family to excha...            Positive  \n2  Coronavirus Australia: Woolworths to give elde...            Positive  \n3  My food stock is not the only one which is emp...            Positive  \n4  Me, ready to go at supermarket during the #COV...  Extremely Negative  ",
            "text/html": "<div>\n<style scoped>\n    .dataframe tbody tr th:only-of-type {\n        vertical-align: middle;\n    }\n\n    .dataframe tbody tr th {\n        vertical-align: top;\n    }\n\n    .dataframe thead th {\n        text-align: right;\n    }\n</style>\n<table border=\"1\" class=\"dataframe\">\n  <thead>\n    <tr style=\"text-align: right;\">\n      <th></th>\n      <th>Unnamed: 0</th>\n      <th>UserName</th>\n      <th>ScreenName</th>\n      <th>Location</th>\n      <th>TweetAt</th>\n      <th>OriginalTweet</th>\n      <th>Sentiment</th>\n    </tr>\n  </thead>\n  <tbody>\n    <tr>\n      <th>0</th>\n      <td>0</td>\n      <td>3799</td>\n      <td>48751.0</td>\n      <td>London</td>\n      <td>16-03-2020</td>\n      <td>@MeNyrbie @Phil_Gahan @Chrisitv https://t.co/i...</td>\n      <td>Neutral</td>\n    </tr>\n    <tr>\n      <th>1</th>\n      <td>1</td>\n      <td>3800</td>\n      <td>48752.0</td>\n      <td>UK</td>\n      <td>16-03-2020</td>\n      <td>advice Talk to your neighbours family to excha...</td>\n      <td>Positive</td>\n    </tr>\n    <tr>\n      <th>2</th>\n      <td>2</td>\n      <td>3801</td>\n      <td>48753.0</td>\n      <td>Vagabonds</td>\n      <td>16-03-2020</td>\n      <td>Coronavirus Australia: Woolworths to give elde...</td>\n      <td>Positive</td>\n    </tr>\n    <tr>\n      <th>3</th>\n      <td>3</td>\n      <td>3802</td>\n      <td>48754.0</td>\n      <td>NaN</td>\n      <td>16-03-2020</td>\n      <td>My food stock is not the only one which is emp...</td>\n      <td>Positive</td>\n    </tr>\n    <tr>\n      <th>4</th>\n      <td>4</td>\n      <td>3803</td>\n      <td>48755.0</td>\n      <td>NaN</td>\n      <td>16-03-2020</td>\n      <td>Me, ready to go at supermarket during the #COV...</td>\n      <td>Extremely Negative</td>\n    </tr>\n  </tbody>\n</table>\n</div>"
          },
          "metadata": {}
        }
      ],
      "execution_count": 4,
      "metadata": {
        "gather": {
          "logged": 1605305467809
        }
      }
    },
    {
      "cell_type": "code",
      "source": [
        "df.Sentiment.unique()"
      ],
      "outputs": [
        {
          "output_type": "execute_result",
          "execution_count": 5,
          "data": {
            "text/plain": "array(['Neutral', 'Positive', 'Extremely Negative', 'Negative',\n       'Extremely Positive', nan], dtype=object)"
          },
          "metadata": {}
        }
      ],
      "execution_count": 5,
      "metadata": {
        "gather": {
          "logged": 1605305467890
        }
      }
    },
    {
      "cell_type": "code",
      "source": [
        "df.info()"
      ],
      "outputs": [
        {
          "output_type": "stream",
          "name": "stdout",
          "text": [
            "<class 'pandas.core.frame.DataFrame'>\n",
            "RangeIndex: 41159 entries, 0 to 41158\n",
            "Data columns (total 7 columns):\n",
            "Unnamed: 0       41158 non-null object\n",
            "UserName         41158 non-null object\n",
            "ScreenName       41157 non-null float64\n",
            "Location         32567 non-null object\n",
            "TweetAt          41157 non-null object\n",
            "OriginalTweet    41157 non-null object\n",
            "Sentiment        41155 non-null object\n",
            "dtypes: float64(1), object(6)\n",
            "memory usage: 2.2+ MB\n"
          ]
        }
      ],
      "execution_count": 6,
      "metadata": {
        "collapsed": true,
        "gather": {
          "logged": 1605305467955
        },
        "jupyter": {
          "outputs_hidden": false,
          "source_hidden": false
        },
        "nteract": {
          "transient": {
            "deleting": false
          }
        }
      }
    },
    {
      "cell_type": "code",
      "source": [
        "df_modified = df[[\"OriginalTweet\", \"Sentiment\"]].copy()\n",
        "df_modified[\"OriginalTweet\"] = df_modified[\"OriginalTweet\"].astype(\"str\")\n",
        "df_modified[\"Sentiment\"] = df_modified[\"Sentiment\"].astype(\"str\")\n",
        "df_modified = df_modified[df_modified[\"Sentiment\"] != \"nan\"]\n",
        "\n",
        "       \n",
        "positive = df_modified[\"Sentiment\"].isin([\"Neutral\", \"Positive\", 'Extremely Positive'])\n",
        "negative = df_modified[\"Sentiment\"].isin(['Extremely Negative', 'Negative'])\n",
        "\n",
        "df_modified.loc[positive, \"Sentiment\"] = 1\n",
        "df_modified.loc[negative, \"Sentiment\"] = 0\n",
        "\n",
        "df_modified[\"Sentiment\"] = df_modified[\"Sentiment\"].astype(\"int\")"
      ],
      "outputs": [],
      "execution_count": 7,
      "metadata": {
        "collapsed": true,
        "gather": {
          "logged": 1605305468023
        },
        "jupyter": {
          "outputs_hidden": false,
          "source_hidden": false
        },
        "nteract": {
          "transient": {
            "deleting": false
          }
        }
      }
    },
    {
      "cell_type": "code",
      "source": [
        "df_modified[\"Sentiment\"].unique()"
      ],
      "outputs": [
        {
          "output_type": "execute_result",
          "execution_count": 8,
          "data": {
            "text/plain": "array([1, 0])"
          },
          "metadata": {}
        }
      ],
      "execution_count": 8,
      "metadata": {
        "collapsed": true,
        "gather": {
          "logged": 1605305468232
        },
        "jupyter": {
          "outputs_hidden": false,
          "source_hidden": false
        },
        "nteract": {
          "transient": {
            "deleting": false
          }
        }
      }
    },
    {
      "cell_type": "code",
      "source": [
        "df_modified.head()"
      ],
      "outputs": [
        {
          "output_type": "execute_result",
          "execution_count": 9,
          "data": {
            "text/plain": "                                       OriginalTweet  Sentiment\n0  @MeNyrbie @Phil_Gahan @Chrisitv https://t.co/i...          1\n1  advice Talk to your neighbours family to excha...          1\n2  Coronavirus Australia: Woolworths to give elde...          1\n3  My food stock is not the only one which is emp...          1\n4  Me, ready to go at supermarket during the #COV...          0",
            "text/html": "<div>\n<style scoped>\n    .dataframe tbody tr th:only-of-type {\n        vertical-align: middle;\n    }\n\n    .dataframe tbody tr th {\n        vertical-align: top;\n    }\n\n    .dataframe thead th {\n        text-align: right;\n    }\n</style>\n<table border=\"1\" class=\"dataframe\">\n  <thead>\n    <tr style=\"text-align: right;\">\n      <th></th>\n      <th>OriginalTweet</th>\n      <th>Sentiment</th>\n    </tr>\n  </thead>\n  <tbody>\n    <tr>\n      <th>0</th>\n      <td>@MeNyrbie @Phil_Gahan @Chrisitv https://t.co/i...</td>\n      <td>1</td>\n    </tr>\n    <tr>\n      <th>1</th>\n      <td>advice Talk to your neighbours family to excha...</td>\n      <td>1</td>\n    </tr>\n    <tr>\n      <th>2</th>\n      <td>Coronavirus Australia: Woolworths to give elde...</td>\n      <td>1</td>\n    </tr>\n    <tr>\n      <th>3</th>\n      <td>My food stock is not the only one which is emp...</td>\n      <td>1</td>\n    </tr>\n    <tr>\n      <th>4</th>\n      <td>Me, ready to go at supermarket during the #COV...</td>\n      <td>0</td>\n    </tr>\n  </tbody>\n</table>\n</div>"
          },
          "metadata": {}
        }
      ],
      "execution_count": 9,
      "metadata": {
        "collapsed": true,
        "gather": {
          "logged": 1605305468320
        },
        "jupyter": {
          "outputs_hidden": false,
          "source_hidden": false
        },
        "nteract": {
          "transient": {
            "deleting": false
          }
        }
      }
    },
    {
      "cell_type": "code",
      "source": [
        "df_modified.info()"
      ],
      "outputs": [
        {
          "output_type": "stream",
          "name": "stdout",
          "text": [
            "<class 'pandas.core.frame.DataFrame'>\n",
            "Int64Index: 41155 entries, 0 to 41158\n",
            "Data columns (total 2 columns):\n",
            "OriginalTweet    41155 non-null object\n",
            "Sentiment        41155 non-null int64\n",
            "dtypes: int64(1), object(1)\n",
            "memory usage: 964.6+ KB\n"
          ]
        }
      ],
      "execution_count": 10,
      "metadata": {
        "collapsed": true,
        "gather": {
          "logged": 1605305468385
        },
        "jupyter": {
          "outputs_hidden": false,
          "source_hidden": false
        },
        "nteract": {
          "transient": {
            "deleting": false
          }
        }
      }
    },
    {
      "cell_type": "markdown",
      "source": [
        "## AutoML Configuration\n",
        "\n",
        "TODO: Explain why you chose the automl settings and cofiguration you used below."
      ],
      "metadata": {}
    },
    {
      "cell_type": "code",
      "source": [
        "import sys\r\n",
        "# fix dependency issue\r\n",
        "!{sys.executable} -m pip install zipp==3.1.0\r\n",
        "!{sys.executable} -m pip install cryptography==3.1.1"
      ],
      "outputs": [
        {
          "output_type": "stream",
          "name": "stdout",
          "text": [
            "Collecting zipp==3.1.0\n",
            "  Downloading zipp-3.1.0-py3-none-any.whl (4.9 kB)\n",
            "Installing collected packages: zipp\n",
            "  Attempting uninstall: zipp\n",
            "    Found existing installation: zipp 3.4.0\n",
            "    Uninstalling zipp-3.4.0:\n",
            "      Successfully uninstalled zipp-3.4.0\n",
            "Successfully installed zipp-3.1.0\n",
            "Collecting cryptography==3.1.1\n",
            "  Downloading cryptography-3.1.1-cp35-abi3-manylinux2010_x86_64.whl (2.6 MB)\n",
            "\u001b[K     |████████████████████████████████| 2.6 MB 3.6 MB/s eta 0:00:01\n",
            "\u001b[?25hRequirement already satisfied: cffi!=1.11.3,>=1.8 in /anaconda/envs/azureml_py36/lib/python3.6/site-packages (from cryptography==3.1.1) (1.14.3)\n",
            "Requirement already satisfied: six>=1.4.1 in /anaconda/envs/azureml_py36/lib/python3.6/site-packages (from cryptography==3.1.1) (1.15.0)\n",
            "Requirement already satisfied: pycparser in /anaconda/envs/azureml_py36/lib/python3.6/site-packages (from cffi!=1.11.3,>=1.8->cryptography==3.1.1) (2.20)\n",
            "\u001b[31mERROR: azureml-contrib-notebook 1.18.0 has requirement nbconvert<6, but you'll have nbconvert 6.0.7 which is incompatible.\u001b[0m\n",
            "\u001b[31mERROR: azure-cli 2.14.2 has requirement azure-graphrbac~=0.60.0, but you'll have azure-graphrbac 0.61.1 which is incompatible.\u001b[0m\n",
            "\u001b[31mERROR: azure-cli 2.14.2 has requirement azure-mgmt-containerregistry==3.0.0rc15, but you'll have azure-mgmt-containerregistry 2.8.0 which is incompatible.\u001b[0m\n",
            "\u001b[31mERROR: azure-cli 2.14.2 has requirement azure-mgmt-keyvault==7.0.0b3, but you'll have azure-mgmt-keyvault 2.2.0 which is incompatible.\u001b[0m\n",
            "\u001b[31mERROR: azure-cli 2.14.2 has requirement cryptography<3.0.0,>=2.3.1, but you'll have cryptography 3.1.1 which is incompatible.\u001b[0m\n",
            "\u001b[31mERROR: azure-cli 2.14.2 has requirement pytz==2019.1, but you'll have pytz 2020.4 which is incompatible.\u001b[0m\n",
            "\u001b[31mERROR: azure-cli 2.14.2 has requirement websocket-client~=0.56.0, but you'll have websocket-client 0.57.0 which is incompatible.\u001b[0m\n",
            "\u001b[31mERROR: azure-cli-core 2.14.2 has requirement azure-mgmt-resource==10.2.0, but you'll have azure-mgmt-resource 10.3.0 which is incompatible.\u001b[0m\n",
            "\u001b[31mERROR: azure-cli-core 2.14.2 has requirement msal~=1.0.0, but you'll have msal 1.6.0 which is incompatible.\u001b[0m\n",
            "\u001b[31mERROR: azure-cli-core 2.14.2 has requirement msal-extensions~=0.1.3, but you'll have msal-extensions 0.2.2 which is incompatible.\u001b[0m\n",
            "Installing collected packages: cryptography\n",
            "  Attempting uninstall: cryptography\n",
            "    Found existing installation: cryptography 3.2.1\n",
            "    Uninstalling cryptography-3.2.1:\n",
            "      Successfully uninstalled cryptography-3.2.1\n",
            "Successfully installed cryptography-3.1.1\n"
          ]
        }
      ],
      "execution_count": 11,
      "metadata": {
        "collapsed": true,
        "jupyter": {
          "source_hidden": false,
          "outputs_hidden": false
        },
        "nteract": {
          "transient": {
            "deleting": false
          }
        },
        "gather": {
          "logged": 1605305488449
        }
      }
    },
    {
      "cell_type": "code",
      "source": [
        "# TODO: Put your automl settings here\n",
        "automl_settings = {\"experiment_timeout_minutes\":30,\n",
        "    \"task\":\"classification\",\n",
        "    \"primary_metric\":\"accuracy\",\n",
        "    \"training_data\":df_modified,\n",
        "    \"label_column_name\":\"Sentiment\",\n",
        "    \"n_cross_validations\":3}\n",
        "\n",
        "# TODO: Put your automl config here\n",
        "automl_config = AutoMLConfig(**automl_settings)"
      ],
      "outputs": [],
      "execution_count": 12,
      "metadata": {
        "gather": {
          "logged": 1605305488520
        },
        "jupyter": {
          "outputs_hidden": false,
          "source_hidden": false
        },
        "nteract": {
          "transient": {
            "deleting": false
          }
        }
      }
    },
    {
      "cell_type": "markdown",
      "source": [
        "## Submit Experiment & Run Details\n",
        "\n",
        "OPTIONAL: Write about the different models trained and their performance. Why do you think some models did better than others?\n",
        "\n",
        "TODO: In the cell below, use the `RunDetails` widget to show the different experiments."
      ],
      "metadata": {
        "nteract": {
          "transient": {
            "deleting": false
          }
        }
      }
    },
    {
      "cell_type": "code",
      "source": [
        "# TODO: Submit your experiment\n",
        "automl_run = experiment.submit(automl_config, show_output=True)\n",
        "RunDetails(automl_run).show()\n",
        "automl_run.wait_for_completion(show_output=False)"
      ],
      "outputs": [
        {
          "output_type": "stream",
          "name": "stdout",
          "text": [
            "Running on local machine\n",
            "Parent Run ID: AutoML_d647f8eb-13c0-4f74-ade7-65c5c6bbe32c\n",
            "\n",
            "Current status: DatasetEvaluation. Gathering dataset statistics.\n",
            "Current status: FeaturesGeneration. Generating features for the dataset.\n",
            "Current status: DatasetFeaturization. Beginning to fit featurizers and featurize the dataset.\n",
            "Current status: DatasetFeaturizationCompleted. Completed fit featurizers and featurizing the dataset.\n",
            "Current status: DatasetCrossValidationSplit. Generating individually featurized CV splits.\n",
            "\n",
            "********************************************************************************************************************\n",
            "DATA GUARDRAILS: \n",
            "\n",
            "TYPE:         Class balancing detection\n",
            "STATUS:       PASSED\n",
            "DESCRIPTION:  Your inputs were analyzed, and all classes are balanced in your training data.\n",
            "              Learn more about imbalanced data: https://aka.ms/AutomatedMLImbalancedData\n",
            "\n",
            "********************************************************************************************************************\n",
            "\n",
            "TYPE:         Missing feature values imputation\n",
            "STATUS:       PASSED\n",
            "DESCRIPTION:  No feature missing values were detected in the training data.\n",
            "              Learn more about missing value imputation: https://aka.ms/AutomatedMLFeaturization\n",
            "\n",
            "********************************************************************************************************************\n",
            "\n",
            "TYPE:         High cardinality feature detection\n",
            "STATUS:       DONE\n",
            "DESCRIPTION:  High cardinality features were detected in your inputs and handled.\n",
            "              Learn more about high cardinality feature handling: https://aka.ms/AutomatedMLFeaturization\n",
            "DETAILS:      High cardinality features refer to columns that contain a large percentage of unique values.\n",
            "+--------------------------------------+--------------------------------------+\n",
            "|Column name                           |Column Content Type                   |\n",
            "+======================================+======================================+\n",
            "|OriginalTweet                         |text                                  |\n",
            "+--------------------------------------+--------------------------------------+\n",
            "\n",
            "********************************************************************************************************************\n",
            "Current status: ModelSelection. Beginning model selection.\n",
            "\n",
            "********************************************************************************************************************\n",
            "ITERATION: The iteration being evaluated.\n",
            "PIPELINE: A summary description of the pipeline being evaluated.\n",
            "SAMPLING %: Percent of the training data to sample.\n",
            "DURATION: Time taken for the current iteration.\n",
            "METRIC: The result of computing score on the fitted pipeline.\n",
            "BEST: The best observed score thus far.\n",
            "********************************************************************************************************************\n",
            "\n",
            " ITERATION   PIPELINE                                       SAMPLING %  DURATION      METRIC      BEST\n",
            "         0   MaxAbsScaler LightGBM                          5.0000      0:04:48       0.7087    0.7087\n",
            "         1   MaxAbsScaler XGBoostClassifier                 5.0000      0:09:57       0.7044    0.7087\n",
            "         2   MaxAbsScaler RandomForest                      5.0000      0:01:56       0.6273    0.7087\n",
            "         3   MaxAbsScaler RandomForest                      5.0000      0:01:56       0.6259    0.7087\n",
            "         4   MaxAbsScaler SGD                               5.0000      0:02:00       0.7072    0.7087\n",
            "         5   MaxAbsScaler SGD                               5.0000      0:02:05       0.7047    0.7087\n",
            "         6   MaxAbsScaler ExtremeRandomTrees                5.0000      0:02:30       0.6974    0.7087\n",
            "         7   MaxAbsScaler RandomForest                      15.0000     0:01:56       0.6273    0.7087\n",
            "         8   VotingEnsemble                                 100.0000    0:01:55       0.7247    0.7247\n",
            "         9   StackEnsemble                                  100.0000    0:01:57       0.7270    0.7270\n",
            "Stopping criteria reached at iteration 10. Ending experiment.\n",
            "********************************************************************************************************************\n",
            "Current status: BestRunExplainModel. Best run model explanations started\n",
            "Current status: ModelExplanationDataSetSetup. Model explanations data setup completed\n",
            "Current status: PickSurrogateModel. Choosing LinearModel as the surrogate model for explanations\n",
            "Current status: EngineeredFeatureExplanations. Computation of engineered features started\n",
            "Current status: EngineeredFeatureExplanations. Computation of engineered features completed\n",
            "Current status: RawFeaturesExplanations. Computation of raw features started\n",
            "Current status: RawFeaturesExplanations. Computation of raw features completed\n",
            "Current status: BestRunExplainModel. Best run model explanations completed\n",
            "********************************************************************************************************************\n"
          ]
        },
        {
          "output_type": "stream",
          "name": "stderr",
          "text": [
            "WARNING - Connection pool is full, discarding connection: mlstrg126026.blob.core.windows.net\n",
            "WARNING - Connection pool is full, discarding connection: mlstrg126026.blob.core.windows.net\n",
            "WARNING - Connection pool is full, discarding connection: mlstrg126026.blob.core.windows.net\n",
            "WARNING - Connection pool is full, discarding connection: mlstrg126026.blob.core.windows.net\n",
            "WARNING - Connection pool is full, discarding connection: mlstrg126026.blob.core.windows.net\n",
            "WARNING - Connection pool is full, discarding connection: mlstrg126026.blob.core.windows.net\n",
            "WARNING - Connection pool is full, discarding connection: mlstrg126026.blob.core.windows.net\n",
            "WARNING - Connection pool is full, discarding connection: mlstrg126026.blob.core.windows.net\n",
            "WARNING - Connection pool is full, discarding connection: mlstrg126026.blob.core.windows.net\n",
            "WARNING - Connection pool is full, discarding connection: mlstrg126026.blob.core.windows.net\n",
            "WARNING - Connection pool is full, discarding connection: mlstrg126026.blob.core.windows.net\n",
            "WARNING - Connection pool is full, discarding connection: mlstrg126026.blob.core.windows.net\n",
            "WARNING - Connection pool is full, discarding connection: mlstrg126026.blob.core.windows.net\n",
            "WARNING - Connection pool is full, discarding connection: mlstrg126026.blob.core.windows.net\n",
            "WARNING - Connection pool is full, discarding connection: mlstrg126026.blob.core.windows.net\n",
            "WARNING - Connection pool is full, discarding connection: mlstrg126026.blob.core.windows.net\n",
            "WARNING - Connection pool is full, discarding connection: mlstrg126026.blob.core.windows.net\n",
            "WARNING - Connection pool is full, discarding connection: mlstrg126026.blob.core.windows.net\n",
            "WARNING - Connection pool is full, discarding connection: mlstrg126026.blob.core.windows.net\n",
            "WARNING - Connection pool is full, discarding connection: mlstrg126026.blob.core.windows.net\n",
            "WARNING - Connection pool is full, discarding connection: mlstrg126026.blob.core.windows.net\n",
            "WARNING - Connection pool is full, discarding connection: mlstrg126026.blob.core.windows.net\n",
            "WARNING - Connection pool is full, discarding connection: mlstrg126026.blob.core.windows.net\n",
            "WARNING - Connection pool is full, discarding connection: mlstrg126026.blob.core.windows.net\n",
            "WARNING - Connection pool is full, discarding connection: mlstrg126026.blob.core.windows.net\n",
            "WARNING - Connection pool is full, discarding connection: mlstrg126026.blob.core.windows.net\n",
            "WARNING - Connection pool is full, discarding connection: mlstrg126026.blob.core.windows.net\n",
            "WARNING - Connection pool is full, discarding connection: mlstrg126026.blob.core.windows.net\n"
          ]
        },
        {
          "output_type": "display_data",
          "data": {
            "text/plain": "_AutoMLWidget(widget_settings={'childWidgetDisplay': 'popup', 'send_telemetry': False, 'log_level': 'INFO', 's…",
            "application/vnd.jupyter.widget-view+json": {
              "version_major": 2,
              "version_minor": 0,
              "model_id": "40891cb0ae194356a4852bd601240d2c"
            }
          },
          "metadata": {}
        },
        {
          "output_type": "display_data",
          "data": {
            "application/aml.mini.widget.v1": "{\"status\": \"Completed\", \"workbench_run_details_uri\": \"https://ml.azure.com/experiments/capstone-automl/runs/AutoML_d647f8eb-13c0-4f74-ade7-65c5c6bbe32c?wsid=/subscriptions/3ec87f2b-33cf-4aed-b36f-750175813524/resourcegroups/aml-quickstarts-126026/workspaces/quick-starts-ws-126026\", \"run_id\": \"AutoML_d647f8eb-13c0-4f74-ade7-65c5c6bbe32c\", \"run_properties\": {\"run_id\": \"AutoML_d647f8eb-13c0-4f74-ade7-65c5c6bbe32c\", \"created_utc\": \"2020-11-13T22:11:55.502547Z\", \"properties\": {\"num_iterations\": \"1000\", \"training_type\": \"TrainFull\", \"acquisition_function\": \"EI\", \"primary_metric\": \"accuracy\", \"train_split\": \"0\", \"acquisition_parameter\": \"0\", \"num_cross_validation\": \"3\", \"target\": \"local\", \"AMLSettingsJsonString\": \"{\\\"path\\\":null,\\\"name\\\":\\\"capstone-automl\\\",\\\"subscription_id\\\":\\\"3ec87f2b-33cf-4aed-b36f-750175813524\\\",\\\"resource_group\\\":\\\"aml-quickstarts-126026\\\",\\\"workspace_name\\\":\\\"quick-starts-ws-126026\\\",\\\"region\\\":\\\"southcentralus\\\",\\\"compute_target\\\":\\\"local\\\",\\\"spark_service\\\":null,\\\"azure_service\\\":\\\"Microsoft.AzureNotebookVM\\\",\\\"_local_managed_run_id\\\":null,\\\"many_models\\\":false,\\\"pipeline_fetch_max_batch_size\\\":1,\\\"iterations\\\":1000,\\\"primary_metric\\\":\\\"accuracy\\\",\\\"task_type\\\":\\\"classification\\\",\\\"data_script\\\":null,\\\"validation_size\\\":0.0,\\\"n_cross_validations\\\":3,\\\"y_min\\\":null,\\\"y_max\\\":null,\\\"num_classes\\\":2,\\\"featurization\\\":\\\"auto\\\",\\\"_ignore_package_version_incompatibilities\\\":false,\\\"is_timeseries\\\":false,\\\"max_cores_per_iteration\\\":1,\\\"max_concurrent_iterations\\\":1,\\\"iteration_timeout_minutes\\\":null,\\\"mem_in_mb\\\":null,\\\"enforce_time_on_windows\\\":false,\\\"experiment_timeout_minutes\\\":30,\\\"experiment_exit_score\\\":null,\\\"whitelist_models\\\":null,\\\"blacklist_algos\\\":[\\\"TensorFlowLinearClassifier\\\",\\\"TensorFlowDNN\\\"],\\\"supported_models\\\":[\\\"DecisionTree\\\",\\\"ExtremeRandomTrees\\\",\\\"RandomForest\\\",\\\"LogisticRegression\\\",\\\"LightGBM\\\",\\\"AveragedPerceptronClassifier\\\",\\\"TensorFlowDNN\\\",\\\"LinearSVM\\\",\\\"SVM\\\",\\\"KNN\\\",\\\"SGD\\\",\\\"XGBoostClassifier\\\",\\\"BernoulliNaiveBayes\\\",\\\"MultinomialNaiveBayes\\\",\\\"TensorFlowLinearClassifier\\\",\\\"GradientBoosting\\\"],\\\"auto_blacklist\\\":true,\\\"blacklist_samples_reached\\\":false,\\\"exclude_nan_labels\\\":true,\\\"verbosity\\\":20,\\\"_debug_log\\\":\\\"automl.log\\\",\\\"show_warnings\\\":false,\\\"model_explainability\\\":true,\\\"service_url\\\":null,\\\"sdk_url\\\":null,\\\"sdk_packages\\\":null,\\\"enable_onnx_compatible_models\\\":false,\\\"enable_split_onnx_featurizer_estimator_models\\\":false,\\\"vm_type\\\":null,\\\"telemetry_verbosity\\\":20,\\\"send_telemetry\\\":true,\\\"enable_dnn\\\":false,\\\"scenario\\\":\\\"SDK-1.13.0\\\",\\\"environment_label\\\":null,\\\"force_text_dnn\\\":false,\\\"enable_feature_sweeping\\\":true,\\\"enable_early_stopping\\\":false,\\\"early_stopping_n_iters\\\":10,\\\"metrics\\\":null,\\\"enable_ensembling\\\":true,\\\"enable_stack_ensembling\\\":true,\\\"ensemble_iterations\\\":15,\\\"enable_tf\\\":false,\\\"enable_subsampling\\\":null,\\\"subsample_seed\\\":null,\\\"enable_nimbusml\\\":false,\\\"enable_streaming\\\":false,\\\"force_streaming\\\":false,\\\"track_child_runs\\\":true,\\\"allowed_private_models\\\":[],\\\"label_column_name\\\":\\\"Sentiment\\\",\\\"weight_column_name\\\":null,\\\"cv_split_column_names\\\":null,\\\"enable_local_managed\\\":false,\\\"cost_mode\\\":1,\\\"lag_length\\\":0,\\\"metric_operation\\\":\\\"maximize\\\",\\\"preprocess\\\":true}\", \"DataPrepJsonString\": null, \"EnableSubsampling\": null, \"runTemplate\": \"AutoML\", \"azureml.runsource\": \"automl\", \"display_task_type\": \"classification\", \"dependencies_versions\": \"{\\\"azureml-widgets\\\": \\\"1.18.0\\\", \\\"azureml-train\\\": \\\"1.18.0\\\", \\\"azureml-train-restclients-hyperdrive\\\": \\\"1.18.0\\\", \\\"azureml-train-core\\\": \\\"1.18.0\\\", \\\"azureml-train-automl\\\": \\\"1.18.0\\\", \\\"azureml-train-automl-runtime\\\": \\\"1.18.0\\\", \\\"azureml-train-automl-client\\\": \\\"1.18.0\\\", \\\"azureml-tensorboard\\\": \\\"1.18.0\\\", \\\"azureml-telemetry\\\": \\\"1.18.0\\\", \\\"azureml-sdk\\\": \\\"1.18.0\\\", \\\"azureml-samples\\\": \\\"0+unknown\\\", \\\"azureml-pipeline\\\": \\\"1.18.0\\\", \\\"azureml-pipeline-steps\\\": \\\"1.18.0\\\", \\\"azureml-pipeline-core\\\": \\\"1.18.0\\\", \\\"azureml-opendatasets\\\": \\\"1.18.0\\\", \\\"azureml-model-management-sdk\\\": \\\"1.0.1b6.post1\\\", \\\"azureml-mlflow\\\": \\\"1.18.0\\\", \\\"azureml-interpret\\\": \\\"1.18.0\\\", \\\"azureml-explain-model\\\": \\\"1.18.0\\\", \\\"azureml-defaults\\\": \\\"1.18.0\\\", \\\"azureml-dataset-runtime\\\": \\\"1.18.0\\\", \\\"azureml-dataprep\\\": \\\"2.4.2\\\", \\\"azureml-dataprep-rslex\\\": \\\"1.2.2\\\", \\\"azureml-dataprep-native\\\": \\\"24.0.0\\\", \\\"azureml-datadrift\\\": \\\"1.18.0\\\", \\\"azureml-core\\\": \\\"1.18.0\\\", \\\"azureml-contrib-services\\\": \\\"1.18.0\\\", \\\"azureml-contrib-server\\\": \\\"1.18.0\\\", \\\"azureml-contrib-reinforcementlearning\\\": \\\"1.18.0\\\", \\\"azureml-contrib-pipeline-steps\\\": \\\"1.18.0\\\", \\\"azureml-contrib-notebook\\\": \\\"1.18.0\\\", \\\"azureml-contrib-interpret\\\": \\\"1.18.0\\\", \\\"azureml-contrib-gbdt\\\": \\\"1.18.0\\\", \\\"azureml-contrib-fairness\\\": \\\"1.18.0\\\", \\\"azureml-contrib-dataset\\\": \\\"1.18.0\\\", \\\"azureml-cli-common\\\": \\\"1.18.0\\\", \\\"azureml-automl-runtime\\\": \\\"1.18.0\\\", \\\"azureml-automl-core\\\": \\\"1.18.0\\\", \\\"azureml-accel-models\\\": \\\"1.18.0\\\"}\", \"_aml_system_scenario_identification\": \"Local.Parent\", \"ClientSdkVersion\": \"1.18.0\", \"ClientType\": \"SDK\", \"environment_cpu_name\": \"AzureML-AutoML\", \"environment_cpu_version\": \"44\", \"environment_gpu_name\": \"AzureML-AutoML-GPU\", \"environment_gpu_version\": \"32\", \"root_attribution\": \"automl\", \"attribution\": \"AutoML\", \"Orchestrator\": \"AutoML\", \"_azureml.ComputeTargetType\": \"local\", \"ProblemInfoJsonString\": \"{\\\"dataset_num_categorical\\\": 0, \\\"is_sparse\\\": true, \\\"subsampling\\\": true, \\\"dataset_classes\\\": 2, \\\"dataset_features\\\": 623416, \\\"dataset_samples\\\": 41155, \\\"single_frequency_class_detected\\\": false}\", \"feature_skus\": \"automatedml_sdk_guardrails\"}, \"tags\": {\"model_explain_run\": \"best_run\", \"best_score\": \"0.7270078803811589\", \"best_pipeline\": \"StackEnsemble\", \"automl_best_child_run_id\": \"AutoML_d647f8eb-13c0-4f74-ade7-65c5c6bbe32c_9\", \"model_explain_best_run_child_id\": \"AutoML_d647f8eb-13c0-4f74-ade7-65c5c6bbe32c_9\"}, \"end_time_utc\": \"2020-11-13T22:47:32.870917Z\", \"status\": \"Completed\", \"log_files\": {}, \"log_groups\": [], \"run_duration\": \"0:35:37\"}, \"child_runs\": [{\"run_id\": \"AutoML_d647f8eb-13c0-4f74-ade7-65c5c6bbe32c_0\", \"run_number\": 2, \"metric\": null, \"status\": \"Completed\", \"run_type\": null, \"training_percent\": \"5\", \"start_time\": \"2020-11-13T22:16:15.863533Z\", \"end_time\": \"2020-11-13T22:21:03.814964Z\", \"created_time\": \"2020-11-13T22:16:15.748997Z\", \"created_time_dt\": \"2020-11-13T22:16:15.748997Z\", \"duration\": \"0:04:48\", \"iteration\": \"0\", \"goal\": \"accuracy_max\", \"run_name\": \"MaxAbsScaler, LightGBM\", \"run_properties\": \"copy=True\", \"primary_metric\": 0.70866253, \"best_metric\": 0.70866253}, {\"run_id\": \"AutoML_d647f8eb-13c0-4f74-ade7-65c5c6bbe32c_1\", \"run_number\": 3, \"metric\": null, \"status\": \"Completed\", \"run_type\": null, \"training_percent\": \"5\", \"start_time\": \"2020-11-13T22:21:05.113659Z\", \"end_time\": \"2020-11-13T22:31:02.893203Z\", \"created_time\": \"2020-11-13T22:21:04.082196Z\", \"created_time_dt\": \"2020-11-13T22:21:04.082196Z\", \"duration\": \"0:09:58\", \"iteration\": \"1\", \"goal\": \"accuracy_max\", \"run_name\": \"MaxAbsScaler, XGBoostClassifier\", \"run_properties\": \"copy=True\", \"primary_metric\": 0.70438618, \"best_metric\": 0.70866253}, {\"run_id\": \"AutoML_d647f8eb-13c0-4f74-ade7-65c5c6bbe32c_2\", \"run_number\": 4, \"metric\": null, \"status\": \"Completed\", \"run_type\": null, \"training_percent\": \"5\", \"start_time\": \"2020-11-13T22:31:03.753445Z\", \"end_time\": \"2020-11-13T22:32:59.873551Z\", \"created_time\": \"2020-11-13T22:31:03.643028Z\", \"created_time_dt\": \"2020-11-13T22:31:03.643028Z\", \"duration\": \"0:01:56\", \"iteration\": \"2\", \"goal\": \"accuracy_max\", \"run_name\": \"MaxAbsScaler, RandomForest\", \"run_properties\": \"copy=True\", \"primary_metric\": 0.62731159, \"best_metric\": 0.70866253}, {\"run_id\": \"AutoML_d647f8eb-13c0-4f74-ade7-65c5c6bbe32c_3\", \"run_number\": 5, \"metric\": null, \"status\": \"Completed\", \"run_type\": null, \"training_percent\": \"5\", \"start_time\": \"2020-11-13T22:33:01.143476Z\", \"end_time\": \"2020-11-13T22:34:57.91146Z\", \"created_time\": \"2020-11-13T22:33:01.019175Z\", \"created_time_dt\": \"2020-11-13T22:33:01.019175Z\", \"duration\": \"0:01:56\", \"iteration\": \"3\", \"goal\": \"accuracy_max\", \"run_name\": \"MaxAbsScaler, RandomForest\", \"run_properties\": \"copy=True\", \"primary_metric\": 0.62585365, \"best_metric\": 0.70866253}, {\"run_id\": \"AutoML_d647f8eb-13c0-4f74-ade7-65c5c6bbe32c_4\", \"run_number\": 6, \"metric\": null, \"status\": \"Completed\", \"run_type\": null, \"training_percent\": \"5\", \"start_time\": \"2020-11-13T22:34:59.60128Z\", \"end_time\": \"2020-11-13T22:36:59.551783Z\", \"created_time\": \"2020-11-13T22:34:59.468561Z\", \"created_time_dt\": \"2020-11-13T22:34:59.468561Z\", \"duration\": \"0:02:00\", \"iteration\": \"4\", \"goal\": \"accuracy_max\", \"run_name\": \"MaxAbsScaler, SGD\", \"run_properties\": \"copy=True\", \"primary_metric\": 0.70722891, \"best_metric\": 0.70866253}, {\"run_id\": \"AutoML_d647f8eb-13c0-4f74-ade7-65c5c6bbe32c_5\", \"run_number\": 7, \"metric\": null, \"status\": \"Completed\", \"run_type\": null, \"training_percent\": \"5\", \"start_time\": \"2020-11-13T22:37:01.522142Z\", \"end_time\": \"2020-11-13T22:39:07.382849Z\", \"created_time\": \"2020-11-13T22:37:01.406447Z\", \"created_time_dt\": \"2020-11-13T22:37:01.406447Z\", \"duration\": \"0:02:05\", \"iteration\": \"5\", \"goal\": \"accuracy_max\", \"run_name\": \"MaxAbsScaler, SGD\", \"run_properties\": \"copy=True\", \"primary_metric\": 0.70472615, \"best_metric\": 0.70866253}, {\"run_id\": \"AutoML_d647f8eb-13c0-4f74-ade7-65c5c6bbe32c_6\", \"run_number\": 8, \"metric\": null, \"status\": \"Completed\", \"run_type\": null, \"training_percent\": \"5\", \"start_time\": \"2020-11-13T22:39:10.090277Z\", \"end_time\": \"2020-11-13T22:41:40.318191Z\", \"created_time\": \"2020-11-13T22:39:09.974878Z\", \"created_time_dt\": \"2020-11-13T22:39:09.974878Z\", \"duration\": \"0:02:30\", \"iteration\": \"6\", \"goal\": \"accuracy_max\", \"run_name\": \"MaxAbsScaler, ExtremeRandomTrees\", \"run_properties\": \"copy=True\", \"primary_metric\": 0.69738817, \"best_metric\": 0.70866253}, {\"run_id\": \"AutoML_d647f8eb-13c0-4f74-ade7-65c5c6bbe32c_7\", \"run_number\": 9, \"metric\": null, \"status\": \"Completed\", \"run_type\": null, \"training_percent\": \"15\", \"start_time\": \"2020-11-13T22:41:41.672964Z\", \"end_time\": \"2020-11-13T22:43:37.865712Z\", \"created_time\": \"2020-11-13T22:41:41.573611Z\", \"created_time_dt\": \"2020-11-13T22:41:41.573611Z\", \"duration\": \"0:01:56\", \"iteration\": \"7\", \"goal\": \"accuracy_max\", \"run_name\": \"MaxAbsScaler, RandomForest\", \"run_properties\": \"copy=True\", \"primary_metric\": 0.62726299, \"best_metric\": 0.70866253}, {\"run_id\": \"AutoML_d647f8eb-13c0-4f74-ade7-65c5c6bbe32c_8\", \"run_number\": 10, \"metric\": null, \"status\": \"Completed\", \"run_type\": null, \"training_percent\": \"100\", \"start_time\": \"2020-11-13T22:43:38.24742Z\", \"end_time\": \"2020-11-13T22:45:34.064975Z\", \"created_time\": \"2020-11-13T22:43:38.133903Z\", \"created_time_dt\": \"2020-11-13T22:43:38.133903Z\", \"duration\": \"0:01:55\", \"iteration\": \"8\", \"goal\": \"accuracy_max\", \"run_name\": \"VotingEnsemble\", \"run_properties\": \"classification_labels=None,\\n                              estimators=[('0',\\n                                           Pipeline(memory=None,\\n                                                    steps=[('maxabsscaler',\\n                                                            MaxAbsScaler(copy=True\", \"primary_metric\": 0.72474817, \"best_metric\": 0.72474817}, {\"run_id\": \"AutoML_d647f8eb-13c0-4f74-ade7-65c5c6bbe32c_9\", \"run_number\": 11, \"metric\": null, \"status\": \"Completed\", \"run_type\": null, \"training_percent\": \"100\", \"start_time\": \"2020-11-13T22:45:34.467874Z\", \"end_time\": \"2020-11-13T22:47:32.122901Z\", \"created_time\": \"2020-11-13T22:45:34.360029Z\", \"created_time_dt\": \"2020-11-13T22:45:34.360029Z\", \"duration\": \"0:01:57\", \"iteration\": \"9\", \"goal\": \"accuracy_max\", \"run_name\": \"StackEnsemble\", \"run_properties\": \"base_learners=[('0',\\n                                        Pipeline(memory=None,\\n                                                 steps=[('maxabsscaler',\\n                                                         MaxAbsScaler(copy=True\", \"primary_metric\": 0.72700788, \"best_metric\": 0.72700788}], \"children_metrics\": {\"categories\": [0], \"series\": {\"average_precision_score_micro\": [{\"categories\": [\"0\", \"1\", \"2\", \"3\", \"4\", \"5\", \"6\", \"7\", \"8\", \"9\"], \"mode\": \"markers\", \"name\": \"average_precision_score_micro\", \"stepped\": false, \"type\": \"scatter\", \"data\": [0.765843237011902, 0.7530412791541213, 0.6724388821984589, 0.6291795936895995, 0.7738445742524641, 0.7695522433084586, 0.7342906387884095, 0.6891531629502602, 0.7879635174713843, 0.7923140753122411]}, {\"categories\": [\"0\", \"1\", \"2\", \"3\", \"4\", \"5\", \"6\", \"7\", \"8\", \"9\"], \"mode\": \"lines\", \"name\": \"average_precision_score_micro_max\", \"stepped\": true, \"type\": \"scatter\", \"data\": [0.765843237011902, 0.765843237011902, 0.765843237011902, 0.765843237011902, 0.7738445742524641, 0.7738445742524641, 0.7738445742524641, 0.7738445742524641, 0.7879635174713843, 0.7923140753122411]}], \"weighted_accuracy\": [{\"categories\": [\"0\", \"1\", \"2\", \"3\", \"4\", \"5\", \"6\", \"7\", \"8\", \"9\"], \"mode\": \"markers\", \"name\": \"weighted_accuracy\", \"stepped\": false, \"type\": \"scatter\", \"data\": [0.7529679925933747, 0.7643255075539667, 0.7374551241026001, 0.7366191588730094, 0.7439714370541998, 0.7567627438013029, 0.7643758985079261, 0.7374785740933767, 0.7761165912486705, 0.76751619937897]}, {\"categories\": [\"0\", \"1\", \"2\", \"3\", \"4\", \"5\", \"6\", \"7\", \"8\", \"9\"], \"mode\": \"lines\", \"name\": \"weighted_accuracy_max\", \"stepped\": true, \"type\": \"scatter\", \"data\": [0.7529679925933747, 0.7643255075539667, 0.7643255075539667, 0.7643255075539667, 0.7643255075539667, 0.7643255075539667, 0.7643758985079261, 0.7643758985079261, 0.7761165912486705, 0.7761165912486705]}], \"norm_macro_recall\": [{\"categories\": [\"0\", \"1\", \"2\", \"3\", \"4\", \"5\", \"6\", \"7\", \"8\", \"9\"], \"mode\": \"markers\", \"name\": \"norm_macro_recall\", \"stepped\": false, \"type\": \"scatter\", \"data\": [0.3167880993238741, 0.27269529840562373, 0.004332206798688398, 0.0, 0.331043541081877, 0.2912580339059701, 0.24268815642384745, 0.004084889641612503, 0.3328711634242664, 0.3621549520324958]}, {\"categories\": [\"0\", \"1\", \"2\", \"3\", \"4\", \"5\", \"6\", \"7\", \"8\", \"9\"], \"mode\": \"lines\", \"name\": \"norm_macro_recall_max\", \"stepped\": true, \"type\": \"scatter\", \"data\": [0.3167880993238741, 0.3167880993238741, 0.3167880993238741, 0.3167880993238741, 0.331043541081877, 0.331043541081877, 0.331043541081877, 0.331043541081877, 0.3328711634242664, 0.3621549520324958]}], \"average_precision_score_macro\": [{\"categories\": [\"0\", \"1\", \"2\", \"3\", \"4\", \"5\", \"6\", \"7\", \"8\", \"9\"], \"mode\": \"markers\", \"name\": \"average_precision_score_macro\", \"stepped\": false, \"type\": \"scatter\", \"data\": [0.7312971591302627, 0.7173676397102412, 0.615018908863497, 0.5473595613026229, 0.7376728760450276, 0.7346846787821204, 0.6958763214523415, 0.6356911556432706, 0.7600917308105055, 0.7616400147066772]}, {\"categories\": [\"0\", \"1\", \"2\", \"3\", \"4\", \"5\", \"6\", \"7\", \"8\", \"9\"], \"mode\": \"lines\", \"name\": \"average_precision_score_macro_max\", \"stepped\": true, \"type\": \"scatter\", \"data\": [0.7312971591302627, 0.7312971591302627, 0.7312971591302627, 0.7312971591302627, 0.7376728760450276, 0.7376728760450276, 0.7376728760450276, 0.7376728760450276, 0.7600917308105055, 0.7616400147066772]}], \"accuracy\": [{\"categories\": [\"0\", \"1\", \"2\", \"3\", \"4\", \"5\", \"6\", \"7\", \"8\", \"9\"], \"mode\": \"markers\", \"name\": \"accuracy\", \"stepped\": false, \"type\": \"scatter\", \"data\": [0.7086625282921699, 0.704386177986604, 0.6273115876303154, 0.6258536526977019, 0.7072289100460534, 0.7047261475454212, 0.6973881671797649, 0.6272629932235315, 0.7247481731604406, 0.7270078803811589]}, {\"categories\": [\"0\", \"1\", \"2\", \"3\", \"4\", \"5\", \"6\", \"7\", \"8\", \"9\"], \"mode\": \"lines\", \"name\": \"accuracy_max\", \"stepped\": true, \"type\": \"scatter\", \"data\": [0.7086625282921699, 0.7086625282921699, 0.7086625282921699, 0.7086625282921699, 0.7086625282921699, 0.7086625282921699, 0.7086625282921699, 0.7086625282921699, 0.7247481731604406, 0.7270078803811589]}], \"precision_score_macro\": [{\"categories\": [\"0\", \"1\", \"2\", \"3\", \"4\", \"5\", \"6\", \"7\", \"8\", \"9\"], \"mode\": \"markers\", \"name\": \"precision_score_macro\", \"stepped\": false, \"type\": \"scatter\", \"data\": [0.693658722946242, 0.7042833779278631, 0.7110047434161784, 0.31292682634885094, 0.6874575368843686, 0.6957197715358564, 0.7055635987416459, 0.5858976564170449, 0.7231127180056937, 0.7155438742949821]}, {\"categories\": [\"0\", \"1\", \"2\", \"3\", \"4\", \"5\", \"6\", \"7\", \"8\", \"9\"], \"mode\": \"lines\", \"name\": \"precision_score_macro_max\", \"stepped\": true, \"type\": \"scatter\", \"data\": [0.693658722946242, 0.7042833779278631, 0.7110047434161784, 0.7110047434161784, 0.7110047434161784, 0.7110047434161784, 0.7110047434161784, 0.7110047434161784, 0.7231127180056937, 0.7231127180056937]}], \"recall_score_micro\": [{\"categories\": [\"0\", \"1\", \"2\", \"3\", \"4\", \"5\", \"6\", \"7\", \"8\", \"9\"], \"mode\": \"markers\", \"name\": \"recall_score_micro\", \"stepped\": false, \"type\": \"scatter\", \"data\": [0.7086625282921699, 0.704386177986604, 0.6273115876303154, 0.6258536526977019, 0.7072289100460534, 0.7047261475454212, 0.6973881671797649, 0.6272629932235315, 0.7247481731604406, 0.7270078803811589]}, {\"categories\": [\"0\", \"1\", \"2\", \"3\", \"4\", \"5\", \"6\", \"7\", \"8\", \"9\"], \"mode\": \"lines\", \"name\": \"recall_score_micro_max\", \"stepped\": true, \"type\": \"scatter\", \"data\": [0.7086625282921699, 0.7086625282921699, 0.7086625282921699, 0.7086625282921699, 0.7086625282921699, 0.7086625282921699, 0.7086625282921699, 0.7086625282921699, 0.7247481731604406, 0.7270078803811589]}], \"average_precision_score_weighted\": [{\"categories\": [\"0\", \"1\", \"2\", \"3\", \"4\", \"5\", \"6\", \"7\", \"8\", \"9\"], \"mode\": \"markers\", \"name\": \"average_precision_score_weighted\", \"stepped\": false, \"type\": \"scatter\", \"data\": [0.7514669549549847, 0.7382656934145891, 0.6432820476613818, 0.5788793114442062, 0.7591320415075463, 0.7562315243838277, 0.7169134693480336, 0.6644837379833718, 0.7787016619403375, 0.7802613642784411]}, {\"categories\": [\"0\", \"1\", \"2\", \"3\", \"4\", \"5\", \"6\", \"7\", \"8\", \"9\"], \"mode\": \"lines\", \"name\": \"average_precision_score_weighted_max\", \"stepped\": true, \"type\": \"scatter\", \"data\": [0.7514669549549847, 0.7514669549549847, 0.7514669549549847, 0.7514669549549847, 0.7591320415075463, 0.7591320415075463, 0.7591320415075463, 0.7591320415075463, 0.7787016619403375, 0.7802613642784411]}], \"f1_score_macro\": [{\"categories\": [\"0\", \"1\", \"2\", \"3\", \"4\", \"5\", \"6\", \"7\", \"8\", \"9\"], \"mode\": \"markers\", \"name\": \"f1_score_macro\", \"stepped\": false, \"type\": \"scatter\", \"data\": [0.6631342367899973, 0.6363124761853659, 0.39012394330528477, 0.3849298976092643, 0.6704670980248864, 0.6483817926655945, 0.6160086352874979, 0.38961542579430586, 0.6721028578951765, 0.6871821257107232]}, {\"categories\": [\"0\", \"1\", \"2\", \"3\", \"4\", \"5\", \"6\", \"7\", \"8\", \"9\"], \"mode\": \"lines\", \"name\": \"f1_score_macro_max\", \"stepped\": true, \"type\": \"scatter\", \"data\": [0.6631342367899973, 0.6631342367899973, 0.6631342367899973, 0.6631342367899973, 0.6704670980248864, 0.6704670980248864, 0.6704670980248864, 0.6704670980248864, 0.6721028578951765, 0.6871821257107232]}], \"log_loss\": [{\"categories\": [\"0\", \"1\", \"2\", \"3\", \"4\", \"5\", \"6\", \"7\", \"8\", \"9\"], \"mode\": \"markers\", \"name\": \"log_loss\", \"stepped\": false, \"type\": \"scatter\", \"data\": [0.6489426155649136, 0.5798151118147867, 0.6454638777019326, 0.6589228447787739, 0.5709073879207883, 0.571130425216015, 0.5924787914190316, 0.6441696791544187, 0.5492432733302993, 0.548137416337081]}, {\"categories\": [\"0\", \"1\", \"2\", \"3\", \"4\", \"5\", \"6\", \"7\", \"8\", \"9\"], \"mode\": \"lines\", \"name\": \"log_loss_min\", \"stepped\": true, \"type\": \"scatter\", \"data\": [0.6489426155649136, 0.5798151118147867, 0.5798151118147867, 0.5798151118147867, 0.5709073879207883, 0.5709073879207883, 0.5709073879207883, 0.5709073879207883, 0.5492432733302993, 0.548137416337081]}], \"matthews_correlation\": [{\"categories\": [\"0\", \"1\", \"2\", \"3\", \"4\", \"5\", \"6\", \"7\", \"8\", \"9\"], \"mode\": \"markers\", \"name\": \"matthews_correlation\", \"stepped\": false, \"type\": \"scatter\", \"data\": [0.35009785670083454, 0.33347402909603224, 0.038745991538949434, 0.0, 0.3522686786322655, 0.33710390689720104, 0.31552316027140553, 0.032714709485922366, 0.38529575541527805, 0.39491073708609276]}, {\"categories\": [\"0\", \"1\", \"2\", \"3\", \"4\", \"5\", \"6\", \"7\", \"8\", \"9\"], \"mode\": \"lines\", \"name\": \"matthews_correlation_max\", \"stepped\": true, \"type\": \"scatter\", \"data\": [0.35009785670083454, 0.35009785670083454, 0.35009785670083454, 0.35009785670083454, 0.3522686786322655, 0.3522686786322655, 0.3522686786322655, 0.3522686786322655, 0.38529575541527805, 0.39491073708609276]}], \"AUC_micro\": [{\"categories\": [\"0\", \"1\", \"2\", \"3\", \"4\", \"5\", \"6\", \"7\", \"8\", \"9\"], \"mode\": \"markers\", \"name\": \"AUC_micro\", \"stepped\": false, \"type\": \"scatter\", \"data\": [0.7757930055921928, 0.7653614285072593, 0.6871586344982186, 0.6539321761510674, 0.7799455489458701, 0.7763499595839636, 0.7526601237277117, 0.6986510747408828, 0.796130634516901, 0.7998191506859716]}, {\"categories\": [\"0\", \"1\", \"2\", \"3\", \"4\", \"5\", \"6\", \"7\", \"8\", \"9\"], \"mode\": \"lines\", \"name\": \"AUC_micro_max\", \"stepped\": true, \"type\": \"scatter\", \"data\": [0.7757930055921928, 0.7757930055921928, 0.7757930055921928, 0.7757930055921928, 0.7799455489458701, 0.7799455489458701, 0.7799455489458701, 0.7799455489458701, 0.796130634516901, 0.7998191506859716]}], \"recall_score_macro\": [{\"categories\": [\"0\", \"1\", \"2\", \"3\", \"4\", \"5\", \"6\", \"7\", \"8\", \"9\"], \"mode\": \"markers\", \"name\": \"recall_score_macro\", \"stepped\": false, \"type\": \"scatter\", \"data\": [0.658394049661937, 0.6363476492028118, 0.5021661033993442, 0.5, 0.6655217705409385, 0.6456290169529851, 0.6213440782119237, 0.5020424448208063, 0.6664355817121332, 0.6810774760162479]}, {\"categories\": [\"0\", \"1\", \"2\", \"3\", \"4\", \"5\", \"6\", \"7\", \"8\", \"9\"], \"mode\": \"lines\", \"name\": \"recall_score_macro_max\", \"stepped\": true, \"type\": \"scatter\", \"data\": [0.658394049661937, 0.658394049661937, 0.658394049661937, 0.658394049661937, 0.6655217705409385, 0.6655217705409385, 0.6655217705409385, 0.6655217705409385, 0.6664355817121332, 0.6810774760162479]}], \"recall_score_weighted\": [{\"categories\": [\"0\", \"1\", \"2\", \"3\", \"4\", \"5\", \"6\", \"7\", \"8\", \"9\"], \"mode\": \"markers\", \"name\": \"recall_score_weighted\", \"stepped\": false, \"type\": \"scatter\", \"data\": [0.7086625282921699, 0.7043861779866041, 0.6273115876303154, 0.6258536526977019, 0.7072289100460534, 0.7047261475454212, 0.6973881671797649, 0.6272629932235315, 0.7247481731604406, 0.7270078803811589]}, {\"categories\": [\"0\", \"1\", \"2\", \"3\", \"4\", \"5\", \"6\", \"7\", \"8\", \"9\"], \"mode\": \"lines\", \"name\": \"recall_score_weighted_max\", \"stepped\": true, \"type\": \"scatter\", \"data\": [0.7086625282921699, 0.7086625282921699, 0.7086625282921699, 0.7086625282921699, 0.7086625282921699, 0.7086625282921699, 0.7086625282921699, 0.7086625282921699, 0.7247481731604406, 0.7270078803811589]}], \"f1_score_weighted\": [{\"categories\": [\"0\", \"1\", \"2\", \"3\", \"4\", \"5\", \"6\", \"7\", \"8\", \"9\"], \"mode\": \"markers\", \"name\": \"f1_score_weighted\", \"stepped\": false, \"type\": \"scatter\", \"data\": [0.694167030068055, 0.6757580330167818, 0.4858694025054473, 0.48184751017687494, 0.6981305714422806, 0.6836678460175424, 0.6603433671589451, 0.4854523362903393, 0.7050828030383464, 0.7151090548818143]}, {\"categories\": [\"0\", \"1\", \"2\", \"3\", \"4\", \"5\", \"6\", \"7\", \"8\", \"9\"], \"mode\": \"lines\", \"name\": \"f1_score_weighted_max\", \"stepped\": true, \"type\": \"scatter\", \"data\": [0.694167030068055, 0.694167030068055, 0.694167030068055, 0.694167030068055, 0.6981305714422806, 0.6981305714422806, 0.6981305714422806, 0.6981305714422806, 0.7050828030383464, 0.7151090548818143]}], \"precision_score_micro\": [{\"categories\": [\"0\", \"1\", \"2\", \"3\", \"4\", \"5\", \"6\", \"7\", \"8\", \"9\"], \"mode\": \"markers\", \"name\": \"precision_score_micro\", \"stepped\": false, \"type\": \"scatter\", \"data\": [0.7086625282921699, 0.704386177986604, 0.6273115876303154, 0.6258536526977019, 0.7072289100460534, 0.7047261475454212, 0.6973881671797649, 0.6272629932235315, 0.7247481731604406, 0.7270078803811589]}, {\"categories\": [\"0\", \"1\", \"2\", \"3\", \"4\", \"5\", \"6\", \"7\", \"8\", \"9\"], \"mode\": \"lines\", \"name\": \"precision_score_micro_max\", \"stepped\": true, \"type\": \"scatter\", \"data\": [0.7086625282921699, 0.7086625282921699, 0.7086625282921699, 0.7086625282921699, 0.7086625282921699, 0.7086625282921699, 0.7086625282921699, 0.7086625282921699, 0.7247481731604406, 0.7270078803811589]}], \"balanced_accuracy\": [{\"categories\": [\"0\", \"1\", \"2\", \"3\", \"4\", \"5\", \"6\", \"7\", \"8\", \"9\"], \"mode\": \"markers\", \"name\": \"balanced_accuracy\", \"stepped\": false, \"type\": \"scatter\", \"data\": [0.658394049661937, 0.6363476492028118, 0.5021661033993442, 0.5, 0.6655217705409385, 0.6456290169529851, 0.6213440782119237, 0.5020424448208063, 0.6664355817121332, 0.6810774760162479]}, {\"categories\": [\"0\", \"1\", \"2\", \"3\", \"4\", \"5\", \"6\", \"7\", \"8\", \"9\"], \"mode\": \"lines\", \"name\": \"balanced_accuracy_max\", \"stepped\": true, \"type\": \"scatter\", \"data\": [0.658394049661937, 0.658394049661937, 0.658394049661937, 0.658394049661937, 0.6655217705409385, 0.6655217705409385, 0.6655217705409385, 0.6655217705409385, 0.6664355817121332, 0.6810774760162479]}], \"precision_score_weighted\": [{\"categories\": [\"0\", \"1\", \"2\", \"3\", \"4\", \"5\", \"6\", \"7\", \"8\", \"9\"], \"mode\": \"markers\", \"name\": \"precision_score_weighted\", \"stepped\": false, \"type\": \"scatter\", \"data\": [0.7020087419821502, 0.7046724715272594, 0.6897793770801562, 0.39172975240389424, 0.6996167811891366, 0.7005637075628401, 0.702855012978142, 0.5940557411089157, 0.7241007590072431, 0.7225064846163689]}, {\"categories\": [\"0\", \"1\", \"2\", \"3\", \"4\", \"5\", \"6\", \"7\", \"8\", \"9\"], \"mode\": \"lines\", \"name\": \"precision_score_weighted_max\", \"stepped\": true, \"type\": \"scatter\", \"data\": [0.7020087419821502, 0.7046724715272594, 0.7046724715272594, 0.7046724715272594, 0.7046724715272594, 0.7046724715272594, 0.7046724715272594, 0.7046724715272594, 0.7241007590072431, 0.7241007590072431]}], \"f1_score_micro\": [{\"categories\": [\"0\", \"1\", \"2\", \"3\", \"4\", \"5\", \"6\", \"7\", \"8\", \"9\"], \"mode\": \"markers\", \"name\": \"f1_score_micro\", \"stepped\": false, \"type\": \"scatter\", \"data\": [0.7086625282921699, 0.7043861779866041, 0.6273115876303154, 0.6258536526977019, 0.7072289100460534, 0.7047261475454212, 0.6973881671797649, 0.6272629932235315, 0.7247481731604406, 0.7270078803811589]}, {\"categories\": [\"0\", \"1\", \"2\", \"3\", \"4\", \"5\", \"6\", \"7\", \"8\", \"9\"], \"mode\": \"lines\", \"name\": \"f1_score_micro_max\", \"stepped\": true, \"type\": \"scatter\", \"data\": [0.7086625282921699, 0.7086625282921699, 0.7086625282921699, 0.7086625282921699, 0.7086625282921699, 0.7086625282921699, 0.7086625282921699, 0.7086625282921699, 0.7247481731604406, 0.7270078803811589]}], \"AUC_weighted\": [{\"categories\": [\"0\", \"1\", \"2\", \"3\", \"4\", \"5\", \"6\", \"7\", \"8\", \"9\"], \"mode\": \"markers\", \"name\": \"AUC_weighted\", \"stepped\": false, \"type\": \"scatter\", \"data\": [0.7417540739451353, 0.7299122285734495, 0.6309502415484977, 0.5598193972890798, 0.7501721856572532, 0.747317475001006, 0.7104796282263983, 0.6555920608015275, 0.770169148562759, 0.7717348974921473]}, {\"categories\": [\"0\", \"1\", \"2\", \"3\", \"4\", \"5\", \"6\", \"7\", \"8\", \"9\"], \"mode\": \"lines\", \"name\": \"AUC_weighted_max\", \"stepped\": true, \"type\": \"scatter\", \"data\": [0.7417540739451353, 0.7417540739451353, 0.7417540739451353, 0.7417540739451353, 0.7501721856572532, 0.7501721856572532, 0.7501721856572532, 0.7501721856572532, 0.770169148562759, 0.7717348974921473]}], \"AUC_macro\": [{\"categories\": [\"0\", \"1\", \"2\", \"3\", \"4\", \"5\", \"6\", \"7\", \"8\", \"9\"], \"mode\": \"markers\", \"name\": \"AUC_macro\", \"stepped\": false, \"type\": \"scatter\", \"data\": [0.7417540739451353, 0.7299122286373395, 0.6309502415484978, 0.5598193972890798, 0.7501721856572533, 0.747317475001006, 0.7104796277533435, 0.6555920608015274, 0.770169148562759, 0.7717348974921473]}, {\"categories\": [\"0\", \"1\", \"2\", \"3\", \"4\", \"5\", \"6\", \"7\", \"8\", \"9\"], \"mode\": \"lines\", \"name\": \"AUC_macro_max\", \"stepped\": true, \"type\": \"scatter\", \"data\": [0.7417540739451353, 0.7417540739451353, 0.7417540739451353, 0.7417540739451353, 0.7501721856572533, 0.7501721856572533, 0.7501721856572533, 0.7501721856572533, 0.770169148562759, 0.7717348974921473]}]}, \"metricName\": null, \"primaryMetricName\": \"accuracy\", \"showLegend\": false}, \"run_metrics\": [{\"name\": \"experiment_status\", \"run_id\": \"AutoML_d647f8eb-13c0-4f74-ade7-65c5c6bbe32c\", \"categories\": [0, 1, 2, 3, 4, 5, 6, 7, 8, 9, 10, 11, 12, 13], \"series\": [{\"data\": [\"DatasetEvaluation\", \"FeaturesGeneration\", \"DatasetFeaturization\", \"DatasetFeaturizationCompleted\", \"DatasetCrossValidationSplit\", \"ModelSelection\", \"BestRunExplainModel\", \"ModelExplanationDataSetSetup\", \"PickSurrogateModel\", \"EngineeredFeatureExplanations\", \"EngineeredFeatureExplanations\", \"RawFeaturesExplanations\", \"RawFeaturesExplanations\", \"BestRunExplainModel\"]}]}, {\"name\": \"experiment_status_description\", \"run_id\": \"AutoML_d647f8eb-13c0-4f74-ade7-65c5c6bbe32c\", \"categories\": [0, 1, 2, 3, 4, 5, 6, 7, 8, 9, 10, 11, 12, 13], \"series\": [{\"data\": [\"Gathering dataset statistics.\", \"Generating features for the dataset.\", \"Beginning to fit featurizers and featurize the dataset.\", \"Completed fit featurizers and featurizing the dataset.\", \"Generating individually featurized CV splits.\", \"Beginning model selection.\", \"Best run model explanations started\", \"Model explanations data setup completed\", \"Choosing LinearModel as the surrogate model for explanations\", \"Computation of engineered features started\", \"Computation of engineered features completed\", \"Computation of raw features started\", \"Computation of raw features completed\", \"Best run model explanations completed\"]}]}, {\"name\": \"average_precision_score_micro\", \"run_id\": \"AutoML_d647f8eb-13c0-4f74-ade7-65c5c6bbe32c\", \"categories\": [0], \"series\": [{\"data\": [0.7923140753122411]}]}, {\"name\": \"weighted_accuracy\", \"run_id\": \"AutoML_d647f8eb-13c0-4f74-ade7-65c5c6bbe32c\", \"categories\": [0], \"series\": [{\"data\": [0.76751619937897]}]}, {\"name\": \"norm_macro_recall\", \"run_id\": \"AutoML_d647f8eb-13c0-4f74-ade7-65c5c6bbe32c\", \"categories\": [0], \"series\": [{\"data\": [0.3621549520324958]}]}, {\"name\": \"average_precision_score_macro\", \"run_id\": \"AutoML_d647f8eb-13c0-4f74-ade7-65c5c6bbe32c\", \"categories\": [0], \"series\": [{\"data\": [0.7616400147066772]}]}, {\"name\": \"accuracy\", \"run_id\": \"AutoML_d647f8eb-13c0-4f74-ade7-65c5c6bbe32c\", \"categories\": [0], \"series\": [{\"data\": [0.7270078803811589]}]}, {\"name\": \"precision_score_macro\", \"run_id\": \"AutoML_d647f8eb-13c0-4f74-ade7-65c5c6bbe32c\", \"categories\": [0], \"series\": [{\"data\": [0.7155438742949821]}]}, {\"name\": \"recall_score_micro\", \"run_id\": \"AutoML_d647f8eb-13c0-4f74-ade7-65c5c6bbe32c\", \"categories\": [0], \"series\": [{\"data\": [0.7270078803811589]}]}, {\"name\": \"average_precision_score_weighted\", \"run_id\": \"AutoML_d647f8eb-13c0-4f74-ade7-65c5c6bbe32c\", \"categories\": [0], \"series\": [{\"data\": [0.7802613642784411]}]}, {\"name\": \"f1_score_macro\", \"run_id\": \"AutoML_d647f8eb-13c0-4f74-ade7-65c5c6bbe32c\", \"categories\": [0], \"series\": [{\"data\": [0.6871821257107232]}]}, {\"name\": \"log_loss\", \"run_id\": \"AutoML_d647f8eb-13c0-4f74-ade7-65c5c6bbe32c\", \"categories\": [0], \"series\": [{\"data\": [0.548137416337081]}]}, {\"name\": \"matthews_correlation\", \"run_id\": \"AutoML_d647f8eb-13c0-4f74-ade7-65c5c6bbe32c\", \"categories\": [0], \"series\": [{\"data\": [0.39491073708609276]}]}, {\"name\": \"AUC_micro\", \"run_id\": \"AutoML_d647f8eb-13c0-4f74-ade7-65c5c6bbe32c\", \"categories\": [0], \"series\": [{\"data\": [0.7998191506859716]}]}, {\"name\": \"recall_score_macro\", \"run_id\": \"AutoML_d647f8eb-13c0-4f74-ade7-65c5c6bbe32c\", \"categories\": [0], \"series\": [{\"data\": [0.6810774760162479]}]}, {\"name\": \"recall_score_weighted\", \"run_id\": \"AutoML_d647f8eb-13c0-4f74-ade7-65c5c6bbe32c\", \"categories\": [0], \"series\": [{\"data\": [0.7270078803811589]}]}, {\"name\": \"f1_score_weighted\", \"run_id\": \"AutoML_d647f8eb-13c0-4f74-ade7-65c5c6bbe32c\", \"categories\": [0], \"series\": [{\"data\": [0.7151090548818143]}]}, {\"name\": \"precision_score_micro\", \"run_id\": \"AutoML_d647f8eb-13c0-4f74-ade7-65c5c6bbe32c\", \"categories\": [0], \"series\": [{\"data\": [0.7270078803811589]}]}, {\"name\": \"balanced_accuracy\", \"run_id\": \"AutoML_d647f8eb-13c0-4f74-ade7-65c5c6bbe32c\", \"categories\": [0], \"series\": [{\"data\": [0.6810774760162479]}]}, {\"name\": \"precision_score_weighted\", \"run_id\": \"AutoML_d647f8eb-13c0-4f74-ade7-65c5c6bbe32c\", \"categories\": [0], \"series\": [{\"data\": [0.7225064846163689]}]}, {\"name\": \"f1_score_micro\", \"run_id\": \"AutoML_d647f8eb-13c0-4f74-ade7-65c5c6bbe32c\", \"categories\": [0], \"series\": [{\"data\": [0.7270078803811589]}]}, {\"name\": \"AUC_weighted\", \"run_id\": \"AutoML_d647f8eb-13c0-4f74-ade7-65c5c6bbe32c\", \"categories\": [0], \"series\": [{\"data\": [0.7717348974921473]}]}, {\"name\": \"AUC_macro\", \"run_id\": \"AutoML_d647f8eb-13c0-4f74-ade7-65c5c6bbe32c\", \"categories\": [0], \"series\": [{\"data\": [0.7717348974921473]}]}], \"run_logs\": \"\\nRun is completed.\", \"graph\": {}, \"widget_settings\": {\"childWidgetDisplay\": \"popup\", \"send_telemetry\": false, \"log_level\": \"INFO\", \"sdk_version\": \"1.18.0\"}, \"loading\": false}"
          },
          "metadata": {}
        },
        {
          "output_type": "execute_result",
          "execution_count": 13,
          "data": {
            "text/plain": "{'runId': 'AutoML_d647f8eb-13c0-4f74-ade7-65c5c6bbe32c',\n 'target': 'local',\n 'status': 'Completed',\n 'startTimeUtc': '2020-11-13T22:11:56.31545Z',\n 'endTimeUtc': '2020-11-13T22:47:32.870917Z',\n 'properties': {'num_iterations': '1000',\n  'training_type': 'TrainFull',\n  'acquisition_function': 'EI',\n  'primary_metric': 'accuracy',\n  'train_split': '0',\n  'acquisition_parameter': '0',\n  'num_cross_validation': '3',\n  'target': 'local',\n  'AMLSettingsJsonString': '{\"path\":null,\"name\":\"capstone-automl\",\"subscription_id\":\"3ec87f2b-33cf-4aed-b36f-750175813524\",\"resource_group\":\"aml-quickstarts-126026\",\"workspace_name\":\"quick-starts-ws-126026\",\"region\":\"southcentralus\",\"compute_target\":\"local\",\"spark_service\":null,\"azure_service\":\"Microsoft.AzureNotebookVM\",\"_local_managed_run_id\":null,\"many_models\":false,\"pipeline_fetch_max_batch_size\":1,\"iterations\":1000,\"primary_metric\":\"accuracy\",\"task_type\":\"classification\",\"data_script\":null,\"validation_size\":0.0,\"n_cross_validations\":3,\"y_min\":null,\"y_max\":null,\"num_classes\":2,\"featurization\":\"auto\",\"_ignore_package_version_incompatibilities\":false,\"is_timeseries\":false,\"max_cores_per_iteration\":1,\"max_concurrent_iterations\":1,\"iteration_timeout_minutes\":null,\"mem_in_mb\":null,\"enforce_time_on_windows\":false,\"experiment_timeout_minutes\":30,\"experiment_exit_score\":null,\"whitelist_models\":null,\"blacklist_algos\":[\"TensorFlowLinearClassifier\",\"TensorFlowDNN\"],\"supported_models\":[\"DecisionTree\",\"ExtremeRandomTrees\",\"RandomForest\",\"LogisticRegression\",\"LightGBM\",\"AveragedPerceptronClassifier\",\"TensorFlowDNN\",\"LinearSVM\",\"SVM\",\"KNN\",\"SGD\",\"XGBoostClassifier\",\"BernoulliNaiveBayes\",\"MultinomialNaiveBayes\",\"TensorFlowLinearClassifier\",\"GradientBoosting\"],\"auto_blacklist\":true,\"blacklist_samples_reached\":false,\"exclude_nan_labels\":true,\"verbosity\":20,\"_debug_log\":\"automl.log\",\"show_warnings\":false,\"model_explainability\":true,\"service_url\":null,\"sdk_url\":null,\"sdk_packages\":null,\"enable_onnx_compatible_models\":false,\"enable_split_onnx_featurizer_estimator_models\":false,\"vm_type\":null,\"telemetry_verbosity\":20,\"send_telemetry\":true,\"enable_dnn\":false,\"scenario\":\"SDK-1.13.0\",\"environment_label\":null,\"force_text_dnn\":false,\"enable_feature_sweeping\":true,\"enable_early_stopping\":false,\"early_stopping_n_iters\":10,\"metrics\":null,\"enable_ensembling\":true,\"enable_stack_ensembling\":true,\"ensemble_iterations\":15,\"enable_tf\":false,\"enable_subsampling\":null,\"subsample_seed\":null,\"enable_nimbusml\":false,\"enable_streaming\":false,\"force_streaming\":false,\"track_child_runs\":true,\"allowed_private_models\":[],\"label_column_name\":\"Sentiment\",\"weight_column_name\":null,\"cv_split_column_names\":null,\"enable_local_managed\":false,\"cost_mode\":1,\"lag_length\":0,\"metric_operation\":\"maximize\",\"preprocess\":true}',\n  'DataPrepJsonString': None,\n  'EnableSubsampling': None,\n  'runTemplate': 'AutoML',\n  'azureml.runsource': 'automl',\n  'display_task_type': 'classification',\n  'dependencies_versions': '{\"azureml-widgets\": \"1.18.0\", \"azureml-train\": \"1.18.0\", \"azureml-train-restclients-hyperdrive\": \"1.18.0\", \"azureml-train-core\": \"1.18.0\", \"azureml-train-automl\": \"1.18.0\", \"azureml-train-automl-runtime\": \"1.18.0\", \"azureml-train-automl-client\": \"1.18.0\", \"azureml-tensorboard\": \"1.18.0\", \"azureml-telemetry\": \"1.18.0\", \"azureml-sdk\": \"1.18.0\", \"azureml-samples\": \"0+unknown\", \"azureml-pipeline\": \"1.18.0\", \"azureml-pipeline-steps\": \"1.18.0\", \"azureml-pipeline-core\": \"1.18.0\", \"azureml-opendatasets\": \"1.18.0\", \"azureml-model-management-sdk\": \"1.0.1b6.post1\", \"azureml-mlflow\": \"1.18.0\", \"azureml-interpret\": \"1.18.0\", \"azureml-explain-model\": \"1.18.0\", \"azureml-defaults\": \"1.18.0\", \"azureml-dataset-runtime\": \"1.18.0\", \"azureml-dataprep\": \"2.4.2\", \"azureml-dataprep-rslex\": \"1.2.2\", \"azureml-dataprep-native\": \"24.0.0\", \"azureml-datadrift\": \"1.18.0\", \"azureml-core\": \"1.18.0\", \"azureml-contrib-services\": \"1.18.0\", \"azureml-contrib-server\": \"1.18.0\", \"azureml-contrib-reinforcementlearning\": \"1.18.0\", \"azureml-contrib-pipeline-steps\": \"1.18.0\", \"azureml-contrib-notebook\": \"1.18.0\", \"azureml-contrib-interpret\": \"1.18.0\", \"azureml-contrib-gbdt\": \"1.18.0\", \"azureml-contrib-fairness\": \"1.18.0\", \"azureml-contrib-dataset\": \"1.18.0\", \"azureml-cli-common\": \"1.18.0\", \"azureml-automl-runtime\": \"1.18.0\", \"azureml-automl-core\": \"1.18.0\", \"azureml-accel-models\": \"1.18.0\"}',\n  '_aml_system_scenario_identification': 'Local.Parent',\n  'ClientSdkVersion': '1.18.0',\n  'ClientType': 'SDK',\n  'environment_cpu_name': 'AzureML-AutoML',\n  'environment_cpu_version': '44',\n  'environment_gpu_name': 'AzureML-AutoML-GPU',\n  'environment_gpu_version': '32',\n  'root_attribution': 'automl',\n  'attribution': 'AutoML',\n  'Orchestrator': 'AutoML',\n  '_azureml.ComputeTargetType': 'local',\n  'ProblemInfoJsonString': '{\"dataset_num_categorical\": 0, \"is_sparse\": true, \"subsampling\": true, \"dataset_classes\": 2, \"dataset_features\": 623416, \"dataset_samples\": 41155, \"single_frequency_class_detected\": false}',\n  'feature_skus': 'automatedml_sdk_guardrails'},\n 'inputDatasets': [],\n 'outputDatasets': [],\n 'logFiles': {}}"
          },
          "metadata": {}
        }
      ],
      "execution_count": 13,
      "metadata": {
        "gather": {
          "logged": 1605307781823
        },
        "jupyter": {
          "outputs_hidden": false,
          "source_hidden": false
        },
        "nteract": {
          "transient": {
            "deleting": false
          }
        }
      }
    },
    {
      "cell_type": "markdown",
      "source": [
        "## Best Model\n",
        "\n",
        "TODO: In the cell below, get the best model from the automl experiments and display all the properties of the model.\n",
        "\n"
      ],
      "metadata": {}
    },
    {
      "cell_type": "code",
      "source": [
        "best_run_automl, best_model_automl = automl_run.get_output()\n",
        "best_run_metrics = best_run_automl.get_metrics()\n",
        "parameter_values = best_run_automl.get_details()\n",
        "\n",
        "print(\"Best Run Id: \", best_run_automl.id)\n",
        "print(\"\\n\")\n",
        "print(\"\\n\")\n",
        "print(\"Accuracy: \", best_run_metrics[\"accuracy\"])\n",
        "print(\"\\n\")\n",
        "print(\"\\n\")\n",
        "print(\"Parameters: \", parameter_values)\n",
        "print(\"\\n\")\n",
        "print(\"\\n\")\n",
        "print(\"Metrics for best run: \", best_run_automl.get_metrics())"
      ],
      "outputs": [
        {
          "output_type": "stream",
          "name": "stdout",
          "text": [
            "Best Run Id:  AutoML_d647f8eb-13c0-4f74-ade7-65c5c6bbe32c_9\n",
            "\n",
            "\n",
            "\n",
            "\n",
            "Accuracy:  0.7270078803811589\n",
            "\n",
            "\n",
            "\n",
            "\n",
            "Parameters:  {'runId': 'AutoML_d647f8eb-13c0-4f74-ade7-65c5c6bbe32c_9', 'status': 'Completed', 'startTimeUtc': '2020-11-13T22:45:34.467874Z', 'endTimeUtc': '2020-11-13T22:47:32.122901Z', 'properties': {'runTemplate': 'automl_child', 'pipeline_id': '__AutoML_Stack_Ensemble__', 'pipeline_spec': '{\"pipeline_id\":\"__AutoML_Stack_Ensemble__\",\"objects\":[{\"module\":\"azureml.train.automl.stack_ensemble\",\"class_name\":\"StackEnsemble\",\"spec_class\":\"sklearn\",\"param_args\":[],\"param_kwargs\":{\"automl_settings\":\"{\\'task_type\\':\\'classification\\',\\'primary_metric\\':\\'accuracy\\',\\'verbosity\\':20,\\'ensemble_iterations\\':15,\\'is_timeseries\\':False,\\'name\\':\\'capstone-automl\\',\\'compute_target\\':\\'local\\',\\'subscription_id\\':\\'3ec87f2b-33cf-4aed-b36f-750175813524\\',\\'region\\':\\'southcentralus\\',\\'spark_service\\':None}\",\"ensemble_run_id\":\"AutoML_d647f8eb-13c0-4f74-ade7-65c5c6bbe32c_9\",\"experiment_name\":null,\"workspace_name\":\"quick-starts-ws-126026\",\"subscription_id\":\"3ec87f2b-33cf-4aed-b36f-750175813524\",\"resource_group_name\":\"aml-quickstarts-126026\"}}]}', 'training_percent': '100', 'predicted_cost': None, 'iteration': '9', '_azureml.ComputeTargetType': 'local', '_aml_system_scenario_identification': 'Local.Child', 'run_template': 'automl_child', 'run_preprocessor': '', 'run_algorithm': 'StackEnsemble', 'conda_env_data_location': 'aml://artifact/ExperimentRun/dcid.AutoML_d647f8eb-13c0-4f74-ade7-65c5c6bbe32c_9/outputs/conda_env_v_1_0_0.yml', 'model_data_location': 'aml://artifact/ExperimentRun/dcid.AutoML_d647f8eb-13c0-4f74-ade7-65c5c6bbe32c_9/outputs/model.pkl', 'model_size_on_disk': '139058291', 'scoring_data_location': 'aml://artifact/ExperimentRun/dcid.AutoML_d647f8eb-13c0-4f74-ade7-65c5c6bbe32c_9/outputs/scoring_file_v_1_0_0.py', 'model_exp_support': 'True', 'pipeline_graph_version': '1.0.0', 'model_name': 'AutoMLd647f8eb19', 'staticProperties': '{}', 'score': '0.7270078803811589', 'run_properties': \"base_learners=[('0',\\n                                        Pipeline(memory=None,\\n                                                 steps=[('maxabsscaler',\\n                                                         MaxAbsScaler(copy=True\", 'pipeline_script': '{\"pipeline_id\":\"__AutoML_Stack_Ensemble__\",\"objects\":[{\"module\":\"azureml.train.automl.stack_ensemble\",\"class_name\":\"StackEnsemble\",\"spec_class\":\"sklearn\",\"param_args\":[],\"param_kwargs\":{\"automl_settings\":\"{\\'task_type\\':\\'classification\\',\\'primary_metric\\':\\'accuracy\\',\\'verbosity\\':20,\\'ensemble_iterations\\':15,\\'is_timeseries\\':False,\\'name\\':\\'capstone-automl\\',\\'compute_target\\':\\'local\\',\\'subscription_id\\':\\'3ec87f2b-33cf-4aed-b36f-750175813524\\',\\'region\\':\\'southcentralus\\',\\'spark_service\\':None}\",\"ensemble_run_id\":\"AutoML_d647f8eb-13c0-4f74-ade7-65c5c6bbe32c_9\",\"experiment_name\":null,\"workspace_name\":\"quick-starts-ws-126026\",\"subscription_id\":\"3ec87f2b-33cf-4aed-b36f-750175813524\",\"resource_group_name\":\"aml-quickstarts-126026\"}}]}', 'training_type': 'MeanCrossValidation', 'num_classes': '2', 'framework': 'sklearn', 'fit_time': '93', 'goal': 'accuracy_max', 'class_labels': '', 'primary_metric': 'accuracy', 'errors': '{}', 'fitted_pipeline': \"Pipeline(memory=None,\\n         steps=[('datatransformer',\\n                 DataTransformer(enable_dnn=None, enable_feature_sweeping=None,\\n                                 feature_sweeping_config=None,\\n                                 feature_sweeping_timeout=None,\\n                                 featurization_config=None, force_text_dnn=None,\\n                                 is_cross_validation=None,\\n                                 is_onnx_compatible=None, logger=None,\\n                                 observer=None, task=None, working_dir=None)),\\n                ('stackensembleclassifier',\\n                 StackE...\\n                                         meta_learner=LogisticRegressionCV(Cs=10,\\n                                                                           class_weight=None,\\n                                                                           cv=None,\\n                                                                           dual=False,\\n                                                                           fit_intercept=True,\\n                                                                           intercept_scaling=1.0,\\n                                                                           l1_ratios=None,\\n                                                                           max_iter=100,\\n                                                                           multi_class='auto',\\n                                                                           n_jobs=None,\\n                                                                           penalty='l2',\\n                                                                           random_state=None,\\n                                                                           refit=True,\\n                                                                           scoring=<azureml.automl.runtime.stack_ensemble_base.Scorer object at 0x7f9414982fd0>,\\n                                                                           solver='lbfgs',\\n                                                                           tol=0.0001,\\n                                                                           verbose=0),\\n                                         training_cv_folds=5))],\\n         verbose=False)\", 'friendly_errors': '{}', 'onnx_model_resource': '{}', 'error_code': '', 'failure_reason': '', 'feature_skus': 'automatedml_sdk_guardrails', 'dependencies_versions': '{\"azureml-widgets\": \"1.18.0\", \"azureml-train\": \"1.18.0\", \"azureml-train-restclients-hyperdrive\": \"1.18.0\", \"azureml-train-core\": \"1.18.0\", \"azureml-train-automl\": \"1.18.0\", \"azureml-train-automl-runtime\": \"1.18.0\", \"azureml-train-automl-client\": \"1.18.0\", \"azureml-tensorboard\": \"1.18.0\", \"azureml-telemetry\": \"1.18.0\", \"azureml-sdk\": \"1.18.0\", \"azureml-samples\": \"0+unknown\", \"azureml-pipeline\": \"1.18.0\", \"azureml-pipeline-steps\": \"1.18.0\", \"azureml-pipeline-core\": \"1.18.0\", \"azureml-opendatasets\": \"1.18.0\", \"azureml-model-management-sdk\": \"1.0.1b6.post1\", \"azureml-mlflow\": \"1.18.0\", \"azureml-interpret\": \"1.18.0\", \"azureml-explain-model\": \"1.18.0\", \"azureml-defaults\": \"1.18.0\", \"azureml-dataset-runtime\": \"1.18.0\", \"azureml-dataprep\": \"2.4.2\", \"azureml-dataprep-rslex\": \"1.2.2\", \"azureml-dataprep-native\": \"24.0.0\", \"azureml-datadrift\": \"1.18.0\", \"azureml-core\": \"1.18.0\", \"azureml-contrib-services\": \"1.18.0\", \"azureml-contrib-server\": \"1.18.0\", \"azureml-contrib-reinforcementlearning\": \"1.18.0\", \"azureml-contrib-pipeline-steps\": \"1.18.0\", \"azureml-contrib-notebook\": \"1.18.0\", \"azureml-contrib-interpret\": \"1.18.0\", \"azureml-contrib-gbdt\": \"1.18.0\", \"azureml-contrib-fairness\": \"1.18.0\", \"azureml-contrib-dataset\": \"1.18.0\", \"azureml-cli-common\": \"1.18.0\", \"azureml-automl-runtime\": \"1.18.0\", \"azureml-automl-core\": \"1.18.0\", \"azureml-accel-models\": \"1.18.0\"}', 'num_cores': '4', 'num_logical_cores': '4', 'peak_memory_usage': '10020420', 'vm_configuration': 'Intel(R) Xeon(R) CPU E5-2673 v3 @ 2.40GHz', 'core_hours': '0.05137612861111111'}, 'inputDatasets': [], 'outputDatasets': [], 'logFiles': {}}\n",
            "\n",
            "\n",
            "\n",
            "\n",
            "Metrics for best run:  {'average_precision_score_micro': 0.7923140753122411, 'weighted_accuracy': 0.76751619937897, 'norm_macro_recall': 0.3621549520324958, 'average_precision_score_macro': 0.7616400147066772, 'accuracy': 0.7270078803811589, 'precision_score_macro': 0.7155438742949821, 'recall_score_micro': 0.7270078803811589, 'average_precision_score_weighted': 0.7802613642784411, 'f1_score_macro': 0.6871821257107232, 'log_loss': 0.548137416337081, 'matthews_correlation': 0.39491073708609276, 'AUC_micro': 0.7998191506859716, 'recall_score_macro': 0.6810774760162479, 'recall_score_weighted': 0.7270078803811589, 'f1_score_weighted': 0.7151090548818143, 'precision_score_micro': 0.7270078803811589, 'balanced_accuracy': 0.6810774760162479, 'precision_score_weighted': 0.7225064846163689, 'f1_score_micro': 0.7270078803811589, 'AUC_weighted': 0.7717348974921473, 'AUC_macro': 0.7717348974921473, 'confusion_matrix': 'aml://artifactId/ExperimentRun/dcid.AutoML_d647f8eb-13c0-4f74-ade7-65c5c6bbe32c_9/confusion_matrix', 'accuracy_table': 'aml://artifactId/ExperimentRun/dcid.AutoML_d647f8eb-13c0-4f74-ade7-65c5c6bbe32c_9/accuracy_table'}\n"
          ]
        }
      ],
      "execution_count": 14,
      "metadata": {
        "gather": {
          "logged": 1605307789598
        },
        "jupyter": {
          "outputs_hidden": false,
          "source_hidden": false
        },
        "nteract": {
          "transient": {
            "deleting": false
          }
        }
      }
    },
    {
      "cell_type": "code",
      "source": [
        "# referencce - https://docs.microsoft.com/en-us/python/api/azureml-train-automl-client/azureml.train.automl.run.automlrun?view=azure-ml-py\n",
        "print(best_model_automl.steps[-1])"
      ],
      "outputs": [
        {
          "output_type": "stream",
          "name": "stdout",
          "text": [
            "('stackensembleclassifier', StackEnsembleClassifier(base_learners=[('0',\n",
            "                                        Pipeline(memory=None,\n",
            "                                                 steps=[('maxabsscaler',\n",
            "                                                         MaxAbsScaler(copy=True)),\n",
            "                                                        ('lightgbmclassifier',\n",
            "                                                         LightGBMClassifier(boosting_type='gbdt',\n",
            "                                                                            class_weight=None,\n",
            "                                                                            colsample_bytree=1.0,\n",
            "                                                                            importance_type='split',\n",
            "                                                                            learning_rate=0.1,\n",
            "                                                                            max_depth=-1,\n",
            "                                                                            min_child_samples=20,\n",
            "                                                                            min_child_weight=0.001,\n",
            "                                                                            min_split_gain=0.0,\n",
            "                                                                            n_estimators=100,\n",
            "                                                                            n...\n",
            "                        meta_learner=LogisticRegressionCV(Cs=10,\n",
            "                                                          class_weight=None,\n",
            "                                                          cv=None, dual=False,\n",
            "                                                          fit_intercept=True,\n",
            "                                                          intercept_scaling=1.0,\n",
            "                                                          l1_ratios=None,\n",
            "                                                          max_iter=100,\n",
            "                                                          multi_class='auto',\n",
            "                                                          n_jobs=None,\n",
            "                                                          penalty='l2',\n",
            "                                                          random_state=None,\n",
            "                                                          refit=True,\n",
            "                                                          scoring=<azureml.automl.runtime.stack_ensemble_base.Scorer object at 0x7f9494707eb8>,\n",
            "                                                          solver='lbfgs',\n",
            "                                                          tol=0.0001,\n",
            "                                                          verbose=0),\n",
            "                        training_cv_folds=5))\n"
          ]
        }
      ],
      "execution_count": 15,
      "metadata": {
        "gather": {
          "logged": 1605307789829
        }
      }
    },
    {
      "cell_type": "markdown",
      "source": [
        "## Model Deployment\n",
        "\n",
        "Remember you have to deploy only one of the two models you trained.. Perform the steps in the rest of this notebook only if you wish to deploy this model.\n",
        "\n",
        "TODO: In the cell below, register the model, create an inference config and deploy the model as a web service."
      ],
      "metadata": {}
    },
    {
      "cell_type": "code",
      "source": [
        "# Personal ToDo - Check why can't register model from get_output() directly\n",
        "best_model_automl = best_run_automl.register_model(model_name=\"automl_model_best\", model_path=\"./outputs\")"
      ],
      "outputs": [],
      "execution_count": 16,
      "metadata": {
        "gather": {
          "logged": 1605307790640
        },
        "jupyter": {
          "outputs_hidden": false,
          "source_hidden": false
        },
        "nteract": {
          "transient": {
            "deleting": false
          }
        }
      }
    },
    {
      "cell_type": "code",
      "source": [
        "best_model_automl.download(exist_ok=True)"
      ],
      "outputs": [
        {
          "output_type": "execute_result",
          "execution_count": 17,
          "data": {
            "text/plain": "'outputs'"
          },
          "metadata": {}
        }
      ],
      "execution_count": 17,
      "metadata": {
        "collapsed": true,
        "gather": {
          "logged": 1605307793733
        },
        "jupyter": {
          "outputs_hidden": false,
          "source_hidden": false
        },
        "nteract": {
          "transient": {
            "deleting": false
          }
        }
      }
    },
    {
      "cell_type": "code",
      "source": [
        "# Reference - https://docs.microsoft.com/en-us/azure/machine-learning/how-to-deploy-and-where?tabs=python#define-an-inference-configuration\n",
        "\n",
        "# Selecting curated environment as per - https://docs.microsoft.com/en-us/azure/machine-learning/resource-curated-environments\n",
        "env = Environment.get(ws, \"AzureML-AutoML\").clone(\"automl-env\")\n",
        "\n",
        "inference_config = InferenceConfig(entry_script='score.py', environment=env)\n",
        "\n",
        "# Reference - https://docs.microsoft.com/en-us/python/api/azureml-core/azureml.core.webservice.aci.aciwebservice?view=azure-ml-py\n",
        "aci_config = AciWebservice.deploy_configuration(cpu_cores=1, memory_gb=4)\n",
        "\n",
        "service = best_model_automl.deploy(\n",
        "    workspace=ws,\n",
        "    name=\"automl-deployment\",\n",
        "    models=[best_model_automl],\n",
        "    inference_config=inference_config,\n",
        "    deployment_config=aci_config,\n",
        "    overwrite=True\n",
        ")\n",
        "service.wait_for_deployment(show_output=True)"
      ],
      "outputs": [
        {
          "output_type": "stream",
          "name": "stdout",
          "text": [
            "Tips: You can try get_logs(): https://aka.ms/debugimage#dockerlog or local deployment: https://aka.ms/debugimage#debug-locally to debug if deployment takes longer than 10 minutes.\n",
            "Running.....................................................................................................................................................................\n",
            "Succeeded\n",
            "ACI service creation operation finished, operation \"Succeeded\"\n"
          ]
        }
      ],
      "execution_count": 51,
      "metadata": {
        "collapsed": true,
        "jupyter": {
          "outputs_hidden": false,
          "source_hidden": false
        },
        "nteract": {
          "transient": {
            "deleting": false
          }
        },
        "gather": {
          "logged": 1605313710085
        }
      }
    },
    {
      "cell_type": "markdown",
      "source": [
        "TODO: In the cell below, send a request to the web service you deployed to test it."
      ],
      "metadata": {
        "collapsed": true,
        "gather": {
          "logged": 1598431657736
        },
        "jupyter": {
          "outputs_hidden": false,
          "source_hidden": false
        },
        "nteract": {
          "transient": {
            "deleting": false
          }
        }
      }
    },
    {
      "cell_type": "code",
      "source": [
        "service.update(enable_app_insights=True)"
      ],
      "outputs": [],
      "execution_count": 52,
      "metadata": {
        "gather": {
          "logged": 1605313711132
        },
        "jupyter": {
          "outputs_hidden": false,
          "source_hidden": false
        },
        "nteract": {
          "transient": {
            "deleting": false
          }
        }
      }
    },
    {
      "cell_type": "code",
      "source": [
        "# input_tweet_json = json.dumps({'data':{\"OriginalTweet\": \"testing this out\"}})\n",
        "input_tweet_json = json.dumps({\"OriginalTweet\": [df_modified.loc[123,\"OriginalTweet\"]]})\n",
        "\n",
        "# Reference - https://docs.microsoft.com/en-us/python/api/azureml-core/azureml.core.webservice.webservice.webservice?view=azure-ml-py&preserve-view=true#run-input-\n",
        "output = service.run(input_tweet_json)\n",
        "print(\"Predicted Sentiment: \", output)\n",
        "print(\"Actual Sentiment: \", df_modified[\"Sentiment\"][0])"
      ],
      "outputs": [
        {
          "output_type": "stream",
          "name": "stdout",
          "text": [
            "Predicted Sentiment:  [1]\n",
            "Actual Sentiment:  1\n"
          ]
        }
      ],
      "execution_count": 58,
      "metadata": {
        "collapsed": true,
        "jupyter": {
          "outputs_hidden": false,
          "source_hidden": false
        },
        "nteract": {
          "transient": {
            "deleting": false
          }
        },
        "gather": {
          "logged": 1605314548227
        }
      }
    },
    {
      "cell_type": "markdown",
      "source": [
        "TODO: In the cell below, print the logs of the web service and delete the service"
      ],
      "metadata": {
        "collapsed": true,
        "gather": {
          "logged": 1598432765711
        },
        "jupyter": {
          "outputs_hidden": false,
          "source_hidden": false
        },
        "nteract": {
          "transient": {
            "deleting": false
          }
        }
      }
    },
    {
      "cell_type": "code",
      "source": [
        "print(service.get_logs())"
      ],
      "outputs": [
        {
          "output_type": "stream",
          "name": "stdout",
          "text": [
            "2020-11-13T23:14:19.390463Z stdout F 2020-11-13T23:14:19,387691500+00:00 - iot-server/run \n",
            "2020-11-13T23:14:19.3924625Z stdout F 2020-11-13T23:14:19,388483900+00:00 - gunicorn/run \n",
            "2020-11-13T23:14:19.419836Z stdout F 2020-11-13T23:14:19,415652100+00:00 - rsyslog/run \n",
            "2020-11-13T23:14:19.4295279Z stdout F 2020-11-13T23:14:19,420020000+00:00 - nginx/run \n",
            "2020-11-13T23:14:19.4325183Z stderr F /usr/sbin/nginx: /azureml-envs/azureml_51fe5b7aeae94a7d55cb14fbfa8da056/lib/libcrypto.so.1.0.0: no version information available (required by /usr/sbin/nginx)\n",
            "2020-11-13T23:14:19.4325183Z stderr F /usr/sbin/nginx: /azureml-envs/azureml_51fe5b7aeae94a7d55cb14fbfa8da056/lib/libcrypto.so.1.0.0: no version information available (required by /usr/sbin/nginx)\n",
            "2020-11-13T23:14:19.4364905Z stderr F /usr/sbin/nginx: /azureml-envs/azureml_51fe5b7aeae94a7d55cb14fbfa8da056/lib/libssl.so.1.0.0: no version information available (required by /usr/sbin/nginx)\n",
            "2020-11-13T23:14:19.4364905Z stderr F /usr/sbin/nginx: /azureml-envs/azureml_51fe5b7aeae94a7d55cb14fbfa8da056/lib/libssl.so.1.0.0: no version information available (required by /usr/sbin/nginx)\n",
            "2020-11-13T23:14:19.4364905Z stderr F /usr/sbin/nginx: /azureml-envs/azureml_51fe5b7aeae94a7d55cb14fbfa8da056/lib/libssl.so.1.0.0: no version information available (required by /usr/sbin/nginx)\n",
            "2020-11-13T23:14:19.5324561Z stderr F rsyslogd: /azureml-envs/azureml_51fe5b7aeae94a7d55cb14fbfa8da056/lib/libuuid.so.1: no version information available (required by rsyslogd)\n",
            "2020-11-13T23:14:21.364602Z stdout F EdgeHubConnectionString and IOTEDGE_IOTHUBHOSTNAME are not set. Exiting...\n",
            "2020-11-13T23:14:21.3796185Z stdout F 2020-11-13T23:14:21,376603200+00:00 - iot-server/finish 1 0\n",
            "2020-11-13T23:14:21.3966133Z stdout F 2020-11-13T23:14:21,387281500+00:00 - Exit code 1 is normal. Not restarting iot-server.\n",
            "2020-11-13T23:14:21.6156191Z stdout F Starting gunicorn 19.9.0\n",
            "2020-11-13T23:14:21.6166185Z stdout F Listening at: http://127.0.0.1:31311 (68)\n",
            "2020-11-13T23:14:21.6206617Z stdout F Using worker: sync\n",
            "2020-11-13T23:14:21.6216625Z stdout F worker timeout is set to 300\n",
            "2020-11-13T23:14:21.6236561Z stdout F Booting worker with pid: 97\n",
            "2020-11-13T23:14:24.0896275Z stdout F SPARK_HOME not set. Skipping PySpark Initialization.\n",
            "2020-11-13T23:14:24.0896275Z stdout F Initializing logger\n",
            "2020-11-13T23:14:24.0896275Z stdout F 2020-11-13 23:14:24,086 | root | INFO | Starting up app insights client\n",
            "2020-11-13T23:14:24.0896275Z stdout F Starting up app insights client\n",
            "2020-11-13T23:14:24.0896275Z stdout F 2020-11-13 23:14:24,086 | root | INFO | Starting up request id generator\n",
            "2020-11-13T23:14:24.0896275Z stdout F Starting up request id generator\n",
            "2020-11-13T23:14:24.0906797Z stdout F 2020-11-13 23:14:24,087 | root | INFO | Starting up app insight hooks\n",
            "2020-11-13T23:14:24.0906797Z stdout F Starting up app insight hooks\n",
            "2020-11-13T23:14:24.0906797Z stdout F 2020-11-13 23:14:24,088 | root | INFO | Invoking user's init function\n",
            "2020-11-13T23:14:24.0906797Z stdout F Invoking user's init function\n",
            "2020-11-13T23:14:27.9302673Z stdout F Generating new fontManager, this may take some time...\n",
            "2020-11-13T23:15:54.4080384Z stdout F 2020-11-13 23:15:54,398 | root | INFO | Users's init has completed successfully\n",
            "2020-11-13T23:15:54.4080384Z stdout F Users's init has completed successfully\n",
            "2020-11-13T23:15:54.4200773Z stdout F 2020-11-13 23:15:54,408 | root | INFO | Skipping middleware: dbg_model_info as it's not enabled.\n",
            "2020-11-13T23:15:54.4200773Z stdout F Skipping middleware: dbg_model_info as it's not enabled.\n",
            "2020-11-13T23:15:54.4200773Z stdout F 2020-11-13 23:15:54,409 | root | INFO | Skipping middleware: dbg_resource_usage as it's not enabled.\n",
            "2020-11-13T23:15:54.4200773Z stdout F Skipping middleware: dbg_resource_usage as it's not enabled.\n",
            "2020-11-13T23:15:54.4200773Z stdout F 2020-11-13 23:15:54,412 | root | INFO | Scoring timeout is found from os.environ: 60000 ms\n",
            "2020-11-13T23:15:54.4200773Z stdout F Scoring timeout is found from os.environ: 60000 ms\n",
            "2020-11-13T23:15:57.218488Z stdout F 2020-11-13 23:15:57,208 | root | INFO | Swagger file not present\n",
            "2020-11-13T23:15:57.218488Z stdout F Swagger file not present\n",
            "2020-11-13T23:15:57.2194918Z stdout F 2020-11-13 23:15:57,209 | root | INFO | 404\n",
            "2020-11-13T23:15:57.2194918Z stdout F 404\n",
            "2020-11-13T23:15:57.2215063Z stdout F 127.0.0.1 - - [13/Nov/2020:23:15:57 +0000] \"GET /swagger.json HTTP/1.0\" 404 19 \"-\" \"Go-http-client/1.1\"\n",
            "2020-11-13T23:16:00.1616986Z stdout F 2020-11-13 23:16:00,147 | root | INFO | Swagger file not present\n",
            "2020-11-13T23:16:00.1616986Z stdout F Swagger file not present\n",
            "2020-11-13T23:16:00.1616986Z stdout F 2020-11-13 23:16:00,148 | root | INFO | 404\n",
            "2020-11-13T23:16:00.1616986Z stdout F 404\n",
            "2020-11-13T23:16:00.1616986Z stdout F 127.0.0.1 - - [13/Nov/2020:23:16:00 +0000] \"GET /swagger.json HTTP/1.0\" 404 19 \"-\" \"Go-http-client/1.1\"\n",
            "2020-11-13T23:18:37.7049377Z stdout F 2020-11-13 23:18:37,684 | root | INFO | Swagger file not present\n",
            "2020-11-13T23:18:37.7049377Z stdout F Swagger file not present\n",
            "2020-11-13T23:18:37.7059431Z stdout F 2020-11-13 23:18:37,684 | root | INFO | 404\n",
            "2020-11-13T23:18:37.7059431Z stdout F 404\n",
            "2020-11-13T23:18:37.7069518Z stdout F 127.0.0.1 - - [13/Nov/2020:23:18:37 +0000] \"GET /swagger.json HTTP/1.0\" 404 19 \"-\" \"Go-http-client/1.1\"\n",
            "2020-11-13T23:18:41.3785226Z stdout F 2020-11-13 23:18:41,356 | root | INFO | Validation Request Content-Type\n",
            "2020-11-13T23:18:41.3785226Z stdout F Validation Request Content-Type\n",
            "2020-11-13T23:18:41.3785226Z stdout F 2020-11-13 23:18:41,357 | root | INFO | \tHost: localhost:5001\n",
            "2020-11-13T23:18:41.3785226Z stdout F \tHost: localhost:5001\n",
            "2020-11-13T23:18:41.3785226Z stdout F 2020-11-13 23:18:41,357 | root | INFO | \tX-Real-Ip: 127.0.0.1\n",
            "2020-11-13T23:18:41.3785226Z stdout F \tX-Real-Ip: 127.0.0.1\n",
            "2020-11-13T23:18:41.3785226Z stdout F 2020-11-13 23:18:41,357 | root | INFO | \tX-Forwarded-For: 127.0.0.1\n",
            "2020-11-13T23:18:41.3785226Z stdout F \tX-Forwarded-For: 127.0.0.1\n",
            "2020-11-13T23:18:41.3785226Z stdout F 2020-11-13 23:18:41,357 | root | INFO | \tX-Forwarded-Proto: http\n",
            "2020-11-13T23:18:41.3785226Z stdout F \tX-Forwarded-Proto: http\n",
            "2020-11-13T23:18:41.3785226Z stdout F 2020-11-13 23:18:41,357 | root | INFO | \tConnection: close\n",
            "2020-11-13T23:18:41.3785226Z stdout F \tConnection: close\n",
            "2020-11-13T23:18:41.379531Z stdout F 2020-11-13 23:18:41,357 | root | INFO | \tContent-Length: 47\n",
            "2020-11-13T23:18:41.379531Z stdout F \tContent-Length: 47\n",
            "2020-11-13T23:18:41.379531Z stdout F 2020-11-13 23:18:41,358 | root | INFO | \tUser-Agent: python-requests/2.24.0\n",
            "2020-11-13T23:18:41.379531Z stdout F \tUser-Agent: python-requests/2.24.0\n",
            "2020-11-13T23:18:41.379531Z stdout F 2020-11-13 23:18:41,358 | root | INFO | \tAccept: application/json\n",
            "2020-11-13T23:18:41.379531Z stdout F \tAccept: application/json\n",
            "2020-11-13T23:18:41.379531Z stdout F 2020-11-13 23:18:41,358 | root | INFO | \tAccept-Encoding: gzip, deflate\n",
            "2020-11-13T23:18:41.379531Z stdout F \tAccept-Encoding: gzip, deflate\n",
            "2020-11-13T23:18:41.379531Z stdout F 2020-11-13 23:18:41,358 | root | INFO | \tContent-Type: application/json\n",
            "2020-11-13T23:18:41.379531Z stdout F \tContent-Type: application/json\n",
            "2020-11-13T23:18:41.3805399Z stdout F 2020-11-13 23:18:41,358 | root | INFO | \tX-Ms-Request-Id: 09b271e6-e3f2-403a-a9c3-b281c0544fc5\n",
            "2020-11-13T23:18:41.3805399Z stdout F \tX-Ms-Request-Id: 09b271e6-e3f2-403a-a9c3-b281c0544fc5\n",
            "2020-11-13T23:18:41.3825309Z stdout F 2020-11-13 23:18:41,359 | root | INFO | Scoring Timer is set to 60.0 seconds\n",
            "2020-11-13T23:18:41.3825309Z stdout F Scoring Timer is set to 60.0 seconds\n",
            "2020-11-13T23:18:41.3825309Z stdout F 2020-11-13 23:18:41,360 | root | INFO | 200\n",
            "2020-11-13T23:18:41.3835201Z stdout F 200\n",
            "2020-11-13T23:18:41.3835201Z stdout F 127.0.0.1 - - [13/Nov/2020:23:18:41 +0000] \"POST /score HTTP/1.0\" 200 453 \"-\" \"python-requests/2.24.0\"\n",
            "\n"
          ]
        }
      ],
      "execution_count": 36,
      "metadata": {
        "gather": {
          "logged": 1605309694526
        },
        "jupyter": {
          "outputs_hidden": false,
          "source_hidden": false
        },
        "nteract": {
          "transient": {
            "deleting": false
          }
        }
      }
    },
    {
      "cell_type": "code",
      "source": [
        "#service.delete()"
      ],
      "outputs": [
        {
          "output_type": "stream",
          "name": "stderr",
          "text": [
            "ERROR - Received bad response from Model Management Service:\n",
            "Response Code: 409\n",
            "Headers: {'Date': 'Fri, 13 Nov 2020 23:37:20 GMT', 'Content-Type': 'text/plain; charset=utf-8', 'Transfer-Encoding': 'chunked', 'Connection': 'keep-alive', 'x-ms-client-request-id': '85d88fcdd3444c9fb74c1def72b18bb1', 'x-ms-client-session-id': 'f3792e8a-40e1-4bcf-aca6-deb748247d08', 'api-supported-versions': '1.0, 2018-03-01-preview, 2018-11-19', 'X-Content-Type-Options': 'nosniff', 'x-request-time': '0.194', 'Strict-Transport-Security': 'max-age=15724800; includeSubDomains; preload'}\n",
            "Content: b'Other operation of this service is ongoing, deletion is not allowed.'\n",
            "\n"
          ]
        },
        {
          "output_type": "error",
          "ename": "WebserviceException",
          "evalue": "WebserviceException:\n\tMessage: Received bad response from Model Management Service:\nResponse Code: 409\nHeaders: {'Date': 'Fri, 13 Nov 2020 23:37:20 GMT', 'Content-Type': 'text/plain; charset=utf-8', 'Transfer-Encoding': 'chunked', 'Connection': 'keep-alive', 'x-ms-client-request-id': '85d88fcdd3444c9fb74c1def72b18bb1', 'x-ms-client-session-id': 'f3792e8a-40e1-4bcf-aca6-deb748247d08', 'api-supported-versions': '1.0, 2018-03-01-preview, 2018-11-19', 'X-Content-Type-Options': 'nosniff', 'x-request-time': '0.194', 'Strict-Transport-Security': 'max-age=15724800; includeSubDomains; preload'}\nContent: b'Other operation of this service is ongoing, deletion is not allowed.'\n\tInnerException None\n\tErrorResponse \n{\n    \"error\": {\n        \"message\": \"Received bad response from Model Management Service:\\nResponse Code: 409\\nHeaders: {'Date': 'Fri, 13 Nov 2020 23:37:20 GMT', 'Content-Type': 'text/plain; charset=utf-8', 'Transfer-Encoding': 'chunked', 'Connection': 'keep-alive', 'x-ms-client-request-id': '85d88fcdd3444c9fb74c1def72b18bb1', 'x-ms-client-session-id': 'f3792e8a-40e1-4bcf-aca6-deb748247d08', 'api-supported-versions': '1.0, 2018-03-01-preview, 2018-11-19', 'X-Content-Type-Options': 'nosniff', 'x-request-time': '0.194', 'Strict-Transport-Security': 'max-age=15724800; includeSubDomains; preload'}\\nContent: b'Other operation of this service is ongoing, deletion is not allowed.'\"\n    }\n}",
          "traceback": [
            "\u001b[0;31m---------------------------------------------------------------------------\u001b[0m",
            "\u001b[0;31mWebserviceException\u001b[0m                       Traceback (most recent call last)",
            "\u001b[0;32m<ipython-input-43-48e779d30f0a>\u001b[0m in \u001b[0;36m<module>\u001b[0;34m\u001b[0m\n\u001b[0;32m----> 1\u001b[0;31m \u001b[0mservice\u001b[0m\u001b[0;34m.\u001b[0m\u001b[0mdelete\u001b[0m\u001b[0;34m(\u001b[0m\u001b[0;34m)\u001b[0m\u001b[0;34m\u001b[0m\u001b[0;34m\u001b[0m\u001b[0m\n\u001b[0m",
            "\u001b[0;32m/anaconda/envs/azureml_py36/lib/python3.6/site-packages/azureml/core/webservice/webservice.py\u001b[0m in \u001b[0;36mdelete\u001b[0;34m(self)\u001b[0m\n\u001b[1;32m   1296\u001b[0m                                       \u001b[0;34m'Headers: {}\\n'\u001b[0m\u001b[0;34m\u001b[0m\u001b[0;34m\u001b[0m\u001b[0m\n\u001b[1;32m   1297\u001b[0m                                       \u001b[0;34m'Content: {}'\u001b[0m\u001b[0;34m.\u001b[0m\u001b[0mformat\u001b[0m\u001b[0;34m(\u001b[0m\u001b[0mresp\u001b[0m\u001b[0;34m.\u001b[0m\u001b[0mstatus_code\u001b[0m\u001b[0;34m,\u001b[0m \u001b[0mresp\u001b[0m\u001b[0;34m.\u001b[0m\u001b[0mheaders\u001b[0m\u001b[0;34m,\u001b[0m \u001b[0mresp\u001b[0m\u001b[0;34m.\u001b[0m\u001b[0mcontent\u001b[0m\u001b[0;34m)\u001b[0m\u001b[0;34m,\u001b[0m\u001b[0;34m\u001b[0m\u001b[0;34m\u001b[0m\u001b[0m\n\u001b[0;32m-> 1298\u001b[0;31m                                       logger=module_logger)\n\u001b[0m\u001b[1;32m   1299\u001b[0m \u001b[0;34m\u001b[0m\u001b[0m\n\u001b[1;32m   1300\u001b[0m     \u001b[0;32mdef\u001b[0m \u001b[0mserialize\u001b[0m\u001b[0;34m(\u001b[0m\u001b[0mself\u001b[0m\u001b[0;34m)\u001b[0m\u001b[0;34m:\u001b[0m\u001b[0;34m\u001b[0m\u001b[0;34m\u001b[0m\u001b[0m\n",
            "\u001b[0;31mWebserviceException\u001b[0m: WebserviceException:\n\tMessage: Received bad response from Model Management Service:\nResponse Code: 409\nHeaders: {'Date': 'Fri, 13 Nov 2020 23:37:20 GMT', 'Content-Type': 'text/plain; charset=utf-8', 'Transfer-Encoding': 'chunked', 'Connection': 'keep-alive', 'x-ms-client-request-id': '85d88fcdd3444c9fb74c1def72b18bb1', 'x-ms-client-session-id': 'f3792e8a-40e1-4bcf-aca6-deb748247d08', 'api-supported-versions': '1.0, 2018-03-01-preview, 2018-11-19', 'X-Content-Type-Options': 'nosniff', 'x-request-time': '0.194', 'Strict-Transport-Security': 'max-age=15724800; includeSubDomains; preload'}\nContent: b'Other operation of this service is ongoing, deletion is not allowed.'\n\tInnerException None\n\tErrorResponse \n{\n    \"error\": {\n        \"message\": \"Received bad response from Model Management Service:\\nResponse Code: 409\\nHeaders: {'Date': 'Fri, 13 Nov 2020 23:37:20 GMT', 'Content-Type': 'text/plain; charset=utf-8', 'Transfer-Encoding': 'chunked', 'Connection': 'keep-alive', 'x-ms-client-request-id': '85d88fcdd3444c9fb74c1def72b18bb1', 'x-ms-client-session-id': 'f3792e8a-40e1-4bcf-aca6-deb748247d08', 'api-supported-versions': '1.0, 2018-03-01-preview, 2018-11-19', 'X-Content-Type-Options': 'nosniff', 'x-request-time': '0.194', 'Strict-Transport-Security': 'max-age=15724800; includeSubDomains; preload'}\\nContent: b'Other operation of this service is ongoing, deletion is not allowed.'\"\n    }\n}"
          ]
        }
      ],
      "execution_count": 43,
      "metadata": {
        "collapsed": true,
        "jupyter": {
          "outputs_hidden": false,
          "source_hidden": false
        },
        "nteract": {
          "transient": {
            "deleting": false
          }
        },
        "gather": {
          "logged": 1605308121491
        }
      }
    }
  ],
  "metadata": {
    "kernel_info": {
      "name": "python3"
    },
    "kernelspec": {
      "name": "python3",
      "language": "python",
      "display_name": "Python 3"
    },
    "language_info": {
      "name": "python",
      "version": "3.6.9",
      "mimetype": "text/x-python",
      "codemirror_mode": {
        "name": "ipython",
        "version": 3
      },
      "pygments_lexer": "ipython3",
      "nbconvert_exporter": "python",
      "file_extension": ".py"
    },
    "nteract": {
      "version": "nteract-front-end@1.0.0"
    },
    "widgets": {
      "state": {},
      "version": "1.1.2"
    }
  },
  "nbformat": 4,
  "nbformat_minor": 2
}