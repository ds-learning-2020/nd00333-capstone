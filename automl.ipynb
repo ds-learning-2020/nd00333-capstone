{
  "cells": [
    {
      "cell_type": "markdown",
      "source": [
        "# Automated ML\n",
        "\n",
        "TODO: Import Dependencies. In the cell below, import all the dependencies that you will need to complete the project."
      ],
      "metadata": {}
    },
    {
      "cell_type": "code",
      "source": [
        "from azureml.core import Workspace, Experiment, Datastore, Dataset\n",
        "from azureml.core.compute import ComputeTarget, AmlCompute\n",
        "from azureml.widgets import RunDetails\n",
        "from azureml.train.sklearn import SKLearn\n",
        "from azureml.train.hyperdrive.run import PrimaryMetricGoal\n",
        "from azureml.train.hyperdrive.policy import BanditPolicy, MedianStoppingPolicy\n",
        "from azureml.train.hyperdrive.sampling import RandomParameterSampling\n",
        "from azureml.train.hyperdrive.runconfig import HyperDriveConfig\n",
        "from azureml.train.hyperdrive.parameter_expressions import uniform, normal, choice\n",
        "from azureml.train.automl import AutoMLConfig\n",
        "from azureml.data.dataset_factory import TabularDatasetFactory\n",
        "from azureml.core.webservice import AciWebservice\n",
        "from azureml.core.model import InferenceConfig\n",
        "from azureml.core.environment import Environment\n",
        "\n",
        "import os\n",
        "import joblib\n",
        "import pandas as pd\n",
        "import sys\n",
        "import numpy as np\n",
        "import json\n",
        "\n",
        "from sklearn.model_selection import train_test_split\n",
        "\n",
        "\n"
      ],
      "outputs": [],
      "execution_count": null,
      "metadata": {
        "gather": {
          "logged": 1604336147266
        },
        "jupyter": {
          "outputs_hidden": false,
          "source_hidden": false
        },
        "nteract": {
          "transient": {
            "deleting": false
          }
        }
      }
    },
    {
      "cell_type": "markdown",
      "source": [
        "## Dataset\n",
        "\n",
        "### Overview\n",
        "TODO: In this markdown cell, give an overview of the dataset you are using. Also mention the task you will be performing.\n",
        "\n",
        "\n",
        "TODO: Get data. In the cell below, write code to access the data you will be using in this project. Remember that the dataset needs to be external."
      ],
      "metadata": {}
    },
    {
      "cell_type": "code",
      "source": [
        "ws = Workspace.from_config()\n",
        "\n",
        "# choose a name for experiment\n",
        "experiment_name = 'capstone-automl'\n",
        "\n",
        "experiment=Experiment(ws, experiment_name)\n",
        "\n"
      ],
      "outputs": [],
      "execution_count": 2,
      "metadata": {
        "gather": {
          "logged": 1604336150375
        },
        "jupyter": {
          "outputs_hidden": false,
          "source_hidden": false
        },
        "nteract": {
          "transient": {
            "deleting": false
          }
        }
      }
    },
    {
      "cell_type": "markdown",
      "source": [
        "### Data Preprocessing"
      ],
      "metadata": {
        "nteract": {
          "transient": {
            "deleting": false
          }
        }
      }
    },
    {
      "cell_type": "code",
      "source": [
        "df = pd.read_csv(\"Corona_NLP_train.csv\")"
      ],
      "outputs": [],
      "execution_count": 3,
      "metadata": {
        "collapsed": true,
        "jupyter": {
          "source_hidden": false,
          "outputs_hidden": false
        },
        "nteract": {
          "transient": {
            "deleting": false
          }
        },
        "gather": {
          "logged": 1604336150786
        }
      }
    },
    {
      "cell_type": "code",
      "source": [
        "df.head()"
      ],
      "outputs": [
        {
          "output_type": "execute_result",
          "execution_count": 4,
          "data": {
            "text/plain": "  Unnamed: 0 UserName  ScreenName   Location     TweetAt  \\\n0          0     3799     48751.0     London  16-03-2020   \n1          1     3800     48752.0         UK  16-03-2020   \n2          2     3801     48753.0  Vagabonds  16-03-2020   \n3          3     3802     48754.0        NaN  16-03-2020   \n4          4     3803     48755.0        NaN  16-03-2020   \n\n                                       OriginalTweet           Sentiment  \n0  @MeNyrbie @Phil_Gahan @Chrisitv https://t.co/i...             Neutral  \n1  advice Talk to your neighbours family to excha...            Positive  \n2  Coronavirus Australia: Woolworths to give elde...            Positive  \n3  My food stock is not the only one which is emp...            Positive  \n4  Me, ready to go at supermarket during the #COV...  Extremely Negative  ",
            "text/html": "<div>\n<style scoped>\n    .dataframe tbody tr th:only-of-type {\n        vertical-align: middle;\n    }\n\n    .dataframe tbody tr th {\n        vertical-align: top;\n    }\n\n    .dataframe thead th {\n        text-align: right;\n    }\n</style>\n<table border=\"1\" class=\"dataframe\">\n  <thead>\n    <tr style=\"text-align: right;\">\n      <th></th>\n      <th>Unnamed: 0</th>\n      <th>UserName</th>\n      <th>ScreenName</th>\n      <th>Location</th>\n      <th>TweetAt</th>\n      <th>OriginalTweet</th>\n      <th>Sentiment</th>\n    </tr>\n  </thead>\n  <tbody>\n    <tr>\n      <th>0</th>\n      <td>0</td>\n      <td>3799</td>\n      <td>48751.0</td>\n      <td>London</td>\n      <td>16-03-2020</td>\n      <td>@MeNyrbie @Phil_Gahan @Chrisitv https://t.co/i...</td>\n      <td>Neutral</td>\n    </tr>\n    <tr>\n      <th>1</th>\n      <td>1</td>\n      <td>3800</td>\n      <td>48752.0</td>\n      <td>UK</td>\n      <td>16-03-2020</td>\n      <td>advice Talk to your neighbours family to excha...</td>\n      <td>Positive</td>\n    </tr>\n    <tr>\n      <th>2</th>\n      <td>2</td>\n      <td>3801</td>\n      <td>48753.0</td>\n      <td>Vagabonds</td>\n      <td>16-03-2020</td>\n      <td>Coronavirus Australia: Woolworths to give elde...</td>\n      <td>Positive</td>\n    </tr>\n    <tr>\n      <th>3</th>\n      <td>3</td>\n      <td>3802</td>\n      <td>48754.0</td>\n      <td>NaN</td>\n      <td>16-03-2020</td>\n      <td>My food stock is not the only one which is emp...</td>\n      <td>Positive</td>\n    </tr>\n    <tr>\n      <th>4</th>\n      <td>4</td>\n      <td>3803</td>\n      <td>48755.0</td>\n      <td>NaN</td>\n      <td>16-03-2020</td>\n      <td>Me, ready to go at supermarket during the #COV...</td>\n      <td>Extremely Negative</td>\n    </tr>\n  </tbody>\n</table>\n</div>"
          },
          "metadata": {}
        }
      ],
      "execution_count": 4,
      "metadata": {
        "gather": {
          "logged": 1604336150991
        }
      }
    },
    {
      "cell_type": "code",
      "source": [
        "df.Sentiment.unique()"
      ],
      "outputs": [
        {
          "output_type": "execute_result",
          "execution_count": 5,
          "data": {
            "text/plain": "array(['Neutral', 'Positive', 'Extremely Negative', 'Negative',\n       'Extremely Positive', nan], dtype=object)"
          },
          "metadata": {}
        }
      ],
      "execution_count": 5,
      "metadata": {
        "gather": {
          "logged": 1604336151213
        }
      }
    },
    {
      "cell_type": "code",
      "source": [
        "df.info()"
      ],
      "outputs": [
        {
          "output_type": "stream",
          "name": "stdout",
          "text": [
            "<class 'pandas.core.frame.DataFrame'>\n",
            "RangeIndex: 41159 entries, 0 to 41158\n",
            "Data columns (total 7 columns):\n",
            "Unnamed: 0       41158 non-null object\n",
            "UserName         41158 non-null object\n",
            "ScreenName       41157 non-null float64\n",
            "Location         32567 non-null object\n",
            "TweetAt          41157 non-null object\n",
            "OriginalTweet    41157 non-null object\n",
            "Sentiment        41155 non-null object\n",
            "dtypes: float64(1), object(6)\n",
            "memory usage: 2.2+ MB\n"
          ]
        }
      ],
      "execution_count": 6,
      "metadata": {
        "collapsed": true,
        "jupyter": {
          "source_hidden": false,
          "outputs_hidden": false
        },
        "nteract": {
          "transient": {
            "deleting": false
          }
        },
        "gather": {
          "logged": 1604336151436
        }
      }
    },
    {
      "cell_type": "code",
      "source": [
        "df_modified = df[[\"OriginalTweet\", \"Sentiment\"]].copy()\r\n",
        "df_modified[\"OriginalTweet\"] = df_modified[\"OriginalTweet\"].astype(\"str\")\r\n",
        "df_modified[\"Sentiment\"] = df_modified[\"Sentiment\"].astype(\"str\")\r\n",
        "df_modified = df_modified[df_modified[\"Sentiment\"] != \"nan\"]\r\n",
        "\r\n",
        "       \r\n",
        "positive = df_modified[\"Sentiment\"].isin([\"Neutral\", \"Positive\", 'Extremely Positive'])\r\n",
        "negative = df_modified[\"Sentiment\"].isin(['Extremely Negative', 'Negative'])\r\n",
        "\r\n",
        "df_modified.loc[positive, \"Sentiment\"] = 1\r\n",
        "df_modified.loc[negative, \"Sentiment\"] = 0\r\n",
        "\r\n",
        "df_modified[\"Sentiment\"] = df_modified[\"Sentiment\"].astype(\"int\")"
      ],
      "outputs": [],
      "execution_count": 7,
      "metadata": {
        "collapsed": true,
        "jupyter": {
          "source_hidden": false,
          "outputs_hidden": false
        },
        "nteract": {
          "transient": {
            "deleting": false
          }
        },
        "gather": {
          "logged": 1604336151612
        }
      }
    },
    {
      "cell_type": "code",
      "source": [
        "df_modified[\"Sentiment\"].unique()"
      ],
      "outputs": [
        {
          "output_type": "execute_result",
          "execution_count": 8,
          "data": {
            "text/plain": "array([1, 0])"
          },
          "metadata": {}
        }
      ],
      "execution_count": 8,
      "metadata": {
        "collapsed": true,
        "jupyter": {
          "source_hidden": false,
          "outputs_hidden": false
        },
        "nteract": {
          "transient": {
            "deleting": false
          }
        },
        "gather": {
          "logged": 1604336151847
        }
      }
    },
    {
      "cell_type": "code",
      "source": [
        "df_modified.head()"
      ],
      "outputs": [
        {
          "output_type": "execute_result",
          "execution_count": 9,
          "data": {
            "text/plain": "                                       OriginalTweet  Sentiment\n0  @MeNyrbie @Phil_Gahan @Chrisitv https://t.co/i...          1\n1  advice Talk to your neighbours family to excha...          1\n2  Coronavirus Australia: Woolworths to give elde...          1\n3  My food stock is not the only one which is emp...          1\n4  Me, ready to go at supermarket during the #COV...          0",
            "text/html": "<div>\n<style scoped>\n    .dataframe tbody tr th:only-of-type {\n        vertical-align: middle;\n    }\n\n    .dataframe tbody tr th {\n        vertical-align: top;\n    }\n\n    .dataframe thead th {\n        text-align: right;\n    }\n</style>\n<table border=\"1\" class=\"dataframe\">\n  <thead>\n    <tr style=\"text-align: right;\">\n      <th></th>\n      <th>OriginalTweet</th>\n      <th>Sentiment</th>\n    </tr>\n  </thead>\n  <tbody>\n    <tr>\n      <th>0</th>\n      <td>@MeNyrbie @Phil_Gahan @Chrisitv https://t.co/i...</td>\n      <td>1</td>\n    </tr>\n    <tr>\n      <th>1</th>\n      <td>advice Talk to your neighbours family to excha...</td>\n      <td>1</td>\n    </tr>\n    <tr>\n      <th>2</th>\n      <td>Coronavirus Australia: Woolworths to give elde...</td>\n      <td>1</td>\n    </tr>\n    <tr>\n      <th>3</th>\n      <td>My food stock is not the only one which is emp...</td>\n      <td>1</td>\n    </tr>\n    <tr>\n      <th>4</th>\n      <td>Me, ready to go at supermarket during the #COV...</td>\n      <td>0</td>\n    </tr>\n  </tbody>\n</table>\n</div>"
          },
          "metadata": {}
        }
      ],
      "execution_count": 9,
      "metadata": {
        "collapsed": true,
        "jupyter": {
          "source_hidden": false,
          "outputs_hidden": false
        },
        "nteract": {
          "transient": {
            "deleting": false
          }
        },
        "gather": {
          "logged": 1604336151934
        }
      }
    },
    {
      "cell_type": "code",
      "source": [
        "df_modified.info()"
      ],
      "outputs": [
        {
          "output_type": "stream",
          "name": "stdout",
          "text": [
            "<class 'pandas.core.frame.DataFrame'>\n",
            "Int64Index: 41155 entries, 0 to 41158\n",
            "Data columns (total 2 columns):\n",
            "OriginalTweet    41155 non-null object\n",
            "Sentiment        41155 non-null int64\n",
            "dtypes: int64(1), object(1)\n",
            "memory usage: 964.6+ KB\n"
          ]
        }
      ],
      "execution_count": 10,
      "metadata": {
        "collapsed": true,
        "jupyter": {
          "source_hidden": false,
          "outputs_hidden": false
        },
        "nteract": {
          "transient": {
            "deleting": false
          }
        },
        "gather": {
          "logged": 1604336152151
        }
      }
    },
    {
      "cell_type": "markdown",
      "source": [
        "## AutoML Configuration\n",
        "\n",
        "TODO: Explain why you chose the automl settings and cofiguration you used below."
      ],
      "metadata": {}
    },
    {
      "cell_type": "code",
      "source": [
        "# TODO: Put your automl settings here\n",
        "automl_settings = {\"experiment_timeout_minutes\":30,\n",
        "    \"task\":\"classification\",\n",
        "    \"primary_metric\":\"accuracy\",\n",
        "    \"training_data\":df_modified,\n",
        "    \"label_column_name\":\"Sentiment\",\n",
        "    \"n_cross_validations\":3}\n",
        "\n",
        "# TODO: Put your automl config here\n",
        "automl_config = AutoMLConfig(**automl_settings)"
      ],
      "outputs": [],
      "execution_count": 11,
      "metadata": {
        "gather": {
          "logged": 1604336152318
        },
        "jupyter": {
          "outputs_hidden": false,
          "source_hidden": false
        },
        "nteract": {
          "transient": {
            "deleting": false
          }
        }
      }
    },
    {
      "cell_type": "markdown",
      "source": [
        "## Submit Experiment & Run Details\r\n",
        "\r\n",
        "OPTIONAL: Write about the different models trained and their performance. Why do you think some models did better than others?\r\n",
        "\r\n",
        "TODO: In the cell below, use the `RunDetails` widget to show the different experiments."
      ],
      "metadata": {
        "nteract": {
          "transient": {
            "deleting": false
          }
        }
      }
    },
    {
      "cell_type": "code",
      "source": [
        "# TODO: Submit your experiment\n",
        "automl_run = experiment.submit(automl_config, show_output=True)\n",
        "RunDetails(automl_run).show()"
      ],
      "outputs": [
        {
          "output_type": "stream",
          "name": "stdout",
          "text": [
            "Running on local machine\n",
            "Parent Run ID: AutoML_2a9a1e55-b3a6-40e9-a09d-9463a869d0a9\n",
            "\n",
            "Current status: DatasetEvaluation. Gathering dataset statistics.\n",
            "Current status: FeaturesGeneration. Generating features for the dataset.\n",
            "Current status: DatasetFeaturization. Beginning to fit featurizers and featurize the dataset.\n",
            "Current status: DatasetFeaturizationCompleted. Completed fit featurizers and featurizing the dataset.\n",
            "Current status: DatasetCrossValidationSplit. Generating individually featurized CV splits.\n",
            "\n",
            "********************************************************************************************************************\n",
            "DATA GUARDRAILS: \n",
            "\n",
            "TYPE:         Class balancing detection\n",
            "STATUS:       PASSED\n",
            "DESCRIPTION:  Your inputs were analyzed, and all classes are balanced in your training data.\n",
            "              Learn more about imbalanced data: https://aka.ms/AutomatedMLImbalancedData\n",
            "\n",
            "********************************************************************************************************************\n",
            "\n",
            "TYPE:         Missing feature values imputation\n",
            "STATUS:       PASSED\n",
            "DESCRIPTION:  No feature missing values were detected in the training data.\n",
            "              Learn more about missing value imputation: https://aka.ms/AutomatedMLFeaturization\n",
            "\n",
            "********************************************************************************************************************\n",
            "\n",
            "TYPE:         High cardinality feature detection\n",
            "STATUS:       DONE\n",
            "DESCRIPTION:  High cardinality features were detected in your inputs and handled.\n",
            "              Learn more about high cardinality feature handling: https://aka.ms/AutomatedMLFeaturization\n",
            "DETAILS:      High cardinality features refer to columns that contain a large percentage of unique values.\n",
            "+--------------------------------------+--------------------------------------+\n",
            "|Column name                           |Column Content Type                   |\n",
            "+======================================+======================================+\n",
            "|OriginalTweet                         |text                                  |\n",
            "+--------------------------------------+--------------------------------------+\n",
            "\n",
            "********************************************************************************************************************\n",
            "Current status: ModelSelection. Beginning model selection.\n",
            "\n",
            "********************************************************************************************************************\n",
            "ITERATION: The iteration being evaluated.\n",
            "PIPELINE: A summary description of the pipeline being evaluated.\n",
            "SAMPLING %: Percent of the training data to sample.\n",
            "DURATION: Time taken for the current iteration.\n",
            "METRIC: The result of computing score on the fitted pipeline.\n",
            "BEST: The best observed score thus far.\n",
            "********************************************************************************************************************\n",
            "\n",
            " ITERATION   PIPELINE                                       SAMPLING %  DURATION      METRIC      BEST\n",
            "         0   MaxAbsScaler LightGBM                          5.0000      0:05:14       0.7087    0.7087\n",
            "         1   MaxAbsScaler XGBoostClassifier                 5.0000      0:10:53       0.7044    0.7087\n",
            "         2   MaxAbsScaler RandomForest                      5.0000      0:02:05       0.6300    0.7087\n",
            "         3   MaxAbsScaler RandomForest                      5.0000      0:02:05       0.6259    0.7087\n",
            "         4   MaxAbsScaler SGD                               5.0000      0:02:06       0.7071    0.7087\n",
            "         5   MaxAbsScaler SGD                               5.0000      0:02:11       0.7053    0.7087\n",
            "         6   MaxAbsScaler ExtremeRandomTrees                5.0000      0:02:46       0.6964    0.7087\n",
            "         7   VotingEnsemble                                 100.0000    0:01:58       0.7234    0.7234\n",
            "         8   StackEnsemble                                  100.0000    0:02:07       0.7237    0.7237\n",
            "Stopping criteria reached at iteration 9. Ending experiment.\n",
            "********************************************************************************************************************\n",
            "Current status: BestRunExplainModel. Best run model explanations started\n",
            "Current status: ModelExplanationDataSetSetup. Model explanations data setup completed\n",
            "Current status: PickSurrogateModel. Choosing LinearModel as the surrogate model for explanations\n",
            "Current status: EngineeredFeatureExplanations. Computation of engineered features started\n",
            "Current status: EngineeredFeatureExplanations. Computation of engineered features completed\n",
            "Current status: BestRunExplainModel. Best run model explanations completed\n",
            "********************************************************************************************************************\n"
          ]
        },
        {
          "output_type": "stream",
          "name": "stderr",
          "text": [
            "WARNING - Connection pool is full, discarding connection: mlstrg124233.blob.core.windows.net\n",
            "WARNING - Connection pool is full, discarding connection: mlstrg124233.blob.core.windows.net\n",
            "WARNING - Connection pool is full, discarding connection: mlstrg124233.blob.core.windows.net\n",
            "WARNING - Connection pool is full, discarding connection: mlstrg124233.blob.core.windows.net\n",
            "WARNING - Connection pool is full, discarding connection: mlstrg124233.blob.core.windows.net\n",
            "WARNING - Connection pool is full, discarding connection: mlstrg124233.blob.core.windows.net\n",
            "WARNING - Connection pool is full, discarding connection: mlstrg124233.blob.core.windows.net\n",
            "WARNING - Connection pool is full, discarding connection: mlstrg124233.blob.core.windows.net\n",
            "WARNING - Connection pool is full, discarding connection: mlstrg124233.blob.core.windows.net\n",
            "WARNING - Connection pool is full, discarding connection: mlstrg124233.blob.core.windows.net\n",
            "WARNING - Connection pool is full, discarding connection: mlstrg124233.blob.core.windows.net\n",
            "WARNING - Connection pool is full, discarding connection: mlstrg124233.blob.core.windows.net\n"
          ]
        },
        {
          "output_type": "display_data",
          "data": {
            "text/plain": "_AutoMLWidget(widget_settings={'childWidgetDisplay': 'popup', 'send_telemetry': False, 'log_level': 'INFO', 's…",
            "application/vnd.jupyter.widget-view+json": {
              "version_major": 2,
              "version_minor": 0,
              "model_id": "2483ed97599347459f0f7ab03a1903d4"
            }
          },
          "metadata": {}
        },
        {
          "output_type": "display_data",
          "data": {
            "application/aml.mini.widget.v1": "{\"status\": \"Completed\", \"workbench_run_details_uri\": \"https://ml.azure.com/experiments/capstone-automl/runs/AutoML_2a9a1e55-b3a6-40e9-a09d-9463a869d0a9?wsid=/subscriptions/30d182b7-c8c4-421c-8fa0-d3037ecfe6d2/resourcegroups/aml-quickstarts-124233/workspaces/quick-starts-ws-124233\", \"run_id\": \"AutoML_2a9a1e55-b3a6-40e9-a09d-9463a869d0a9\", \"run_properties\": {\"run_id\": \"AutoML_2a9a1e55-b3a6-40e9-a09d-9463a869d0a9\", \"created_utc\": \"2020-11-02T16:56:03.12402Z\", \"properties\": {\"num_iterations\": \"1000\", \"training_type\": \"TrainFull\", \"acquisition_function\": \"EI\", \"primary_metric\": \"accuracy\", \"train_split\": \"0\", \"acquisition_parameter\": \"0\", \"num_cross_validation\": \"3\", \"target\": \"local\", \"AMLSettingsJsonString\": \"{\\\"path\\\":null,\\\"name\\\":\\\"capstone-automl\\\",\\\"subscription_id\\\":\\\"30d182b7-c8c4-421c-8fa0-d3037ecfe6d2\\\",\\\"resource_group\\\":\\\"aml-quickstarts-124233\\\",\\\"workspace_name\\\":\\\"quick-starts-ws-124233\\\",\\\"region\\\":\\\"southcentralus\\\",\\\"compute_target\\\":\\\"local\\\",\\\"spark_service\\\":null,\\\"azure_service\\\":\\\"Microsoft.AzureNotebookVM\\\",\\\"_local_managed_run_id\\\":null,\\\"many_models\\\":false,\\\"pipeline_fetch_max_batch_size\\\":1,\\\"iterations\\\":1000,\\\"primary_metric\\\":\\\"accuracy\\\",\\\"task_type\\\":\\\"classification\\\",\\\"data_script\\\":null,\\\"validation_size\\\":0.0,\\\"n_cross_validations\\\":3,\\\"y_min\\\":null,\\\"y_max\\\":null,\\\"num_classes\\\":2,\\\"featurization\\\":\\\"auto\\\",\\\"_ignore_package_version_incompatibilities\\\":false,\\\"is_timeseries\\\":false,\\\"max_cores_per_iteration\\\":1,\\\"max_concurrent_iterations\\\":1,\\\"iteration_timeout_minutes\\\":null,\\\"mem_in_mb\\\":null,\\\"enforce_time_on_windows\\\":false,\\\"experiment_timeout_minutes\\\":30,\\\"experiment_exit_score\\\":null,\\\"whitelist_models\\\":null,\\\"blacklist_algos\\\":[\\\"TensorFlowLinearClassifier\\\",\\\"TensorFlowDNN\\\"],\\\"supported_models\\\":[\\\"MultinomialNaiveBayes\\\",\\\"ExtremeRandomTrees\\\",\\\"LogisticRegression\\\",\\\"SVM\\\",\\\"KNN\\\",\\\"LightGBM\\\",\\\"DecisionTree\\\",\\\"TensorFlowLinearClassifier\\\",\\\"LinearSVM\\\",\\\"XGBoostClassifier\\\",\\\"TensorFlowDNN\\\",\\\"SGD\\\",\\\"AveragedPerceptronClassifier\\\",\\\"BernoulliNaiveBayes\\\",\\\"GradientBoosting\\\",\\\"RandomForest\\\"],\\\"auto_blacklist\\\":true,\\\"blacklist_samples_reached\\\":false,\\\"exclude_nan_labels\\\":true,\\\"verbosity\\\":20,\\\"_debug_log\\\":\\\"automl.log\\\",\\\"show_warnings\\\":false,\\\"model_explainability\\\":true,\\\"service_url\\\":null,\\\"sdk_url\\\":null,\\\"sdk_packages\\\":null,\\\"enable_onnx_compatible_models\\\":false,\\\"enable_split_onnx_featurizer_estimator_models\\\":false,\\\"vm_type\\\":null,\\\"telemetry_verbosity\\\":20,\\\"send_telemetry\\\":true,\\\"enable_dnn\\\":false,\\\"force_text_dnn\\\":false,\\\"enable_feature_sweeping\\\":true,\\\"enable_early_stopping\\\":false,\\\"early_stopping_n_iters\\\":10,\\\"metrics\\\":null,\\\"enable_ensembling\\\":true,\\\"enable_stack_ensembling\\\":true,\\\"ensemble_iterations\\\":15,\\\"enable_tf\\\":false,\\\"enable_subsampling\\\":null,\\\"subsample_seed\\\":null,\\\"enable_nimbusml\\\":false,\\\"enable_streaming\\\":false,\\\"force_streaming\\\":false,\\\"track_child_runs\\\":true,\\\"label_column_name\\\":\\\"Sentiment\\\",\\\"weight_column_name\\\":null,\\\"cv_split_column_names\\\":null,\\\"enable_local_managed\\\":false,\\\"cost_mode\\\":1,\\\"lag_length\\\":0,\\\"metric_operation\\\":\\\"maximize\\\",\\\"preprocess\\\":true,\\\"scenario\\\":\\\"SDK-1.13.0\\\"}\", \"DataPrepJsonString\": null, \"EnableSubsampling\": null, \"runTemplate\": \"AutoML\", \"azureml.runsource\": \"automl\", \"display_task_type\": \"classification\", \"dependencies_versions\": \"{\\\"azureml-widgets\\\": \\\"1.16.0\\\", \\\"azureml-train\\\": \\\"1.16.0\\\", \\\"azureml-train-restclients-hyperdrive\\\": \\\"1.16.0\\\", \\\"azureml-train-core\\\": \\\"1.16.0\\\", \\\"azureml-train-automl\\\": \\\"1.16.0\\\", \\\"azureml-train-automl-runtime\\\": \\\"1.16.0\\\", \\\"azureml-train-automl-client\\\": \\\"1.16.0\\\", \\\"azureml-tensorboard\\\": \\\"1.16.0\\\", \\\"azureml-telemetry\\\": \\\"1.16.0\\\", \\\"azureml-sdk\\\": \\\"1.16.0\\\", \\\"azureml-samples\\\": \\\"0+unknown\\\", \\\"azureml-pipeline\\\": \\\"1.16.0\\\", \\\"azureml-pipeline-steps\\\": \\\"1.16.0\\\", \\\"azureml-pipeline-core\\\": \\\"1.16.0\\\", \\\"azureml-opendatasets\\\": \\\"1.16.0\\\", \\\"azureml-model-management-sdk\\\": \\\"1.0.1b6.post1\\\", \\\"azureml-mlflow\\\": \\\"1.16.0\\\", \\\"azureml-interpret\\\": \\\"1.16.0\\\", \\\"azureml-explain-model\\\": \\\"1.16.0\\\", \\\"azureml-defaults\\\": \\\"1.16.0\\\", \\\"azureml-dataset-runtime\\\": \\\"1.16.0\\\", \\\"azureml-dataprep\\\": \\\"2.3.2\\\", \\\"azureml-dataprep-rslex\\\": \\\"1.1.1\\\", \\\"azureml-dataprep-native\\\": \\\"23.0.0\\\", \\\"azureml-datadrift\\\": \\\"1.16.0\\\", \\\"azureml-core\\\": \\\"1.16.0\\\", \\\"azureml-contrib-services\\\": \\\"1.16.0\\\", \\\"azureml-contrib-server\\\": \\\"1.16.0\\\", \\\"azureml-contrib-reinforcementlearning\\\": \\\"1.16.0\\\", \\\"azureml-contrib-pipeline-steps\\\": \\\"1.16.0\\\", \\\"azureml-contrib-notebook\\\": \\\"1.16.0\\\", \\\"azureml-contrib-interpret\\\": \\\"1.16.0\\\", \\\"azureml-contrib-gbdt\\\": \\\"1.16.0\\\", \\\"azureml-contrib-fairness\\\": \\\"1.16.0\\\", \\\"azureml-contrib-dataset\\\": \\\"1.16.0\\\", \\\"azureml-cli-common\\\": \\\"1.16.0\\\", \\\"azureml-automl-runtime\\\": \\\"1.16.0\\\", \\\"azureml-automl-core\\\": \\\"1.16.0\\\", \\\"azureml-accel-models\\\": \\\"1.16.0\\\"}\", \"_aml_system_scenario_identification\": \"Local.Parent\", \"ClientSdkVersion\": \"1.16.0\", \"ClientType\": \"SDK\", \"environment_cpu_name\": \"AzureML-AutoML\", \"environment_cpu_version\": \"43\", \"environment_gpu_name\": \"AzureML-AutoML-GPU\", \"environment_gpu_version\": \"31\", \"root_attribution\": \"automl\", \"attribution\": \"AutoML\", \"Orchestrator\": \"AutoML\", \"_azureml.ComputeTargetType\": \"local\", \"ProblemInfoJsonString\": \"{\\\"dataset_num_categorical\\\": 0, \\\"is_sparse\\\": true, \\\"subsampling\\\": true, \\\"dataset_classes\\\": 2, \\\"dataset_features\\\": 623416, \\\"dataset_samples\\\": 41155, \\\"single_frequency_class_detected\\\": false}\", \"feature_skus\": \"automatedml_sdk_guardrails\"}, \"tags\": {\"model_explain_run\": \"best_run\", \"best_score\": \"0.7237275985160293\", \"best_pipeline\": \"StackEnsemble\", \"automl_best_child_run_id\": \"AutoML_2a9a1e55-b3a6-40e9-a09d-9463a869d0a9_8\", \"model_explain_best_run_child_id\": \"AutoML_2a9a1e55-b3a6-40e9-a09d-9463a869d0a9_8\"}, \"end_time_utc\": \"2020-11-02T17:31:40.458578Z\", \"status\": \"Completed\", \"log_files\": {}, \"log_groups\": [], \"run_duration\": \"0:35:37\"}, \"child_runs\": [{\"run_id\": \"AutoML_2a9a1e55-b3a6-40e9-a09d-9463a869d0a9_0\", \"run_number\": 2, \"metric\": null, \"status\": \"Completed\", \"run_type\": null, \"training_percent\": \"5\", \"start_time\": \"2020-11-02T17:00:02.832239Z\", \"end_time\": \"2020-11-02T17:05:16.869196Z\", \"created_time\": \"2020-11-02T17:00:02.434633Z\", \"created_time_dt\": \"2020-11-02T17:00:02.434633Z\", \"duration\": \"0:05:14\", \"iteration\": \"0\", \"goal\": \"accuracy_max\", \"run_name\": \"MaxAbsScaler, LightGBM\", \"run_properties\": \"copy=True\", \"primary_metric\": 0.70866253, \"best_metric\": 0.70866253}, {\"run_id\": \"AutoML_2a9a1e55-b3a6-40e9-a09d-9463a869d0a9_1\", \"run_number\": 3, \"metric\": null, \"status\": \"Completed\", \"run_type\": null, \"training_percent\": \"5\", \"start_time\": \"2020-11-02T17:05:17.516146Z\", \"end_time\": \"2020-11-02T17:16:10.56099Z\", \"created_time\": \"2020-11-02T17:05:17.385943Z\", \"created_time_dt\": \"2020-11-02T17:05:17.385943Z\", \"duration\": \"0:10:53\", \"iteration\": \"1\", \"goal\": \"accuracy_max\", \"run_name\": \"MaxAbsScaler, XGBoostClassifier\", \"run_properties\": \"copy=True\", \"primary_metric\": 0.70438618, \"best_metric\": 0.70866253}, {\"run_id\": \"AutoML_2a9a1e55-b3a6-40e9-a09d-9463a869d0a9_2\", \"run_number\": 4, \"metric\": null, \"status\": \"Completed\", \"run_type\": null, \"training_percent\": \"5\", \"start_time\": \"2020-11-02T17:16:11.289051Z\", \"end_time\": \"2020-11-02T17:18:16.49453Z\", \"created_time\": \"2020-11-02T17:16:11.192134Z\", \"created_time_dt\": \"2020-11-02T17:16:11.192134Z\", \"duration\": \"0:02:05\", \"iteration\": \"2\", \"goal\": \"accuracy_max\", \"run_name\": \"MaxAbsScaler, RandomForest\", \"run_properties\": \"copy=True\", \"primary_metric\": 0.62998446, \"best_metric\": 0.70866253}, {\"run_id\": \"AutoML_2a9a1e55-b3a6-40e9-a09d-9463a869d0a9_3\", \"run_number\": 5, \"metric\": null, \"status\": \"Completed\", \"run_type\": null, \"training_percent\": \"5\", \"start_time\": \"2020-11-02T17:18:17.964586Z\", \"end_time\": \"2020-11-02T17:20:23.851383Z\", \"created_time\": \"2020-11-02T17:18:17.855356Z\", \"created_time_dt\": \"2020-11-02T17:18:17.855356Z\", \"duration\": \"0:02:05\", \"iteration\": \"3\", \"goal\": \"accuracy_max\", \"run_name\": \"MaxAbsScaler, RandomForest\", \"run_properties\": \"copy=True\", \"primary_metric\": 0.62585365, \"best_metric\": 0.70866253}, {\"run_id\": \"AutoML_2a9a1e55-b3a6-40e9-a09d-9463a869d0a9_4\", \"run_number\": 6, \"metric\": null, \"status\": \"Completed\", \"run_type\": null, \"training_percent\": \"5\", \"start_time\": \"2020-11-02T17:20:25.284435Z\", \"end_time\": \"2020-11-02T17:22:32.254454Z\", \"created_time\": \"2020-11-02T17:20:25.173987Z\", \"created_time_dt\": \"2020-11-02T17:20:25.173987Z\", \"duration\": \"0:02:07\", \"iteration\": \"4\", \"goal\": \"accuracy_max\", \"run_name\": \"MaxAbsScaler, SGD\", \"run_properties\": \"copy=True\", \"primary_metric\": 0.70705883, \"best_metric\": 0.70866253}, {\"run_id\": \"AutoML_2a9a1e55-b3a6-40e9-a09d-9463a869d0a9_5\", \"run_number\": 7, \"metric\": null, \"status\": \"Completed\", \"run_type\": null, \"training_percent\": \"5\", \"start_time\": \"2020-11-02T17:22:34.48868Z\", \"end_time\": \"2020-11-02T17:24:45.676277Z\", \"created_time\": \"2020-11-02T17:22:34.345356Z\", \"created_time_dt\": \"2020-11-02T17:22:34.345356Z\", \"duration\": \"0:02:11\", \"iteration\": \"5\", \"goal\": \"accuracy_max\", \"run_name\": \"MaxAbsScaler, SGD\", \"run_properties\": \"copy=True\", \"primary_metric\": 0.70528506, \"best_metric\": 0.70866253}, {\"run_id\": \"AutoML_2a9a1e55-b3a6-40e9-a09d-9463a869d0a9_6\", \"run_number\": 8, \"metric\": null, \"status\": \"Completed\", \"run_type\": null, \"training_percent\": \"5\", \"start_time\": \"2020-11-02T17:24:46.981737Z\", \"end_time\": \"2020-11-02T17:27:33.267291Z\", \"created_time\": \"2020-11-02T17:24:46.869902Z\", \"created_time_dt\": \"2020-11-02T17:24:46.869902Z\", \"duration\": \"0:02:46\", \"iteration\": \"6\", \"goal\": \"accuracy_max\", \"run_name\": \"MaxAbsScaler, ExtremeRandomTrees\", \"run_properties\": \"copy=True\", \"primary_metric\": 0.69644052, \"best_metric\": 0.70866253}, {\"run_id\": \"AutoML_2a9a1e55-b3a6-40e9-a09d-9463a869d0a9_7\", \"run_number\": 9, \"metric\": null, \"status\": \"Completed\", \"run_type\": null, \"training_percent\": \"100\", \"start_time\": \"2020-11-02T17:27:33.757811Z\", \"end_time\": \"2020-11-02T17:29:32.11129Z\", \"created_time\": \"2020-11-02T17:27:33.637204Z\", \"created_time_dt\": \"2020-11-02T17:27:33.637204Z\", \"duration\": \"0:01:58\", \"iteration\": \"7\", \"goal\": \"accuracy_max\", \"run_name\": \"VotingEnsemble\", \"run_properties\": \"classification_labels=None,\\n                              estimators=[('0',\\n                                           Pipeline(memory=None,\\n                                                    steps=[('maxabsscaler',\\n                                                            MaxAbsScaler(copy=True\", \"primary_metric\": 0.7234361, \"best_metric\": 0.7234361}, {\"run_id\": \"AutoML_2a9a1e55-b3a6-40e9-a09d-9463a869d0a9_8\", \"run_number\": 10, \"metric\": null, \"status\": \"Completed\", \"run_type\": null, \"training_percent\": \"100\", \"start_time\": \"2020-11-02T17:29:32.51884Z\", \"end_time\": \"2020-11-02T17:31:39.762616Z\", \"created_time\": \"2020-11-02T17:29:32.405254Z\", \"created_time_dt\": \"2020-11-02T17:29:32.405254Z\", \"duration\": \"0:02:07\", \"iteration\": \"8\", \"goal\": \"accuracy_max\", \"run_name\": \"StackEnsemble\", \"run_properties\": \"base_learners=[('0',\\n                                        Pipeline(memory=None,\\n                                                 steps=[('maxabsscaler',\\n                                                         MaxAbsScaler(copy=True\", \"primary_metric\": 0.7237276, \"best_metric\": 0.7237276}], \"children_metrics\": {\"categories\": [0], \"series\": {\"recall_score_weighted\": [{\"categories\": [\"0\", \"1\", \"2\", \"3\", \"4\", \"5\", \"6\", \"7\", \"8\"], \"mode\": \"markers\", \"name\": \"recall_score_weighted\", \"stepped\": false, \"type\": \"scatter\", \"data\": [0.7086625282921699, 0.7043861779866041, 0.629984464207327, 0.6258536526977019, 0.70705882962231, 0.7052850558422814, 0.6964405231117397, 0.7234360976094077, 0.7237275985160293]}, {\"categories\": [\"0\", \"1\", \"2\", \"3\", \"4\", \"5\", \"6\", \"7\", \"8\"], \"mode\": \"lines\", \"name\": \"recall_score_weighted_max\", \"stepped\": true, \"type\": \"scatter\", \"data\": [0.7086625282921699, 0.7086625282921699, 0.7086625282921699, 0.7086625282921699, 0.7086625282921699, 0.7086625282921699, 0.7086625282921699, 0.7234360976094077, 0.7237275985160293]}], \"average_precision_score_micro\": [{\"categories\": [\"0\", \"1\", \"2\", \"3\", \"4\", \"5\", \"6\", \"7\", \"8\"], \"mode\": \"markers\", \"name\": \"average_precision_score_micro\", \"stepped\": false, \"type\": \"scatter\", \"data\": [0.765843237011902, 0.7530412791541213, 0.6769210118745629, 0.6262056008890534, 0.7737089898708712, 0.7706763108026896, 0.73419828729116, 0.788684911247949, 0.7906923318791619]}, {\"categories\": [\"0\", \"1\", \"2\", \"3\", \"4\", \"5\", \"6\", \"7\", \"8\"], \"mode\": \"lines\", \"name\": \"average_precision_score_micro_max\", \"stepped\": true, \"type\": \"scatter\", \"data\": [0.765843237011902, 0.765843237011902, 0.765843237011902, 0.765843237011902, 0.7737089898708712, 0.7737089898708712, 0.7737089898708712, 0.788684911247949, 0.7906923318791619]}], \"precision_score_weighted\": [{\"categories\": [\"0\", \"1\", \"2\", \"3\", \"4\", \"5\", \"6\", \"7\", \"8\"], \"mode\": \"markers\", \"name\": \"precision_score_weighted\", \"stepped\": false, \"type\": \"scatter\", \"data\": [0.7020087419821502, 0.7046724715272594, 0.6675201809661107, 0.39172975240389424, 0.6997362741298071, 0.6988660164957974, 0.6982683527346071, 0.7233540065712382, 0.7193654023979416]}, {\"categories\": [\"0\", \"1\", \"2\", \"3\", \"4\", \"5\", \"6\", \"7\", \"8\"], \"mode\": \"lines\", \"name\": \"precision_score_weighted_max\", \"stepped\": true, \"type\": \"scatter\", \"data\": [0.7020087419821502, 0.7046724715272594, 0.7046724715272594, 0.7046724715272594, 0.7046724715272594, 0.7046724715272594, 0.7046724715272594, 0.7233540065712382, 0.7233540065712382]}], \"recall_score_micro\": [{\"categories\": [\"0\", \"1\", \"2\", \"3\", \"4\", \"5\", \"6\", \"7\", \"8\"], \"mode\": \"markers\", \"name\": \"recall_score_micro\", \"stepped\": false, \"type\": \"scatter\", \"data\": [0.7086625282921699, 0.704386177986604, 0.629984464207327, 0.6258536526977019, 0.70705882962231, 0.7052850558422814, 0.6964405231117397, 0.7234360976094077, 0.7237275985160293]}, {\"categories\": [\"0\", \"1\", \"2\", \"3\", \"4\", \"5\", \"6\", \"7\", \"8\"], \"mode\": \"lines\", \"name\": \"recall_score_micro_max\", \"stepped\": true, \"type\": \"scatter\", \"data\": [0.7086625282921699, 0.7086625282921699, 0.7086625282921699, 0.7086625282921699, 0.7086625282921699, 0.7086625282921699, 0.7086625282921699, 0.7234360976094077, 0.7237275985160293]}], \"accuracy\": [{\"categories\": [\"0\", \"1\", \"2\", \"3\", \"4\", \"5\", \"6\", \"7\", \"8\"], \"mode\": \"markers\", \"name\": \"accuracy\", \"stepped\": false, \"type\": \"scatter\", \"data\": [0.7086625282921699, 0.704386177986604, 0.629984464207327, 0.6258536526977019, 0.70705882962231, 0.7052850558422814, 0.6964405231117397, 0.7234360976094077, 0.7237275985160293]}, {\"categories\": [\"0\", \"1\", \"2\", \"3\", \"4\", \"5\", \"6\", \"7\", \"8\"], \"mode\": \"lines\", \"name\": \"accuracy_max\", \"stepped\": true, \"type\": \"scatter\", \"data\": [0.7086625282921699, 0.7086625282921699, 0.7086625282921699, 0.7086625282921699, 0.7086625282921699, 0.7086625282921699, 0.7086625282921699, 0.7234360976094077, 0.7237275985160293]}], \"AUC_weighted\": [{\"categories\": [\"0\", \"1\", \"2\", \"3\", \"4\", \"5\", \"6\", \"7\", \"8\"], \"mode\": \"markers\", \"name\": \"AUC_weighted\", \"stepped\": false, \"type\": \"scatter\", \"data\": [0.7417540739451353, 0.7299122285734495, 0.6398719282665986, 0.5610221198147737, 0.7503618290412546, 0.7473809587821624, 0.7114130306431393, 0.7709930635556012, 0.7708746148030708]}, {\"categories\": [\"0\", \"1\", \"2\", \"3\", \"4\", \"5\", \"6\", \"7\", \"8\"], \"mode\": \"lines\", \"name\": \"AUC_weighted_max\", \"stepped\": true, \"type\": \"scatter\", \"data\": [0.7417540739451353, 0.7417540739451353, 0.7417540739451353, 0.7417540739451353, 0.7503618290412546, 0.7503618290412546, 0.7503618290412546, 0.7709930635556012, 0.7709930635556012]}], \"balanced_accuracy\": [{\"categories\": [\"0\", \"1\", \"2\", \"3\", \"4\", \"5\", \"6\", \"7\", \"8\"], \"mode\": \"markers\", \"name\": \"balanced_accuracy\", \"stepped\": false, \"type\": \"scatter\", \"data\": [0.658394049661937, 0.6363476492028118, 0.5066332209372906, 0.5, 0.6667326197100986, 0.6498330014502417, 0.6225568235250504, 0.6641026777981959, 0.6788577857429369]}, {\"categories\": [\"0\", \"1\", \"2\", \"3\", \"4\", \"5\", \"6\", \"7\", \"8\"], \"mode\": \"lines\", \"name\": \"balanced_accuracy_max\", \"stepped\": true, \"type\": \"scatter\", \"data\": [0.658394049661937, 0.658394049661937, 0.658394049661937, 0.658394049661937, 0.6667326197100986, 0.6667326197100986, 0.6667326197100986, 0.6667326197100986, 0.6788577857429369]}], \"f1_score_weighted\": [{\"categories\": [\"0\", \"1\", \"2\", \"3\", \"4\", \"5\", \"6\", \"7\", \"8\"], \"mode\": \"markers\", \"name\": \"f1_score_weighted\", \"stepped\": false, \"type\": \"scatter\", \"data\": [0.694167030068055, 0.6757580330167818, 0.49400919686477746, 0.48184751017687494, 0.6986141818653296, 0.6873849268495361, 0.6620061574895102, 0.7028346122102004, 0.7120953022582523]}, {\"categories\": [\"0\", \"1\", \"2\", \"3\", \"4\", \"5\", \"6\", \"7\", \"8\"], \"mode\": \"lines\", \"name\": \"f1_score_weighted_max\", \"stepped\": true, \"type\": \"scatter\", \"data\": [0.694167030068055, 0.694167030068055, 0.694167030068055, 0.694167030068055, 0.6986141818653296, 0.6986141818653296, 0.6986141818653296, 0.7028346122102004, 0.7120953022582523]}], \"AUC_micro\": [{\"categories\": [\"0\", \"1\", \"2\", \"3\", \"4\", \"5\", \"6\", \"7\", \"8\"], \"mode\": \"markers\", \"name\": \"AUC_micro\", \"stepped\": false, \"type\": \"scatter\", \"data\": [0.7757930055921928, 0.7653614285072593, 0.6916499319887706, 0.6544621948952836, 0.779759505497874, 0.7775868734305149, 0.7520609496990344, 0.7961801079781647, 0.7982373817801012]}, {\"categories\": [\"0\", \"1\", \"2\", \"3\", \"4\", \"5\", \"6\", \"7\", \"8\"], \"mode\": \"lines\", \"name\": \"AUC_micro_max\", \"stepped\": true, \"type\": \"scatter\", \"data\": [0.7757930055921928, 0.7757930055921928, 0.7757930055921928, 0.7757930055921928, 0.779759505497874, 0.779759505497874, 0.779759505497874, 0.7961801079781647, 0.7982373817801012]}], \"recall_score_macro\": [{\"categories\": [\"0\", \"1\", \"2\", \"3\", \"4\", \"5\", \"6\", \"7\", \"8\"], \"mode\": \"markers\", \"name\": \"recall_score_macro\", \"stepped\": false, \"type\": \"scatter\", \"data\": [0.658394049661937, 0.6363476492028118, 0.5066332209372906, 0.5, 0.6667326197100986, 0.6498330014502417, 0.6225568235250504, 0.6641026777981959, 0.6788577857429369]}, {\"categories\": [\"0\", \"1\", \"2\", \"3\", \"4\", \"5\", \"6\", \"7\", \"8\"], \"mode\": \"lines\", \"name\": \"recall_score_macro_max\", \"stepped\": true, \"type\": \"scatter\", \"data\": [0.658394049661937, 0.658394049661937, 0.658394049661937, 0.658394049661937, 0.6667326197100986, 0.6667326197100986, 0.6667326197100986, 0.6667326197100986, 0.6788577857429369]}], \"f1_score_macro\": [{\"categories\": [\"0\", \"1\", \"2\", \"3\", \"4\", \"5\", \"6\", \"7\", \"8\"], \"mode\": \"markers\", \"name\": \"f1_score_macro\", \"stepped\": false, \"type\": \"scatter\", \"data\": [0.6631342367899973, 0.6363124761853659, 0.4009413697004452, 0.3849298976092643, 0.6714553460270881, 0.6538711378764972, 0.6187874221562831, 0.6692619457875267, 0.6842448963931416]}, {\"categories\": [\"0\", \"1\", \"2\", \"3\", \"4\", \"5\", \"6\", \"7\", \"8\"], \"mode\": \"lines\", \"name\": \"f1_score_macro_max\", \"stepped\": true, \"type\": \"scatter\", \"data\": [0.6631342367899973, 0.6631342367899973, 0.6631342367899973, 0.6631342367899973, 0.6714553460270881, 0.6714553460270881, 0.6714553460270881, 0.6714553460270881, 0.6842448963931416]}], \"matthews_correlation\": [{\"categories\": [\"0\", \"1\", \"2\", \"3\", \"4\", \"5\", \"6\", \"7\", \"8\"], \"mode\": \"markers\", \"name\": \"matthews_correlation\", \"stepped\": false, \"type\": \"scatter\", \"data\": [0.35009785670083454, 0.33347402909603224, 0.055857595140684606, 0.0, 0.3531450768774602, 0.339147793339541, 0.3121945971395163, 0.3821377143090417, 0.3885781882088743]}, {\"categories\": [\"0\", \"1\", \"2\", \"3\", \"4\", \"5\", \"6\", \"7\", \"8\"], \"mode\": \"lines\", \"name\": \"matthews_correlation_max\", \"stepped\": true, \"type\": \"scatter\", \"data\": [0.35009785670083454, 0.35009785670083454, 0.35009785670083454, 0.35009785670083454, 0.3531450768774602, 0.3531450768774602, 0.3531450768774602, 0.3821377143090417, 0.3885781882088743]}], \"log_loss\": [{\"categories\": [\"0\", \"1\", \"2\", \"3\", \"4\", \"5\", \"6\", \"7\", \"8\"], \"mode\": \"markers\", \"name\": \"log_loss\", \"stepped\": false, \"type\": \"scatter\", \"data\": [0.6489426155649136, 0.5798151118147867, 0.642590924206707, 0.6589160404149836, 0.5710760651772907, 0.5672668128028894, 0.5924453073030674, 0.5493048247927302, 0.5481318387921265]}, {\"categories\": [\"0\", \"1\", \"2\", \"3\", \"4\", \"5\", \"6\", \"7\", \"8\"], \"mode\": \"lines\", \"name\": \"log_loss_min\", \"stepped\": true, \"type\": \"scatter\", \"data\": [0.6489426155649136, 0.5798151118147867, 0.5798151118147867, 0.5798151118147867, 0.5710760651772907, 0.5672668128028894, 0.5672668128028894, 0.5493048247927302, 0.5481318387921265]}], \"average_precision_score_macro\": [{\"categories\": [\"0\", \"1\", \"2\", \"3\", \"4\", \"5\", \"6\", \"7\", \"8\"], \"mode\": \"markers\", \"name\": \"average_precision_score_macro\", \"stepped\": false, \"type\": \"scatter\", \"data\": [0.7312971591302627, 0.7173676397102412, 0.6210976242119876, 0.5467963288753619, 0.7378911089577572, 0.7347508583546426, 0.6972026896384418, 0.7607001976357836, 0.7604775381757186]}, {\"categories\": [\"0\", \"1\", \"2\", \"3\", \"4\", \"5\", \"6\", \"7\", \"8\"], \"mode\": \"lines\", \"name\": \"average_precision_score_macro_max\", \"stepped\": true, \"type\": \"scatter\", \"data\": [0.7312971591302627, 0.7312971591302627, 0.7312971591302627, 0.7312971591302627, 0.7378911089577572, 0.7378911089577572, 0.7378911089577572, 0.7607001976357836, 0.7607001976357836]}], \"precision_score_macro\": [{\"categories\": [\"0\", \"1\", \"2\", \"3\", \"4\", \"5\", \"6\", \"7\", \"8\"], \"mode\": \"markers\", \"name\": \"precision_score_macro\", \"stepped\": false, \"type\": \"scatter\", \"data\": [0.693658722946242, 0.7042833779278631, 0.6805869517742513, 0.31292682634885094, 0.687043871547421, 0.692129992734431, 0.6990376979928644, 0.72270236740474, 0.711492419670229]}, {\"categories\": [\"0\", \"1\", \"2\", \"3\", \"4\", \"5\", \"6\", \"7\", \"8\"], \"mode\": \"lines\", \"name\": \"precision_score_macro_max\", \"stepped\": true, \"type\": \"scatter\", \"data\": [0.693658722946242, 0.7042833779278631, 0.7042833779278631, 0.7042833779278631, 0.7042833779278631, 0.7042833779278631, 0.7042833779278631, 0.72270236740474, 0.72270236740474]}], \"average_precision_score_weighted\": [{\"categories\": [\"0\", \"1\", \"2\", \"3\", \"4\", \"5\", \"6\", \"7\", \"8\"], \"mode\": \"markers\", \"name\": \"average_precision_score_weighted\", \"stepped\": false, \"type\": \"scatter\", \"data\": [0.7514669549549847, 0.7382656934145891, 0.6491779613278702, 0.577168808092103, 0.7593238540421859, 0.7562820853298274, 0.7182862425378443, 0.7795165458551493, 0.7791582973394543]}, {\"categories\": [\"0\", \"1\", \"2\", \"3\", \"4\", \"5\", \"6\", \"7\", \"8\"], \"mode\": \"lines\", \"name\": \"average_precision_score_weighted_max\", \"stepped\": true, \"type\": \"scatter\", \"data\": [0.7514669549549847, 0.7514669549549847, 0.7514669549549847, 0.7514669549549847, 0.7593238540421859, 0.7593238540421859, 0.7593238540421859, 0.7795165458551493, 0.7795165458551493]}], \"norm_macro_recall\": [{\"categories\": [\"0\", \"1\", \"2\", \"3\", \"4\", \"5\", \"6\", \"7\", \"8\"], \"mode\": \"markers\", \"name\": \"norm_macro_recall\", \"stepped\": false, \"type\": \"scatter\", \"data\": [0.3167880993238741, 0.27269529840562373, 0.013266441874581222, 0.0, 0.3334652394201974, 0.29966600290048345, 0.24511364705010075, 0.3282053555963918, 0.3577155714858738]}, {\"categories\": [\"0\", \"1\", \"2\", \"3\", \"4\", \"5\", \"6\", \"7\", \"8\"], \"mode\": \"lines\", \"name\": \"norm_macro_recall_max\", \"stepped\": true, \"type\": \"scatter\", \"data\": [0.3167880993238741, 0.3167880993238741, 0.3167880993238741, 0.3167880993238741, 0.3334652394201974, 0.3334652394201974, 0.3334652394201974, 0.3334652394201974, 0.3577155714858738]}], \"weighted_accuracy\": [{\"categories\": [\"0\", \"1\", \"2\", \"3\", \"4\", \"5\", \"6\", \"7\", \"8\"], \"mode\": \"markers\", \"name\": \"weighted_accuracy\", \"stepped\": false, \"type\": \"scatter\", \"data\": [0.7529679925933747, 0.7643255075539667, 0.7385768452659587, 0.7366191588730094, 0.7425958388388737, 0.7540921233759863, 0.7615034269844952, 0.7757057305317722, 0.7632888953122556]}, {\"categories\": [\"0\", \"1\", \"2\", \"3\", \"4\", \"5\", \"6\", \"7\", \"8\"], \"mode\": \"lines\", \"name\": \"weighted_accuracy_max\", \"stepped\": true, \"type\": \"scatter\", \"data\": [0.7529679925933747, 0.7643255075539667, 0.7643255075539667, 0.7643255075539667, 0.7643255075539667, 0.7643255075539667, 0.7643255075539667, 0.7757057305317722, 0.7757057305317722]}], \"precision_score_micro\": [{\"categories\": [\"0\", \"1\", \"2\", \"3\", \"4\", \"5\", \"6\", \"7\", \"8\"], \"mode\": \"markers\", \"name\": \"precision_score_micro\", \"stepped\": false, \"type\": \"scatter\", \"data\": [0.7086625282921699, 0.704386177986604, 0.629984464207327, 0.6258536526977019, 0.70705882962231, 0.7052850558422814, 0.6964405231117397, 0.7234360976094077, 0.7237275985160293]}, {\"categories\": [\"0\", \"1\", \"2\", \"3\", \"4\", \"5\", \"6\", \"7\", \"8\"], \"mode\": \"lines\", \"name\": \"precision_score_micro_max\", \"stepped\": true, \"type\": \"scatter\", \"data\": [0.7086625282921699, 0.7086625282921699, 0.7086625282921699, 0.7086625282921699, 0.7086625282921699, 0.7086625282921699, 0.7086625282921699, 0.7234360976094077, 0.7237275985160293]}], \"f1_score_micro\": [{\"categories\": [\"0\", \"1\", \"2\", \"3\", \"4\", \"5\", \"6\", \"7\", \"8\"], \"mode\": \"markers\", \"name\": \"f1_score_micro\", \"stepped\": false, \"type\": \"scatter\", \"data\": [0.7086625282921699, 0.7043861779866041, 0.629984464207327, 0.6258536526977019, 0.70705882962231, 0.7052850558422814, 0.6964405231117397, 0.7234360976094077, 0.7237275985160293]}, {\"categories\": [\"0\", \"1\", \"2\", \"3\", \"4\", \"5\", \"6\", \"7\", \"8\"], \"mode\": \"lines\", \"name\": \"f1_score_micro_max\", \"stepped\": true, \"type\": \"scatter\", \"data\": [0.7086625282921699, 0.7086625282921699, 0.7086625282921699, 0.7086625282921699, 0.7086625282921699, 0.7086625282921699, 0.7086625282921699, 0.7234360976094077, 0.7237275985160293]}], \"AUC_macro\": [{\"categories\": [\"0\", \"1\", \"2\", \"3\", \"4\", \"5\", \"6\", \"7\", \"8\"], \"mode\": \"markers\", \"name\": \"AUC_macro\", \"stepped\": false, \"type\": \"scatter\", \"data\": [0.7417540739451353, 0.7299122286373395, 0.6398719287396534, 0.5610221198147738, 0.7503618290412546, 0.7473809587821624, 0.7114130306431394, 0.7709930635556012, 0.7708746148030708]}, {\"categories\": [\"0\", \"1\", \"2\", \"3\", \"4\", \"5\", \"6\", \"7\", \"8\"], \"mode\": \"lines\", \"name\": \"AUC_macro_max\", \"stepped\": true, \"type\": \"scatter\", \"data\": [0.7417540739451353, 0.7417540739451353, 0.7417540739451353, 0.7417540739451353, 0.7503618290412546, 0.7503618290412546, 0.7503618290412546, 0.7709930635556012, 0.7709930635556012]}]}, \"metricName\": null, \"primaryMetricName\": \"accuracy\", \"showLegend\": false}, \"run_metrics\": [{\"name\": \"experiment_status\", \"run_id\": \"AutoML_2a9a1e55-b3a6-40e9-a09d-9463a869d0a9\", \"categories\": [0, 1, 2, 3, 4, 5, 6, 7, 8, 9, 10, 11], \"series\": [{\"data\": [\"DatasetEvaluation\", \"FeaturesGeneration\", \"DatasetFeaturization\", \"DatasetFeaturizationCompleted\", \"DatasetCrossValidationSplit\", \"ModelSelection\", \"BestRunExplainModel\", \"ModelExplanationDataSetSetup\", \"PickSurrogateModel\", \"EngineeredFeatureExplanations\", \"EngineeredFeatureExplanations\", \"BestRunExplainModel\"]}]}, {\"name\": \"experiment_status_description\", \"run_id\": \"AutoML_2a9a1e55-b3a6-40e9-a09d-9463a869d0a9\", \"categories\": [0, 1, 2, 3, 4, 5, 6, 7, 8, 9, 10, 11], \"series\": [{\"data\": [\"Gathering dataset statistics.\", \"Generating features for the dataset.\", \"Beginning to fit featurizers and featurize the dataset.\", \"Completed fit featurizers and featurizing the dataset.\", \"Generating individually featurized CV splits.\", \"Beginning model selection.\", \"Best run model explanations started\", \"Model explanations data setup completed\", \"Choosing LinearModel as the surrogate model for explanations\", \"Computation of engineered features started\", \"Computation of engineered features completed\", \"Best run model explanations completed\"]}]}, {\"name\": \"recall_score_weighted\", \"run_id\": \"AutoML_2a9a1e55-b3a6-40e9-a09d-9463a869d0a9\", \"categories\": [0], \"series\": [{\"data\": [0.7237275985160293]}]}, {\"name\": \"average_precision_score_micro\", \"run_id\": \"AutoML_2a9a1e55-b3a6-40e9-a09d-9463a869d0a9\", \"categories\": [0], \"series\": [{\"data\": [0.7906923318791619]}]}, {\"name\": \"precision_score_weighted\", \"run_id\": \"AutoML_2a9a1e55-b3a6-40e9-a09d-9463a869d0a9\", \"categories\": [0], \"series\": [{\"data\": [0.7193654023979416]}]}, {\"name\": \"recall_score_micro\", \"run_id\": \"AutoML_2a9a1e55-b3a6-40e9-a09d-9463a869d0a9\", \"categories\": [0], \"series\": [{\"data\": [0.7237275985160293]}]}, {\"name\": \"accuracy\", \"run_id\": \"AutoML_2a9a1e55-b3a6-40e9-a09d-9463a869d0a9\", \"categories\": [0], \"series\": [{\"data\": [0.7237275985160293]}]}, {\"name\": \"AUC_weighted\", \"run_id\": \"AutoML_2a9a1e55-b3a6-40e9-a09d-9463a869d0a9\", \"categories\": [0], \"series\": [{\"data\": [0.7708746148030708]}]}, {\"name\": \"balanced_accuracy\", \"run_id\": \"AutoML_2a9a1e55-b3a6-40e9-a09d-9463a869d0a9\", \"categories\": [0], \"series\": [{\"data\": [0.6788577857429369]}]}, {\"name\": \"f1_score_weighted\", \"run_id\": \"AutoML_2a9a1e55-b3a6-40e9-a09d-9463a869d0a9\", \"categories\": [0], \"series\": [{\"data\": [0.7120953022582523]}]}, {\"name\": \"AUC_micro\", \"run_id\": \"AutoML_2a9a1e55-b3a6-40e9-a09d-9463a869d0a9\", \"categories\": [0], \"series\": [{\"data\": [0.7982373817801012]}]}, {\"name\": \"recall_score_macro\", \"run_id\": \"AutoML_2a9a1e55-b3a6-40e9-a09d-9463a869d0a9\", \"categories\": [0], \"series\": [{\"data\": [0.6788577857429369]}]}, {\"name\": \"f1_score_macro\", \"run_id\": \"AutoML_2a9a1e55-b3a6-40e9-a09d-9463a869d0a9\", \"categories\": [0], \"series\": [{\"data\": [0.6842448963931416]}]}, {\"name\": \"matthews_correlation\", \"run_id\": \"AutoML_2a9a1e55-b3a6-40e9-a09d-9463a869d0a9\", \"categories\": [0], \"series\": [{\"data\": [0.3885781882088743]}]}, {\"name\": \"log_loss\", \"run_id\": \"AutoML_2a9a1e55-b3a6-40e9-a09d-9463a869d0a9\", \"categories\": [0], \"series\": [{\"data\": [0.5481318387921265]}]}, {\"name\": \"average_precision_score_macro\", \"run_id\": \"AutoML_2a9a1e55-b3a6-40e9-a09d-9463a869d0a9\", \"categories\": [0], \"series\": [{\"data\": [0.7604775381757186]}]}, {\"name\": \"precision_score_macro\", \"run_id\": \"AutoML_2a9a1e55-b3a6-40e9-a09d-9463a869d0a9\", \"categories\": [0], \"series\": [{\"data\": [0.711492419670229]}]}, {\"name\": \"average_precision_score_weighted\", \"run_id\": \"AutoML_2a9a1e55-b3a6-40e9-a09d-9463a869d0a9\", \"categories\": [0], \"series\": [{\"data\": [0.7791582973394543]}]}, {\"name\": \"norm_macro_recall\", \"run_id\": \"AutoML_2a9a1e55-b3a6-40e9-a09d-9463a869d0a9\", \"categories\": [0], \"series\": [{\"data\": [0.3577155714858738]}]}, {\"name\": \"weighted_accuracy\", \"run_id\": \"AutoML_2a9a1e55-b3a6-40e9-a09d-9463a869d0a9\", \"categories\": [0], \"series\": [{\"data\": [0.7632888953122556]}]}, {\"name\": \"precision_score_micro\", \"run_id\": \"AutoML_2a9a1e55-b3a6-40e9-a09d-9463a869d0a9\", \"categories\": [0], \"series\": [{\"data\": [0.7237275985160293]}]}, {\"name\": \"f1_score_micro\", \"run_id\": \"AutoML_2a9a1e55-b3a6-40e9-a09d-9463a869d0a9\", \"categories\": [0], \"series\": [{\"data\": [0.7237275985160293]}]}, {\"name\": \"AUC_macro\", \"run_id\": \"AutoML_2a9a1e55-b3a6-40e9-a09d-9463a869d0a9\", \"categories\": [0], \"series\": [{\"data\": [0.7708746148030708]}]}], \"run_logs\": \"\\nRun is completed.\", \"graph\": {}, \"widget_settings\": {\"childWidgetDisplay\": \"popup\", \"send_telemetry\": false, \"log_level\": \"INFO\", \"sdk_version\": \"1.16.0\"}, \"loading\": false}"
          },
          "metadata": {}
        }
      ],
      "execution_count": 12,
      "metadata": {
        "gather": {
          "logged": 1604338430254
        },
        "jupyter": {
          "outputs_hidden": false,
          "source_hidden": false
        },
        "nteract": {
          "transient": {
            "deleting": false
          }
        }
      }
    },
    {
      "cell_type": "markdown",
      "source": [
        "## Best Model\n",
        "\n",
        "TODO: In the cell below, get the best model from the automl experiments and display all the properties of the model.\n",
        "\n"
      ],
      "metadata": {}
    },
    {
      "cell_type": "code",
      "source": [
        "best_run_automl, best_model_automl = automl_run.get_output()\n",
        "best_run_metrics = best_run_automl.get_metrics()\n",
        "parameter_values = best_run_automl.get_details()\n",
        "\n",
        "print(\"Best Run Id: \", best_run_automl.id)\n",
        "print(\"\\n\")\n",
        "print(\"\\n\")\n",
        "print(\"Accuracy: \", best_run_metrics[\"accuracy\"])\n",
        "print(\"\\n\")\n",
        "print(\"\\n\")\n",
        "print(\"Parameters: \", parameter_values)\n",
        "print(\"\\n\")\n",
        "print(\"\\n\")\n",
        "print(\"Metrics for best run: \", best_run_automl.get_metrics())"
      ],
      "outputs": [
        {
          "output_type": "stream",
          "name": "stderr",
          "text": [
            "WARNING - Retrying (Retry(total=2, connect=None, read=None, redirect=None, status=None)) after connection broken by 'NewConnectionError('<urllib3.connection.HTTPSConnection object at 0x7f9bfdfc62e8>: Failed to establish a new connection: [Errno 111] Connection refused',)': /azureml/ExperimentRun/dcid.AutoML_2a9a1e55-b3a6-40e9-a09d-9463a869d0a9_8/outputs/model.pkl?sv=2019-02-02&sr=b&sig=rlyzRyKHeVGHj0ZQMRgIjcouKEJKBncKE6Z2mE%2B%2Fra0%3D&st=2020-11-02T17%3A34%3A25Z&se=2020-11-03T01%3A44%3A25Z&sp=r\n"
          ]
        },
        {
          "output_type": "stream",
          "name": "stdout",
          "text": [
            "Best Run Id:  AutoML_2a9a1e55-b3a6-40e9-a09d-9463a869d0a9_8\n",
            "\n",
            "\n",
            "\n",
            "\n",
            "Accuracy:  0.7237275985160293\n",
            "\n",
            "\n",
            "\n",
            "\n",
            "Parameters:  {'runId': 'AutoML_2a9a1e55-b3a6-40e9-a09d-9463a869d0a9_8', 'status': 'Completed', 'startTimeUtc': '2020-11-02T17:29:32.51884Z', 'endTimeUtc': '2020-11-02T17:31:39.762616Z', 'properties': {'runTemplate': 'automl_child', 'pipeline_id': '__AutoML_Stack_Ensemble__', 'pipeline_spec': '{\"pipeline_id\":\"__AutoML_Stack_Ensemble__\",\"objects\":[{\"module\":\"azureml.train.automl.stack_ensemble\",\"class_name\":\"StackEnsemble\",\"spec_class\":\"sklearn\",\"param_args\":[],\"param_kwargs\":{\"automl_settings\":\"{\\'task_type\\':\\'classification\\',\\'primary_metric\\':\\'accuracy\\',\\'verbosity\\':20,\\'ensemble_iterations\\':15,\\'is_timeseries\\':False,\\'name\\':\\'capstone-automl\\',\\'compute_target\\':\\'local\\',\\'subscription_id\\':\\'30d182b7-c8c4-421c-8fa0-d3037ecfe6d2\\',\\'region\\':\\'southcentralus\\',\\'spark_service\\':None}\",\"ensemble_run_id\":\"AutoML_2a9a1e55-b3a6-40e9-a09d-9463a869d0a9_8\",\"experiment_name\":\"capstone-automl\",\"workspace_name\":\"quick-starts-ws-124233\",\"subscription_id\":\"30d182b7-c8c4-421c-8fa0-d3037ecfe6d2\",\"resource_group_name\":\"aml-quickstarts-124233\"}}]}', 'training_percent': '100', 'predicted_cost': None, 'iteration': '8', '_azureml.ComputeTargetType': 'local', '_aml_system_scenario_identification': 'Local.Child', 'run_template': 'automl_child', 'run_preprocessor': '', 'run_algorithm': 'StackEnsemble', 'conda_env_data_location': 'aml://artifact/ExperimentRun/dcid.AutoML_2a9a1e55-b3a6-40e9-a09d-9463a869d0a9_8/outputs/conda_env_v_1_0_0.yml', 'model_data_location': 'aml://artifact/ExperimentRun/dcid.AutoML_2a9a1e55-b3a6-40e9-a09d-9463a869d0a9_8/outputs/model.pkl', 'model_size_on_disk': '139057649', 'scoring_data_location': 'aml://artifact/ExperimentRun/dcid.AutoML_2a9a1e55-b3a6-40e9-a09d-9463a869d0a9_8/outputs/scoring_file_v_1_0_0.py', 'model_exp_support': 'True', 'pipeline_graph_version': '1.0.0', 'model_name': 'AutoML2a9a1e55b8', 'staticProperties': '{}', 'score': '0.7237275985160293', 'run_properties': \"base_learners=[('0',\\n                                        Pipeline(memory=None,\\n                                                 steps=[('maxabsscaler',\\n                                                         MaxAbsScaler(copy=True\", 'pipeline_script': '{\"pipeline_id\":\"__AutoML_Stack_Ensemble__\",\"objects\":[{\"module\":\"azureml.train.automl.stack_ensemble\",\"class_name\":\"StackEnsemble\",\"spec_class\":\"sklearn\",\"param_args\":[],\"param_kwargs\":{\"automl_settings\":\"{\\'task_type\\':\\'classification\\',\\'primary_metric\\':\\'accuracy\\',\\'verbosity\\':20,\\'ensemble_iterations\\':15,\\'is_timeseries\\':False,\\'name\\':\\'capstone-automl\\',\\'compute_target\\':\\'local\\',\\'subscription_id\\':\\'30d182b7-c8c4-421c-8fa0-d3037ecfe6d2\\',\\'region\\':\\'southcentralus\\',\\'spark_service\\':None}\",\"ensemble_run_id\":\"AutoML_2a9a1e55-b3a6-40e9-a09d-9463a869d0a9_8\",\"experiment_name\":\"capstone-automl\",\"workspace_name\":\"quick-starts-ws-124233\",\"subscription_id\":\"30d182b7-c8c4-421c-8fa0-d3037ecfe6d2\",\"resource_group_name\":\"aml-quickstarts-124233\"}}]}', 'training_type': 'MeanCrossValidation', 'num_classes': '2', 'framework': 'sklearn', 'fit_time': '97', 'goal': 'accuracy_max', 'class_labels': '', 'primary_metric': 'accuracy', 'errors': '{}', 'fitted_pipeline': \"Pipeline(memory=None,\\n         steps=[('datatransformer',\\n                 DataTransformer(enable_dnn=None, enable_feature_sweeping=None,\\n                                 feature_sweeping_config=None,\\n                                 feature_sweeping_timeout=None,\\n                                 featurization_config=None, force_text_dnn=None,\\n                                 is_cross_validation=None,\\n                                 is_onnx_compatible=None, logger=None,\\n                                 observer=None, task=None, working_dir=None)),\\n                ('stackensembleclassifier',\\n                 StackE...\\n                                         meta_learner=LogisticRegressionCV(Cs=10,\\n                                                                           class_weight=None,\\n                                                                           cv=None,\\n                                                                           dual=False,\\n                                                                           fit_intercept=True,\\n                                                                           intercept_scaling=1.0,\\n                                                                           l1_ratios=None,\\n                                                                           max_iter=100,\\n                                                                           multi_class='auto',\\n                                                                           n_jobs=None,\\n                                                                           penalty='l2',\\n                                                                           random_state=None,\\n                                                                           refit=True,\\n                                                                           scoring=<azureml.automl.runtime.stack_ensemble_base.Scorer object at 0x7f9ba85bb9b0>,\\n                                                                           solver='lbfgs',\\n                                                                           tol=0.0001,\\n                                                                           verbose=0),\\n                                         training_cv_folds=5))],\\n         verbose=False)\", 'friendly_errors': '{}', 'onnx_model_resource': '{}', 'error_code': '', 'failure_reason': '', 'feature_skus': 'automatedml_sdk_guardrails', 'dependencies_versions': '{\"azureml-widgets\": \"1.16.0\", \"azureml-train\": \"1.16.0\", \"azureml-train-restclients-hyperdrive\": \"1.16.0\", \"azureml-train-core\": \"1.16.0\", \"azureml-train-automl\": \"1.16.0\", \"azureml-train-automl-runtime\": \"1.16.0\", \"azureml-train-automl-client\": \"1.16.0\", \"azureml-tensorboard\": \"1.16.0\", \"azureml-telemetry\": \"1.16.0\", \"azureml-sdk\": \"1.16.0\", \"azureml-samples\": \"0+unknown\", \"azureml-pipeline\": \"1.16.0\", \"azureml-pipeline-steps\": \"1.16.0\", \"azureml-pipeline-core\": \"1.16.0\", \"azureml-opendatasets\": \"1.16.0\", \"azureml-model-management-sdk\": \"1.0.1b6.post1\", \"azureml-mlflow\": \"1.16.0\", \"azureml-interpret\": \"1.16.0\", \"azureml-explain-model\": \"1.16.0\", \"azureml-defaults\": \"1.16.0\", \"azureml-dataset-runtime\": \"1.16.0\", \"azureml-dataprep\": \"2.3.2\", \"azureml-dataprep-rslex\": \"1.1.1\", \"azureml-dataprep-native\": \"23.0.0\", \"azureml-datadrift\": \"1.16.0\", \"azureml-core\": \"1.16.0\", \"azureml-contrib-services\": \"1.16.0\", \"azureml-contrib-server\": \"1.16.0\", \"azureml-contrib-reinforcementlearning\": \"1.16.0\", \"azureml-contrib-pipeline-steps\": \"1.16.0\", \"azureml-contrib-notebook\": \"1.16.0\", \"azureml-contrib-interpret\": \"1.16.0\", \"azureml-contrib-gbdt\": \"1.16.0\", \"azureml-contrib-fairness\": \"1.16.0\", \"azureml-contrib-dataset\": \"1.16.0\", \"azureml-cli-common\": \"1.16.0\", \"azureml-automl-runtime\": \"1.16.0\", \"azureml-automl-core\": \"1.16.0\", \"azureml-accel-models\": \"1.16.0\"}', 'num_cores': '4', 'num_logical_cores': '4', 'peak_memory_usage': '9174692', 'vm_configuration': 'Intel(R) Xeon(R) CPU E5-2673 v4 @ 2.30GHz', 'core_hours': '0.05268091694444444'}, 'inputDatasets': [], 'outputDatasets': [], 'logFiles': {}}\n",
            "\n",
            "\n",
            "\n",
            "\n",
            "Metrics for best run:  {'recall_score_weighted': 0.7237275985160293, 'average_precision_score_micro': 0.7906923318791619, 'precision_score_weighted': 0.7193654023979416, 'recall_score_micro': 0.7237275985160293, 'accuracy': 0.7237275985160293, 'AUC_weighted': 0.7708746148030708, 'balanced_accuracy': 0.6788577857429369, 'f1_score_weighted': 0.7120953022582523, 'AUC_micro': 0.7982373817801012, 'recall_score_macro': 0.6788577857429369, 'f1_score_macro': 0.6842448963931416, 'matthews_correlation': 0.3885781882088743, 'log_loss': 0.5481318387921265, 'average_precision_score_macro': 0.7604775381757186, 'precision_score_macro': 0.711492419670229, 'average_precision_score_weighted': 0.7791582973394543, 'norm_macro_recall': 0.3577155714858738, 'weighted_accuracy': 0.7632888953122556, 'precision_score_micro': 0.7237275985160293, 'f1_score_micro': 0.7237275985160293, 'AUC_macro': 0.7708746148030708, 'confusion_matrix': 'aml://artifactId/ExperimentRun/dcid.AutoML_2a9a1e55-b3a6-40e9-a09d-9463a869d0a9_8/confusion_matrix', 'accuracy_table': 'aml://artifactId/ExperimentRun/dcid.AutoML_2a9a1e55-b3a6-40e9-a09d-9463a869d0a9_8/accuracy_table'}\n"
          ]
        }
      ],
      "execution_count": 13,
      "metadata": {
        "gather": {
          "logged": 1604339073451
        },
        "jupyter": {
          "outputs_hidden": false,
          "source_hidden": false
        },
        "nteract": {
          "transient": {
            "deleting": false
          }
        }
      }
    },
    {
      "cell_type": "code",
      "source": [
        "# referencce - https://docs.microsoft.com/en-us/python/api/azureml-train-automl-client/azureml.train.automl.run.automlrun?view=azure-ml-py\n",
        "print(best_model_automl.steps[-1])"
      ],
      "outputs": [
        {
          "output_type": "stream",
          "name": "stdout",
          "text": [
            "('stackensembleclassifier', StackEnsembleClassifier(base_learners=[('0',\n",
            "                                        Pipeline(memory=None,\n",
            "                                                 steps=[('maxabsscaler',\n",
            "                                                         MaxAbsScaler(copy=True)),\n",
            "                                                        ('lightgbmclassifier',\n",
            "                                                         LightGBMClassifier(boosting_type='gbdt',\n",
            "                                                                            class_weight=None,\n",
            "                                                                            colsample_bytree=1.0,\n",
            "                                                                            importance_type='split',\n",
            "                                                                            learning_rate=0.1,\n",
            "                                                                            max_depth=-1,\n",
            "                                                                            min_child_samples=20,\n",
            "                                                                            min_child_weight=0.001,\n",
            "                                                                            min_split_gain=0.0,\n",
            "                                                                            n_estimators=100,\n",
            "                                                                            n...\n",
            "                        meta_learner=LogisticRegressionCV(Cs=10,\n",
            "                                                          class_weight=None,\n",
            "                                                          cv=None, dual=False,\n",
            "                                                          fit_intercept=True,\n",
            "                                                          intercept_scaling=1.0,\n",
            "                                                          l1_ratios=None,\n",
            "                                                          max_iter=100,\n",
            "                                                          multi_class='auto',\n",
            "                                                          n_jobs=None,\n",
            "                                                          penalty='l2',\n",
            "                                                          random_state=None,\n",
            "                                                          refit=True,\n",
            "                                                          scoring=<azureml.automl.runtime.stack_ensemble_base.Scorer object at 0x7f9bfdf2c5c0>,\n",
            "                                                          solver='lbfgs',\n",
            "                                                          tol=0.0001,\n",
            "                                                          verbose=0),\n",
            "                        training_cv_folds=5))\n"
          ]
        }
      ],
      "execution_count": 14,
      "metadata": {
        "gather": {
          "logged": 1604339073693
        }
      }
    },
    {
      "cell_type": "markdown",
      "source": [
        "## Model Deployment\n",
        "\n",
        "Remember you have to deploy only one of the two models you trained.. Perform the steps in the rest of this notebook only if you wish to deploy this model.\n",
        "\n",
        "TODO: In the cell below, register the model, create an inference config and deploy the model as a web service."
      ],
      "metadata": {}
    },
    {
      "cell_type": "code",
      "source": [
        "# Personal ToDo - Check why can't register model from get_output() directly\n",
        "best_model_automl = best_run_automl.register_model(model_name=\"capstone-automl.pkl\", model_path=\"./\")"
      ],
      "outputs": [],
      "execution_count": 15,
      "metadata": {
        "gather": {
          "logged": 1604339074435
        },
        "jupyter": {
          "outputs_hidden": false,
          "source_hidden": false
        },
        "nteract": {
          "transient": {
            "deleting": false
          }
        }
      }
    },
    {
      "cell_type": "code",
      "source": [
        "best_model_automl.download(exist_ok=True)"
      ],
      "outputs": [
        {
          "output_type": "execute_result",
          "execution_count": 17,
          "data": {
            "text/plain": "''"
          },
          "metadata": {}
        }
      ],
      "execution_count": 17,
      "metadata": {
        "collapsed": true,
        "jupyter": {
          "source_hidden": false,
          "outputs_hidden": false
        },
        "nteract": {
          "transient": {
            "deleting": false
          }
        },
        "gather": {
          "logged": 1604339165491
        }
      }
    },
    {
      "cell_type": "code",
      "source": [
        "env = Environment.get(ws, \"AzureML-AutoML\").clone(\"automl-env\")\r\n",
        "\r\n",
        "inference_config = InferenceConfig(entry_script='score.py', environment=env)\r\n",
        "\r\n",
        "aci_config = AciWebservice.deploy_configuration(cpu_cores=1, memory_gb=1)\r\n",
        "\r\n",
        "service = best_model_automl.deploy(\r\n",
        "    workspace=ws,\r\n",
        "    name=\"automl-deployment\",\r\n",
        "    models=[best_model_automl],\r\n",
        "    inference_config=inference_config,\r\n",
        "    deployment_config=aci_config,\r\n",
        "    overwrite=True\r\n",
        ")\r\n",
        "service.wait_for_deployment(show_output=True)"
      ],
      "outputs": [
        {
          "output_type": "stream",
          "name": "stdout",
          "text": [
            "Tips: You can try get_logs(): https://aka.ms/debugimage#dockerlog or local deployment: https://aka.ms/debugimage#debug-locally to debug if deployment takes longer than 10 minutes.\n",
            "Running............................................................................................................................................................................."
          ]
        },
        {
          "output_type": "error",
          "ename": "KeyboardInterrupt",
          "evalue": "",
          "traceback": [
            "\u001b[0;31m---------------------------------------------------------------------------\u001b[0m",
            "\u001b[0;31mKeyboardInterrupt\u001b[0m                         Traceback (most recent call last)",
            "\u001b[0;32m<ipython-input-21-84beb1f6f16a>\u001b[0m in \u001b[0;36m<module>\u001b[0;34m\u001b[0m\n\u001b[1;32m     17\u001b[0m     \u001b[0moverwrite\u001b[0m\u001b[0;34m=\u001b[0m\u001b[0;32mTrue\u001b[0m\u001b[0;34m\u001b[0m\u001b[0;34m\u001b[0m\u001b[0m\n\u001b[1;32m     18\u001b[0m )\n\u001b[0;32m---> 19\u001b[0;31m \u001b[0mservice\u001b[0m\u001b[0;34m.\u001b[0m\u001b[0mwait_for_deployment\u001b[0m\u001b[0;34m(\u001b[0m\u001b[0mshow_output\u001b[0m\u001b[0;34m=\u001b[0m\u001b[0;32mTrue\u001b[0m\u001b[0;34m)\u001b[0m\u001b[0;34m\u001b[0m\u001b[0;34m\u001b[0m\u001b[0m\n\u001b[0m",
            "\u001b[0;32m/anaconda/envs/azureml_py36/lib/python3.6/site-packages/azureml/core/webservice/webservice.py\u001b[0m in \u001b[0;36mwait_for_deployment\u001b[0;34m(self, show_output, timeout_sec)\u001b[0m\n\u001b[1;32m    727\u001b[0m \u001b[0;34m\u001b[0m\u001b[0m\n\u001b[1;32m    728\u001b[0m         \u001b[0;32mtry\u001b[0m\u001b[0;34m:\u001b[0m\u001b[0;34m\u001b[0m\u001b[0;34m\u001b[0m\u001b[0m\n\u001b[0;32m--> 729\u001b[0;31m             \u001b[0moperation_state\u001b[0m\u001b[0;34m,\u001b[0m \u001b[0merror\u001b[0m\u001b[0;34m,\u001b[0m \u001b[0moperation\u001b[0m \u001b[0;34m=\u001b[0m \u001b[0mself\u001b[0m\u001b[0;34m.\u001b[0m\u001b[0m_wait_for_operation_to_complete\u001b[0m\u001b[0;34m(\u001b[0m\u001b[0mshow_output\u001b[0m\u001b[0;34m,\u001b[0m \u001b[0mtimeout_sec\u001b[0m\u001b[0;34m)\u001b[0m\u001b[0;34m\u001b[0m\u001b[0;34m\u001b[0m\u001b[0m\n\u001b[0m\u001b[1;32m    730\u001b[0m             \u001b[0mself\u001b[0m\u001b[0;34m.\u001b[0m\u001b[0mupdate_deployment_state\u001b[0m\u001b[0;34m(\u001b[0m\u001b[0;34m)\u001b[0m\u001b[0;34m\u001b[0m\u001b[0;34m\u001b[0m\u001b[0m\n\u001b[1;32m    731\u001b[0m             \u001b[0;32mif\u001b[0m \u001b[0moperation_state\u001b[0m \u001b[0;34m!=\u001b[0m \u001b[0;34m'Succeeded'\u001b[0m\u001b[0;34m:\u001b[0m\u001b[0;34m\u001b[0m\u001b[0;34m\u001b[0m\u001b[0m\n",
            "\u001b[0;32m/anaconda/envs/azureml_py36/lib/python3.6/site-packages/azureml/core/webservice/webservice.py\u001b[0m in \u001b[0;36m_wait_for_operation_to_complete\u001b[0;34m(self, show_output, timeout_sec)\u001b[0m\n\u001b[1;32m    791\u001b[0m                 \u001b[0;32mraise\u001b[0m \u001b[0mWebserviceException\u001b[0m\u001b[0;34m(\u001b[0m\u001b[0mmsg\u001b[0m\u001b[0;34m,\u001b[0m \u001b[0mlogger\u001b[0m\u001b[0;34m=\u001b[0m\u001b[0mmodule_logger\u001b[0m\u001b[0;34m)\u001b[0m\u001b[0;34m\u001b[0m\u001b[0;34m\u001b[0m\u001b[0m\n\u001b[1;32m    792\u001b[0m \u001b[0;34m\u001b[0m\u001b[0m\n\u001b[0;32m--> 793\u001b[0;31m             \u001b[0mtime\u001b[0m\u001b[0;34m.\u001b[0m\u001b[0msleep\u001b[0m\u001b[0;34m(\u001b[0m\u001b[0;36m5\u001b[0m\u001b[0;34m)\u001b[0m\u001b[0;34m\u001b[0m\u001b[0;34m\u001b[0m\u001b[0m\n\u001b[0m\u001b[1;32m    794\u001b[0m \u001b[0;34m\u001b[0m\u001b[0m\n\u001b[1;32m    795\u001b[0m             \u001b[0melapsed_time\u001b[0m \u001b[0;34m=\u001b[0m \u001b[0mtime\u001b[0m\u001b[0;34m.\u001b[0m\u001b[0mtime\u001b[0m\u001b[0;34m(\u001b[0m\u001b[0;34m)\u001b[0m \u001b[0;34m-\u001b[0m \u001b[0mstart_time\u001b[0m\u001b[0;34m\u001b[0m\u001b[0;34m\u001b[0m\u001b[0m\n",
            "\u001b[0;31mKeyboardInterrupt\u001b[0m: "
          ]
        }
      ],
      "execution_count": 21,
      "metadata": {
        "collapsed": true,
        "jupyter": {
          "source_hidden": false,
          "outputs_hidden": false
        },
        "nteract": {
          "transient": {
            "deleting": false
          }
        }
      }
    },
    {
      "cell_type": "markdown",
      "source": [
        "TODO: In the cell below, send a request to the web service you deployed to test it."
      ],
      "metadata": {
        "collapsed": true,
        "gather": {
          "logged": 1598431657736
        },
        "jupyter": {
          "outputs_hidden": false,
          "source_hidden": false
        },
        "nteract": {
          "transient": {
            "deleting": false
          }
        }
      }
    },
    {
      "cell_type": "code",
      "source": [
        "service.update(enable_app_insights=True)"
      ],
      "outputs": [],
      "execution_count": null,
      "metadata": {
        "gather": {
          "logged": 1598432707604
        },
        "jupyter": {
          "outputs_hidden": false,
          "source_hidden": false
        },
        "nteract": {
          "transient": {
            "deleting": false
          }
        }
      }
    },
    {
      "cell_type": "code",
      "source": [
        "input_tweet_json = json.dumps({'data':df_modified[\"OriginalTweet\"][0]})\r\n",
        "output = service.run(input_tweet_json)\r\n",
        "print(\"Predicted Sentiment: \", output)\r\n",
        "print(\"Actual Sentiment: \", df_modified[\"Sentiment\"][0])"
      ],
      "outputs": [],
      "execution_count": null,
      "metadata": {
        "collapsed": true,
        "jupyter": {
          "source_hidden": false,
          "outputs_hidden": false
        },
        "nteract": {
          "transient": {
            "deleting": false
          }
        }
      }
    },
    {
      "cell_type": "markdown",
      "source": [
        "TODO: In the cell below, print the logs of the web service and delete the service"
      ],
      "metadata": {
        "collapsed": true,
        "gather": {
          "logged": 1598432765711
        },
        "jupyter": {
          "outputs_hidden": false,
          "source_hidden": false
        },
        "nteract": {
          "transient": {
            "deleting": false
          }
        }
      }
    },
    {
      "cell_type": "code",
      "source": [
        "print(service.get_logs())"
      ],
      "outputs": [
        {
          "output_type": "stream",
          "name": "stdout",
          "text": [
            "2020-11-02T18:35:24,983853750+00:00 - gunicorn/run \n",
            "2020-11-02T18:35:24,987252066+00:00 - iot-server/run \n",
            "/usr/sbin/nginx: /azureml-envs/azureml_0e3a8a6dba181476a2523c12c58dfc97/lib/libcrypto.so.1.0.0: no version information available (required by /usr/sbin/nginx)\n",
            "/usr/sbin/nginx: /azureml-envs/azureml_0e3a8a6dba181476a2523c12c58dfc97/lib/libcrypto.so.1.0.0: no version information available (required by /usr/sbin/nginx)\n",
            "/usr/sbin/nginx: /azureml-envs/azureml_0e3a8a6dba181476a2523c12c58dfc97/lib/libssl.so.1.0.0: no version information available (required by /usr/sbin/nginx)\n",
            "/usr/sbin/nginx: /azureml-envs/azureml_0e3a8a6dba181476a2523c12c58dfc97/lib/libssl.so.1.0.0: no version information available (required by /usr/sbin/nginx)\n",
            "/usr/sbin/nginx: /azureml-envs/azureml_0e3a8a6dba181476a2523c12c58dfc97/lib/libssl.so.1.0.0: no version information available (required by /usr/sbin/nginx)\n",
            "2020-11-02T18:35:24,996758091+00:00 - rsyslog/run \n",
            "2020-11-02T18:35:24,997432814+00:00 - nginx/run \n",
            "rsyslogd: /azureml-envs/azureml_0e3a8a6dba181476a2523c12c58dfc97/lib/libuuid.so.1: no version information available (required by rsyslogd)\n",
            "EdgeHubConnectionString and IOTEDGE_IOTHUBHOSTNAME are not set. Exiting...\n",
            "2020-11-02T18:35:25,128582985+00:00 - iot-server/finish 1 0\n",
            "2020-11-02T18:35:25,129919631+00:00 - Exit code 1 is normal. Not restarting iot-server.\n",
            "Starting gunicorn 19.9.0\n",
            "Listening at: http://127.0.0.1:31311 (12)\n",
            "Using worker: sync\n",
            "worker timeout is set to 300\n",
            "Booting worker with pid: 39\n",
            "SPARK_HOME not set. Skipping PySpark Initialization.\n",
            "Initializing logger\n",
            "2020-11-02 18:35:25,887 | root | INFO | Starting up app insights client\n",
            "Starting up app insights client\n",
            "2020-11-02 18:35:25,887 | root | INFO | Starting up request id generator\n",
            "Starting up request id generator\n",
            "2020-11-02 18:35:25,887 | root | INFO | Starting up app insight hooks\n",
            "Starting up app insight hooks\n",
            "2020-11-02 18:35:25,887 | root | INFO | Invoking user's init function\n",
            "Invoking user's init function\n",
            "2020-11-02 18:35:25,887 | root | ERROR | User's init function failed\n",
            "User's init function failed\n",
            "2020-11-02 18:35:25,887 | root | ERROR | Encountered Exception Traceback (most recent call last):\n",
            "  File \"/var/azureml-server/aml_blueprint.py\", line 177, in register\n",
            "    main.init()\n",
            "  File \"/var/azureml-app/score.py\", line 9, in init\n",
            "    model_path = os.path.join(os.getenv(\"\"), \"model.pkl\")\n",
            "  File \"/azureml-envs/azureml_0e3a8a6dba181476a2523c12c58dfc97/lib/python3.6/posixpath.py\", line 78, in join\n",
            "    a = os.fspath(a)\n",
            "TypeError: expected str, bytes or os.PathLike object, not NoneType\n",
            "\n",
            "Encountered Exception Traceback (most recent call last):\n",
            "  File \"/var/azureml-server/aml_blueprint.py\", line 177, in register\n",
            "    main.init()\n",
            "  File \"/var/azureml-app/score.py\", line 9, in init\n",
            "    model_path = os.path.join(os.getenv(\"\"), \"model.pkl\")\n",
            "  File \"/azureml-envs/azureml_0e3a8a6dba181476a2523c12c58dfc97/lib/python3.6/posixpath.py\", line 78, in join\n",
            "    a = os.fspath(a)\n",
            "TypeError: expected str, bytes or os.PathLike object, not NoneType\n",
            "\n",
            "/azureml-envs/azureml_0e3a8a6dba181476a2523c12c58dfc97/lib/python3.6/site-packages/sklearn/externals/joblib/__init__.py:15: FutureWarning: sklearn.externals.joblib is deprecated in 0.21 and will be removed in 0.23. Please import this functionality directly from joblib, which can be installed with: pip install joblib. If this warning is raised when loading pickled models, you may need to re-serialize those models with scikit-learn 0.21+.\n",
            "  warnings.warn(msg, category=FutureWarning)\n",
            "Worker exiting (pid: 39)\n",
            "Shutting down: Master\n",
            "Reason: Worker failed to boot.\n",
            "2020-11-02T18:35:25,986061719+00:00 - gunicorn/finish 3 0\n",
            "2020-11-02T18:35:25,987237159+00:00 - Exit code 3 is not normal. Killing image.\n",
            "\n"
          ]
        }
      ],
      "execution_count": 23,
      "metadata": {
        "jupyter": {
          "outputs_hidden": false,
          "source_hidden": false
        },
        "nteract": {
          "transient": {
            "deleting": false
          }
        },
        "gather": {
          "logged": 1604342173835
        }
      }
    },
    {
      "cell_type": "code",
      "source": [
        "# service.delete()"
      ],
      "outputs": [],
      "execution_count": null,
      "metadata": {
        "collapsed": true,
        "jupyter": {
          "source_hidden": false,
          "outputs_hidden": false
        },
        "nteract": {
          "transient": {
            "deleting": false
          }
        }
      }
    }
  ],
  "metadata": {
    "kernel_info": {
      "name": "python3-azureml"
    },
    "kernelspec": {
      "name": "python3-azureml",
      "language": "python",
      "display_name": "Python 3.6 - AzureML"
    },
    "language_info": {
      "name": "python",
      "version": "3.6.9",
      "mimetype": "text/x-python",
      "codemirror_mode": {
        "name": "ipython",
        "version": 3
      },
      "pygments_lexer": "ipython3",
      "nbconvert_exporter": "python",
      "file_extension": ".py"
    },
    "nteract": {
      "version": "nteract-front-end@1.0.0"
    },
    "widgets": {
      "state": {},
      "version": "1.1.2"
    }
  },
  "nbformat": 4,
  "nbformat_minor": 2
}