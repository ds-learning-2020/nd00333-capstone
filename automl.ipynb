{
  "cells": [
    {
      "cell_type": "markdown",
      "source": [
        "# Automated ML\n",
        "\n",
        "TODO: Import Dependencies. In the cell below, import all the dependencies that you will need to complete the project."
      ],
      "metadata": {}
    },
    {
      "cell_type": "code",
      "source": [
        "from azureml.core import Workspace, Experiment, Datastore, Dataset\n",
        "from azureml.core.compute import ComputeTarget, AmlCompute\n",
        "from azureml.widgets import RunDetails\n",
        "from azureml.train.sklearn import SKLearn\n",
        "from azureml.train.hyperdrive.run import PrimaryMetricGoal\n",
        "from azureml.train.hyperdrive.policy import BanditPolicy, MedianStoppingPolicy\n",
        "from azureml.train.hyperdrive.sampling import RandomParameterSampling\n",
        "from azureml.train.hyperdrive.runconfig import HyperDriveConfig\n",
        "from azureml.train.hyperdrive.parameter_expressions import uniform, normal, choice\n",
        "from azureml.train.automl import AutoMLConfig\n",
        "from azureml.data.dataset_factory import TabularDatasetFactory\n",
        "\n",
        "import os\n",
        "import joblib\n",
        "import pandas as pd\n",
        "import sys\n",
        "\n",
        "from sklearn.model_selection import train_test_split\n",
        "\n",
        "\n"
      ],
      "outputs": [],
      "execution_count": 1,
      "metadata": {
        "gather": {
          "logged": 1603375899028
        },
        "jupyter": {
          "outputs_hidden": false,
          "source_hidden": false
        },
        "nteract": {
          "transient": {
            "deleting": false
          }
        }
      }
    },
    {
      "cell_type": "markdown",
      "source": [
        "## Dataset\n",
        "\n",
        "### Overview\n",
        "TODO: In this markdown cell, give an overview of the dataset you are using. Also mention the task you will be performing.\n",
        "\n",
        "\n",
        "TODO: Get data. In the cell below, write code to access the data you will be using in this project. Remember that the dataset needs to be external."
      ],
      "metadata": {}
    },
    {
      "cell_type": "code",
      "source": [
        "ws = Workspace.from_config()\n",
        "\n",
        "# choose a name for experiment\n",
        "experiment_name = 'capstone-automl'\n",
        "\n",
        "experiment=Experiment(ws, experiment_name)\n",
        "\n"
      ],
      "outputs": [
        {
          "output_type": "stream",
          "name": "stdout",
          "text": [
            "Performing interactive authentication. Please follow the instructions on the terminal.\n",
            "To sign in, use a web browser to open the page https://microsoft.com/devicelogin and enter the code R2ADRGRDY to authenticate.\n",
            "You have logged in. Now let us find all the subscriptions to which you have access...\n",
            "Interactive authentication successfully completed.\n"
          ]
        }
      ],
      "execution_count": 2,
      "metadata": {
        "gather": {
          "logged": 1603375922069
        },
        "jupyter": {
          "outputs_hidden": false,
          "source_hidden": false
        },
        "nteract": {
          "transient": {
            "deleting": false
          }
        }
      }
    },
    {
      "cell_type": "code",
      "source": [
        "datastores = ws.datastores\r\n",
        "for name, datastore in datastores.items():\r\n",
        "    print(name, datastore.datastore_type)"
      ],
      "outputs": [
        {
          "output_type": "stream",
          "name": "stdout",
          "text": [
            "datastore AzureBlob\n",
            "workspaceblobstore AzureBlob\n",
            "workspacefilestore AzureFile\n"
          ]
        }
      ],
      "execution_count": 3,
      "metadata": {
        "collapsed": true,
        "jupyter": {
          "source_hidden": false,
          "outputs_hidden": false
        },
        "nteract": {
          "transient": {
            "deleting": false
          }
        },
        "gather": {
          "logged": 1603375922682
        }
      }
    },
    {
      "cell_type": "code",
      "source": [
        "# df = Dataset.get_by_name(ws, name='corona-nlp-train').to_pandas_dataframe()\r\n",
        "df = pd.read_csv(\"Corona_NLP_train.csv\")"
      ],
      "outputs": [],
      "execution_count": 4,
      "metadata": {
        "collapsed": true,
        "jupyter": {
          "source_hidden": false,
          "outputs_hidden": false
        },
        "nteract": {
          "transient": {
            "deleting": false
          }
        },
        "gather": {
          "logged": 1603375923086
        }
      }
    },
    {
      "cell_type": "code",
      "source": [
        "# for col in df.columns:\r\n",
        "#      if \"Col\" in col:\r\n",
        "#          df = df.drop(col)"
      ],
      "outputs": [],
      "execution_count": 5,
      "metadata": {
        "collapsed": true,
        "jupyter": {
          "source_hidden": false,
          "outputs_hidden": false
        },
        "nteract": {
          "transient": {
            "deleting": false
          }
        },
        "gather": {
          "logged": 1603375923341
        }
      }
    },
    {
      "cell_type": "code",
      "source": [
        "df.head()"
      ],
      "outputs": [
        {
          "output_type": "execute_result",
          "execution_count": 6,
          "data": {
            "text/plain": "  Unnamed: 0 UserName  ScreenName   Location     TweetAt  \\\n0          0     3799     48751.0     London  16-03-2020   \n1          1     3800     48752.0         UK  16-03-2020   \n2          2     3801     48753.0  Vagabonds  16-03-2020   \n3          3     3802     48754.0        NaN  16-03-2020   \n4          4     3803     48755.0        NaN  16-03-2020   \n\n                                       OriginalTweet           Sentiment  \n0  @MeNyrbie @Phil_Gahan @Chrisitv https://t.co/i...             Neutral  \n1  advice Talk to your neighbours family to excha...            Positive  \n2  Coronavirus Australia: Woolworths to give elde...            Positive  \n3  My food stock is not the only one which is emp...            Positive  \n4  Me, ready to go at supermarket during the #COV...  Extremely Negative  ",
            "text/html": "<div>\n<style scoped>\n    .dataframe tbody tr th:only-of-type {\n        vertical-align: middle;\n    }\n\n    .dataframe tbody tr th {\n        vertical-align: top;\n    }\n\n    .dataframe thead th {\n        text-align: right;\n    }\n</style>\n<table border=\"1\" class=\"dataframe\">\n  <thead>\n    <tr style=\"text-align: right;\">\n      <th></th>\n      <th>Unnamed: 0</th>\n      <th>UserName</th>\n      <th>ScreenName</th>\n      <th>Location</th>\n      <th>TweetAt</th>\n      <th>OriginalTweet</th>\n      <th>Sentiment</th>\n    </tr>\n  </thead>\n  <tbody>\n    <tr>\n      <th>0</th>\n      <td>0</td>\n      <td>3799</td>\n      <td>48751.0</td>\n      <td>London</td>\n      <td>16-03-2020</td>\n      <td>@MeNyrbie @Phil_Gahan @Chrisitv https://t.co/i...</td>\n      <td>Neutral</td>\n    </tr>\n    <tr>\n      <th>1</th>\n      <td>1</td>\n      <td>3800</td>\n      <td>48752.0</td>\n      <td>UK</td>\n      <td>16-03-2020</td>\n      <td>advice Talk to your neighbours family to excha...</td>\n      <td>Positive</td>\n    </tr>\n    <tr>\n      <th>2</th>\n      <td>2</td>\n      <td>3801</td>\n      <td>48753.0</td>\n      <td>Vagabonds</td>\n      <td>16-03-2020</td>\n      <td>Coronavirus Australia: Woolworths to give elde...</td>\n      <td>Positive</td>\n    </tr>\n    <tr>\n      <th>3</th>\n      <td>3</td>\n      <td>3802</td>\n      <td>48754.0</td>\n      <td>NaN</td>\n      <td>16-03-2020</td>\n      <td>My food stock is not the only one which is emp...</td>\n      <td>Positive</td>\n    </tr>\n    <tr>\n      <th>4</th>\n      <td>4</td>\n      <td>3803</td>\n      <td>48755.0</td>\n      <td>NaN</td>\n      <td>16-03-2020</td>\n      <td>Me, ready to go at supermarket during the #COV...</td>\n      <td>Extremely Negative</td>\n    </tr>\n  </tbody>\n</table>\n</div>"
          },
          "metadata": {}
        }
      ],
      "execution_count": 6,
      "metadata": {
        "gather": {
          "logged": 1603375923536
        }
      }
    },
    {
      "cell_type": "code",
      "source": [
        "df.Sentiment.unique()"
      ],
      "outputs": [
        {
          "output_type": "execute_result",
          "execution_count": 7,
          "data": {
            "text/plain": "array(['Neutral', 'Positive', 'Extremely Negative', 'Negative',\n       'Extremely Positive', nan], dtype=object)"
          },
          "metadata": {}
        }
      ],
      "execution_count": 7,
      "metadata": {
        "gather": {
          "logged": 1603375923721
        }
      }
    },
    {
      "cell_type": "code",
      "source": [
        "df.info()"
      ],
      "outputs": [
        {
          "output_type": "stream",
          "name": "stdout",
          "text": [
            "<class 'pandas.core.frame.DataFrame'>\n",
            "RangeIndex: 41159 entries, 0 to 41158\n",
            "Data columns (total 7 columns):\n",
            "Unnamed: 0       41158 non-null object\n",
            "UserName         41158 non-null object\n",
            "ScreenName       41157 non-null float64\n",
            "Location         32567 non-null object\n",
            "TweetAt          41157 non-null object\n",
            "OriginalTweet    41157 non-null object\n",
            "Sentiment        41155 non-null object\n",
            "dtypes: float64(1), object(6)\n",
            "memory usage: 2.2+ MB\n"
          ]
        }
      ],
      "execution_count": 16,
      "metadata": {
        "collapsed": true,
        "jupyter": {
          "source_hidden": false,
          "outputs_hidden": false
        },
        "nteract": {
          "transient": {
            "deleting": false
          }
        },
        "gather": {
          "logged": 1603377445865
        }
      }
    },
    {
      "cell_type": "code",
      "source": [
        "df_modified = df[[\"OriginalTweet\", \"Sentiment\"]].copy()\r\n",
        "df_modified[\"OriginalTweet\"] = df_modified[\"OriginalTweet\"].astype(\"str\")\r\n",
        "df_modified[\"Sentiment\"] = df_modified[\"Sentiment\"].astype(\"str\")\r\n",
        "df_modified = df_modified[df_modified[\"Sentiment\"] != \"nan\"]\r\n",
        "\r\n",
        "       \r\n",
        "positive = df_modified[\"Sentiment\"].isin([\"Neutral\", \"Positive\", 'Extremely Positive'])\r\n",
        "negative = df_modified[\"Sentiment\"].isin(['Extremely Negative', 'Negative'])\r\n",
        "\r\n",
        "df_modified.loc[positive, \"Sentiment\"] = 1\r\n",
        "df_modified.loc[negative, \"Sentiment\"] = 0\r\n",
        "\r\n",
        "df_modified[\"Sentiment\"] = df_modified[\"Sentiment\"].astype(\"int\")"
      ],
      "outputs": [],
      "execution_count": 42,
      "metadata": {
        "collapsed": true,
        "jupyter": {
          "source_hidden": false,
          "outputs_hidden": false
        },
        "nteract": {
          "transient": {
            "deleting": false
          }
        },
        "gather": {
          "logged": 1603382208127
        }
      }
    },
    {
      "cell_type": "code",
      "source": [
        "df_modified[\"Sentiment\"].unique()"
      ],
      "outputs": [
        {
          "output_type": "execute_result",
          "execution_count": 43,
          "data": {
            "text/plain": "array([1, 0])"
          },
          "metadata": {}
        }
      ],
      "execution_count": 43,
      "metadata": {
        "collapsed": true,
        "jupyter": {
          "source_hidden": false,
          "outputs_hidden": false
        },
        "nteract": {
          "transient": {
            "deleting": false
          }
        },
        "gather": {
          "logged": 1603382213310
        }
      }
    },
    {
      "cell_type": "code",
      "source": [
        "df_modified.head()"
      ],
      "outputs": [
        {
          "output_type": "execute_result",
          "execution_count": 41,
          "data": {
            "text/plain": "                                       OriginalTweet Sentiment\n0  @MeNyrbie @Phil_Gahan @Chrisitv https://t.co/i...         1\n1  advice Talk to your neighbours family to excha...         1\n2  Coronavirus Australia: Woolworths to give elde...         1\n3  My food stock is not the only one which is emp...         1\n4  Me, ready to go at supermarket during the #COV...         0",
            "text/html": "<div>\n<style scoped>\n    .dataframe tbody tr th:only-of-type {\n        vertical-align: middle;\n    }\n\n    .dataframe tbody tr th {\n        vertical-align: top;\n    }\n\n    .dataframe thead th {\n        text-align: right;\n    }\n</style>\n<table border=\"1\" class=\"dataframe\">\n  <thead>\n    <tr style=\"text-align: right;\">\n      <th></th>\n      <th>OriginalTweet</th>\n      <th>Sentiment</th>\n    </tr>\n  </thead>\n  <tbody>\n    <tr>\n      <th>0</th>\n      <td>@MeNyrbie @Phil_Gahan @Chrisitv https://t.co/i...</td>\n      <td>1</td>\n    </tr>\n    <tr>\n      <th>1</th>\n      <td>advice Talk to your neighbours family to excha...</td>\n      <td>1</td>\n    </tr>\n    <tr>\n      <th>2</th>\n      <td>Coronavirus Australia: Woolworths to give elde...</td>\n      <td>1</td>\n    </tr>\n    <tr>\n      <th>3</th>\n      <td>My food stock is not the only one which is emp...</td>\n      <td>1</td>\n    </tr>\n    <tr>\n      <th>4</th>\n      <td>Me, ready to go at supermarket during the #COV...</td>\n      <td>0</td>\n    </tr>\n  </tbody>\n</table>\n</div>"
          },
          "metadata": {}
        }
      ],
      "execution_count": 41,
      "metadata": {
        "collapsed": true,
        "jupyter": {
          "source_hidden": false,
          "outputs_hidden": false
        },
        "nteract": {
          "transient": {
            "deleting": false
          }
        },
        "gather": {
          "logged": 1603382155452
        }
      }
    },
    {
      "cell_type": "code",
      "source": [
        "df_modified.info()"
      ],
      "outputs": [
        {
          "output_type": "stream",
          "name": "stdout",
          "text": [
            "<class 'pandas.core.frame.DataFrame'>\n",
            "Int64Index: 41155 entries, 0 to 41158\n",
            "Data columns (total 2 columns):\n",
            "OriginalTweet    41155 non-null object\n",
            "Sentiment        41155 non-null int64\n",
            "dtypes: int64(1), object(1)\n",
            "memory usage: 964.6+ KB\n"
          ]
        }
      ],
      "execution_count": 44,
      "metadata": {
        "collapsed": true,
        "jupyter": {
          "source_hidden": false,
          "outputs_hidden": false
        },
        "nteract": {
          "transient": {
            "deleting": false
          }
        },
        "gather": {
          "logged": 1603382222137
        }
      }
    },
    {
      "cell_type": "markdown",
      "source": [
        "## AutoML Configuration\n",
        "\n",
        "TODO: Explain why you chose the automl settings and cofiguration you used below."
      ],
      "metadata": {}
    },
    {
      "cell_type": "code",
      "source": [
        "# TODO: Put your automl settings here\n",
        "automl_settings = {\"experiment_timeout_minutes\":30,\n",
        "    \"task\":\"classification\",\n",
        "    \"primary_metric\":\"accuracy\",\n",
        "    \"training_data\":df_modified,\n",
        "    \"label_column_name\":\"Sentiment\",\n",
        "    \"n_cross_validations\":3}\n",
        "\n",
        "# TODO: Put your automl config here\n",
        "automl_config = AutoMLConfig(**automl_settings)"
      ],
      "outputs": [],
      "execution_count": 45,
      "metadata": {
        "gather": {
          "logged": 1603382227757
        },
        "jupyter": {
          "outputs_hidden": false,
          "source_hidden": false
        },
        "nteract": {
          "transient": {
            "deleting": false
          }
        }
      }
    },
    {
      "cell_type": "code",
      "source": [
        "# TODO: Submit your experiment\n",
        "automl_run = experiment.submit(automl_config, show_output=True)\n",
        "RunDetails(automl_run).show()"
      ],
      "outputs": [
        {
          "output_type": "stream",
          "name": "stdout",
          "text": [
            "Running on local machine\n",
            "Parent Run ID: AutoML_8f672ae7-d852-40a4-8672-d266a69580be\n",
            "\n",
            "Current status: DatasetEvaluation. Gathering dataset statistics.\n",
            "Current status: FeaturesGeneration. Generating features for the dataset.\n",
            "Current status: DatasetFeaturization. Beginning to fit featurizers and featurize the dataset.\n",
            "Current status: DatasetFeaturizationCompleted. Completed fit featurizers and featurizing the dataset.\n",
            "Current status: DatasetCrossValidationSplit. Generating individually featurized CV splits.\n",
            "\n",
            "********************************************************************************************************************\n",
            "DATA GUARDRAILS: \n",
            "\n",
            "TYPE:         Class balancing detection\n",
            "STATUS:       PASSED\n",
            "DESCRIPTION:  Your inputs were analyzed, and all classes are balanced in your training data.\n",
            "              Learn more about imbalanced data: https://aka.ms/AutomatedMLImbalancedData\n",
            "\n",
            "********************************************************************************************************************\n",
            "\n",
            "TYPE:         Missing feature values imputation\n",
            "STATUS:       PASSED\n",
            "DESCRIPTION:  No feature missing values were detected in the training data.\n",
            "              Learn more about missing value imputation: https://aka.ms/AutomatedMLFeaturization\n",
            "\n",
            "********************************************************************************************************************\n",
            "\n",
            "TYPE:         High cardinality feature detection\n",
            "STATUS:       DONE\n",
            "DESCRIPTION:  High cardinality features were detected in your inputs and handled.\n",
            "              Learn more about high cardinality feature handling: https://aka.ms/AutomatedMLFeaturization\n",
            "DETAILS:      High cardinality features refer to columns that contain a large percentage of unique values.\n",
            "+--------------------------------------+--------------------------------------+\n",
            "|Column name                           |Column Content Type                   |\n",
            "+======================================+======================================+\n",
            "|OriginalTweet                         |text                                  |\n",
            "+--------------------------------------+--------------------------------------+\n",
            "\n",
            "********************************************************************************************************************\n",
            "Current status: ModelSelection. Beginning model selection.\n",
            "\n",
            "********************************************************************************************************************\n",
            "ITERATION: The iteration being evaluated.\n",
            "PIPELINE: A summary description of the pipeline being evaluated.\n",
            "SAMPLING %: Percent of the training data to sample.\n",
            "DURATION: Time taken for the current iteration.\n",
            "METRIC: The result of computing score on the fitted pipeline.\n",
            "BEST: The best observed score thus far.\n",
            "********************************************************************************************************************\n",
            "\n",
            " ITERATION   PIPELINE                                       SAMPLING %  DURATION      METRIC      BEST\n",
            "         0   MaxAbsScaler LightGBM                          5.0000      0:05:14       0.7087    0.7087\n",
            "         1   MaxAbsScaler XGBoostClassifier                 5.0000      0:10:49       0.7044    0.7087\n",
            "         2   MaxAbsScaler RandomForest                      5.0000      0:02:18       0.6295    0.7087\n",
            "         3   MaxAbsScaler RandomForest                      5.0000      0:02:07       0.6259    0.7087\n",
            "         4   MaxAbsScaler SGD                               5.0000      0:02:08       0.7078    0.7087\n",
            "         5   MaxAbsScaler SGD                               5.0000      0:02:11       0.7061    0.7087\n",
            "         6   MaxAbsScaler ExtremeRandomTrees                5.0000      0:02:43       0.6982    0.7087\n",
            "         7   VotingEnsemble                                 100.0000    0:01:48       0.7250    0.7250\n",
            "         8   StackEnsemble                                  100.0000    0:01:59       0.7247    0.7250\n",
            "Stopping criteria reached at iteration 9. Ending experiment.\n",
            "********************************************************************************************************************\n",
            "Current status: BestRunExplainModel. Best run model explanations started\n",
            "Current status: ModelExplanationDataSetSetup. Model explanations data setup completed\n",
            "Current status: PickSurrogateModel. Choosing LinearModel as the surrogate model for explanations\n",
            "Current status: EngineeredFeatureExplanations. Computation of engineered features started\n",
            "Current status: EngineeredFeatureExplanations. Computation of engineered features completed\n",
            "Current status: BestRunExplainModel. Best run model explanations completed\n",
            "********************************************************************************************************************\n"
          ]
        },
        {
          "output_type": "stream",
          "name": "stderr",
          "text": [
            "WARNING - Connection pool is full, discarding connection: mlstrg122217.blob.core.windows.net\n",
            "WARNING - Connection pool is full, discarding connection: mlstrg122217.blob.core.windows.net\n",
            "WARNING - Connection pool is full, discarding connection: mlstrg122217.blob.core.windows.net\n",
            "WARNING - Connection pool is full, discarding connection: mlstrg122217.blob.core.windows.net\n",
            "WARNING - Connection pool is full, discarding connection: mlstrg122217.blob.core.windows.net\n",
            "WARNING - Connection pool is full, discarding connection: mlstrg122217.blob.core.windows.net\n",
            "WARNING - Retrying (Retry(total=2, connect=None, read=None, redirect=None, status=None)) after connection broken by 'NewConnectionError('<urllib3.connection.HTTPSConnection object at 0x7f9bf8a73f28>: Failed to establish a new connection: [Errno 111] Connection refused',)': /azureml/ExperimentRun/dcid.AutoML_8f672ae7-d852-40a4-8672-d266a69580be_0/outputs/internal_cross_validated_models.pkl?sv=2019-02-02&sr=b&sig=w93CIyoiy3UmV8sFOUHAabgng%2F0Yj2LFgsrPm5%2FocjI%3D&st=2020-10-22T16%3A19%3A45Z&se=2020-10-23T00%3A29%3A45Z&sp=r\n",
            "WARNING - Connection pool is full, discarding connection: mlstrg122217.blob.core.windows.net\n",
            "WARNING - Connection pool is full, discarding connection: mlstrg122217.blob.core.windows.net\n",
            "WARNING - Connection pool is full, discarding connection: mlstrg122217.blob.core.windows.net\n",
            "WARNING - Connection pool is full, discarding connection: mlstrg122217.blob.core.windows.net\n",
            "WARNING - Connection pool is full, discarding connection: mlstrg122217.blob.core.windows.net\n",
            "WARNING - Connection pool is full, discarding connection: mlstrg122217.blob.core.windows.net\n"
          ]
        },
        {
          "output_type": "display_data",
          "data": {
            "text/plain": "_AutoMLWidget(widget_settings={'childWidgetDisplay': 'popup', 'send_telemetry': False, 'log_level': 'INFO', 's…",
            "application/vnd.jupyter.widget-view+json": {
              "version_major": 2,
              "version_minor": 0,
              "model_id": "39341f6e13524602b819a68e8e531be9"
            }
          },
          "metadata": {}
        },
        {
          "output_type": "display_data",
          "data": {
            "application/aml.mini.widget.v1": "{\"status\": \"Completed\", \"workbench_run_details_uri\": \"https://ml.azure.com/experiments/capstone-automl/runs/AutoML_8f672ae7-d852-40a4-8672-d266a69580be?wsid=/subscriptions/13fe1ad9-91fc-4300-9ca0-27ebe69e0476/resourcegroups/aml-quickstarts-122217/workspaces/quick-starts-ws-122217\", \"run_id\": \"AutoML_8f672ae7-d852-40a4-8672-d266a69580be\", \"run_properties\": {\"run_id\": \"AutoML_8f672ae7-d852-40a4-8672-d266a69580be\", \"created_utc\": \"2020-10-22T15:57:20.306346Z\", \"properties\": {\"num_iterations\": \"1000\", \"training_type\": \"TrainFull\", \"acquisition_function\": \"EI\", \"primary_metric\": \"accuracy\", \"train_split\": \"0\", \"acquisition_parameter\": \"0\", \"num_cross_validation\": \"3\", \"target\": \"local\", \"AMLSettingsJsonString\": \"{\\\"path\\\":null,\\\"name\\\":\\\"capstone-automl\\\",\\\"subscription_id\\\":\\\"13fe1ad9-91fc-4300-9ca0-27ebe69e0476\\\",\\\"resource_group\\\":\\\"aml-quickstarts-122217\\\",\\\"workspace_name\\\":\\\"quick-starts-ws-122217\\\",\\\"region\\\":\\\"southcentralus\\\",\\\"compute_target\\\":\\\"local\\\",\\\"spark_service\\\":null,\\\"azure_service\\\":\\\"Microsoft.AzureNotebookVM\\\",\\\"_local_managed_run_id\\\":null,\\\"many_models\\\":false,\\\"pipeline_fetch_max_batch_size\\\":1,\\\"iterations\\\":1000,\\\"primary_metric\\\":\\\"accuracy\\\",\\\"task_type\\\":\\\"classification\\\",\\\"data_script\\\":null,\\\"validation_size\\\":0.0,\\\"n_cross_validations\\\":3,\\\"y_min\\\":null,\\\"y_max\\\":null,\\\"num_classes\\\":2,\\\"featurization\\\":\\\"auto\\\",\\\"_ignore_package_version_incompatibilities\\\":false,\\\"is_timeseries\\\":false,\\\"max_cores_per_iteration\\\":1,\\\"max_concurrent_iterations\\\":1,\\\"iteration_timeout_minutes\\\":null,\\\"mem_in_mb\\\":null,\\\"enforce_time_on_windows\\\":false,\\\"experiment_timeout_minutes\\\":30,\\\"experiment_exit_score\\\":null,\\\"whitelist_models\\\":null,\\\"blacklist_algos\\\":[\\\"TensorFlowLinearClassifier\\\",\\\"TensorFlowDNN\\\"],\\\"supported_models\\\":[\\\"LightGBM\\\",\\\"RandomForest\\\",\\\"MultinomialNaiveBayes\\\",\\\"LinearSVM\\\",\\\"SVM\\\",\\\"KNN\\\",\\\"ExtremeRandomTrees\\\",\\\"DecisionTree\\\",\\\"XGBoostClassifier\\\",\\\"BernoulliNaiveBayes\\\",\\\"TensorFlowDNN\\\",\\\"AveragedPerceptronClassifier\\\",\\\"GradientBoosting\\\",\\\"LogisticRegression\\\",\\\"SGD\\\",\\\"TensorFlowLinearClassifier\\\"],\\\"auto_blacklist\\\":true,\\\"blacklist_samples_reached\\\":false,\\\"exclude_nan_labels\\\":true,\\\"verbosity\\\":20,\\\"_debug_log\\\":\\\"automl.log\\\",\\\"show_warnings\\\":false,\\\"model_explainability\\\":true,\\\"service_url\\\":null,\\\"sdk_url\\\":null,\\\"sdk_packages\\\":null,\\\"enable_onnx_compatible_models\\\":false,\\\"enable_split_onnx_featurizer_estimator_models\\\":false,\\\"vm_type\\\":null,\\\"telemetry_verbosity\\\":20,\\\"send_telemetry\\\":true,\\\"enable_dnn\\\":false,\\\"force_text_dnn\\\":false,\\\"enable_feature_sweeping\\\":true,\\\"enable_early_stopping\\\":false,\\\"early_stopping_n_iters\\\":10,\\\"metrics\\\":null,\\\"enable_ensembling\\\":true,\\\"enable_stack_ensembling\\\":true,\\\"ensemble_iterations\\\":15,\\\"enable_tf\\\":false,\\\"enable_subsampling\\\":null,\\\"subsample_seed\\\":null,\\\"enable_nimbusml\\\":false,\\\"enable_streaming\\\":false,\\\"force_streaming\\\":false,\\\"track_child_runs\\\":true,\\\"label_column_name\\\":\\\"Sentiment\\\",\\\"weight_column_name\\\":null,\\\"cv_split_column_names\\\":null,\\\"enable_local_managed\\\":false,\\\"cost_mode\\\":1,\\\"lag_length\\\":0,\\\"metric_operation\\\":\\\"maximize\\\",\\\"preprocess\\\":true,\\\"scenario\\\":\\\"SDK-1.13.0\\\"}\", \"DataPrepJsonString\": null, \"EnableSubsampling\": null, \"runTemplate\": \"AutoML\", \"azureml.runsource\": \"automl\", \"display_task_type\": \"classification\", \"dependencies_versions\": \"{\\\"azureml-widgets\\\": \\\"1.16.0\\\", \\\"azureml-train\\\": \\\"1.16.0\\\", \\\"azureml-train-restclients-hyperdrive\\\": \\\"1.16.0\\\", \\\"azureml-train-core\\\": \\\"1.16.0\\\", \\\"azureml-train-automl\\\": \\\"1.16.0\\\", \\\"azureml-train-automl-runtime\\\": \\\"1.16.0\\\", \\\"azureml-train-automl-client\\\": \\\"1.16.0\\\", \\\"azureml-tensorboard\\\": \\\"1.16.0\\\", \\\"azureml-telemetry\\\": \\\"1.16.0\\\", \\\"azureml-sdk\\\": \\\"1.16.0\\\", \\\"azureml-samples\\\": \\\"0+unknown\\\", \\\"azureml-pipeline\\\": \\\"1.16.0\\\", \\\"azureml-pipeline-steps\\\": \\\"1.16.0\\\", \\\"azureml-pipeline-core\\\": \\\"1.16.0\\\", \\\"azureml-opendatasets\\\": \\\"1.16.0\\\", \\\"azureml-model-management-sdk\\\": \\\"1.0.1b6.post1\\\", \\\"azureml-mlflow\\\": \\\"1.16.0\\\", \\\"azureml-interpret\\\": \\\"1.16.0\\\", \\\"azureml-explain-model\\\": \\\"1.16.0\\\", \\\"azureml-defaults\\\": \\\"1.16.0\\\", \\\"azureml-dataset-runtime\\\": \\\"1.16.0\\\", \\\"azureml-dataprep\\\": \\\"2.3.2\\\", \\\"azureml-dataprep-rslex\\\": \\\"1.1.1\\\", \\\"azureml-dataprep-native\\\": \\\"23.0.0\\\", \\\"azureml-datadrift\\\": \\\"1.16.0\\\", \\\"azureml-core\\\": \\\"1.16.0\\\", \\\"azureml-contrib-services\\\": \\\"1.16.0\\\", \\\"azureml-contrib-server\\\": \\\"1.16.0\\\", \\\"azureml-contrib-reinforcementlearning\\\": \\\"1.16.0\\\", \\\"azureml-contrib-pipeline-steps\\\": \\\"1.16.0\\\", \\\"azureml-contrib-notebook\\\": \\\"1.16.0\\\", \\\"azureml-contrib-interpret\\\": \\\"1.16.0\\\", \\\"azureml-contrib-gbdt\\\": \\\"1.16.0\\\", \\\"azureml-contrib-fairness\\\": \\\"1.16.0\\\", \\\"azureml-contrib-dataset\\\": \\\"1.16.0\\\", \\\"azureml-cli-common\\\": \\\"1.16.0\\\", \\\"azureml-automl-runtime\\\": \\\"1.16.0\\\", \\\"azureml-automl-core\\\": \\\"1.16.0\\\", \\\"azureml-accel-models\\\": \\\"1.16.0\\\"}\", \"_aml_system_scenario_identification\": \"Local.Parent\", \"ClientSdkVersion\": \"1.16.0\", \"ClientType\": \"SDK\", \"environment_cpu_name\": \"AzureML-AutoML\", \"environment_cpu_version\": \"43\", \"environment_gpu_name\": \"AzureML-AutoML-GPU\", \"environment_gpu_version\": \"31\", \"root_attribution\": \"automl\", \"attribution\": \"AutoML\", \"Orchestrator\": \"AutoML\", \"_azureml.ComputeTargetType\": \"local\", \"ProblemInfoJsonString\": \"{\\\"dataset_num_categorical\\\": 0, \\\"is_sparse\\\": true, \\\"subsampling\\\": true, \\\"dataset_classes\\\": 2, \\\"dataset_features\\\": 623416, \\\"dataset_samples\\\": 41155, \\\"single_frequency_class_detected\\\": false}\", \"feature_skus\": \"automatedml_sdk_guardrails\"}, \"tags\": {\"model_explain_run\": \"best_run\", \"best_score\": \"0.7250155415844688\", \"best_pipeline\": \"VotingEnsemble\", \"automl_best_child_run_id\": \"AutoML_8f672ae7-d852-40a4-8672-d266a69580be_7\", \"model_explain_best_run_child_id\": \"AutoML_8f672ae7-d852-40a4-8672-d266a69580be_7\"}, \"end_time_utc\": \"2020-10-22T16:31:43.220274Z\", \"status\": \"Completed\", \"log_files\": {}, \"log_groups\": [], \"run_duration\": \"0:34:22\"}, \"child_runs\": [{\"run_id\": \"AutoML_8f672ae7-d852-40a4-8672-d266a69580be_0\", \"run_number\": 28, \"metric\": null, \"status\": \"Completed\", \"run_type\": null, \"training_percent\": \"5\", \"start_time\": \"2020-10-22T16:00:08.312947Z\", \"end_time\": \"2020-10-22T16:05:22.64334Z\", \"created_time\": \"2020-10-22T16:00:08.117584Z\", \"created_time_dt\": \"2020-10-22T16:00:08.117584Z\", \"duration\": \"0:05:14\", \"iteration\": \"0\", \"goal\": \"accuracy_max\", \"run_name\": \"MaxAbsScaler, LightGBM\", \"run_properties\": \"copy=True\", \"primary_metric\": 0.70866253, \"best_metric\": 0.70866253}, {\"run_id\": \"AutoML_8f672ae7-d852-40a4-8672-d266a69580be_1\", \"run_number\": 29, \"metric\": null, \"status\": \"Completed\", \"run_type\": null, \"training_percent\": \"5\", \"start_time\": \"2020-10-22T16:05:23.103264Z\", \"end_time\": \"2020-10-22T16:16:12.109457Z\", \"created_time\": \"2020-10-22T16:05:22.963074Z\", \"created_time_dt\": \"2020-10-22T16:05:22.963074Z\", \"duration\": \"0:10:49\", \"iteration\": \"1\", \"goal\": \"accuracy_max\", \"run_name\": \"MaxAbsScaler, XGBoostClassifier\", \"run_properties\": \"copy=True\", \"primary_metric\": 0.70438618, \"best_metric\": 0.70866253}, {\"run_id\": \"AutoML_8f672ae7-d852-40a4-8672-d266a69580be_2\", \"run_number\": 30, \"metric\": null, \"status\": \"Completed\", \"run_type\": null, \"training_percent\": \"5\", \"start_time\": \"2020-10-22T16:16:13.055724Z\", \"end_time\": \"2020-10-22T16:18:31.937335Z\", \"created_time\": \"2020-10-22T16:16:12.880991Z\", \"created_time_dt\": \"2020-10-22T16:16:12.880991Z\", \"duration\": \"0:02:19\", \"iteration\": \"2\", \"goal\": \"accuracy_max\", \"run_name\": \"MaxAbsScaler, RandomForest\", \"run_properties\": \"copy=True\", \"primary_metric\": 0.62949847, \"best_metric\": 0.70866253}, {\"run_id\": \"AutoML_8f672ae7-d852-40a4-8672-d266a69580be_3\", \"run_number\": 31, \"metric\": null, \"status\": \"Completed\", \"run_type\": null, \"training_percent\": \"5\", \"start_time\": \"2020-10-22T16:18:33.4284Z\", \"end_time\": \"2020-10-22T16:20:41.393074Z\", \"created_time\": \"2020-10-22T16:18:33.289934Z\", \"created_time_dt\": \"2020-10-22T16:18:33.289934Z\", \"duration\": \"0:02:08\", \"iteration\": \"3\", \"goal\": \"accuracy_max\", \"run_name\": \"MaxAbsScaler, RandomForest\", \"run_properties\": \"copy=True\", \"primary_metric\": 0.62585365, \"best_metric\": 0.70866253}, {\"run_id\": \"AutoML_8f672ae7-d852-40a4-8672-d266a69580be_4\", \"run_number\": 32, \"metric\": null, \"status\": \"Completed\", \"run_type\": null, \"training_percent\": \"5\", \"start_time\": \"2020-10-22T16:20:42.86809Z\", \"end_time\": \"2020-10-22T16:22:51.574522Z\", \"created_time\": \"2020-10-22T16:20:42.741012Z\", \"created_time_dt\": \"2020-10-22T16:20:42.741012Z\", \"duration\": \"0:02:08\", \"iteration\": \"4\", \"goal\": \"accuracy_max\", \"run_name\": \"MaxAbsScaler, SGD\", \"run_properties\": \"copy=True\", \"primary_metric\": 0.70783638, \"best_metric\": 0.70866253}, {\"run_id\": \"AutoML_8f672ae7-d852-40a4-8672-d266a69580be_5\", \"run_number\": 33, \"metric\": null, \"status\": \"Completed\", \"run_type\": null, \"training_percent\": \"5\", \"start_time\": \"2020-10-22T16:22:53.348655Z\", \"end_time\": \"2020-10-22T16:25:05.195129Z\", \"created_time\": \"2020-10-22T16:22:53.217727Z\", \"created_time_dt\": \"2020-10-22T16:22:53.217727Z\", \"duration\": \"0:02:11\", \"iteration\": \"5\", \"goal\": \"accuracy_max\", \"run_name\": \"MaxAbsScaler, SGD\", \"run_properties\": \"copy=True\", \"primary_metric\": 0.70611121, \"best_metric\": 0.70866253}, {\"run_id\": \"AutoML_8f672ae7-d852-40a4-8672-d266a69580be_6\", \"run_number\": 34, \"metric\": null, \"status\": \"Completed\", \"run_type\": null, \"training_percent\": \"5\", \"start_time\": \"2020-10-22T16:25:08.107916Z\", \"end_time\": \"2020-10-22T16:27:51.806543Z\", \"created_time\": \"2020-10-22T16:25:07.941878Z\", \"created_time_dt\": \"2020-10-22T16:25:07.941878Z\", \"duration\": \"0:02:43\", \"iteration\": \"6\", \"goal\": \"accuracy_max\", \"run_name\": \"MaxAbsScaler, ExtremeRandomTrees\", \"run_properties\": \"copy=True\", \"primary_metric\": 0.69819012, \"best_metric\": 0.70866253}, {\"run_id\": \"AutoML_8f672ae7-d852-40a4-8672-d266a69580be_7\", \"run_number\": 35, \"metric\": null, \"status\": \"Completed\", \"run_type\": null, \"training_percent\": \"100\", \"start_time\": \"2020-10-22T16:27:53.063113Z\", \"end_time\": \"2020-10-22T16:29:41.892126Z\", \"created_time\": \"2020-10-22T16:27:52.505095Z\", \"created_time_dt\": \"2020-10-22T16:27:52.505095Z\", \"duration\": \"0:01:49\", \"iteration\": \"7\", \"goal\": \"accuracy_max\", \"run_name\": \"VotingEnsemble\", \"run_properties\": \"classification_labels=None,\\n                              estimators=[('0',\\n                                           Pipeline(memory=None,\\n                                                    steps=[('maxabsscaler',\\n                                                            MaxAbsScaler(copy=True\", \"primary_metric\": 0.72501554, \"best_metric\": 0.72501554}, {\"run_id\": \"AutoML_8f672ae7-d852-40a4-8672-d266a69580be_8\", \"run_number\": 36, \"metric\": null, \"status\": \"Completed\", \"run_type\": null, \"training_percent\": \"100\", \"start_time\": \"2020-10-22T16:29:42.400475Z\", \"end_time\": \"2020-10-22T16:31:41.541043Z\", \"created_time\": \"2020-10-22T16:29:42.244631Z\", \"created_time_dt\": \"2020-10-22T16:29:42.244631Z\", \"duration\": \"0:01:59\", \"iteration\": \"8\", \"goal\": \"accuracy_max\", \"run_name\": \"StackEnsemble\", \"run_properties\": \"base_learners=[('0',\\n                                        Pipeline(memory=None,\\n                                                 steps=[('maxabsscaler',\\n                                                         MaxAbsScaler(copy=True\", \"primary_metric\": 0.72467527, \"best_metric\": 0.72501554}], \"children_metrics\": {\"categories\": [0], \"series\": {\"log_loss\": [{\"categories\": [\"0\", \"1\", \"2\", \"3\", \"4\", \"5\", \"6\", \"7\", \"8\"], \"mode\": \"markers\", \"name\": \"log_loss\", \"stepped\": false, \"type\": \"scatter\", \"data\": [0.6489426155649136, 0.5798151118147867, 0.643092205442449, 0.6603445547704124, 0.5710226095138273, 0.5683027993150646, 0.5934747508736563, 0.5509983791940343, 0.5502792895323378]}, {\"categories\": [\"0\", \"1\", \"2\", \"3\", \"4\", \"5\", \"6\", \"7\", \"8\"], \"mode\": \"lines\", \"name\": \"log_loss_min\", \"stepped\": true, \"type\": \"scatter\", \"data\": [0.6489426155649136, 0.5798151118147867, 0.5798151118147867, 0.5798151118147867, 0.5710226095138273, 0.5683027993150646, 0.5683027993150646, 0.5509983791940343, 0.5502792895323378]}], \"average_precision_score_macro\": [{\"categories\": [\"0\", \"1\", \"2\", \"3\", \"4\", \"5\", \"6\", \"7\", \"8\"], \"mode\": \"markers\", \"name\": \"average_precision_score_macro\", \"stepped\": false, \"type\": \"scatter\", \"data\": [0.7312971591302627, 0.7173676397102412, 0.6209292659491532, 0.5351063135792078, 0.737744322524516, 0.7347378398900505, 0.6948081551270802, 0.7603226090408279, 0.7601974944964957]}, {\"categories\": [\"0\", \"1\", \"2\", \"3\", \"4\", \"5\", \"6\", \"7\", \"8\"], \"mode\": \"lines\", \"name\": \"average_precision_score_macro_max\", \"stepped\": true, \"type\": \"scatter\", \"data\": [0.7312971591302627, 0.7312971591302627, 0.7312971591302627, 0.7312971591302627, 0.737744322524516, 0.737744322524516, 0.737744322524516, 0.7603226090408279, 0.7603226090408279]}], \"norm_macro_recall\": [{\"categories\": [\"0\", \"1\", \"2\", \"3\", \"4\", \"5\", \"6\", \"7\", \"8\"], \"mode\": \"markers\", \"name\": \"norm_macro_recall\", \"stepped\": false, \"type\": \"scatter\", \"data\": [0.3167880993238741, 0.27269529840562373, 0.010936195988314967, 0.0, 0.331150759684375, 0.3038752528882518, 0.25130697342710584, 0.3289297808071463, 0.3546835374757]}, {\"categories\": [\"0\", \"1\", \"2\", \"3\", \"4\", \"5\", \"6\", \"7\", \"8\"], \"mode\": \"lines\", \"name\": \"norm_macro_recall_max\", \"stepped\": true, \"type\": \"scatter\", \"data\": [0.3167880993238741, 0.3167880993238741, 0.3167880993238741, 0.3167880993238741, 0.331150759684375, 0.331150759684375, 0.331150759684375, 0.331150759684375, 0.3546835374757]}], \"average_precision_score_weighted\": [{\"categories\": [\"0\", \"1\", \"2\", \"3\", \"4\", \"5\", \"6\", \"7\", \"8\"], \"mode\": \"markers\", \"name\": \"average_precision_score_weighted\", \"stepped\": false, \"type\": \"scatter\", \"data\": [0.7514669549549847, 0.7382656934145891, 0.6480813735456779, 0.5670639758987996, 0.7592050739770492, 0.7562778557797524, 0.7152443725450391, 0.7788620895604857, 0.7787672176977241]}, {\"categories\": [\"0\", \"1\", \"2\", \"3\", \"4\", \"5\", \"6\", \"7\", \"8\"], \"mode\": \"lines\", \"name\": \"average_precision_score_weighted_max\", \"stepped\": true, \"type\": \"scatter\", \"data\": [0.7514669549549847, 0.7514669549549847, 0.7514669549549847, 0.7514669549549847, 0.7592050739770492, 0.7592050739770492, 0.7592050739770492, 0.7788620895604857, 0.7788620895604857]}], \"average_precision_score_micro\": [{\"categories\": [\"0\", \"1\", \"2\", \"3\", \"4\", \"5\", \"6\", \"7\", \"8\"], \"mode\": \"markers\", \"name\": \"average_precision_score_micro\", \"stepped\": false, \"type\": \"scatter\", \"data\": [0.765843237011902, 0.7530412791541213, 0.6742455893319055, 0.6219311968987014, 0.7740422853923475, 0.7705666846303436, 0.7324304312190796, 0.7875434926815655, 0.7906431310184935]}, {\"categories\": [\"0\", \"1\", \"2\", \"3\", \"4\", \"5\", \"6\", \"7\", \"8\"], \"mode\": \"lines\", \"name\": \"average_precision_score_micro_max\", \"stepped\": true, \"type\": \"scatter\", \"data\": [0.765843237011902, 0.765843237011902, 0.765843237011902, 0.765843237011902, 0.7740422853923475, 0.7740422853923475, 0.7740422853923475, 0.7875434926815655, 0.7906431310184935]}], \"weighted_accuracy\": [{\"categories\": [\"0\", \"1\", \"2\", \"3\", \"4\", \"5\", \"6\", \"7\", \"8\"], \"mode\": \"markers\", \"name\": \"weighted_accuracy\", \"stepped\": false, \"type\": \"scatter\", \"data\": [0.7529679925933747, 0.7643255075539667, 0.7386725508164248, 0.7366191588730094, 0.7450465545642461, 0.7538735024851011, 0.7620766438713518, 0.7783540456035403, 0.7664409678424189]}, {\"categories\": [\"0\", \"1\", \"2\", \"3\", \"4\", \"5\", \"6\", \"7\", \"8\"], \"mode\": \"lines\", \"name\": \"weighted_accuracy_max\", \"stepped\": true, \"type\": \"scatter\", \"data\": [0.7529679925933747, 0.7643255075539667, 0.7643255075539667, 0.7643255075539667, 0.7643255075539667, 0.7643255075539667, 0.7643255075539667, 0.7783540456035403, 0.7783540456035403]}], \"AUC_weighted\": [{\"categories\": [\"0\", \"1\", \"2\", \"3\", \"4\", \"5\", \"6\", \"7\", \"8\"], \"mode\": \"markers\", \"name\": \"AUC_weighted\", \"stepped\": false, \"type\": \"scatter\", \"data\": [0.7417540739451353, 0.7299122285734495, 0.63776052472959, 0.5479420295083735, 0.7502432615951712, 0.7473583625780922, 0.7064943011376688, 0.7704728029084095, 0.769973621731605]}, {\"categories\": [\"0\", \"1\", \"2\", \"3\", \"4\", \"5\", \"6\", \"7\", \"8\"], \"mode\": \"lines\", \"name\": \"AUC_weighted_max\", \"stepped\": true, \"type\": \"scatter\", \"data\": [0.7417540739451353, 0.7417540739451353, 0.7417540739451353, 0.7417540739451353, 0.7502432615951712, 0.7502432615951712, 0.7502432615951712, 0.7704728029084095, 0.7704728029084095]}], \"precision_score_macro\": [{\"categories\": [\"0\", \"1\", \"2\", \"3\", \"4\", \"5\", \"6\", \"7\", \"8\"], \"mode\": \"markers\", \"name\": \"precision_score_macro\", \"stepped\": false, \"type\": \"scatter\", \"data\": [0.693658722946242, 0.7042833779278631, 0.7205452828487124, 0.31292682634885094, 0.6882342765283037, 0.6930329878617627, 0.7006114813591381, 0.7266669646225701, 0.7147111644096439]}, {\"categories\": [\"0\", \"1\", \"2\", \"3\", \"4\", \"5\", \"6\", \"7\", \"8\"], \"mode\": \"lines\", \"name\": \"precision_score_macro_max\", \"stepped\": true, \"type\": \"scatter\", \"data\": [0.693658722946242, 0.7042833779278631, 0.7205452828487124, 0.7205452828487124, 0.7205452828487124, 0.7205452828487124, 0.7205452828487124, 0.7266669646225701, 0.7266669646225701]}], \"AUC_micro\": [{\"categories\": [\"0\", \"1\", \"2\", \"3\", \"4\", \"5\", \"6\", \"7\", \"8\"], \"mode\": \"markers\", \"name\": \"AUC_micro\", \"stepped\": false, \"type\": \"scatter\", \"data\": [0.7757930055921928, 0.7653614285072593, 0.6904859401015983, 0.6482692345475598, 0.7801365451712373, 0.7774279981504874, 0.751093478543489, 0.7956565594233943, 0.7979064866324125]}, {\"categories\": [\"0\", \"1\", \"2\", \"3\", \"4\", \"5\", \"6\", \"7\", \"8\"], \"mode\": \"lines\", \"name\": \"AUC_micro_max\", \"stepped\": true, \"type\": \"scatter\", \"data\": [0.7757930055921928, 0.7757930055921928, 0.7757930055921928, 0.7757930055921928, 0.7801365451712373, 0.7801365451712373, 0.7801365451712373, 0.7956565594233943, 0.7979064866324125]}], \"recall_score_weighted\": [{\"categories\": [\"0\", \"1\", \"2\", \"3\", \"4\", \"5\", \"6\", \"7\", \"8\"], \"mode\": \"markers\", \"name\": \"recall_score_weighted\", \"stepped\": false, \"type\": \"scatter\", \"data\": [0.7086625282921699, 0.7043861779866041, 0.6294984705461305, 0.6258536526977019, 0.7078363808682524, 0.7061112121221557, 0.6981901201293906, 0.7250155415844688, 0.7246752744654993]}, {\"categories\": [\"0\", \"1\", \"2\", \"3\", \"4\", \"5\", \"6\", \"7\", \"8\"], \"mode\": \"lines\", \"name\": \"recall_score_weighted_max\", \"stepped\": true, \"type\": \"scatter\", \"data\": [0.7086625282921699, 0.7086625282921699, 0.7086625282921699, 0.7086625282921699, 0.7086625282921699, 0.7086625282921699, 0.7086625282921699, 0.7250155415844688, 0.7250155415844688]}], \"AUC_macro\": [{\"categories\": [\"0\", \"1\", \"2\", \"3\", \"4\", \"5\", \"6\", \"7\", \"8\"], \"mode\": \"markers\", \"name\": \"AUC_macro\", \"stepped\": false, \"type\": \"scatter\", \"data\": [0.7417540739451353, 0.7299122286373395, 0.63776052472959, 0.5479420295083735, 0.7502432615951712, 0.7473583625780922, 0.7064943011376688, 0.7704728019623, 0.769973621731605]}, {\"categories\": [\"0\", \"1\", \"2\", \"3\", \"4\", \"5\", \"6\", \"7\", \"8\"], \"mode\": \"lines\", \"name\": \"AUC_macro_max\", \"stepped\": true, \"type\": \"scatter\", \"data\": [0.7417540739451353, 0.7417540739451353, 0.7417540739451353, 0.7417540739451353, 0.7502432615951712, 0.7502432615951712, 0.7502432615951712, 0.7704728019623, 0.7704728019623]}], \"balanced_accuracy\": [{\"categories\": [\"0\", \"1\", \"2\", \"3\", \"4\", \"5\", \"6\", \"7\", \"8\"], \"mode\": \"markers\", \"name\": \"balanced_accuracy\", \"stepped\": false, \"type\": \"scatter\", \"data\": [0.658394049661937, 0.6363476492028118, 0.5054680979941575, 0.5, 0.6655753798421875, 0.6519376264441259, 0.6256534867135529, 0.6644648904035731, 0.67734176873785]}, {\"categories\": [\"0\", \"1\", \"2\", \"3\", \"4\", \"5\", \"6\", \"7\", \"8\"], \"mode\": \"lines\", \"name\": \"balanced_accuracy_max\", \"stepped\": true, \"type\": \"scatter\", \"data\": [0.658394049661937, 0.658394049661937, 0.658394049661937, 0.658394049661937, 0.6655753798421875, 0.6655753798421875, 0.6655753798421875, 0.6655753798421875, 0.67734176873785]}], \"f1_score_micro\": [{\"categories\": [\"0\", \"1\", \"2\", \"3\", \"4\", \"5\", \"6\", \"7\", \"8\"], \"mode\": \"markers\", \"name\": \"f1_score_micro\", \"stepped\": false, \"type\": \"scatter\", \"data\": [0.7086625282921699, 0.7043861779866041, 0.6294984705461305, 0.6258536526977019, 0.7078363808682524, 0.7061112121221557, 0.6981901201293906, 0.7250155415844688, 0.7246752744654993]}, {\"categories\": [\"0\", \"1\", \"2\", \"3\", \"4\", \"5\", \"6\", \"7\", \"8\"], \"mode\": \"lines\", \"name\": \"f1_score_micro_max\", \"stepped\": true, \"type\": \"scatter\", \"data\": [0.7086625282921699, 0.7086625282921699, 0.7086625282921699, 0.7086625282921699, 0.7086625282921699, 0.7086625282921699, 0.7086625282921699, 0.7250155415844688, 0.7250155415844688]}], \"recall_score_micro\": [{\"categories\": [\"0\", \"1\", \"2\", \"3\", \"4\", \"5\", \"6\", \"7\", \"8\"], \"mode\": \"markers\", \"name\": \"recall_score_micro\", \"stepped\": false, \"type\": \"scatter\", \"data\": [0.7086625282921699, 0.704386177986604, 0.6294984705461305, 0.6258536526977019, 0.7078363808682524, 0.7061112121221557, 0.6981901201293906, 0.7250155415844688, 0.7246752744654993]}, {\"categories\": [\"0\", \"1\", \"2\", \"3\", \"4\", \"5\", \"6\", \"7\", \"8\"], \"mode\": \"lines\", \"name\": \"recall_score_micro_max\", \"stepped\": true, \"type\": \"scatter\", \"data\": [0.7086625282921699, 0.7086625282921699, 0.7086625282921699, 0.7086625282921699, 0.7086625282921699, 0.7086625282921699, 0.7086625282921699, 0.7250155415844688, 0.7250155415844688]}], \"precision_score_weighted\": [{\"categories\": [\"0\", \"1\", \"2\", \"3\", \"4\", \"5\", \"6\", \"7\", \"8\"], \"mode\": \"markers\", \"name\": \"precision_score_weighted\", \"stepped\": false, \"type\": \"scatter\", \"data\": [0.7020087419821502, 0.7046724715272594, 0.6973051355080231, 0.39172975240389424, 0.7000888003666977, 0.7001111390656005, 0.7001130693791064, 0.7262198796677541, 0.7212375699206447]}, {\"categories\": [\"0\", \"1\", \"2\", \"3\", \"4\", \"5\", \"6\", \"7\", \"8\"], \"mode\": \"lines\", \"name\": \"precision_score_weighted_max\", \"stepped\": true, \"type\": \"scatter\", \"data\": [0.7020087419821502, 0.7046724715272594, 0.7046724715272594, 0.7046724715272594, 0.7046724715272594, 0.7046724715272594, 0.7046724715272594, 0.7262198796677541, 0.7262198796677541]}], \"f1_score_macro\": [{\"categories\": [\"0\", \"1\", \"2\", \"3\", \"4\", \"5\", \"6\", \"7\", \"8\"], \"mode\": \"markers\", \"name\": \"f1_score_macro\", \"stepped\": false, \"type\": \"scatter\", \"data\": [0.6631342367899973, 0.6363124761853659, 0.3978687648902794, 0.3849298976092643, 0.6707045884594219, 0.6558403484865217, 0.6220834777164117, 0.6695509543599956, 0.6826269641130125]}, {\"categories\": [\"0\", \"1\", \"2\", \"3\", \"4\", \"5\", \"6\", \"7\", \"8\"], \"mode\": \"lines\", \"name\": \"f1_score_macro_max\", \"stepped\": true, \"type\": \"scatter\", \"data\": [0.6631342367899973, 0.6631342367899973, 0.6631342367899973, 0.6631342367899973, 0.6707045884594219, 0.6707045884594219, 0.6707045884594219, 0.6707045884594219, 0.6826269641130125]}], \"recall_score_macro\": [{\"categories\": [\"0\", \"1\", \"2\", \"3\", \"4\", \"5\", \"6\", \"7\", \"8\"], \"mode\": \"markers\", \"name\": \"recall_score_macro\", \"stepped\": false, \"type\": \"scatter\", \"data\": [0.658394049661937, 0.6363476492028118, 0.5054680979941575, 0.5, 0.6655753798421875, 0.6519376264441259, 0.6256534867135529, 0.6644648904035731, 0.67734176873785]}, {\"categories\": [\"0\", \"1\", \"2\", \"3\", \"4\", \"5\", \"6\", \"7\", \"8\"], \"mode\": \"lines\", \"name\": \"recall_score_macro_max\", \"stepped\": true, \"type\": \"scatter\", \"data\": [0.658394049661937, 0.658394049661937, 0.658394049661937, 0.658394049661937, 0.6655753798421875, 0.6655753798421875, 0.6655753798421875, 0.6655753798421875, 0.67734176873785]}], \"accuracy\": [{\"categories\": [\"0\", \"1\", \"2\", \"3\", \"4\", \"5\", \"6\", \"7\", \"8\"], \"mode\": \"markers\", \"name\": \"accuracy\", \"stepped\": false, \"type\": \"scatter\", \"data\": [0.7086625282921699, 0.704386177986604, 0.6294984705461305, 0.6258536526977019, 0.7078363808682524, 0.7061112121221557, 0.6981901201293906, 0.7250155415844688, 0.7246752744654993]}, {\"categories\": [\"0\", \"1\", \"2\", \"3\", \"4\", \"5\", \"6\", \"7\", \"8\"], \"mode\": \"lines\", \"name\": \"accuracy_max\", \"stepped\": true, \"type\": \"scatter\", \"data\": [0.7086625282921699, 0.7086625282921699, 0.7086625282921699, 0.7086625282921699, 0.7086625282921699, 0.7086625282921699, 0.7086625282921699, 0.7250155415844688, 0.7250155415844688]}], \"matthews_correlation\": [{\"categories\": [\"0\", \"1\", \"2\", \"3\", \"4\", \"5\", \"6\", \"7\", \"8\"], \"mode\": \"markers\", \"name\": \"matthews_correlation\", \"stepped\": false, \"type\": \"scatter\", \"data\": [0.35009785670083454, 0.33347402909603224, 0.06541901914872252, 0.0, 0.3530712204236071, 0.3422640498656466, 0.31691778504075124, 0.3859454131830892, 0.38973854910377687]}, {\"categories\": [\"0\", \"1\", \"2\", \"3\", \"4\", \"5\", \"6\", \"7\", \"8\"], \"mode\": \"lines\", \"name\": \"matthews_correlation_max\", \"stepped\": true, \"type\": \"scatter\", \"data\": [0.35009785670083454, 0.35009785670083454, 0.35009785670083454, 0.35009785670083454, 0.3530712204236071, 0.3530712204236071, 0.3530712204236071, 0.3859454131830892, 0.38973854910377687]}], \"f1_score_weighted\": [{\"categories\": [\"0\", \"1\", \"2\", \"3\", \"4\", \"5\", \"6\", \"7\", \"8\"], \"mode\": \"markers\", \"name\": \"f1_score_weighted\", \"stepped\": false, \"type\": \"scatter\", \"data\": [0.694167030068055, 0.6757580330167818, 0.4918026651358949, 0.48184751017687494, 0.6985225600447392, 0.6887641634290501, 0.6646052842416156, 0.7035104117357093, 0.7114041599323476]}, {\"categories\": [\"0\", \"1\", \"2\", \"3\", \"4\", \"5\", \"6\", \"7\", \"8\"], \"mode\": \"lines\", \"name\": \"f1_score_weighted_max\", \"stepped\": true, \"type\": \"scatter\", \"data\": [0.694167030068055, 0.694167030068055, 0.694167030068055, 0.694167030068055, 0.6985225600447392, 0.6985225600447392, 0.6985225600447392, 0.7035104117357093, 0.7114041599323476]}], \"precision_score_micro\": [{\"categories\": [\"0\", \"1\", \"2\", \"3\", \"4\", \"5\", \"6\", \"7\", \"8\"], \"mode\": \"markers\", \"name\": \"precision_score_micro\", \"stepped\": false, \"type\": \"scatter\", \"data\": [0.7086625282921699, 0.704386177986604, 0.6294984705461305, 0.6258536526977019, 0.7078363808682524, 0.7061112121221557, 0.6981901201293906, 0.7250155415844688, 0.7246752744654993]}, {\"categories\": [\"0\", \"1\", \"2\", \"3\", \"4\", \"5\", \"6\", \"7\", \"8\"], \"mode\": \"lines\", \"name\": \"precision_score_micro_max\", \"stepped\": true, \"type\": \"scatter\", \"data\": [0.7086625282921699, 0.7086625282921699, 0.7086625282921699, 0.7086625282921699, 0.7086625282921699, 0.7086625282921699, 0.7086625282921699, 0.7250155415844688, 0.7250155415844688]}]}, \"metricName\": null, \"primaryMetricName\": \"accuracy\", \"showLegend\": false}, \"run_metrics\": [{\"name\": \"experiment_status\", \"run_id\": \"AutoML_8f672ae7-d852-40a4-8672-d266a69580be\", \"categories\": [0, 1, 2, 3, 4, 5, 6, 7, 8, 9, 10, 11], \"series\": [{\"data\": [\"DatasetEvaluation\", \"FeaturesGeneration\", \"DatasetFeaturization\", \"DatasetFeaturizationCompleted\", \"DatasetCrossValidationSplit\", \"ModelSelection\", \"BestRunExplainModel\", \"ModelExplanationDataSetSetup\", \"PickSurrogateModel\", \"EngineeredFeatureExplanations\", \"EngineeredFeatureExplanations\", \"BestRunExplainModel\"]}]}, {\"name\": \"experiment_status_description\", \"run_id\": \"AutoML_8f672ae7-d852-40a4-8672-d266a69580be\", \"categories\": [0, 1, 2, 3, 4, 5, 6, 7, 8, 9, 10, 11], \"series\": [{\"data\": [\"Gathering dataset statistics.\", \"Generating features for the dataset.\", \"Beginning to fit featurizers and featurize the dataset.\", \"Completed fit featurizers and featurizing the dataset.\", \"Generating individually featurized CV splits.\", \"Beginning model selection.\", \"Best run model explanations started\", \"Model explanations data setup completed\", \"Choosing LinearModel as the surrogate model for explanations\", \"Computation of engineered features started\", \"Computation of engineered features completed\", \"Best run model explanations completed\"]}]}, {\"name\": \"log_loss\", \"run_id\": \"AutoML_8f672ae7-d852-40a4-8672-d266a69580be\", \"categories\": [0], \"series\": [{\"data\": [0.5509983791940343]}]}, {\"name\": \"average_precision_score_macro\", \"run_id\": \"AutoML_8f672ae7-d852-40a4-8672-d266a69580be\", \"categories\": [0], \"series\": [{\"data\": [0.7603226090408279]}]}, {\"name\": \"norm_macro_recall\", \"run_id\": \"AutoML_8f672ae7-d852-40a4-8672-d266a69580be\", \"categories\": [0], \"series\": [{\"data\": [0.3289297808071463]}]}, {\"name\": \"average_precision_score_weighted\", \"run_id\": \"AutoML_8f672ae7-d852-40a4-8672-d266a69580be\", \"categories\": [0], \"series\": [{\"data\": [0.7788620895604857]}]}, {\"name\": \"average_precision_score_micro\", \"run_id\": \"AutoML_8f672ae7-d852-40a4-8672-d266a69580be\", \"categories\": [0], \"series\": [{\"data\": [0.7875434926815655]}]}, {\"name\": \"weighted_accuracy\", \"run_id\": \"AutoML_8f672ae7-d852-40a4-8672-d266a69580be\", \"categories\": [0], \"series\": [{\"data\": [0.7783540456035403]}]}, {\"name\": \"AUC_weighted\", \"run_id\": \"AutoML_8f672ae7-d852-40a4-8672-d266a69580be\", \"categories\": [0], \"series\": [{\"data\": [0.7704728029084095]}]}, {\"name\": \"precision_score_macro\", \"run_id\": \"AutoML_8f672ae7-d852-40a4-8672-d266a69580be\", \"categories\": [0], \"series\": [{\"data\": [0.7266669646225701]}]}, {\"name\": \"AUC_micro\", \"run_id\": \"AutoML_8f672ae7-d852-40a4-8672-d266a69580be\", \"categories\": [0], \"series\": [{\"data\": [0.7956565594233943]}]}, {\"name\": \"recall_score_weighted\", \"run_id\": \"AutoML_8f672ae7-d852-40a4-8672-d266a69580be\", \"categories\": [0], \"series\": [{\"data\": [0.7250155415844688]}]}, {\"name\": \"AUC_macro\", \"run_id\": \"AutoML_8f672ae7-d852-40a4-8672-d266a69580be\", \"categories\": [0], \"series\": [{\"data\": [0.7704728019623]}]}, {\"name\": \"balanced_accuracy\", \"run_id\": \"AutoML_8f672ae7-d852-40a4-8672-d266a69580be\", \"categories\": [0], \"series\": [{\"data\": [0.6644648904035731]}]}, {\"name\": \"f1_score_micro\", \"run_id\": \"AutoML_8f672ae7-d852-40a4-8672-d266a69580be\", \"categories\": [0], \"series\": [{\"data\": [0.7250155415844688]}]}, {\"name\": \"recall_score_micro\", \"run_id\": \"AutoML_8f672ae7-d852-40a4-8672-d266a69580be\", \"categories\": [0], \"series\": [{\"data\": [0.7250155415844688]}]}, {\"name\": \"precision_score_weighted\", \"run_id\": \"AutoML_8f672ae7-d852-40a4-8672-d266a69580be\", \"categories\": [0], \"series\": [{\"data\": [0.7262198796677541]}]}, {\"name\": \"f1_score_macro\", \"run_id\": \"AutoML_8f672ae7-d852-40a4-8672-d266a69580be\", \"categories\": [0], \"series\": [{\"data\": [0.6695509543599956]}]}, {\"name\": \"recall_score_macro\", \"run_id\": \"AutoML_8f672ae7-d852-40a4-8672-d266a69580be\", \"categories\": [0], \"series\": [{\"data\": [0.6644648904035731]}]}, {\"name\": \"accuracy\", \"run_id\": \"AutoML_8f672ae7-d852-40a4-8672-d266a69580be\", \"categories\": [0], \"series\": [{\"data\": [0.7250155415844688]}]}, {\"name\": \"matthews_correlation\", \"run_id\": \"AutoML_8f672ae7-d852-40a4-8672-d266a69580be\", \"categories\": [0], \"series\": [{\"data\": [0.3859454131830892]}]}, {\"name\": \"f1_score_weighted\", \"run_id\": \"AutoML_8f672ae7-d852-40a4-8672-d266a69580be\", \"categories\": [0], \"series\": [{\"data\": [0.7035104117357093]}]}, {\"name\": \"precision_score_micro\", \"run_id\": \"AutoML_8f672ae7-d852-40a4-8672-d266a69580be\", \"categories\": [0], \"series\": [{\"data\": [0.7250155415844688]}]}], \"run_logs\": \"\\nRun is completed.\", \"graph\": {}, \"widget_settings\": {\"childWidgetDisplay\": \"popup\", \"send_telemetry\": false, \"log_level\": \"INFO\", \"sdk_version\": \"1.16.0\"}, \"loading\": false}"
          },
          "metadata": {}
        }
      ],
      "execution_count": 46,
      "metadata": {
        "gather": {
          "logged": 1603384430495
        },
        "jupyter": {
          "outputs_hidden": false,
          "source_hidden": false
        },
        "nteract": {
          "transient": {
            "deleting": false
          }
        }
      }
    },
    {
      "cell_type": "markdown",
      "source": [
        "## Run Details\n",
        "\n",
        "OPTIONAL: Write about the different models trained and their performance. Why do you think some models did better than others?\n",
        "\n",
        "TODO: In the cell below, use the `RunDetails` widget to show the different experiments."
      ],
      "metadata": {}
    },
    {
      "cell_type": "code",
      "source": [
        "RunDetails(automl_run).show()"
      ],
      "outputs": [
        {
          "output_type": "display_data",
          "data": {
            "text/plain": "_AutoMLWidget(widget_settings={'childWidgetDisplay': 'popup', 'send_telemetry': False, 'log_level': 'INFO', 's…",
            "application/vnd.jupyter.widget-view+json": {
              "version_major": 2,
              "version_minor": 0,
              "model_id": "f17ecc549d574c139311c4b3a2bd7a73"
            }
          },
          "metadata": {}
        },
        {
          "output_type": "display_data",
          "data": {
            "application/aml.mini.widget.v1": "{\"status\": \"Completed\", \"workbench_run_details_uri\": \"https://ml.azure.com/experiments/capstone-automl/runs/AutoML_8f672ae7-d852-40a4-8672-d266a69580be?wsid=/subscriptions/13fe1ad9-91fc-4300-9ca0-27ebe69e0476/resourcegroups/aml-quickstarts-122217/workspaces/quick-starts-ws-122217\", \"run_id\": \"AutoML_8f672ae7-d852-40a4-8672-d266a69580be\", \"run_properties\": {\"run_id\": \"AutoML_8f672ae7-d852-40a4-8672-d266a69580be\", \"created_utc\": \"2020-10-22T15:57:20.306346Z\", \"properties\": {\"num_iterations\": \"1000\", \"training_type\": \"TrainFull\", \"acquisition_function\": \"EI\", \"primary_metric\": \"accuracy\", \"train_split\": \"0\", \"acquisition_parameter\": \"0\", \"num_cross_validation\": \"3\", \"target\": \"local\", \"AMLSettingsJsonString\": \"{\\\"path\\\":null,\\\"name\\\":\\\"capstone-automl\\\",\\\"subscription_id\\\":\\\"13fe1ad9-91fc-4300-9ca0-27ebe69e0476\\\",\\\"resource_group\\\":\\\"aml-quickstarts-122217\\\",\\\"workspace_name\\\":\\\"quick-starts-ws-122217\\\",\\\"region\\\":\\\"southcentralus\\\",\\\"compute_target\\\":\\\"local\\\",\\\"spark_service\\\":null,\\\"azure_service\\\":\\\"Microsoft.AzureNotebookVM\\\",\\\"_local_managed_run_id\\\":null,\\\"many_models\\\":false,\\\"pipeline_fetch_max_batch_size\\\":1,\\\"iterations\\\":1000,\\\"primary_metric\\\":\\\"accuracy\\\",\\\"task_type\\\":\\\"classification\\\",\\\"data_script\\\":null,\\\"validation_size\\\":0.0,\\\"n_cross_validations\\\":3,\\\"y_min\\\":null,\\\"y_max\\\":null,\\\"num_classes\\\":2,\\\"featurization\\\":\\\"auto\\\",\\\"_ignore_package_version_incompatibilities\\\":false,\\\"is_timeseries\\\":false,\\\"max_cores_per_iteration\\\":1,\\\"max_concurrent_iterations\\\":1,\\\"iteration_timeout_minutes\\\":null,\\\"mem_in_mb\\\":null,\\\"enforce_time_on_windows\\\":false,\\\"experiment_timeout_minutes\\\":30,\\\"experiment_exit_score\\\":null,\\\"whitelist_models\\\":null,\\\"blacklist_algos\\\":[\\\"TensorFlowLinearClassifier\\\",\\\"TensorFlowDNN\\\"],\\\"supported_models\\\":[\\\"LightGBM\\\",\\\"RandomForest\\\",\\\"MultinomialNaiveBayes\\\",\\\"LinearSVM\\\",\\\"SVM\\\",\\\"KNN\\\",\\\"ExtremeRandomTrees\\\",\\\"DecisionTree\\\",\\\"XGBoostClassifier\\\",\\\"BernoulliNaiveBayes\\\",\\\"TensorFlowDNN\\\",\\\"AveragedPerceptronClassifier\\\",\\\"GradientBoosting\\\",\\\"LogisticRegression\\\",\\\"SGD\\\",\\\"TensorFlowLinearClassifier\\\"],\\\"auto_blacklist\\\":true,\\\"blacklist_samples_reached\\\":false,\\\"exclude_nan_labels\\\":true,\\\"verbosity\\\":20,\\\"_debug_log\\\":\\\"automl.log\\\",\\\"show_warnings\\\":false,\\\"model_explainability\\\":true,\\\"service_url\\\":null,\\\"sdk_url\\\":null,\\\"sdk_packages\\\":null,\\\"enable_onnx_compatible_models\\\":false,\\\"enable_split_onnx_featurizer_estimator_models\\\":false,\\\"vm_type\\\":null,\\\"telemetry_verbosity\\\":20,\\\"send_telemetry\\\":true,\\\"enable_dnn\\\":false,\\\"force_text_dnn\\\":false,\\\"enable_feature_sweeping\\\":true,\\\"enable_early_stopping\\\":false,\\\"early_stopping_n_iters\\\":10,\\\"metrics\\\":null,\\\"enable_ensembling\\\":true,\\\"enable_stack_ensembling\\\":true,\\\"ensemble_iterations\\\":15,\\\"enable_tf\\\":false,\\\"enable_subsampling\\\":null,\\\"subsample_seed\\\":null,\\\"enable_nimbusml\\\":false,\\\"enable_streaming\\\":false,\\\"force_streaming\\\":false,\\\"track_child_runs\\\":true,\\\"label_column_name\\\":\\\"Sentiment\\\",\\\"weight_column_name\\\":null,\\\"cv_split_column_names\\\":null,\\\"enable_local_managed\\\":false,\\\"cost_mode\\\":1,\\\"lag_length\\\":0,\\\"metric_operation\\\":\\\"maximize\\\",\\\"preprocess\\\":true,\\\"scenario\\\":\\\"SDK-1.13.0\\\"}\", \"DataPrepJsonString\": null, \"EnableSubsampling\": null, \"runTemplate\": \"AutoML\", \"azureml.runsource\": \"automl\", \"display_task_type\": \"classification\", \"dependencies_versions\": \"{\\\"azureml-widgets\\\": \\\"1.16.0\\\", \\\"azureml-train\\\": \\\"1.16.0\\\", \\\"azureml-train-restclients-hyperdrive\\\": \\\"1.16.0\\\", \\\"azureml-train-core\\\": \\\"1.16.0\\\", \\\"azureml-train-automl\\\": \\\"1.16.0\\\", \\\"azureml-train-automl-runtime\\\": \\\"1.16.0\\\", \\\"azureml-train-automl-client\\\": \\\"1.16.0\\\", \\\"azureml-tensorboard\\\": \\\"1.16.0\\\", \\\"azureml-telemetry\\\": \\\"1.16.0\\\", \\\"azureml-sdk\\\": \\\"1.16.0\\\", \\\"azureml-samples\\\": \\\"0+unknown\\\", \\\"azureml-pipeline\\\": \\\"1.16.0\\\", \\\"azureml-pipeline-steps\\\": \\\"1.16.0\\\", \\\"azureml-pipeline-core\\\": \\\"1.16.0\\\", \\\"azureml-opendatasets\\\": \\\"1.16.0\\\", \\\"azureml-model-management-sdk\\\": \\\"1.0.1b6.post1\\\", \\\"azureml-mlflow\\\": \\\"1.16.0\\\", \\\"azureml-interpret\\\": \\\"1.16.0\\\", \\\"azureml-explain-model\\\": \\\"1.16.0\\\", \\\"azureml-defaults\\\": \\\"1.16.0\\\", \\\"azureml-dataset-runtime\\\": \\\"1.16.0\\\", \\\"azureml-dataprep\\\": \\\"2.3.2\\\", \\\"azureml-dataprep-rslex\\\": \\\"1.1.1\\\", \\\"azureml-dataprep-native\\\": \\\"23.0.0\\\", \\\"azureml-datadrift\\\": \\\"1.16.0\\\", \\\"azureml-core\\\": \\\"1.16.0\\\", \\\"azureml-contrib-services\\\": \\\"1.16.0\\\", \\\"azureml-contrib-server\\\": \\\"1.16.0\\\", \\\"azureml-contrib-reinforcementlearning\\\": \\\"1.16.0\\\", \\\"azureml-contrib-pipeline-steps\\\": \\\"1.16.0\\\", \\\"azureml-contrib-notebook\\\": \\\"1.16.0\\\", \\\"azureml-contrib-interpret\\\": \\\"1.16.0\\\", \\\"azureml-contrib-gbdt\\\": \\\"1.16.0\\\", \\\"azureml-contrib-fairness\\\": \\\"1.16.0\\\", \\\"azureml-contrib-dataset\\\": \\\"1.16.0\\\", \\\"azureml-cli-common\\\": \\\"1.16.0\\\", \\\"azureml-automl-runtime\\\": \\\"1.16.0\\\", \\\"azureml-automl-core\\\": \\\"1.16.0\\\", \\\"azureml-accel-models\\\": \\\"1.16.0\\\"}\", \"_aml_system_scenario_identification\": \"Local.Parent\", \"ClientSdkVersion\": \"1.16.0\", \"ClientType\": \"SDK\", \"environment_cpu_name\": \"AzureML-AutoML\", \"environment_cpu_version\": \"43\", \"environment_gpu_name\": \"AzureML-AutoML-GPU\", \"environment_gpu_version\": \"31\", \"root_attribution\": \"automl\", \"attribution\": \"AutoML\", \"Orchestrator\": \"AutoML\", \"_azureml.ComputeTargetType\": \"local\", \"ProblemInfoJsonString\": \"{\\\"dataset_num_categorical\\\": 0, \\\"is_sparse\\\": true, \\\"subsampling\\\": true, \\\"dataset_classes\\\": 2, \\\"dataset_features\\\": 623416, \\\"dataset_samples\\\": 41155, \\\"single_frequency_class_detected\\\": false}\", \"feature_skus\": \"automatedml_sdk_guardrails\"}, \"tags\": {\"model_explain_run\": \"best_run\", \"best_score\": \"0.7250155415844688\", \"best_pipeline\": \"VotingEnsemble\", \"automl_best_child_run_id\": \"AutoML_8f672ae7-d852-40a4-8672-d266a69580be_7\", \"model_explain_best_run_child_id\": \"AutoML_8f672ae7-d852-40a4-8672-d266a69580be_7\"}, \"end_time_utc\": \"2020-10-22T16:31:43.220274Z\", \"status\": \"Completed\", \"log_files\": {}, \"log_groups\": [], \"run_duration\": \"0:34:22\"}, \"child_runs\": [{\"run_id\": \"AutoML_8f672ae7-d852-40a4-8672-d266a69580be_0\", \"run_number\": 28, \"metric\": null, \"status\": \"Completed\", \"run_type\": null, \"training_percent\": \"5\", \"start_time\": \"2020-10-22T16:00:08.312947Z\", \"end_time\": \"2020-10-22T16:05:22.64334Z\", \"created_time\": \"2020-10-22T16:00:08.117584Z\", \"created_time_dt\": \"2020-10-22T16:00:08.117584Z\", \"duration\": \"0:05:14\", \"iteration\": \"0\", \"goal\": \"accuracy_max\", \"run_name\": \"MaxAbsScaler, LightGBM\", \"run_properties\": \"copy=True\", \"primary_metric\": 0.70866253, \"best_metric\": 0.70866253}, {\"run_id\": \"AutoML_8f672ae7-d852-40a4-8672-d266a69580be_1\", \"run_number\": 29, \"metric\": null, \"status\": \"Completed\", \"run_type\": null, \"training_percent\": \"5\", \"start_time\": \"2020-10-22T16:05:23.103264Z\", \"end_time\": \"2020-10-22T16:16:12.109457Z\", \"created_time\": \"2020-10-22T16:05:22.963074Z\", \"created_time_dt\": \"2020-10-22T16:05:22.963074Z\", \"duration\": \"0:10:49\", \"iteration\": \"1\", \"goal\": \"accuracy_max\", \"run_name\": \"MaxAbsScaler, XGBoostClassifier\", \"run_properties\": \"copy=True\", \"primary_metric\": 0.70438618, \"best_metric\": 0.70866253}, {\"run_id\": \"AutoML_8f672ae7-d852-40a4-8672-d266a69580be_2\", \"run_number\": 30, \"metric\": null, \"status\": \"Completed\", \"run_type\": null, \"training_percent\": \"5\", \"start_time\": \"2020-10-22T16:16:13.055724Z\", \"end_time\": \"2020-10-22T16:18:31.937335Z\", \"created_time\": \"2020-10-22T16:16:12.880991Z\", \"created_time_dt\": \"2020-10-22T16:16:12.880991Z\", \"duration\": \"0:02:19\", \"iteration\": \"2\", \"goal\": \"accuracy_max\", \"run_name\": \"MaxAbsScaler, RandomForest\", \"run_properties\": \"copy=True\", \"primary_metric\": 0.62949847, \"best_metric\": 0.70866253}, {\"run_id\": \"AutoML_8f672ae7-d852-40a4-8672-d266a69580be_3\", \"run_number\": 31, \"metric\": null, \"status\": \"Completed\", \"run_type\": null, \"training_percent\": \"5\", \"start_time\": \"2020-10-22T16:18:33.4284Z\", \"end_time\": \"2020-10-22T16:20:41.393074Z\", \"created_time\": \"2020-10-22T16:18:33.289934Z\", \"created_time_dt\": \"2020-10-22T16:18:33.289934Z\", \"duration\": \"0:02:08\", \"iteration\": \"3\", \"goal\": \"accuracy_max\", \"run_name\": \"MaxAbsScaler, RandomForest\", \"run_properties\": \"copy=True\", \"primary_metric\": 0.62585365, \"best_metric\": 0.70866253}, {\"run_id\": \"AutoML_8f672ae7-d852-40a4-8672-d266a69580be_4\", \"run_number\": 32, \"metric\": null, \"status\": \"Completed\", \"run_type\": null, \"training_percent\": \"5\", \"start_time\": \"2020-10-22T16:20:42.86809Z\", \"end_time\": \"2020-10-22T16:22:51.574522Z\", \"created_time\": \"2020-10-22T16:20:42.741012Z\", \"created_time_dt\": \"2020-10-22T16:20:42.741012Z\", \"duration\": \"0:02:08\", \"iteration\": \"4\", \"goal\": \"accuracy_max\", \"run_name\": \"MaxAbsScaler, SGD\", \"run_properties\": \"copy=True\", \"primary_metric\": 0.70783638, \"best_metric\": 0.70866253}, {\"run_id\": \"AutoML_8f672ae7-d852-40a4-8672-d266a69580be_5\", \"run_number\": 33, \"metric\": null, \"status\": \"Completed\", \"run_type\": null, \"training_percent\": \"5\", \"start_time\": \"2020-10-22T16:22:53.348655Z\", \"end_time\": \"2020-10-22T16:25:05.195129Z\", \"created_time\": \"2020-10-22T16:22:53.217727Z\", \"created_time_dt\": \"2020-10-22T16:22:53.217727Z\", \"duration\": \"0:02:11\", \"iteration\": \"5\", \"goal\": \"accuracy_max\", \"run_name\": \"MaxAbsScaler, SGD\", \"run_properties\": \"copy=True\", \"primary_metric\": 0.70611121, \"best_metric\": 0.70866253}, {\"run_id\": \"AutoML_8f672ae7-d852-40a4-8672-d266a69580be_6\", \"run_number\": 34, \"metric\": null, \"status\": \"Completed\", \"run_type\": null, \"training_percent\": \"5\", \"start_time\": \"2020-10-22T16:25:08.107916Z\", \"end_time\": \"2020-10-22T16:27:51.806543Z\", \"created_time\": \"2020-10-22T16:25:07.941878Z\", \"created_time_dt\": \"2020-10-22T16:25:07.941878Z\", \"duration\": \"0:02:43\", \"iteration\": \"6\", \"goal\": \"accuracy_max\", \"run_name\": \"MaxAbsScaler, ExtremeRandomTrees\", \"run_properties\": \"copy=True\", \"primary_metric\": 0.69819012, \"best_metric\": 0.70866253}, {\"run_id\": \"AutoML_8f672ae7-d852-40a4-8672-d266a69580be_7\", \"run_number\": 35, \"metric\": null, \"status\": \"Completed\", \"run_type\": null, \"training_percent\": \"100\", \"start_time\": \"2020-10-22T16:27:53.063113Z\", \"end_time\": \"2020-10-22T16:29:41.892126Z\", \"created_time\": \"2020-10-22T16:27:52.505095Z\", \"created_time_dt\": \"2020-10-22T16:27:52.505095Z\", \"duration\": \"0:01:49\", \"iteration\": \"7\", \"goal\": \"accuracy_max\", \"run_name\": \"VotingEnsemble\", \"run_properties\": \"classification_labels=None,\\n                              estimators=[('0',\\n                                           Pipeline(memory=None,\\n                                                    steps=[('maxabsscaler',\\n                                                            MaxAbsScaler(copy=True\", \"primary_metric\": 0.72501554, \"best_metric\": 0.72501554}, {\"run_id\": \"AutoML_8f672ae7-d852-40a4-8672-d266a69580be_8\", \"run_number\": 36, \"metric\": null, \"status\": \"Completed\", \"run_type\": null, \"training_percent\": \"100\", \"start_time\": \"2020-10-22T16:29:42.400475Z\", \"end_time\": \"2020-10-22T16:31:41.541043Z\", \"created_time\": \"2020-10-22T16:29:42.244631Z\", \"created_time_dt\": \"2020-10-22T16:29:42.244631Z\", \"duration\": \"0:01:59\", \"iteration\": \"8\", \"goal\": \"accuracy_max\", \"run_name\": \"StackEnsemble\", \"run_properties\": \"base_learners=[('0',\\n                                        Pipeline(memory=None,\\n                                                 steps=[('maxabsscaler',\\n                                                         MaxAbsScaler(copy=True\", \"primary_metric\": 0.72467527, \"best_metric\": 0.72501554}], \"children_metrics\": {\"categories\": [0], \"series\": {\"log_loss\": [{\"categories\": [\"0\", \"1\", \"2\", \"3\", \"4\", \"5\", \"6\", \"7\", \"8\"], \"mode\": \"markers\", \"name\": \"log_loss\", \"stepped\": false, \"type\": \"scatter\", \"data\": [0.6489426155649136, 0.5798151118147867, 0.643092205442449, 0.6603445547704124, 0.5710226095138273, 0.5683027993150646, 0.5934747508736563, 0.5509983791940343, 0.5502792895323378]}, {\"categories\": [\"0\", \"1\", \"2\", \"3\", \"4\", \"5\", \"6\", \"7\", \"8\"], \"mode\": \"lines\", \"name\": \"log_loss_min\", \"stepped\": true, \"type\": \"scatter\", \"data\": [0.6489426155649136, 0.5798151118147867, 0.5798151118147867, 0.5798151118147867, 0.5710226095138273, 0.5683027993150646, 0.5683027993150646, 0.5509983791940343, 0.5502792895323378]}], \"average_precision_score_macro\": [{\"categories\": [\"0\", \"1\", \"2\", \"3\", \"4\", \"5\", \"6\", \"7\", \"8\"], \"mode\": \"markers\", \"name\": \"average_precision_score_macro\", \"stepped\": false, \"type\": \"scatter\", \"data\": [0.7312971591302627, 0.7173676397102412, 0.6209292659491532, 0.5351063135792078, 0.737744322524516, 0.7347378398900505, 0.6948081551270802, 0.7603226090408279, 0.7601974944964957]}, {\"categories\": [\"0\", \"1\", \"2\", \"3\", \"4\", \"5\", \"6\", \"7\", \"8\"], \"mode\": \"lines\", \"name\": \"average_precision_score_macro_max\", \"stepped\": true, \"type\": \"scatter\", \"data\": [0.7312971591302627, 0.7312971591302627, 0.7312971591302627, 0.7312971591302627, 0.737744322524516, 0.737744322524516, 0.737744322524516, 0.7603226090408279, 0.7603226090408279]}], \"norm_macro_recall\": [{\"categories\": [\"0\", \"1\", \"2\", \"3\", \"4\", \"5\", \"6\", \"7\", \"8\"], \"mode\": \"markers\", \"name\": \"norm_macro_recall\", \"stepped\": false, \"type\": \"scatter\", \"data\": [0.3167880993238741, 0.27269529840562373, 0.010936195988314967, 0.0, 0.331150759684375, 0.3038752528882518, 0.25130697342710584, 0.3289297808071463, 0.3546835374757]}, {\"categories\": [\"0\", \"1\", \"2\", \"3\", \"4\", \"5\", \"6\", \"7\", \"8\"], \"mode\": \"lines\", \"name\": \"norm_macro_recall_max\", \"stepped\": true, \"type\": \"scatter\", \"data\": [0.3167880993238741, 0.3167880993238741, 0.3167880993238741, 0.3167880993238741, 0.331150759684375, 0.331150759684375, 0.331150759684375, 0.331150759684375, 0.3546835374757]}], \"average_precision_score_weighted\": [{\"categories\": [\"0\", \"1\", \"2\", \"3\", \"4\", \"5\", \"6\", \"7\", \"8\"], \"mode\": \"markers\", \"name\": \"average_precision_score_weighted\", \"stepped\": false, \"type\": \"scatter\", \"data\": [0.7514669549549847, 0.7382656934145891, 0.6480813735456779, 0.5670639758987996, 0.7592050739770492, 0.7562778557797524, 0.7152443725450391, 0.7788620895604857, 0.7787672176977241]}, {\"categories\": [\"0\", \"1\", \"2\", \"3\", \"4\", \"5\", \"6\", \"7\", \"8\"], \"mode\": \"lines\", \"name\": \"average_precision_score_weighted_max\", \"stepped\": true, \"type\": \"scatter\", \"data\": [0.7514669549549847, 0.7514669549549847, 0.7514669549549847, 0.7514669549549847, 0.7592050739770492, 0.7592050739770492, 0.7592050739770492, 0.7788620895604857, 0.7788620895604857]}], \"average_precision_score_micro\": [{\"categories\": [\"0\", \"1\", \"2\", \"3\", \"4\", \"5\", \"6\", \"7\", \"8\"], \"mode\": \"markers\", \"name\": \"average_precision_score_micro\", \"stepped\": false, \"type\": \"scatter\", \"data\": [0.765843237011902, 0.7530412791541213, 0.6742455893319055, 0.6219311968987014, 0.7740422853923475, 0.7705666846303436, 0.7324304312190796, 0.7875434926815655, 0.7906431310184935]}, {\"categories\": [\"0\", \"1\", \"2\", \"3\", \"4\", \"5\", \"6\", \"7\", \"8\"], \"mode\": \"lines\", \"name\": \"average_precision_score_micro_max\", \"stepped\": true, \"type\": \"scatter\", \"data\": [0.765843237011902, 0.765843237011902, 0.765843237011902, 0.765843237011902, 0.7740422853923475, 0.7740422853923475, 0.7740422853923475, 0.7875434926815655, 0.7906431310184935]}], \"weighted_accuracy\": [{\"categories\": [\"0\", \"1\", \"2\", \"3\", \"4\", \"5\", \"6\", \"7\", \"8\"], \"mode\": \"markers\", \"name\": \"weighted_accuracy\", \"stepped\": false, \"type\": \"scatter\", \"data\": [0.7529679925933747, 0.7643255075539667, 0.7386725508164248, 0.7366191588730094, 0.7450465545642461, 0.7538735024851011, 0.7620766438713518, 0.7783540456035403, 0.7664409678424189]}, {\"categories\": [\"0\", \"1\", \"2\", \"3\", \"4\", \"5\", \"6\", \"7\", \"8\"], \"mode\": \"lines\", \"name\": \"weighted_accuracy_max\", \"stepped\": true, \"type\": \"scatter\", \"data\": [0.7529679925933747, 0.7643255075539667, 0.7643255075539667, 0.7643255075539667, 0.7643255075539667, 0.7643255075539667, 0.7643255075539667, 0.7783540456035403, 0.7783540456035403]}], \"AUC_weighted\": [{\"categories\": [\"0\", \"1\", \"2\", \"3\", \"4\", \"5\", \"6\", \"7\", \"8\"], \"mode\": \"markers\", \"name\": \"AUC_weighted\", \"stepped\": false, \"type\": \"scatter\", \"data\": [0.7417540739451353, 0.7299122285734495, 0.63776052472959, 0.5479420295083735, 0.7502432615951712, 0.7473583625780922, 0.7064943011376688, 0.7704728029084095, 0.769973621731605]}, {\"categories\": [\"0\", \"1\", \"2\", \"3\", \"4\", \"5\", \"6\", \"7\", \"8\"], \"mode\": \"lines\", \"name\": \"AUC_weighted_max\", \"stepped\": true, \"type\": \"scatter\", \"data\": [0.7417540739451353, 0.7417540739451353, 0.7417540739451353, 0.7417540739451353, 0.7502432615951712, 0.7502432615951712, 0.7502432615951712, 0.7704728029084095, 0.7704728029084095]}], \"precision_score_macro\": [{\"categories\": [\"0\", \"1\", \"2\", \"3\", \"4\", \"5\", \"6\", \"7\", \"8\"], \"mode\": \"markers\", \"name\": \"precision_score_macro\", \"stepped\": false, \"type\": \"scatter\", \"data\": [0.693658722946242, 0.7042833779278631, 0.7205452828487124, 0.31292682634885094, 0.6882342765283037, 0.6930329878617627, 0.7006114813591381, 0.7266669646225701, 0.7147111644096439]}, {\"categories\": [\"0\", \"1\", \"2\", \"3\", \"4\", \"5\", \"6\", \"7\", \"8\"], \"mode\": \"lines\", \"name\": \"precision_score_macro_max\", \"stepped\": true, \"type\": \"scatter\", \"data\": [0.693658722946242, 0.7042833779278631, 0.7205452828487124, 0.7205452828487124, 0.7205452828487124, 0.7205452828487124, 0.7205452828487124, 0.7266669646225701, 0.7266669646225701]}], \"AUC_micro\": [{\"categories\": [\"0\", \"1\", \"2\", \"3\", \"4\", \"5\", \"6\", \"7\", \"8\"], \"mode\": \"markers\", \"name\": \"AUC_micro\", \"stepped\": false, \"type\": \"scatter\", \"data\": [0.7757930055921928, 0.7653614285072593, 0.6904859401015983, 0.6482692345475598, 0.7801365451712373, 0.7774279981504874, 0.751093478543489, 0.7956565594233943, 0.7979064866324125]}, {\"categories\": [\"0\", \"1\", \"2\", \"3\", \"4\", \"5\", \"6\", \"7\", \"8\"], \"mode\": \"lines\", \"name\": \"AUC_micro_max\", \"stepped\": true, \"type\": \"scatter\", \"data\": [0.7757930055921928, 0.7757930055921928, 0.7757930055921928, 0.7757930055921928, 0.7801365451712373, 0.7801365451712373, 0.7801365451712373, 0.7956565594233943, 0.7979064866324125]}], \"recall_score_weighted\": [{\"categories\": [\"0\", \"1\", \"2\", \"3\", \"4\", \"5\", \"6\", \"7\", \"8\"], \"mode\": \"markers\", \"name\": \"recall_score_weighted\", \"stepped\": false, \"type\": \"scatter\", \"data\": [0.7086625282921699, 0.7043861779866041, 0.6294984705461305, 0.6258536526977019, 0.7078363808682524, 0.7061112121221557, 0.6981901201293906, 0.7250155415844688, 0.7246752744654993]}, {\"categories\": [\"0\", \"1\", \"2\", \"3\", \"4\", \"5\", \"6\", \"7\", \"8\"], \"mode\": \"lines\", \"name\": \"recall_score_weighted_max\", \"stepped\": true, \"type\": \"scatter\", \"data\": [0.7086625282921699, 0.7086625282921699, 0.7086625282921699, 0.7086625282921699, 0.7086625282921699, 0.7086625282921699, 0.7086625282921699, 0.7250155415844688, 0.7250155415844688]}], \"AUC_macro\": [{\"categories\": [\"0\", \"1\", \"2\", \"3\", \"4\", \"5\", \"6\", \"7\", \"8\"], \"mode\": \"markers\", \"name\": \"AUC_macro\", \"stepped\": false, \"type\": \"scatter\", \"data\": [0.7417540739451353, 0.7299122286373395, 0.63776052472959, 0.5479420295083735, 0.7502432615951712, 0.7473583625780922, 0.7064943011376688, 0.7704728019623, 0.769973621731605]}, {\"categories\": [\"0\", \"1\", \"2\", \"3\", \"4\", \"5\", \"6\", \"7\", \"8\"], \"mode\": \"lines\", \"name\": \"AUC_macro_max\", \"stepped\": true, \"type\": \"scatter\", \"data\": [0.7417540739451353, 0.7417540739451353, 0.7417540739451353, 0.7417540739451353, 0.7502432615951712, 0.7502432615951712, 0.7502432615951712, 0.7704728019623, 0.7704728019623]}], \"balanced_accuracy\": [{\"categories\": [\"0\", \"1\", \"2\", \"3\", \"4\", \"5\", \"6\", \"7\", \"8\"], \"mode\": \"markers\", \"name\": \"balanced_accuracy\", \"stepped\": false, \"type\": \"scatter\", \"data\": [0.658394049661937, 0.6363476492028118, 0.5054680979941575, 0.5, 0.6655753798421875, 0.6519376264441259, 0.6256534867135529, 0.6644648904035731, 0.67734176873785]}, {\"categories\": [\"0\", \"1\", \"2\", \"3\", \"4\", \"5\", \"6\", \"7\", \"8\"], \"mode\": \"lines\", \"name\": \"balanced_accuracy_max\", \"stepped\": true, \"type\": \"scatter\", \"data\": [0.658394049661937, 0.658394049661937, 0.658394049661937, 0.658394049661937, 0.6655753798421875, 0.6655753798421875, 0.6655753798421875, 0.6655753798421875, 0.67734176873785]}], \"f1_score_micro\": [{\"categories\": [\"0\", \"1\", \"2\", \"3\", \"4\", \"5\", \"6\", \"7\", \"8\"], \"mode\": \"markers\", \"name\": \"f1_score_micro\", \"stepped\": false, \"type\": \"scatter\", \"data\": [0.7086625282921699, 0.7043861779866041, 0.6294984705461305, 0.6258536526977019, 0.7078363808682524, 0.7061112121221557, 0.6981901201293906, 0.7250155415844688, 0.7246752744654993]}, {\"categories\": [\"0\", \"1\", \"2\", \"3\", \"4\", \"5\", \"6\", \"7\", \"8\"], \"mode\": \"lines\", \"name\": \"f1_score_micro_max\", \"stepped\": true, \"type\": \"scatter\", \"data\": [0.7086625282921699, 0.7086625282921699, 0.7086625282921699, 0.7086625282921699, 0.7086625282921699, 0.7086625282921699, 0.7086625282921699, 0.7250155415844688, 0.7250155415844688]}], \"recall_score_micro\": [{\"categories\": [\"0\", \"1\", \"2\", \"3\", \"4\", \"5\", \"6\", \"7\", \"8\"], \"mode\": \"markers\", \"name\": \"recall_score_micro\", \"stepped\": false, \"type\": \"scatter\", \"data\": [0.7086625282921699, 0.704386177986604, 0.6294984705461305, 0.6258536526977019, 0.7078363808682524, 0.7061112121221557, 0.6981901201293906, 0.7250155415844688, 0.7246752744654993]}, {\"categories\": [\"0\", \"1\", \"2\", \"3\", \"4\", \"5\", \"6\", \"7\", \"8\"], \"mode\": \"lines\", \"name\": \"recall_score_micro_max\", \"stepped\": true, \"type\": \"scatter\", \"data\": [0.7086625282921699, 0.7086625282921699, 0.7086625282921699, 0.7086625282921699, 0.7086625282921699, 0.7086625282921699, 0.7086625282921699, 0.7250155415844688, 0.7250155415844688]}], \"precision_score_weighted\": [{\"categories\": [\"0\", \"1\", \"2\", \"3\", \"4\", \"5\", \"6\", \"7\", \"8\"], \"mode\": \"markers\", \"name\": \"precision_score_weighted\", \"stepped\": false, \"type\": \"scatter\", \"data\": [0.7020087419821502, 0.7046724715272594, 0.6973051355080231, 0.39172975240389424, 0.7000888003666977, 0.7001111390656005, 0.7001130693791064, 0.7262198796677541, 0.7212375699206447]}, {\"categories\": [\"0\", \"1\", \"2\", \"3\", \"4\", \"5\", \"6\", \"7\", \"8\"], \"mode\": \"lines\", \"name\": \"precision_score_weighted_max\", \"stepped\": true, \"type\": \"scatter\", \"data\": [0.7020087419821502, 0.7046724715272594, 0.7046724715272594, 0.7046724715272594, 0.7046724715272594, 0.7046724715272594, 0.7046724715272594, 0.7262198796677541, 0.7262198796677541]}], \"f1_score_macro\": [{\"categories\": [\"0\", \"1\", \"2\", \"3\", \"4\", \"5\", \"6\", \"7\", \"8\"], \"mode\": \"markers\", \"name\": \"f1_score_macro\", \"stepped\": false, \"type\": \"scatter\", \"data\": [0.6631342367899973, 0.6363124761853659, 0.3978687648902794, 0.3849298976092643, 0.6707045884594219, 0.6558403484865217, 0.6220834777164117, 0.6695509543599956, 0.6826269641130125]}, {\"categories\": [\"0\", \"1\", \"2\", \"3\", \"4\", \"5\", \"6\", \"7\", \"8\"], \"mode\": \"lines\", \"name\": \"f1_score_macro_max\", \"stepped\": true, \"type\": \"scatter\", \"data\": [0.6631342367899973, 0.6631342367899973, 0.6631342367899973, 0.6631342367899973, 0.6707045884594219, 0.6707045884594219, 0.6707045884594219, 0.6707045884594219, 0.6826269641130125]}], \"recall_score_macro\": [{\"categories\": [\"0\", \"1\", \"2\", \"3\", \"4\", \"5\", \"6\", \"7\", \"8\"], \"mode\": \"markers\", \"name\": \"recall_score_macro\", \"stepped\": false, \"type\": \"scatter\", \"data\": [0.658394049661937, 0.6363476492028118, 0.5054680979941575, 0.5, 0.6655753798421875, 0.6519376264441259, 0.6256534867135529, 0.6644648904035731, 0.67734176873785]}, {\"categories\": [\"0\", \"1\", \"2\", \"3\", \"4\", \"5\", \"6\", \"7\", \"8\"], \"mode\": \"lines\", \"name\": \"recall_score_macro_max\", \"stepped\": true, \"type\": \"scatter\", \"data\": [0.658394049661937, 0.658394049661937, 0.658394049661937, 0.658394049661937, 0.6655753798421875, 0.6655753798421875, 0.6655753798421875, 0.6655753798421875, 0.67734176873785]}], \"accuracy\": [{\"categories\": [\"0\", \"1\", \"2\", \"3\", \"4\", \"5\", \"6\", \"7\", \"8\"], \"mode\": \"markers\", \"name\": \"accuracy\", \"stepped\": false, \"type\": \"scatter\", \"data\": [0.7086625282921699, 0.704386177986604, 0.6294984705461305, 0.6258536526977019, 0.7078363808682524, 0.7061112121221557, 0.6981901201293906, 0.7250155415844688, 0.7246752744654993]}, {\"categories\": [\"0\", \"1\", \"2\", \"3\", \"4\", \"5\", \"6\", \"7\", \"8\"], \"mode\": \"lines\", \"name\": \"accuracy_max\", \"stepped\": true, \"type\": \"scatter\", \"data\": [0.7086625282921699, 0.7086625282921699, 0.7086625282921699, 0.7086625282921699, 0.7086625282921699, 0.7086625282921699, 0.7086625282921699, 0.7250155415844688, 0.7250155415844688]}], \"matthews_correlation\": [{\"categories\": [\"0\", \"1\", \"2\", \"3\", \"4\", \"5\", \"6\", \"7\", \"8\"], \"mode\": \"markers\", \"name\": \"matthews_correlation\", \"stepped\": false, \"type\": \"scatter\", \"data\": [0.35009785670083454, 0.33347402909603224, 0.06541901914872252, 0.0, 0.3530712204236071, 0.3422640498656466, 0.31691778504075124, 0.3859454131830892, 0.38973854910377687]}, {\"categories\": [\"0\", \"1\", \"2\", \"3\", \"4\", \"5\", \"6\", \"7\", \"8\"], \"mode\": \"lines\", \"name\": \"matthews_correlation_max\", \"stepped\": true, \"type\": \"scatter\", \"data\": [0.35009785670083454, 0.35009785670083454, 0.35009785670083454, 0.35009785670083454, 0.3530712204236071, 0.3530712204236071, 0.3530712204236071, 0.3859454131830892, 0.38973854910377687]}], \"f1_score_weighted\": [{\"categories\": [\"0\", \"1\", \"2\", \"3\", \"4\", \"5\", \"6\", \"7\", \"8\"], \"mode\": \"markers\", \"name\": \"f1_score_weighted\", \"stepped\": false, \"type\": \"scatter\", \"data\": [0.694167030068055, 0.6757580330167818, 0.4918026651358949, 0.48184751017687494, 0.6985225600447392, 0.6887641634290501, 0.6646052842416156, 0.7035104117357093, 0.7114041599323476]}, {\"categories\": [\"0\", \"1\", \"2\", \"3\", \"4\", \"5\", \"6\", \"7\", \"8\"], \"mode\": \"lines\", \"name\": \"f1_score_weighted_max\", \"stepped\": true, \"type\": \"scatter\", \"data\": [0.694167030068055, 0.694167030068055, 0.694167030068055, 0.694167030068055, 0.6985225600447392, 0.6985225600447392, 0.6985225600447392, 0.7035104117357093, 0.7114041599323476]}], \"precision_score_micro\": [{\"categories\": [\"0\", \"1\", \"2\", \"3\", \"4\", \"5\", \"6\", \"7\", \"8\"], \"mode\": \"markers\", \"name\": \"precision_score_micro\", \"stepped\": false, \"type\": \"scatter\", \"data\": [0.7086625282921699, 0.704386177986604, 0.6294984705461305, 0.6258536526977019, 0.7078363808682524, 0.7061112121221557, 0.6981901201293906, 0.7250155415844688, 0.7246752744654993]}, {\"categories\": [\"0\", \"1\", \"2\", \"3\", \"4\", \"5\", \"6\", \"7\", \"8\"], \"mode\": \"lines\", \"name\": \"precision_score_micro_max\", \"stepped\": true, \"type\": \"scatter\", \"data\": [0.7086625282921699, 0.7086625282921699, 0.7086625282921699, 0.7086625282921699, 0.7086625282921699, 0.7086625282921699, 0.7086625282921699, 0.7250155415844688, 0.7250155415844688]}]}, \"metricName\": null, \"primaryMetricName\": \"accuracy\", \"showLegend\": false}, \"run_metrics\": [{\"name\": \"experiment_status\", \"run_id\": \"AutoML_8f672ae7-d852-40a4-8672-d266a69580be\", \"categories\": [0, 1, 2, 3, 4, 5, 6, 7, 8, 9, 10, 11], \"series\": [{\"data\": [\"DatasetEvaluation\", \"FeaturesGeneration\", \"DatasetFeaturization\", \"DatasetFeaturizationCompleted\", \"DatasetCrossValidationSplit\", \"ModelSelection\", \"BestRunExplainModel\", \"ModelExplanationDataSetSetup\", \"PickSurrogateModel\", \"EngineeredFeatureExplanations\", \"EngineeredFeatureExplanations\", \"BestRunExplainModel\"]}]}, {\"name\": \"experiment_status_description\", \"run_id\": \"AutoML_8f672ae7-d852-40a4-8672-d266a69580be\", \"categories\": [0, 1, 2, 3, 4, 5, 6, 7, 8, 9, 10, 11], \"series\": [{\"data\": [\"Gathering dataset statistics.\", \"Generating features for the dataset.\", \"Beginning to fit featurizers and featurize the dataset.\", \"Completed fit featurizers and featurizing the dataset.\", \"Generating individually featurized CV splits.\", \"Beginning model selection.\", \"Best run model explanations started\", \"Model explanations data setup completed\", \"Choosing LinearModel as the surrogate model for explanations\", \"Computation of engineered features started\", \"Computation of engineered features completed\", \"Best run model explanations completed\"]}]}, {\"name\": \"log_loss\", \"run_id\": \"AutoML_8f672ae7-d852-40a4-8672-d266a69580be\", \"categories\": [0], \"series\": [{\"data\": [0.5509983791940343]}]}, {\"name\": \"average_precision_score_macro\", \"run_id\": \"AutoML_8f672ae7-d852-40a4-8672-d266a69580be\", \"categories\": [0], \"series\": [{\"data\": [0.7603226090408279]}]}, {\"name\": \"norm_macro_recall\", \"run_id\": \"AutoML_8f672ae7-d852-40a4-8672-d266a69580be\", \"categories\": [0], \"series\": [{\"data\": [0.3289297808071463]}]}, {\"name\": \"average_precision_score_weighted\", \"run_id\": \"AutoML_8f672ae7-d852-40a4-8672-d266a69580be\", \"categories\": [0], \"series\": [{\"data\": [0.7788620895604857]}]}, {\"name\": \"average_precision_score_micro\", \"run_id\": \"AutoML_8f672ae7-d852-40a4-8672-d266a69580be\", \"categories\": [0], \"series\": [{\"data\": [0.7875434926815655]}]}, {\"name\": \"weighted_accuracy\", \"run_id\": \"AutoML_8f672ae7-d852-40a4-8672-d266a69580be\", \"categories\": [0], \"series\": [{\"data\": [0.7783540456035403]}]}, {\"name\": \"AUC_weighted\", \"run_id\": \"AutoML_8f672ae7-d852-40a4-8672-d266a69580be\", \"categories\": [0], \"series\": [{\"data\": [0.7704728029084095]}]}, {\"name\": \"precision_score_macro\", \"run_id\": \"AutoML_8f672ae7-d852-40a4-8672-d266a69580be\", \"categories\": [0], \"series\": [{\"data\": [0.7266669646225701]}]}, {\"name\": \"AUC_micro\", \"run_id\": \"AutoML_8f672ae7-d852-40a4-8672-d266a69580be\", \"categories\": [0], \"series\": [{\"data\": [0.7956565594233943]}]}, {\"name\": \"recall_score_weighted\", \"run_id\": \"AutoML_8f672ae7-d852-40a4-8672-d266a69580be\", \"categories\": [0], \"series\": [{\"data\": [0.7250155415844688]}]}, {\"name\": \"AUC_macro\", \"run_id\": \"AutoML_8f672ae7-d852-40a4-8672-d266a69580be\", \"categories\": [0], \"series\": [{\"data\": [0.7704728019623]}]}, {\"name\": \"balanced_accuracy\", \"run_id\": \"AutoML_8f672ae7-d852-40a4-8672-d266a69580be\", \"categories\": [0], \"series\": [{\"data\": [0.6644648904035731]}]}, {\"name\": \"f1_score_micro\", \"run_id\": \"AutoML_8f672ae7-d852-40a4-8672-d266a69580be\", \"categories\": [0], \"series\": [{\"data\": [0.7250155415844688]}]}, {\"name\": \"recall_score_micro\", \"run_id\": \"AutoML_8f672ae7-d852-40a4-8672-d266a69580be\", \"categories\": [0], \"series\": [{\"data\": [0.7250155415844688]}]}, {\"name\": \"precision_score_weighted\", \"run_id\": \"AutoML_8f672ae7-d852-40a4-8672-d266a69580be\", \"categories\": [0], \"series\": [{\"data\": [0.7262198796677541]}]}, {\"name\": \"f1_score_macro\", \"run_id\": \"AutoML_8f672ae7-d852-40a4-8672-d266a69580be\", \"categories\": [0], \"series\": [{\"data\": [0.6695509543599956]}]}, {\"name\": \"recall_score_macro\", \"run_id\": \"AutoML_8f672ae7-d852-40a4-8672-d266a69580be\", \"categories\": [0], \"series\": [{\"data\": [0.6644648904035731]}]}, {\"name\": \"accuracy\", \"run_id\": \"AutoML_8f672ae7-d852-40a4-8672-d266a69580be\", \"categories\": [0], \"series\": [{\"data\": [0.7250155415844688]}]}, {\"name\": \"matthews_correlation\", \"run_id\": \"AutoML_8f672ae7-d852-40a4-8672-d266a69580be\", \"categories\": [0], \"series\": [{\"data\": [0.3859454131830892]}]}, {\"name\": \"f1_score_weighted\", \"run_id\": \"AutoML_8f672ae7-d852-40a4-8672-d266a69580be\", \"categories\": [0], \"series\": [{\"data\": [0.7035104117357093]}]}, {\"name\": \"precision_score_micro\", \"run_id\": \"AutoML_8f672ae7-d852-40a4-8672-d266a69580be\", \"categories\": [0], \"series\": [{\"data\": [0.7250155415844688]}]}], \"run_logs\": \"\\nRun is completed.\", \"graph\": {}, \"widget_settings\": {\"childWidgetDisplay\": \"popup\", \"send_telemetry\": false, \"log_level\": \"INFO\", \"sdk_version\": \"1.16.0\"}, \"loading\": false}"
          },
          "metadata": {}
        }
      ],
      "execution_count": 47,
      "metadata": {
        "gather": {
          "logged": 1603384497809
        },
        "jupyter": {
          "outputs_hidden": false,
          "source_hidden": false
        },
        "nteract": {
          "transient": {
            "deleting": false
          }
        }
      }
    },
    {
      "cell_type": "markdown",
      "source": [
        "## Best Model\n",
        "\n",
        "TODO: In the cell below, get the best model from the automl experiments and display all the properties of the model.\n",
        "\n"
      ],
      "metadata": {}
    },
    {
      "cell_type": "code",
      "source": [
        "best_run_automl, best_model_automl = automl_run.get_output()\n",
        "best_run_metrics = best_run_automl.get_metrics()\n",
        "parameter_values = best_run_automl.get_details()\n",
        "\n",
        "print(\"Best Run Id: \", best_run_automl.id)\n",
        "print(\"\\n\")\n",
        "print(\"\\n\")\n",
        "print(\"Accuracy: \", best_run_metrics[\"accuracy\"])\n",
        "print(\"\\n\")\n",
        "print(\"\\n\")\n",
        "print(\"Parameters: \", parameter_values)\n",
        "print(\"\\n\")\n",
        "print(\"\\n\")\n",
        "print(\"Metrics for best run: \", best_run_automl.get_metrics())"
      ],
      "outputs": [
        {
          "output_type": "stream",
          "name": "stdout",
          "text": [
            "Best Run Id:  AutoML_8f672ae7-d852-40a4-8672-d266a69580be_7\n",
            "\n",
            "\n",
            "\n",
            "\n",
            "Accuracy:  0.7250155415844688\n",
            "\n",
            "\n",
            "\n",
            "\n",
            "Parameters:  {'runId': 'AutoML_8f672ae7-d852-40a4-8672-d266a69580be_7', 'status': 'Completed', 'startTimeUtc': '2020-10-22T16:27:53.063113Z', 'endTimeUtc': '2020-10-22T16:29:41.892126Z', 'properties': {'runTemplate': 'automl_child', 'pipeline_id': '__AutoML_Ensemble__', 'pipeline_spec': '{\"pipeline_id\":\"__AutoML_Ensemble__\",\"objects\":[{\"module\":\"azureml.train.automl.ensemble\",\"class_name\":\"Ensemble\",\"spec_class\":\"sklearn\",\"param_args\":[],\"param_kwargs\":{\"automl_settings\":\"{\\'task_type\\':\\'classification\\',\\'primary_metric\\':\\'accuracy\\',\\'verbosity\\':20,\\'ensemble_iterations\\':15,\\'is_timeseries\\':False,\\'name\\':\\'capstone-automl\\',\\'compute_target\\':\\'local\\',\\'subscription_id\\':\\'13fe1ad9-91fc-4300-9ca0-27ebe69e0476\\',\\'region\\':\\'southcentralus\\',\\'spark_service\\':None}\",\"ensemble_run_id\":\"AutoML_8f672ae7-d852-40a4-8672-d266a69580be_7\",\"experiment_name\":\"capstone-automl\",\"workspace_name\":\"quick-starts-ws-122217\",\"subscription_id\":\"13fe1ad9-91fc-4300-9ca0-27ebe69e0476\",\"resource_group_name\":\"aml-quickstarts-122217\"}}]}', 'training_percent': '100', 'predicted_cost': None, 'iteration': '7', '_azureml.ComputeTargetType': 'local', '_aml_system_scenario_identification': 'Local.Child', 'run_template': 'automl_child', 'run_preprocessor': '', 'run_algorithm': 'VotingEnsemble', 'conda_env_data_location': 'aml://artifact/ExperimentRun/dcid.AutoML_8f672ae7-d852-40a4-8672-d266a69580be_7/outputs/conda_env_v_1_0_0.yml', 'model_data_location': 'aml://artifact/ExperimentRun/dcid.AutoML_8f672ae7-d852-40a4-8672-d266a69580be_7/outputs/model.pkl', 'model_size_on_disk': '139054241', 'scoring_data_location': 'aml://artifact/ExperimentRun/dcid.AutoML_8f672ae7-d852-40a4-8672-d266a69580be_7/outputs/scoring_file_v_1_0_0.py', 'model_exp_support': 'True', 'pipeline_graph_version': '1.0.0', 'model_name': 'AutoML8f672ae7d7', 'staticProperties': '{}', 'score': '0.7250155415844688', 'run_properties': \"classification_labels=None,\\n                              estimators=[('0',\\n                                           Pipeline(memory=None,\\n                                                    steps=[('maxabsscaler',\\n                                                            MaxAbsScaler(copy=True\", 'pipeline_script': '{\"pipeline_id\":\"__AutoML_Ensemble__\",\"objects\":[{\"module\":\"azureml.train.automl.ensemble\",\"class_name\":\"Ensemble\",\"spec_class\":\"sklearn\",\"param_args\":[],\"param_kwargs\":{\"automl_settings\":\"{\\'task_type\\':\\'classification\\',\\'primary_metric\\':\\'accuracy\\',\\'verbosity\\':20,\\'ensemble_iterations\\':15,\\'is_timeseries\\':False,\\'name\\':\\'capstone-automl\\',\\'compute_target\\':\\'local\\',\\'subscription_id\\':\\'13fe1ad9-91fc-4300-9ca0-27ebe69e0476\\',\\'region\\':\\'southcentralus\\',\\'spark_service\\':None}\",\"ensemble_run_id\":\"AutoML_8f672ae7-d852-40a4-8672-d266a69580be_7\",\"experiment_name\":\"capstone-automl\",\"workspace_name\":\"quick-starts-ws-122217\",\"subscription_id\":\"13fe1ad9-91fc-4300-9ca0-27ebe69e0476\",\"resource_group_name\":\"aml-quickstarts-122217\"}}]}', 'training_type': 'MeanCrossValidation', 'num_classes': '2', 'framework': 'sklearn', 'fit_time': '84', 'goal': 'accuracy_max', 'class_labels': '', 'primary_metric': 'accuracy', 'errors': '{}', 'fitted_pipeline': \"Pipeline(memory=None,\\n         steps=[('datatransformer',\\n                 DataTransformer(enable_dnn=None, enable_feature_sweeping=None,\\n                                 feature_sweeping_config=None,\\n                                 feature_sweeping_timeout=None,\\n                                 featurization_config=None, force_text_dnn=None,\\n                                 is_cross_validation=None,\\n                                 is_onnx_compatible=None, logger=None,\\n                                 observer=None, task=None, working_dir=None)),\\n                ('prefittedsoftvotingclassifier',...\\n                                                                                                  min_impurity_decrease=0.0,\\n                                                                                                  min_impurity_split=None,\\n                                                                                                  min_samples_leaf=0.01,\\n                                                                                                  min_samples_split=0.15052631578947367,\\n                                                                                                  min_weight_fraction_leaf=0.0,\\n                                                                                                  n_estimators=10,\\n                                                                                                  n_jobs=1,\\n                                                                                                  oob_score=True,\\n                                                                                                  random_state=None,\\n                                                                                                  verbose=0,\\n                                                                                                  warm_start=False))],\\n                                                                     verbose=False))],\\n                                               flatten_transform=None,\\n                                               weights=[0.08333333333333333,\\n                                                        0.3333333333333333,\\n                                                        0.08333333333333333,\\n                                                        0.25, 0.25]))],\\n         verbose=False)\", 'friendly_errors': '{}', 'onnx_model_resource': '{}', 'error_code': '', 'failure_reason': '', 'feature_skus': 'automatedml_sdk_guardrails', 'dependencies_versions': '{\"azureml-widgets\": \"1.16.0\", \"azureml-train\": \"1.16.0\", \"azureml-train-restclients-hyperdrive\": \"1.16.0\", \"azureml-train-core\": \"1.16.0\", \"azureml-train-automl\": \"1.16.0\", \"azureml-train-automl-runtime\": \"1.16.0\", \"azureml-train-automl-client\": \"1.16.0\", \"azureml-tensorboard\": \"1.16.0\", \"azureml-telemetry\": \"1.16.0\", \"azureml-sdk\": \"1.16.0\", \"azureml-samples\": \"0+unknown\", \"azureml-pipeline\": \"1.16.0\", \"azureml-pipeline-steps\": \"1.16.0\", \"azureml-pipeline-core\": \"1.16.0\", \"azureml-opendatasets\": \"1.16.0\", \"azureml-model-management-sdk\": \"1.0.1b6.post1\", \"azureml-mlflow\": \"1.16.0\", \"azureml-interpret\": \"1.16.0\", \"azureml-explain-model\": \"1.16.0\", \"azureml-defaults\": \"1.16.0\", \"azureml-dataset-runtime\": \"1.16.0\", \"azureml-dataprep\": \"2.3.2\", \"azureml-dataprep-rslex\": \"1.1.1\", \"azureml-dataprep-native\": \"23.0.0\", \"azureml-datadrift\": \"1.16.0\", \"azureml-core\": \"1.16.0\", \"azureml-contrib-services\": \"1.16.0\", \"azureml-contrib-server\": \"1.16.0\", \"azureml-contrib-reinforcementlearning\": \"1.16.0\", \"azureml-contrib-pipeline-steps\": \"1.16.0\", \"azureml-contrib-notebook\": \"1.16.0\", \"azureml-contrib-interpret\": \"1.16.0\", \"azureml-contrib-gbdt\": \"1.16.0\", \"azureml-contrib-fairness\": \"1.16.0\", \"azureml-contrib-dataset\": \"1.16.0\", \"azureml-cli-common\": \"1.16.0\", \"azureml-automl-runtime\": \"1.16.0\", \"azureml-automl-core\": \"1.16.0\", \"azureml-accel-models\": \"1.16.0\"}', 'num_cores': '4', 'num_logical_cores': '4', 'peak_memory_usage': '8741228', 'vm_configuration': 'Intel(R) Xeon(R) CPU E5-2673 v4 @ 2.30GHz', 'core_hours': '0.04058109222222217'}, 'inputDatasets': [], 'outputDatasets': [], 'logFiles': {}}\n",
            "\n",
            "\n",
            "\n",
            "\n",
            "Metrics for best run:  {'log_loss': 0.5509983791940343, 'average_precision_score_macro': 0.7603226090408279, 'norm_macro_recall': 0.3289297808071463, 'average_precision_score_weighted': 0.7788620895604857, 'average_precision_score_micro': 0.7875434926815655, 'weighted_accuracy': 0.7783540456035403, 'AUC_weighted': 0.7704728029084095, 'precision_score_macro': 0.7266669646225701, 'AUC_micro': 0.7956565594233943, 'recall_score_weighted': 0.7250155415844688, 'AUC_macro': 0.7704728019623, 'balanced_accuracy': 0.6644648904035731, 'f1_score_micro': 0.7250155415844688, 'recall_score_micro': 0.7250155415844688, 'precision_score_weighted': 0.7262198796677541, 'f1_score_macro': 0.6695509543599956, 'recall_score_macro': 0.6644648904035731, 'accuracy': 0.7250155415844688, 'matthews_correlation': 0.3859454131830892, 'f1_score_weighted': 0.7035104117357093, 'precision_score_micro': 0.7250155415844688, 'confusion_matrix': 'aml://artifactId/ExperimentRun/dcid.AutoML_8f672ae7-d852-40a4-8672-d266a69580be_7/confusion_matrix', 'accuracy_table': 'aml://artifactId/ExperimentRun/dcid.AutoML_8f672ae7-d852-40a4-8672-d266a69580be_7/accuracy_table'}\n"
          ]
        }
      ],
      "execution_count": 48,
      "metadata": {
        "gather": {
          "logged": 1603384530293
        },
        "jupyter": {
          "outputs_hidden": false,
          "source_hidden": false
        },
        "nteract": {
          "transient": {
            "deleting": false
          }
        }
      }
    },
    {
      "cell_type": "code",
      "source": [
        "# referencce - https://docs.microsoft.com/en-us/python/api/azureml-train-automl-client/azureml.train.automl.run.automlrun?view=azure-ml-py\n",
        "print(best_model_automl.steps[-1])"
      ],
      "outputs": [
        {
          "output_type": "stream",
          "name": "stdout",
          "text": [
            "('prefittedsoftvotingclassifier', PreFittedSoftVotingClassifier(classification_labels=None,\n",
            "                              estimators=[('0',\n",
            "                                           Pipeline(memory=None,\n",
            "                                                    steps=[('maxabsscaler',\n",
            "                                                            MaxAbsScaler(copy=True)),\n",
            "                                                           ('lightgbmclassifier',\n",
            "                                                            LightGBMClassifier(boosting_type='gbdt',\n",
            "                                                                               class_weight=None,\n",
            "                                                                               colsample_bytree=1.0,\n",
            "                                                                               importance_type='split',\n",
            "                                                                               learning_rate=0.1,\n",
            "                                                                               max_depth=-1,\n",
            "                                                                               min_child_samples=20,\n",
            "                                                                               min_child_weight=0.001,\n",
            "                                                                               min_spl...\n",
            "                                                                                 max_samples=None,\n",
            "                                                                                 min_impurity_decrease=0.0,\n",
            "                                                                                 min_impurity_split=None,\n",
            "                                                                                 min_samples_leaf=0.01,\n",
            "                                                                                 min_samples_split=0.15052631578947367,\n",
            "                                                                                 min_weight_fraction_leaf=0.0,\n",
            "                                                                                 n_estimators=10,\n",
            "                                                                                 n_jobs=1,\n",
            "                                                                                 oob_score=True,\n",
            "                                                                                 random_state=None,\n",
            "                                                                                 verbose=0,\n",
            "                                                                                 warm_start=False))],\n",
            "                                                    verbose=False))],\n",
            "                              flatten_transform=None,\n",
            "                              weights=[0.08333333333333333, 0.3333333333333333,\n",
            "                                       0.08333333333333333, 0.25, 0.25]))\n"
          ]
        }
      ],
      "execution_count": 49,
      "metadata": {
        "gather": {
          "logged": 1603384530500
        }
      }
    },
    {
      "cell_type": "markdown",
      "source": [
        "## Model Deployment\n",
        "\n",
        "Remember you have to deploy only one of the two models you trained.. Perform the steps in the rest of this notebook only if you wish to deploy this model.\n",
        "\n",
        "TODO: In the cell below, register the model, create an inference config and deploy the model as a web service."
      ],
      "metadata": {}
    },
    {
      "cell_type": "code",
      "source": [
        "# Personal ToDo - Check why can't register model from get_output() directly\n",
        "best_model_automl = best_run_automl.register_model(model_name=\"capstone-automl.pkl\", model_path=\"./\")"
      ],
      "outputs": [],
      "execution_count": 50,
      "metadata": {
        "gather": {
          "logged": 1603384557763
        },
        "jupyter": {
          "outputs_hidden": false,
          "source_hidden": false
        },
        "nteract": {
          "transient": {
            "deleting": false
          }
        }
      }
    },
    {
      "cell_type": "markdown",
      "source": [
        "TODO: In the cell below, send a request to the web service you deployed to test it."
      ],
      "metadata": {
        "collapsed": true,
        "gather": {
          "logged": 1598431657736
        },
        "jupyter": {
          "outputs_hidden": false,
          "source_hidden": false
        },
        "nteract": {
          "transient": {
            "deleting": false
          }
        }
      }
    },
    {
      "cell_type": "code",
      "source": [],
      "outputs": [],
      "execution_count": null,
      "metadata": {
        "gather": {
          "logged": 1598432707604
        },
        "jupyter": {
          "outputs_hidden": false,
          "source_hidden": false
        },
        "nteract": {
          "transient": {
            "deleting": false
          }
        }
      }
    },
    {
      "cell_type": "markdown",
      "source": [
        "TODO: In the cell below, print the logs of the web service and delete the service"
      ],
      "metadata": {
        "collapsed": true,
        "gather": {
          "logged": 1598432765711
        },
        "jupyter": {
          "outputs_hidden": false,
          "source_hidden": false
        },
        "nteract": {
          "transient": {
            "deleting": false
          }
        }
      }
    },
    {
      "cell_type": "code",
      "source": [],
      "outputs": [],
      "execution_count": null,
      "metadata": {
        "jupyter": {
          "outputs_hidden": false,
          "source_hidden": false
        },
        "nteract": {
          "transient": {
            "deleting": false
          }
        }
      }
    }
  ],
  "metadata": {
    "kernel_info": {
      "name": "python3-azureml"
    },
    "kernelspec": {
      "name": "python3-azureml",
      "language": "python",
      "display_name": "Python 3.6 - AzureML"
    },
    "language_info": {
      "name": "python",
      "version": "3.6.9",
      "mimetype": "text/x-python",
      "codemirror_mode": {
        "name": "ipython",
        "version": 3
      },
      "pygments_lexer": "ipython3",
      "nbconvert_exporter": "python",
      "file_extension": ".py"
    },
    "nteract": {
      "version": "nteract-front-end@1.0.0"
    },
    "widgets": {
      "state": {},
      "version": "1.1.2"
    }
  },
  "nbformat": 4,
  "nbformat_minor": 2
}